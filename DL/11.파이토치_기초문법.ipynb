{
 "cells": [
  {
   "cell_type": "markdown",
   "id": "0bd5e487-ed8c-4bab-9e09-0817e3d91d2d",
   "metadata": {},
   "source": [
    "# 텐서\n",
    "\n",
    "- 파이토치는 텐서로 시작해서 텐서로 끝남\n",
    "\n",
    "- 텐서를 잘 다룰 수 있어야 신경망에서 데이터 입력과 출력을 제어할 수 있음"
   ]
  },
  {
   "cell_type": "code",
   "execution_count": 1,
   "id": "63010bd3-6768-4804-ad7f-7927f8ddb370",
   "metadata": {},
   "outputs": [],
   "source": [
    "import torch"
   ]
  },
  {
   "cell_type": "markdown",
   "id": "79eb6367-d8fb-43b0-bb35-528fcdd0ba01",
   "metadata": {},
   "source": [
    "## 텐서 생성 및 변환\n",
    "\n",
    "- 텐서는 파이토치의 가장 기본이 되는 데이터 구조\n",
    "\n",
    "- numpy의 다차원 배열과 비슷하며 GPU에서도 연산 가능"
   ]
  },
  {
   "cell_type": "code",
   "execution_count": 2,
   "id": "0efd0d99-862d-42ed-8a76-9c8bfecb9b8b",
   "metadata": {},
   "outputs": [
    {
     "data": {
      "text/plain": [
       "tensor([[1, 2],\n",
       "        [3, 4]])"
      ]
     },
     "execution_count": 2,
     "metadata": {},
     "output_type": "execute_result"
    }
   ],
   "source": [
    "# 2차원 텐서 생성\n",
    "torch.tensor([[1, 2],\n",
    "              [3, 4]])"
   ]
  },
  {
   "cell_type": "code",
   "execution_count": null,
   "id": "197385bb-fc94-4729-aa21-2de506ab3d47",
   "metadata": {},
   "outputs": [],
   "source": [
    "# gpu가 있다면\n",
    "torch.tensor([[1, 2], [3, 4]], device = \"cuda:0\")"
   ]
  },
  {
   "cell_type": "code",
   "execution_count": 3,
   "id": "b795675c-3186-498a-a712-9edb316e3b2d",
   "metadata": {},
   "outputs": [
    {
     "data": {
      "text/plain": [
       "tensor([[1., 2.],\n",
       "        [3., 4.]], dtype=torch.float64)"
      ]
     },
     "execution_count": 3,
     "metadata": {},
     "output_type": "execute_result"
    }
   ],
   "source": [
    "# dtype을 이용하여 텐서 생성\n",
    "torch.tensor([[1, 2], [3, 4]], dtype = torch.float64)"
   ]
  },
  {
   "cell_type": "markdown",
   "id": "be5575a4-d9aa-49e4-9b9a-2b880006b02f",
   "metadata": {},
   "source": [
    "### 텐서를 ndarray로 변환"
   ]
  },
  {
   "cell_type": "code",
   "execution_count": 4,
   "id": "0ea460cd-7842-4f32-bf7a-9c7743ca14fe",
   "metadata": {},
   "outputs": [],
   "source": [
    "temp = torch.tensor([[1, 2], [3, 4]])"
   ]
  },
  {
   "cell_type": "code",
   "execution_count": 5,
   "id": "ee5228c1-6284-4b52-993c-61eaf418de5b",
   "metadata": {},
   "outputs": [
    {
     "data": {
      "text/plain": [
       "array([[1, 2],\n",
       "       [3, 4]], dtype=int64)"
      ]
     },
     "execution_count": 5,
     "metadata": {},
     "output_type": "execute_result"
    }
   ],
   "source": [
    "# 텐서를 ndarray로 변환\n",
    "temp.numpy()"
   ]
  },
  {
   "cell_type": "code",
   "execution_count": null,
   "id": "00b71ca9-36b0-432b-a34c-015449fa6f64",
   "metadata": {},
   "outputs": [],
   "source": [
    "# gpu가 있다면\n",
    "# gpu상의 텐서를 cpu의 텐서로 변환한 후 ndarray로 변환\n",
    "temp = torch.tensor([[1, 2], [3, 4]], device = \"cuda:0\")\n",
    "temp.to(\"cpu\").numpy()"
   ]
  },
  {
   "cell_type": "markdown",
   "id": "350e8b4f-3719-4b4f-990a-4e4e29bffff4",
   "metadata": {},
   "source": [
    "## 텐서의 인덱스 조작\n",
    "\n",
    "- 텐서는 넘파이의 다차원배열과 유사하게 동작하기 때문에 배열처럼 인덱싱하거나 슬라이싱 등을 사용할 수 있음"
   ]
  },
  {
   "cell_type": "code",
   "execution_count": 7,
   "id": "949a22b7-caf1-4f7d-b950-bcbbbb07b137",
   "metadata": {},
   "outputs": [],
   "source": [
    "# 1차원 벡터 생성\n",
    "temp = torch.tensor([1, 2, 3, 4, 5, 6, 7])"
   ]
  },
  {
   "cell_type": "code",
   "execution_count": 8,
   "id": "6f2b34a8-fb0e-4370-a4bd-a365a4a92372",
   "metadata": {},
   "outputs": [
    {
     "data": {
      "text/plain": [
       "(tensor(1), tensor(2), tensor(7))"
      ]
     },
     "execution_count": 8,
     "metadata": {},
     "output_type": "execute_result"
    }
   ],
   "source": [
    "# 인덱싱\n",
    "temp[0], temp[1], temp[-1]"
   ]
  },
  {
   "cell_type": "code",
   "execution_count": 9,
   "id": "2d42eaf6-be81-44dc-afec-45bc9805166e",
   "metadata": {},
   "outputs": [
    {
     "data": {
      "text/plain": [
       "(tensor([3, 4, 5]), tensor([5, 6]))"
      ]
     },
     "execution_count": 9,
     "metadata": {},
     "output_type": "execute_result"
    }
   ],
   "source": [
    "# 슬라이싱\n",
    "temp[2:5], temp[4:-1]"
   ]
  },
  {
   "cell_type": "markdown",
   "id": "3b4d340d-e6c1-48d4-a3a5-59e9f34f22e7",
   "metadata": {},
   "source": [
    "## 텐서 연산\n",
    "\n",
    "- 텐서는 넘파이의 다차원배열처럼 다양한 수학 연산이 가능하며, gpu를 사용하면 더 빠르게 연산할 수 있음\n",
    "\n",
    "- 단, 텐서 간의 타입이 다르면 연산이 불가\n",
    "    - 예) FloatTensor(32비트의 부동 소수점)와 DoubleTensor(64비트의 부동 소수점) 간에 사칙 연산을 수행하면 오류 발생"
   ]
  },
  {
   "cell_type": "code",
   "execution_count": 10,
   "id": "70de6302-cca7-4ef5-af4b-1a60bdc53368",
   "metadata": {},
   "outputs": [],
   "source": [
    "# 길이가 3인 벡터 생성\n",
    "v = torch.tensor([1, 2, 3])\n",
    "w = torch.tensor([3, 4, 6])"
   ]
  },
  {
   "cell_type": "code",
   "execution_count": 11,
   "id": "45370fbd-8a32-43be-8d69-0189fe706f1b",
   "metadata": {},
   "outputs": [
    {
     "name": "stdout",
     "output_type": "stream",
     "text": [
      "tensor([2, 2, 3])\n"
     ]
    }
   ],
   "source": [
    "# 길이가 같은 벡터 간 뺄셈 연산\n",
    "print(w - v)"
   ]
  },
  {
   "cell_type": "markdown",
   "id": "bc7c68ae-5fe5-4f5f-bca4-8ed106f83b4e",
   "metadata": {},
   "source": [
    "## 텐서의 차원 조작\n",
    "\n",
    "- 텐서의 차원을 변경하는 명령어\n",
    "    - view : 넘파이의 reshape와 유사\n",
    " \n",
    "    - cat : 다른 길이의 텐서를 하나로 병합\n",
    " \n",
    "    - transpose : 행렬의 전치 또는 차원의 순서 변경"
   ]
  },
  {
   "cell_type": "code",
   "execution_count": 12,
   "id": "2dbc23e6-c36f-46b3-aaca-030586150145",
   "metadata": {},
   "outputs": [],
   "source": [
    "# 2x2 행렬 생성\n",
    "temp = torch.tensor([\n",
    "    [1, 2], [3, 4]\n",
    "])"
   ]
  },
  {
   "cell_type": "code",
   "execution_count": 13,
   "id": "4b8fcdd0-60c2-4d36-8724-d818b01d6a52",
   "metadata": {},
   "outputs": [
    {
     "data": {
      "text/plain": [
       "tensor([[1, 2],\n",
       "        [3, 4]])"
      ]
     },
     "execution_count": 13,
     "metadata": {},
     "output_type": "execute_result"
    }
   ],
   "source": [
    "temp"
   ]
  },
  {
   "cell_type": "code",
   "execution_count": 15,
   "id": "5e5aa32c-ce48-4cd4-b519-2477ca505731",
   "metadata": {},
   "outputs": [
    {
     "data": {
      "text/plain": [
       "torch.Size([2, 2])"
      ]
     },
     "execution_count": 15,
     "metadata": {},
     "output_type": "execute_result"
    }
   ],
   "source": [
    "temp.shape"
   ]
  },
  {
   "cell_type": "code",
   "execution_count": 18,
   "id": "fdf8e534-1d60-495e-acc1-aeb2b33af84b",
   "metadata": {},
   "outputs": [
    {
     "data": {
      "text/plain": [
       "tensor([[1],\n",
       "        [2],\n",
       "        [3],\n",
       "        [4]])"
      ]
     },
     "execution_count": 18,
     "metadata": {},
     "output_type": "execute_result"
    }
   ],
   "source": [
    "# 2x2 행렬을 4x1 로 변경\n",
    "temp.view(4, 1)"
   ]
  },
  {
   "cell_type": "code",
   "execution_count": 19,
   "id": "84cdd456-4fe6-49a6-a352-8b97268504ea",
   "metadata": {},
   "outputs": [
    {
     "data": {
      "text/plain": [
       "tensor([1, 2, 3, 4])"
      ]
     },
     "execution_count": 19,
     "metadata": {},
     "output_type": "execute_result"
    }
   ],
   "source": [
    "# 2x2 행렬을 1차원 벡터로 변형\n",
    "temp.view(-1)"
   ]
  },
  {
   "cell_type": "markdown",
   "id": "23653c17-9d82-4bc4-a218-aa5314028e2e",
   "metadata": {},
   "source": [
    "- -1은 다른 차원으로부터 해당 값을 유추하겠다는 뜻"
   ]
  },
  {
   "cell_type": "markdown",
   "id": "335f709d-595f-42a3-9604-6186a1bcfea8",
   "metadata": {},
   "source": [
    "# 데이터로더\n",
    "\n",
    "- torch.utils.data.DataLoader는 학습에 사용될 데이터 전체를 보관했다가 모델 학습을 할 때 배치 크기만큼 데이터를 꺼내서 사용\n",
    "\n",
    "- 주의할 점은 미리 데이터를 잘라 놓는 것이 아니라 내부적으로 이터레이터에 포함된 인덱스를 이용하여 배치 크기만큼 데이터를 반환"
   ]
  },
  {
   "cell_type": "markdown",
   "id": "34daae16-af7d-4c45-9bef-936722dad896",
   "metadata": {},
   "source": [
    "# 파이토치 데이터셋 사용\n",
    "\n",
    "- torchvision은 파이토치에서 제공하는 데이터셋이 모여있는 패키지\n",
    "\n",
    "- 파이토치 데이터셋을 다운로드 받으려면 requests 라이브러리 설치가 필요\n",
    "    - HTTP 요청을 하기 위함"
   ]
  },
  {
   "cell_type": "code",
   "execution_count": 20,
   "id": "58b26ccf-98a5-4084-b7a4-9127b421f74f",
   "metadata": {},
   "outputs": [],
   "source": [
    "import torchvision.transforms as transforms\n",
    "from torchvision.datasets import MNIST"
   ]
  },
  {
   "cell_type": "code",
   "execution_count": 21,
   "id": "54e9f842-e369-4adc-ae71-fc3ce227a480",
   "metadata": {},
   "outputs": [],
   "source": [
    "mnist_transform = transforms.Compose([\n",
    "    transforms.ToTensor(),\n",
    "    transforms.Normalize((0.5,), (1.0,)) # 평균이 0.5, 표준편차가 1.0이 되도록 데이터의 분포를 정규화\n",
    "])"
   ]
  },
  {
   "cell_type": "code",
   "execution_count": 22,
   "id": "63b999d4-f42c-4174-a118-1aebd99c9e32",
   "metadata": {
    "scrolled": true
   },
   "outputs": [
    {
     "name": "stdout",
     "output_type": "stream",
     "text": [
      "Downloading http://yann.lecun.com/exdb/mnist/train-images-idx3-ubyte.gz\n",
      "Failed to download (trying next):\n",
      "HTTP Error 404: Not Found\n",
      "\n",
      "Downloading https://ossci-datasets.s3.amazonaws.com/mnist/train-images-idx3-ubyte.gz\n",
      "Downloading https://ossci-datasets.s3.amazonaws.com/mnist/train-images-idx3-ubyte.gz to ./data/MNIST_DATASET\\MNIST\\raw\\train-images-idx3-ubyte.gz\n"
     ]
    },
    {
     "name": "stderr",
     "output_type": "stream",
     "text": [
      "100%|█████████████████████████████████████████████████████████████████████████████| 9.91M/9.91M [00:02<00:00, 4.70MB/s]\n"
     ]
    },
    {
     "name": "stdout",
     "output_type": "stream",
     "text": [
      "Extracting ./data/MNIST_DATASET\\MNIST\\raw\\train-images-idx3-ubyte.gz to ./data/MNIST_DATASET\\MNIST\\raw\n",
      "\n",
      "Downloading http://yann.lecun.com/exdb/mnist/train-labels-idx1-ubyte.gz\n",
      "Failed to download (trying next):\n",
      "HTTP Error 404: Not Found\n",
      "\n",
      "Downloading https://ossci-datasets.s3.amazonaws.com/mnist/train-labels-idx1-ubyte.gz\n",
      "Downloading https://ossci-datasets.s3.amazonaws.com/mnist/train-labels-idx1-ubyte.gz to ./data/MNIST_DATASET\\MNIST\\raw\\train-labels-idx1-ubyte.gz\n"
     ]
    },
    {
     "name": "stderr",
     "output_type": "stream",
     "text": [
      "100%|██████████████████████████████████████████████████████████████████████████████| 28.9k/28.9k [00:00<00:00, 148kB/s]\n"
     ]
    },
    {
     "name": "stdout",
     "output_type": "stream",
     "text": [
      "Extracting ./data/MNIST_DATASET\\MNIST\\raw\\train-labels-idx1-ubyte.gz to ./data/MNIST_DATASET\\MNIST\\raw\n",
      "\n",
      "Downloading http://yann.lecun.com/exdb/mnist/t10k-images-idx3-ubyte.gz\n",
      "Failed to download (trying next):\n",
      "HTTP Error 404: Not Found\n",
      "\n",
      "Downloading https://ossci-datasets.s3.amazonaws.com/mnist/t10k-images-idx3-ubyte.gz\n",
      "Downloading https://ossci-datasets.s3.amazonaws.com/mnist/t10k-images-idx3-ubyte.gz to ./data/MNIST_DATASET\\MNIST\\raw\\t10k-images-idx3-ubyte.gz\n"
     ]
    },
    {
     "name": "stderr",
     "output_type": "stream",
     "text": [
      "100%|█████████████████████████████████████████████████████████████████████████████| 1.65M/1.65M [00:01<00:00, 1.30MB/s]\n"
     ]
    },
    {
     "name": "stdout",
     "output_type": "stream",
     "text": [
      "Extracting ./data/MNIST_DATASET\\MNIST\\raw\\t10k-images-idx3-ubyte.gz to ./data/MNIST_DATASET\\MNIST\\raw\n",
      "\n",
      "Downloading http://yann.lecun.com/exdb/mnist/t10k-labels-idx1-ubyte.gz\n",
      "Failed to download (trying next):\n",
      "HTTP Error 404: Not Found\n",
      "\n",
      "Downloading https://ossci-datasets.s3.amazonaws.com/mnist/t10k-labels-idx1-ubyte.gz\n",
      "Downloading https://ossci-datasets.s3.amazonaws.com/mnist/t10k-labels-idx1-ubyte.gz to ./data/MNIST_DATASET\\MNIST\\raw\\t10k-labels-idx1-ubyte.gz\n"
     ]
    },
    {
     "name": "stderr",
     "output_type": "stream",
     "text": [
      "100%|█████████████████████████████████████████████████████████████████████████████| 4.54k/4.54k [00:00<00:00, 4.54MB/s]"
     ]
    },
    {
     "name": "stdout",
     "output_type": "stream",
     "text": [
      "Extracting ./data/MNIST_DATASET\\MNIST\\raw\\t10k-labels-idx1-ubyte.gz to ./data/MNIST_DATASET\\MNIST\\raw\n",
      "\n"
     ]
    },
    {
     "name": "stderr",
     "output_type": "stream",
     "text": [
      "\n"
     ]
    }
   ],
   "source": [
    "data_path = \"./data/MNIST_DATASET\"\n",
    "\n",
    "train_dataset = MNIST(data_path, transform = mnist_transform, train = True, download = True)\n",
    "test_dataset = MNIST(data_path, transform = mnist_transform, train = False, download = True)"
   ]
  },
  {
   "cell_type": "markdown",
   "id": "869df59c-637e-45d2-a4b0-2f5e275d8c65",
   "metadata": {},
   "source": [
    "# 모델 정의\n",
    "\n",
    "- 파이토치에서 모델을 정의하기 위해서는 module 을 상속한 클래스를 사용\n",
    "    - layer : 모듈 또는 모듈을 구성하는 한 개의 계층\n",
    "        - 예) 합성곱층, 선형계층 등\n",
    "     \n",
    "    - module : 한 개 이상의 계층이 모여서 구성된 것, 모듈이 모여 새로운 모듈을 만들 수도 있음"
   ]
  },
  {
   "cell_type": "markdown",
   "id": "a955c9c0-6a88-4bd1-8f88-df838538d704",
   "metadata": {},
   "source": [
    "## nn.Module()을 상속하여 정의하는 방법\n",
    "\n",
    "- 파이토치에서 nn.Module을 상속받는 모델은 기본적으로 \\_\\_init__() 과 forward() 함수를 포함\n",
    "\n",
    "- \\_\\_init__()에서는 모델에서 사용될 모듈, 활성화함수 등을 정의\n",
    "\n",
    "- forward() 함수에서는 모델에서 실행되어야 하는 연산을 정의\n",
    "\n",
    "- nn.Sequential을 사용하면 \\_\\_init__() 에서 사용할 네트워크 모델들을 정의해 줄 뿐만 아니라 forward() 함수에서 실행되어야할 계산을 좀 더 가독성이 뛰어나게 코드로 작성할 수 있음\n",
    "\n",
    "- 또한, Sequential 객체에는 그 안에 포함된 각 모듈을 순차적으로 실행해 줌"
   ]
  },
  {
   "cell_type": "code",
   "execution_count": 23,
   "id": "c4889fdf-6532-4c9f-b9d2-9c584e4968e5",
   "metadata": {},
   "outputs": [],
   "source": [
    "import torch.nn as nn"
   ]
  },
  {
   "cell_type": "code",
   "execution_count": 24,
   "id": "c54a07d6-24b5-4d1b-b0e3-e114363f6f58",
   "metadata": {},
   "outputs": [],
   "source": [
    "class MLP(nn.Module):\n",
    "    def __init__(self):\n",
    "        super().__init__()\n",
    "        self.layer1 = nn.Sequential(\n",
    "            nn.Conv2d(in_channels = 3, out_channels = 64, kernel_size = 5),\n",
    "            # inplace = True : input으로 들어온 값 자체를 수정. 메모리 효율이 좋아지지만 input값이 사라짐\n",
    "            nn.ReLU(inplace = True),\n",
    "            nn.MaxPool2d(2)\n",
    "        )\n",
    "\n",
    "        self.layer2 = nn.Sequential(\n",
    "            nn.Conv2d(in_channels = 64, out_channels = 30, kernel_size = 5),\n",
    "            nn.ReLU(inplace = True),\n",
    "            nn.MaxPool2d(2)\n",
    "        )\n",
    "\n",
    "        self.layer3 = nn.Sequential(\n",
    "            nn.Linear(in_features = 480, out_features = 10, bias = True),\n",
    "            nn.ReLU(inplace = True)\n",
    "        )\n",
    "\n",
    "    def forward(self, x):\n",
    "        x = self.layer1(x)\n",
    "        x = self.layer2(x)\n",
    "        x = x.view(x.shape[0], -1)\n",
    "        x = self.layer3(x)\n",
    "        return x"
   ]
  },
  {
   "cell_type": "code",
   "execution_count": 25,
   "id": "a56e4a93-1909-471b-b1c5-40ef8faf049a",
   "metadata": {},
   "outputs": [],
   "source": [
    "# 모델 객체 생성\n",
    "model = MLP()"
   ]
  },
  {
   "cell_type": "code",
   "execution_count": 26,
   "id": "3d09ee7e-29a3-4b19-92d5-1a6b574b437d",
   "metadata": {},
   "outputs": [
    {
     "data": {
      "text/plain": [
       "[Sequential(\n",
       "   (0): Conv2d(3, 64, kernel_size=(5, 5), stride=(1, 1))\n",
       "   (1): ReLU(inplace=True)\n",
       "   (2): MaxPool2d(kernel_size=2, stride=2, padding=0, dilation=1, ceil_mode=False)\n",
       " ),\n",
       " Sequential(\n",
       "   (0): Conv2d(64, 30, kernel_size=(5, 5), stride=(1, 1))\n",
       "   (1): ReLU(inplace=True)\n",
       "   (2): MaxPool2d(kernel_size=2, stride=2, padding=0, dilation=1, ceil_mode=False)\n",
       " ),\n",
       " Sequential(\n",
       "   (0): Linear(in_features=480, out_features=10, bias=True)\n",
       "   (1): ReLU(inplace=True)\n",
       " )]"
      ]
     },
     "execution_count": 26,
     "metadata": {},
     "output_type": "execute_result"
    }
   ],
   "source": [
    "# 같은 수준의 하위 노드를 반환\n",
    "list(model.children())"
   ]
  },
  {
   "cell_type": "code",
   "execution_count": 27,
   "id": "adf4915e-c666-47c7-ab1d-9ef4f5c20637",
   "metadata": {},
   "outputs": [
    {
     "data": {
      "text/plain": [
       "[MLP(\n",
       "   (layer1): Sequential(\n",
       "     (0): Conv2d(3, 64, kernel_size=(5, 5), stride=(1, 1))\n",
       "     (1): ReLU(inplace=True)\n",
       "     (2): MaxPool2d(kernel_size=2, stride=2, padding=0, dilation=1, ceil_mode=False)\n",
       "   )\n",
       "   (layer2): Sequential(\n",
       "     (0): Conv2d(64, 30, kernel_size=(5, 5), stride=(1, 1))\n",
       "     (1): ReLU(inplace=True)\n",
       "     (2): MaxPool2d(kernel_size=2, stride=2, padding=0, dilation=1, ceil_mode=False)\n",
       "   )\n",
       "   (layer3): Sequential(\n",
       "     (0): Linear(in_features=480, out_features=10, bias=True)\n",
       "     (1): ReLU(inplace=True)\n",
       "   )\n",
       " ),\n",
       " Sequential(\n",
       "   (0): Conv2d(3, 64, kernel_size=(5, 5), stride=(1, 1))\n",
       "   (1): ReLU(inplace=True)\n",
       "   (2): MaxPool2d(kernel_size=2, stride=2, padding=0, dilation=1, ceil_mode=False)\n",
       " ),\n",
       " Conv2d(3, 64, kernel_size=(5, 5), stride=(1, 1)),\n",
       " ReLU(inplace=True),\n",
       " MaxPool2d(kernel_size=2, stride=2, padding=0, dilation=1, ceil_mode=False),\n",
       " Sequential(\n",
       "   (0): Conv2d(64, 30, kernel_size=(5, 5), stride=(1, 1))\n",
       "   (1): ReLU(inplace=True)\n",
       "   (2): MaxPool2d(kernel_size=2, stride=2, padding=0, dilation=1, ceil_mode=False)\n",
       " ),\n",
       " Conv2d(64, 30, kernel_size=(5, 5), stride=(1, 1)),\n",
       " ReLU(inplace=True),\n",
       " MaxPool2d(kernel_size=2, stride=2, padding=0, dilation=1, ceil_mode=False),\n",
       " Sequential(\n",
       "   (0): Linear(in_features=480, out_features=10, bias=True)\n",
       "   (1): ReLU(inplace=True)\n",
       " ),\n",
       " Linear(in_features=480, out_features=10, bias=True),\n",
       " ReLU(inplace=True)]"
      ]
     },
     "execution_count": 27,
     "metadata": {},
     "output_type": "execute_result"
    }
   ],
   "source": [
    "# 모델의 네트워크에 대한 모든 노드를 반환\n",
    "list(model.modules())"
   ]
  },
  {
   "cell_type": "markdown",
   "id": "ca46df42-729b-47cf-8cde-7a118df07bb4",
   "metadata": {},
   "source": [
    "### 함수로 신경망 정의"
   ]
  },
  {
   "cell_type": "code",
   "execution_count": 28,
   "id": "c47c08cb-0b50-4dee-ba58-a29845ce9335",
   "metadata": {},
   "outputs": [],
   "source": [
    "def MLP(in_features = 1, hidden_features = 20, out_features = 1):\n",
    "    hidden = nn.Linear(in_features = in_features, out_features = hidden_features, bias = True)\n",
    "\n",
    "    activation = nn.ReLU()\n",
    "\n",
    "    output = nn.Linear(in_features = hidden_features, out_features = out_features, bias = True)\n",
    "\n",
    "    net = nn.Sequential(hidden, activation, output)\n",
    "    return net"
   ]
  },
  {
   "cell_type": "markdown",
   "id": "5b583962-b15e-433f-af50-62f8304510df",
   "metadata": {},
   "source": [
    "# 모델 파라미터 정의\n",
    "\n",
    "- 손실 함수(loss function)\n",
    "    - 학습하는 동안 출력과 실제 값(정답) 사이의 오차를 측정\n",
    " \n",
    "    - wx + b 를 계산한 값과 실제 값 y의 오차를 구해서 모델의 정확성을 측정\n",
    " \n",
    "    - 자주 사용되는 손실 함수\n",
    "        - BCELoss : 이진 분류를 위해 사용\n",
    "        - CrossEntropyLoss : 다중 클래스 분류를 위해 사용\n",
    "        - MSELoss : 회귀 모델에서 사용\n",
    "     \n",
    "- 옵티마이저(optimizer)\n",
    "    - 데이터와 손실 함수를 바탕으로 모델의 업데이트 방법을 결정\n",
    " \n",
    "    - 옵티마이저의 주요 특성\n",
    "        - optimizer는 step() 메서드를 통해 전달받은 파라미터를 업데이트\n",
    "        - 모델의 파라미터별로 다른 기준을 적용시킬 수 있음\n",
    "        - torch.optim.Optimizer(params, defaults) 는 모든 옵티마이저의 기본이 되는 클래스\n",
    "        - zero_grad() 메서드는 옵티마이저에 사용된 파라미터들의 기울기를 0으로 초기화\n",
    "        - torch.optim.lr_scheduler 는 에포크에 따라 학습률을 조절할 수 있음\n",
    "     \n",
    "- 학습률 스케줄러(learning rate scheduler)\n",
    "    - 미리 지정한 횟수의 에포크를 지날 때마다 학습률을 감소시킴\n",
    "    - 학습률 스케줄러를 이용하면 학습 초기에는 빠른 학습을 진행하다가 전역 최소점(global minimum) 근처에 다다르면 학습률을 줄여서 최적점을 찾아갈 수 있도록 함"
   ]
  },
  {
   "cell_type": "markdown",
   "id": "ac985187-592e-48b7-b422-1227fcd17d85",
   "metadata": {},
   "source": [
    "## 전역 최소점과 최적점\n",
    "\n",
    "- 손실 함수는 실제 값과 예측값 차이를 수치화 해주는 함수\n",
    "\n",
    "- 이 오차 값이 클수록 손실 함수의 값이 크고, 오차 값이 작을 수록 손실 함수의 값이 작아짐\n",
    "\n",
    "- 손실 함수의 값을 최소화하는 가중치와 바이어스를 찾는 것이 모델 학습의 목표\n",
    "\n",
    "- 전역 최소점(global minimum)은 오차가 가장 작을 때의 값을 의미하므로 우리가 최종적으로 찾고자 하는 것. 최적점\n",
    "\n",
    "- 지역 최소점(local minimum)은 전역 최소점을 찾아가는 과정에서 만나는 홀(hole)과 같은 것으로 옵티마이저가 지역 최소점에서 학습을 멈추면 최솟값을 찾는 오차를 찾을 수 없는 문제가 발생"
   ]
  },
  {
   "cell_type": "code",
   "execution_count": null,
   "id": "ef6f549d-77d4-4ec0-8516-0d91dfede995",
   "metadata": {},
   "outputs": [],
   "source": []
  }
 ],
 "metadata": {
  "kernelspec": {
   "display_name": "Python 3 (ipykernel)",
   "language": "python",
   "name": "python3"
  },
  "language_info": {
   "codemirror_mode": {
    "name": "ipython",
    "version": 3
   },
   "file_extension": ".py",
   "mimetype": "text/x-python",
   "name": "python",
   "nbconvert_exporter": "python",
   "pygments_lexer": "ipython3",
   "version": "3.12.4"
  }
 },
 "nbformat": 4,
 "nbformat_minor": 5
}
