{
 "cells": [
  {
   "cell_type": "code",
   "execution_count": 29,
   "id": "d8970cbd-59e2-495f-8d41-064aa4449c97",
   "metadata": {},
   "outputs": [],
   "source": [
    "from tensorflow import keras\n",
    "from sklearn.model_selection import train_test_split"
   ]
  },
  {
   "cell_type": "code",
   "execution_count": 30,
   "id": "d6967add-fd4b-4ba6-8afe-230bb0e645ba",
   "metadata": {},
   "outputs": [],
   "source": [
    "(x_train, y_train), (x_test, y_test) = keras.datasets.fashion_mnist.load_data()"
   ]
  },
  {
   "attachments": {},
   "cell_type": "markdown",
   "id": "8851962d-b9db-4754-9eb4-75ea9378206c",
   "metadata": {},
   "source": [
    "# 데이터 전처리\n",
    "\n",
    "- 픽셀 값을 0 ~ 1 사이로 스케일링\n",
    "- 2차원 배열을 1차원 배열로 변환\n",
    "- 훈련, 검증 데이터셋 나누기"
   ]
  },
  {
   "cell_type": "code",
   "execution_count": 31,
   "id": "909bf7f7-d6dd-4c77-a518-6257891f2bd4",
   "metadata": {},
   "outputs": [],
   "source": [
    "scaled_train = x_train / 255\n",
    "scaled_train = scaled_train.reshape(-1, 28 * 28)\n",
    "scaled_train, scaled_val, y_train, y_val = train_test_split(scaled_train, y_train, test_size = 0.2,\n",
    "                                                            stratify = y_train, random_state = 26)"
   ]
  },
  {
   "attachments": {},
   "cell_type": "markdown",
   "id": "bea8362d-de53-4769-a18e-af57e3504834",
   "metadata": {},
   "source": [
    "# 심층 신경망 구성\n",
    "\n",
    "- 인공신경망에 층을 추가한 구조\n",
    "\n",
    "<img src = \"./image/ml_perceptron.png\">"
   ]
  },
  {
   "attachments": {},
   "cell_type": "markdown",
   "id": "09cc874e-49c1-4bf8-b6b8-3b4a3a37ce25",
   "metadata": {},
   "source": [
    "- 단층 신경망과의 차이는 입력층과 출력층 사이에 밀집층이 추가된 것\n",
    "    - 입력층과 출력층 사이에 있는 모든 층을 은닉층(hidden layer)라고 부름"
   ]
  },
  {
   "attachments": {},
   "cell_type": "markdown",
   "id": "c78b9f4e-449c-4230-b4cd-4e67e0ef3cdb",
   "metadata": {},
   "source": [
    "- 활성화 함수\n",
    "    - 활성화 함수를 쓰는 이유\n",
    "        - 예) a x 4 + 2 = b\n",
    "        - b x 3 - 5 = c\n",
    "        - 위 2개의 식은 a x 12 + 1 = c 로 단순화가 가능\n",
    "     \n",
    "    - 은닉층이 선형적인 산술계산만 한다면 층이 깊어지더라도 계산식이 단순화되어 학습 효율이 떨어짐\n",
    "        - 따라서 활성화함수로 선형계산을 비선형 계산으로 비틀어주는 과정이 필요\n",
    "     \n",
    "<img src = \"./image/activation.jpg\">"
   ]
  },
  {
   "attachments": {},
   "cell_type": "markdown",
   "id": "8ee44fe7-7ff9-458e-9cdb-341e78454092",
   "metadata": {},
   "source": [
    "- 출력층에 적용하는 활성화 함수와 은닉층에 적용하는 활성화 함수는 차이가 있음\n",
    "    - 출력층의 활성화 함수\n",
    "        - 출력층 함수라고도 부름\n",
    "        - 결과물을 적절한 형식으로 출력하도록 유도해서, 데이터셋과 잘 비교할 수 있도록 하는 역할\n",
    "        - 종류에 제한이 있음(이진분류 : 시그모이드, 다중 분류 : 소프트맥스)\n",
    "     \n",
    "    - 은닉층의 활성화 함수\n",
    "        - 여러 겹의 layer들 사이에서 사용됨\n",
    "        - 출력층 함수에 비해 선택이 자유로움\n",
    "        - 대표적인 활성화 함수 : ReLU(렐루)\n",
    "        - 모든 신경망의 은닉층에는 항상 활성화 함수가 있음"
   ]
  },
  {
   "cell_type": "code",
   "execution_count": 32,
   "id": "a89bdccc-3c23-4c1e-9f4a-141b93eab7f1",
   "metadata": {},
   "outputs": [],
   "source": [
    "# 입력층\n",
    "inputs = keras.Input(shape = (784,))\n",
    "\n",
    "# 은닉층\n",
    "dense1 = keras.layers.Dense(100, activation = \"sigmoid\")\n",
    "\n",
    "# 출력층\n",
    "dense2 = keras.layers.Dense(10, activation = \"softmax\")"
   ]
  },
  {
   "attachments": {},
   "cell_type": "markdown",
   "id": "ffd51802-d9dd-4d82-9885-0ac190915c3a",
   "metadata": {},
   "source": [
    "- 입력층\n",
    "    - 입력 데이터의 크기는 (784,)\n",
    " \n",
    "- dense1\n",
    "    - 은닉층\n",
    "    - 100개의 유닛을 가진 밀집층\n",
    "        - 유닛 개수를 정하는 것은 특별한 기준이 없음\n",
    "        - 다만, 출력층의 유닛보다는 많게 하는 것을 추천\n",
    "            - 은닉층의 유닛이 출력층보다 적다면 전달되는 정보량이 부족해질 수 있기 때문\n",
    "         \n",
    "    - 활성화 함수는 시그모이드\n",
    "\n",
    "- dense2\n",
    "    - 출력층\n",
    "    - 10개의 클래스로 분류하므로 10개의 유닛\n",
    "    - 다중 분류이기 때문에 활성화 함수는 소프트맥스"
   ]
  },
  {
   "cell_type": "code",
   "execution_count": 33,
   "id": "09347e4e-8c55-4d21-9b6b-1b3cec8e08c6",
   "metadata": {},
   "outputs": [],
   "source": [
    "model = keras.Sequential()"
   ]
  },
  {
   "attachments": {},
   "cell_type": "markdown",
   "id": "7eca5823-309d-4bce-8fa8-065c9c75ea3a",
   "metadata": {},
   "source": [
    "- 가장 처음 등장하는 입력층부터 마지막 출력층까지 순서대로 추가해야함"
   ]
  },
  {
   "cell_type": "code",
   "execution_count": 34,
   "id": "a3544571-bed2-48f8-892c-17023020aaab",
   "metadata": {},
   "outputs": [],
   "source": [
    "model.add(inputs)\n",
    "model.add(dense1)\n",
    "model.add(dense2)"
   ]
  },
  {
   "cell_type": "code",
   "execution_count": 35,
   "id": "f5b49c9c-632e-42d7-96b5-42234e5c401f",
   "metadata": {},
   "outputs": [
    {
     "data": {
      "text/html": [
       "<pre style=\"white-space:pre;overflow-x:auto;line-height:normal;font-family:Menlo,'DejaVu Sans Mono',consolas,'Courier New',monospace\"><span style=\"font-weight: bold\">Model: \"sequential_3\"</span>\n",
       "</pre>\n"
      ],
      "text/plain": [
       "\u001b[1mModel: \"sequential_3\"\u001b[0m\n"
      ]
     },
     "metadata": {},
     "output_type": "display_data"
    },
    {
     "data": {
      "text/html": [
       "<pre style=\"white-space:pre;overflow-x:auto;line-height:normal;font-family:Menlo,'DejaVu Sans Mono',consolas,'Courier New',monospace\">┏━━━━━━━━━━━━━━━━━━━━━━━━━━━━━━━━━┳━━━━━━━━━━━━━━━━━━━━━━━━┳━━━━━━━━━━━━━━━┓\n",
       "┃<span style=\"font-weight: bold\"> Layer (type)                    </span>┃<span style=\"font-weight: bold\"> Output Shape           </span>┃<span style=\"font-weight: bold\">       Param # </span>┃\n",
       "┡━━━━━━━━━━━━━━━━━━━━━━━━━━━━━━━━━╇━━━━━━━━━━━━━━━━━━━━━━━━╇━━━━━━━━━━━━━━━┩\n",
       "│ dense_6 (<span style=\"color: #0087ff; text-decoration-color: #0087ff\">Dense</span>)                 │ (<span style=\"color: #00d7ff; text-decoration-color: #00d7ff\">None</span>, <span style=\"color: #00af00; text-decoration-color: #00af00\">100</span>)            │        <span style=\"color: #00af00; text-decoration-color: #00af00\">78,500</span> │\n",
       "├─────────────────────────────────┼────────────────────────┼───────────────┤\n",
       "│ dense_7 (<span style=\"color: #0087ff; text-decoration-color: #0087ff\">Dense</span>)                 │ (<span style=\"color: #00d7ff; text-decoration-color: #00d7ff\">None</span>, <span style=\"color: #00af00; text-decoration-color: #00af00\">10</span>)             │         <span style=\"color: #00af00; text-decoration-color: #00af00\">1,010</span> │\n",
       "└─────────────────────────────────┴────────────────────────┴───────────────┘\n",
       "</pre>\n"
      ],
      "text/plain": [
       "┏━━━━━━━━━━━━━━━━━━━━━━━━━━━━━━━━━┳━━━━━━━━━━━━━━━━━━━━━━━━┳━━━━━━━━━━━━━━━┓\n",
       "┃\u001b[1m \u001b[0m\u001b[1mLayer (type)                   \u001b[0m\u001b[1m \u001b[0m┃\u001b[1m \u001b[0m\u001b[1mOutput Shape          \u001b[0m\u001b[1m \u001b[0m┃\u001b[1m \u001b[0m\u001b[1m      Param #\u001b[0m\u001b[1m \u001b[0m┃\n",
       "┡━━━━━━━━━━━━━━━━━━━━━━━━━━━━━━━━━╇━━━━━━━━━━━━━━━━━━━━━━━━╇━━━━━━━━━━━━━━━┩\n",
       "│ dense_6 (\u001b[38;5;33mDense\u001b[0m)                 │ (\u001b[38;5;45mNone\u001b[0m, \u001b[38;5;34m100\u001b[0m)            │        \u001b[38;5;34m78,500\u001b[0m │\n",
       "├─────────────────────────────────┼────────────────────────┼───────────────┤\n",
       "│ dense_7 (\u001b[38;5;33mDense\u001b[0m)                 │ (\u001b[38;5;45mNone\u001b[0m, \u001b[38;5;34m10\u001b[0m)             │         \u001b[38;5;34m1,010\u001b[0m │\n",
       "└─────────────────────────────────┴────────────────────────┴───────────────┘\n"
      ]
     },
     "metadata": {},
     "output_type": "display_data"
    },
    {
     "data": {
      "text/html": [
       "<pre style=\"white-space:pre;overflow-x:auto;line-height:normal;font-family:Menlo,'DejaVu Sans Mono',consolas,'Courier New',monospace\"><span style=\"font-weight: bold\"> Total params: </span><span style=\"color: #00af00; text-decoration-color: #00af00\">79,510</span> (310.59 KB)\n",
       "</pre>\n"
      ],
      "text/plain": [
       "\u001b[1m Total params: \u001b[0m\u001b[38;5;34m79,510\u001b[0m (310.59 KB)\n"
      ]
     },
     "metadata": {},
     "output_type": "display_data"
    },
    {
     "data": {
      "text/html": [
       "<pre style=\"white-space:pre;overflow-x:auto;line-height:normal;font-family:Menlo,'DejaVu Sans Mono',consolas,'Courier New',monospace\"><span style=\"font-weight: bold\"> Trainable params: </span><span style=\"color: #00af00; text-decoration-color: #00af00\">79,510</span> (310.59 KB)\n",
       "</pre>\n"
      ],
      "text/plain": [
       "\u001b[1m Trainable params: \u001b[0m\u001b[38;5;34m79,510\u001b[0m (310.59 KB)\n"
      ]
     },
     "metadata": {},
     "output_type": "display_data"
    },
    {
     "data": {
      "text/html": [
       "<pre style=\"white-space:pre;overflow-x:auto;line-height:normal;font-family:Menlo,'DejaVu Sans Mono',consolas,'Courier New',monospace\"><span style=\"font-weight: bold\"> Non-trainable params: </span><span style=\"color: #00af00; text-decoration-color: #00af00\">0</span> (0.00 B)\n",
       "</pre>\n"
      ],
      "text/plain": [
       "\u001b[1m Non-trainable params: \u001b[0m\u001b[38;5;34m0\u001b[0m (0.00 B)\n"
      ]
     },
     "metadata": {},
     "output_type": "display_data"
    }
   ],
   "source": [
    "model.summary()"
   ]
  },
  {
   "attachments": {},
   "cell_type": "markdown",
   "id": "69a685dc-718b-46a0-bcb2-5cab99093f0a",
   "metadata": {},
   "source": [
    "- 모델 요약 정보\n",
    "    - 모델에 포함된 층들이 순서대로 나열됨\n",
    "        - 첫 은닉층부터 출력층까지\n",
    "     \n",
    "    - 층 마다 이름, 클래스, 출력 크기, 파라미터 개수가 나옴\n",
    "        - 이름\n",
    "            - 층을 만들 때 name 매개변수로 지정 가능\n",
    "            - 지정하지 않으면 기본값 \"dense\"\n",
    "         \n",
    "    - Output Shape\n",
    "        - 출력 크기\n",
    "        - (None, 100)\n",
    "            - 첫 번째 차원은 샘플의 개수를 의미\n",
    "            - 샘플의 개수가 None 인 이유는 한 번에 몇 개의 이미지씩 사용할 지 알 수 없기 때문에 어떤 배치 크기에도 유연하게 대응할 수 있도록 None 으로 설정\n",
    "                - 케라스는 기본적으로 미니배치 경사하강법을 사용\n",
    "                - batch_size 를 설정하지 않으면 기본값 32\n",
    "                - 따라서 input_shape 나 output_shape 의 첫 번째 차원을 배치 차원이라고도 부름\n",
    "             \n",
    "            - 두 번째 차원은 출력 개수\n",
    "                - 100개의 유닛에서 결과가 나오기 때문에 출력 개수가 100\n",
    "                - 즉, 각 이미지마다 784개의 픽셀값이 은닉층을 통과하면서 100개의 특성으로 압축됨\n",
    "             \n",
    "    - Param\n",
    "        - 모델 파라미터 개수\n",
    "        - dense 층\n",
    "            - 784픽셀의 입력값과 100개의 유닛의 모든 조합에 대한 가중치 + 각 유닛의 절편 1개씩\n",
    "                - 784 * 100 + 100 = 78500\n",
    "             \n",
    "        - dense_1 층\n",
    "            - 앞 은닉층의 100개의 유닛과 10개의 출력층 유닛의 모든 조합에 대한 가중치 + 각 유닛의 절편 1개씩\n",
    "                - 100 * 10 + 10 = 1010\n",
    "             \n",
    "    - Non-trainable params\n",
    "        - 훈련되지 않는 파라미터\n",
    "        - 경사하강법으로 훈련되지 않는 파라미터를 가진 층이 있다면 여기에 표시됨"
   ]
  },
  {
   "attachments": {},
   "cell_type": "markdown",
   "id": "124886f4-5a99-41ba-88eb-697785d47364",
   "metadata": {},
   "source": [
    "## 층을 추가하는 다른 방법"
   ]
  },
  {
   "cell_type": "code",
   "execution_count": 36,
   "id": "34e2717d-eec4-4f67-9b13-0bd3a33d8b3e",
   "metadata": {},
   "outputs": [],
   "source": [
    "model = keras.Sequential([\n",
    "    keras.Input(shape = (784,)),\n",
    "    keras.layers.Dense(100, activation = \"sigmoid\", name = \"hidden\"),\n",
    "    keras.layers.Dense(10, activation = \"softmax\", name = \"output\")\n",
    "], name = \"Fashion_MNIST_model\")"
   ]
  },
  {
   "cell_type": "code",
   "execution_count": 37,
   "id": "098f2199-1f1f-4ff7-a9f3-604255ee7a1d",
   "metadata": {},
   "outputs": [
    {
     "data": {
      "text/html": [
       "<pre style=\"white-space:pre;overflow-x:auto;line-height:normal;font-family:Menlo,'DejaVu Sans Mono',consolas,'Courier New',monospace\"><span style=\"font-weight: bold\">Model: \"Fashion_MNIST_model\"</span>\n",
       "</pre>\n"
      ],
      "text/plain": [
       "\u001b[1mModel: \"Fashion_MNIST_model\"\u001b[0m\n"
      ]
     },
     "metadata": {},
     "output_type": "display_data"
    },
    {
     "data": {
      "text/html": [
       "<pre style=\"white-space:pre;overflow-x:auto;line-height:normal;font-family:Menlo,'DejaVu Sans Mono',consolas,'Courier New',monospace\">┏━━━━━━━━━━━━━━━━━━━━━━━━━━━━━━━━━┳━━━━━━━━━━━━━━━━━━━━━━━━┳━━━━━━━━━━━━━━━┓\n",
       "┃<span style=\"font-weight: bold\"> Layer (type)                    </span>┃<span style=\"font-weight: bold\"> Output Shape           </span>┃<span style=\"font-weight: bold\">       Param # </span>┃\n",
       "┡━━━━━━━━━━━━━━━━━━━━━━━━━━━━━━━━━╇━━━━━━━━━━━━━━━━━━━━━━━━╇━━━━━━━━━━━━━━━┩\n",
       "│ hidden (<span style=\"color: #0087ff; text-decoration-color: #0087ff\">Dense</span>)                  │ (<span style=\"color: #00d7ff; text-decoration-color: #00d7ff\">None</span>, <span style=\"color: #00af00; text-decoration-color: #00af00\">100</span>)            │        <span style=\"color: #00af00; text-decoration-color: #00af00\">78,500</span> │\n",
       "├─────────────────────────────────┼────────────────────────┼───────────────┤\n",
       "│ output (<span style=\"color: #0087ff; text-decoration-color: #0087ff\">Dense</span>)                  │ (<span style=\"color: #00d7ff; text-decoration-color: #00d7ff\">None</span>, <span style=\"color: #00af00; text-decoration-color: #00af00\">10</span>)             │         <span style=\"color: #00af00; text-decoration-color: #00af00\">1,010</span> │\n",
       "└─────────────────────────────────┴────────────────────────┴───────────────┘\n",
       "</pre>\n"
      ],
      "text/plain": [
       "┏━━━━━━━━━━━━━━━━━━━━━━━━━━━━━━━━━┳━━━━━━━━━━━━━━━━━━━━━━━━┳━━━━━━━━━━━━━━━┓\n",
       "┃\u001b[1m \u001b[0m\u001b[1mLayer (type)                   \u001b[0m\u001b[1m \u001b[0m┃\u001b[1m \u001b[0m\u001b[1mOutput Shape          \u001b[0m\u001b[1m \u001b[0m┃\u001b[1m \u001b[0m\u001b[1m      Param #\u001b[0m\u001b[1m \u001b[0m┃\n",
       "┡━━━━━━━━━━━━━━━━━━━━━━━━━━━━━━━━━╇━━━━━━━━━━━━━━━━━━━━━━━━╇━━━━━━━━━━━━━━━┩\n",
       "│ hidden (\u001b[38;5;33mDense\u001b[0m)                  │ (\u001b[38;5;45mNone\u001b[0m, \u001b[38;5;34m100\u001b[0m)            │        \u001b[38;5;34m78,500\u001b[0m │\n",
       "├─────────────────────────────────┼────────────────────────┼───────────────┤\n",
       "│ output (\u001b[38;5;33mDense\u001b[0m)                  │ (\u001b[38;5;45mNone\u001b[0m, \u001b[38;5;34m10\u001b[0m)             │         \u001b[38;5;34m1,010\u001b[0m │\n",
       "└─────────────────────────────────┴────────────────────────┴───────────────┘\n"
      ]
     },
     "metadata": {},
     "output_type": "display_data"
    },
    {
     "data": {
      "text/html": [
       "<pre style=\"white-space:pre;overflow-x:auto;line-height:normal;font-family:Menlo,'DejaVu Sans Mono',consolas,'Courier New',monospace\"><span style=\"font-weight: bold\"> Total params: </span><span style=\"color: #00af00; text-decoration-color: #00af00\">79,510</span> (310.59 KB)\n",
       "</pre>\n"
      ],
      "text/plain": [
       "\u001b[1m Total params: \u001b[0m\u001b[38;5;34m79,510\u001b[0m (310.59 KB)\n"
      ]
     },
     "metadata": {},
     "output_type": "display_data"
    },
    {
     "data": {
      "text/html": [
       "<pre style=\"white-space:pre;overflow-x:auto;line-height:normal;font-family:Menlo,'DejaVu Sans Mono',consolas,'Courier New',monospace\"><span style=\"font-weight: bold\"> Trainable params: </span><span style=\"color: #00af00; text-decoration-color: #00af00\">79,510</span> (310.59 KB)\n",
       "</pre>\n"
      ],
      "text/plain": [
       "\u001b[1m Trainable params: \u001b[0m\u001b[38;5;34m79,510\u001b[0m (310.59 KB)\n"
      ]
     },
     "metadata": {},
     "output_type": "display_data"
    },
    {
     "data": {
      "text/html": [
       "<pre style=\"white-space:pre;overflow-x:auto;line-height:normal;font-family:Menlo,'DejaVu Sans Mono',consolas,'Courier New',monospace\"><span style=\"font-weight: bold\"> Non-trainable params: </span><span style=\"color: #00af00; text-decoration-color: #00af00\">0</span> (0.00 B)\n",
       "</pre>\n"
      ],
      "text/plain": [
       "\u001b[1m Non-trainable params: \u001b[0m\u001b[38;5;34m0\u001b[0m (0.00 B)\n"
      ]
     },
     "metadata": {},
     "output_type": "display_data"
    }
   ],
   "source": [
    "model.summary()"
   ]
  },
  {
   "attachments": {},
   "cell_type": "markdown",
   "id": "fa8620ab-ad89-4f28-b171-93c5063a0757",
   "metadata": {},
   "source": [
    "- 여러 모델과 많은 층을 사용할 때 구분을 위해서 name 매개변수를 사용"
   ]
  },
  {
   "attachments": {},
   "cell_type": "markdown",
   "id": "22e43758-f117-4cf9-ab29-aa68f01fce94",
   "metadata": {},
   "source": [
    "# 모델 훈련"
   ]
  },
  {
   "cell_type": "code",
   "execution_count": 38,
   "id": "03de844a-660c-4f91-8938-9583ef16e6c9",
   "metadata": {},
   "outputs": [],
   "source": [
    "model.compile(loss = \"sparse_categorical_crossentropy\", metrics = [\"accuracy\"])"
   ]
  },
  {
   "cell_type": "code",
   "execution_count": 39,
   "id": "944ce57a-a66f-495e-947a-037a165fdef8",
   "metadata": {},
   "outputs": [
    {
     "name": "stdout",
     "output_type": "stream",
     "text": [
      "Epoch 1/5\n",
      "\u001b[1m1500/1500\u001b[0m \u001b[32m━━━━━━━━━━━━━━━━━━━━\u001b[0m\u001b[37m\u001b[0m \u001b[1m1s\u001b[0m 631us/step - accuracy: 0.7583 - loss: 0.7683\n",
      "Epoch 2/5\n",
      "\u001b[1m1500/1500\u001b[0m \u001b[32m━━━━━━━━━━━━━━━━━━━━\u001b[0m\u001b[37m\u001b[0m \u001b[1m1s\u001b[0m 637us/step - accuracy: 0.8469 - loss: 0.4245\n",
      "Epoch 3/5\n",
      "\u001b[1m1500/1500\u001b[0m \u001b[32m━━━━━━━━━━━━━━━━━━━━\u001b[0m\u001b[37m\u001b[0m \u001b[1m1s\u001b[0m 672us/step - accuracy: 0.8629 - loss: 0.3782\n",
      "Epoch 4/5\n",
      "\u001b[1m1500/1500\u001b[0m \u001b[32m━━━━━━━━━━━━━━━━━━━━\u001b[0m\u001b[37m\u001b[0m \u001b[1m1s\u001b[0m 713us/step - accuracy: 0.8716 - loss: 0.3527\n",
      "Epoch 5/5\n",
      "\u001b[1m1500/1500\u001b[0m \u001b[32m━━━━━━━━━━━━━━━━━━━━\u001b[0m\u001b[37m\u001b[0m \u001b[1m1s\u001b[0m 651us/step - accuracy: 0.8789 - loss: 0.3338\n"
     ]
    },
    {
     "data": {
      "text/plain": [
       "<keras.src.callbacks.history.History at 0x1b4497d5b80>"
      ]
     },
     "execution_count": 39,
     "metadata": {},
     "output_type": "execute_result"
    }
   ],
   "source": [
    "model.fit(scaled_train, y_train, epochs = 5, batch_size = 32)"
   ]
  },
  {
   "attachments": {},
   "cell_type": "markdown",
   "id": "20a8df66-0230-4364-971a-61d61e887cdc",
   "metadata": {},
   "source": [
    "- 은닉층의 추가로 훈련 세트에 대한 성능이 향상됨"
   ]
  },
  {
   "attachments": {},
   "cell_type": "markdown",
   "id": "14facaf2-9e0e-40c9-bfe0-b3c82a93bd13",
   "metadata": {},
   "source": [
    "# 활성화 함수\n",
    "\n",
    "- 초창기 인공신경망의 은닉층에서 많이 사용된 활성화 함수는 시그모이드\n",
    "\n",
    "<img src = \"./image/sigmoid.png\">"
   ]
  },
  {
   "attachments": {},
   "cell_type": "markdown",
   "id": "f7e5197c-2c11-45f0-81c1-9a81c16662f3",
   "metadata": {},
   "source": [
    "- 입력값이 아무리 크더라도 0 ~ 1 사이의 값으로 출력되어 출력값의 범위가 너무 좁음\n",
    "    - 경사하강법 수행 시에 기울기가 0에 수렴하는 기울기 소실(Gradient Vanishing)이 발생할 수 있음\n",
    " \n",
    "    - 층이 많아지고 모델이 복잡해질수록 그 효과가 누적되어 더욱 학습을 어렵게 만듦"
   ]
  },
  {
   "attachments": {},
   "cell_type": "markdown",
   "id": "758a47b4-73e4-4e17-90c0-40c9649c5fd0",
   "metadata": {},
   "source": [
    "## 렐루 함수(ReLU)\n",
    "\n",
    "<img src = \"./image/relu.png\">"
   ]
  },
  {
   "attachments": {},
   "cell_type": "markdown",
   "id": "f393bf5d-2ff8-48ae-9e03-75ad9da67796",
   "metadata": {},
   "source": [
    "- 입력이 양수일 경우 마치 활성화 함수가 없는 것처럼 그냥 입력을 통과시키고, 음수일 경우에는 0이 됨\n",
    "\n",
    "- 표현식 : max(0, z)"
   ]
  },
  {
   "attachments": {},
   "cell_type": "markdown",
   "id": "ba680ac5-44cd-43a2-9319-f4f80e46fbb6",
   "metadata": {},
   "source": [
    "# Flatten\n",
    "\n",
    "- 지금까지는 패션 MNIST 데이터가 28 * 28 크기이기 때문에 인공신경망에 주입하기 전에 reshape 를 이용하여 1차원으로 펼쳤음\n",
    "\n",
    "- 같은 기능을 위해서 케라스에서는 Flatten 층을 제공함\n",
    "    - 샘플의 개수 차원을 제외하고 나머지 모든 입력 차원을 일렬로 펼쳐주는 역할\n",
    " \n",
    "    - 가중치나 절편이 없음\n",
    " \n",
    "    - 하지만 입력층과 은닉층 사이에 추가하기 때문에 편의상 층이라고 부르지만 신경망의 깊이가 깊어진 것으로 보지 않음"
   ]
  },
  {
   "cell_type": "code",
   "execution_count": 40,
   "id": "64d08bcb-0189-478c-9ca0-50da0e0909ce",
   "metadata": {},
   "outputs": [],
   "source": [
    "model = keras.Sequential()\n",
    "model.add(keras.Input(shape = (28, 28)))\n",
    "model.add(keras.layers.Flatten())\n",
    "model.add(keras.layers.Dense(100, activation = \"relu\")) # relu 활성화 함수 적용\n",
    "model.add(keras.layers.Dense(10, activation = \"softmax\"))"
   ]
  },
  {
   "cell_type": "code",
   "execution_count": 41,
   "id": "4f4c98c0-c5ff-4a77-be8f-d35db26618af",
   "metadata": {},
   "outputs": [
    {
     "data": {
      "text/html": [
       "<pre style=\"white-space:pre;overflow-x:auto;line-height:normal;font-family:Menlo,'DejaVu Sans Mono',consolas,'Courier New',monospace\"><span style=\"font-weight: bold\">Model: \"sequential_4\"</span>\n",
       "</pre>\n"
      ],
      "text/plain": [
       "\u001b[1mModel: \"sequential_4\"\u001b[0m\n"
      ]
     },
     "metadata": {},
     "output_type": "display_data"
    },
    {
     "data": {
      "text/html": [
       "<pre style=\"white-space:pre;overflow-x:auto;line-height:normal;font-family:Menlo,'DejaVu Sans Mono',consolas,'Courier New',monospace\">┏━━━━━━━━━━━━━━━━━━━━━━━━━━━━━━━━━┳━━━━━━━━━━━━━━━━━━━━━━━━┳━━━━━━━━━━━━━━━┓\n",
       "┃<span style=\"font-weight: bold\"> Layer (type)                    </span>┃<span style=\"font-weight: bold\"> Output Shape           </span>┃<span style=\"font-weight: bold\">       Param # </span>┃\n",
       "┡━━━━━━━━━━━━━━━━━━━━━━━━━━━━━━━━━╇━━━━━━━━━━━━━━━━━━━━━━━━╇━━━━━━━━━━━━━━━┩\n",
       "│ flatten_2 (<span style=\"color: #0087ff; text-decoration-color: #0087ff\">Flatten</span>)             │ (<span style=\"color: #00d7ff; text-decoration-color: #00d7ff\">None</span>, <span style=\"color: #00af00; text-decoration-color: #00af00\">784</span>)            │             <span style=\"color: #00af00; text-decoration-color: #00af00\">0</span> │\n",
       "├─────────────────────────────────┼────────────────────────┼───────────────┤\n",
       "│ dense_8 (<span style=\"color: #0087ff; text-decoration-color: #0087ff\">Dense</span>)                 │ (<span style=\"color: #00d7ff; text-decoration-color: #00d7ff\">None</span>, <span style=\"color: #00af00; text-decoration-color: #00af00\">100</span>)            │        <span style=\"color: #00af00; text-decoration-color: #00af00\">78,500</span> │\n",
       "├─────────────────────────────────┼────────────────────────┼───────────────┤\n",
       "│ dense_9 (<span style=\"color: #0087ff; text-decoration-color: #0087ff\">Dense</span>)                 │ (<span style=\"color: #00d7ff; text-decoration-color: #00d7ff\">None</span>, <span style=\"color: #00af00; text-decoration-color: #00af00\">10</span>)             │         <span style=\"color: #00af00; text-decoration-color: #00af00\">1,010</span> │\n",
       "└─────────────────────────────────┴────────────────────────┴───────────────┘\n",
       "</pre>\n"
      ],
      "text/plain": [
       "┏━━━━━━━━━━━━━━━━━━━━━━━━━━━━━━━━━┳━━━━━━━━━━━━━━━━━━━━━━━━┳━━━━━━━━━━━━━━━┓\n",
       "┃\u001b[1m \u001b[0m\u001b[1mLayer (type)                   \u001b[0m\u001b[1m \u001b[0m┃\u001b[1m \u001b[0m\u001b[1mOutput Shape          \u001b[0m\u001b[1m \u001b[0m┃\u001b[1m \u001b[0m\u001b[1m      Param #\u001b[0m\u001b[1m \u001b[0m┃\n",
       "┡━━━━━━━━━━━━━━━━━━━━━━━━━━━━━━━━━╇━━━━━━━━━━━━━━━━━━━━━━━━╇━━━━━━━━━━━━━━━┩\n",
       "│ flatten_2 (\u001b[38;5;33mFlatten\u001b[0m)             │ (\u001b[38;5;45mNone\u001b[0m, \u001b[38;5;34m784\u001b[0m)            │             \u001b[38;5;34m0\u001b[0m │\n",
       "├─────────────────────────────────┼────────────────────────┼───────────────┤\n",
       "│ dense_8 (\u001b[38;5;33mDense\u001b[0m)                 │ (\u001b[38;5;45mNone\u001b[0m, \u001b[38;5;34m100\u001b[0m)            │        \u001b[38;5;34m78,500\u001b[0m │\n",
       "├─────────────────────────────────┼────────────────────────┼───────────────┤\n",
       "│ dense_9 (\u001b[38;5;33mDense\u001b[0m)                 │ (\u001b[38;5;45mNone\u001b[0m, \u001b[38;5;34m10\u001b[0m)             │         \u001b[38;5;34m1,010\u001b[0m │\n",
       "└─────────────────────────────────┴────────────────────────┴───────────────┘\n"
      ]
     },
     "metadata": {},
     "output_type": "display_data"
    },
    {
     "data": {
      "text/html": [
       "<pre style=\"white-space:pre;overflow-x:auto;line-height:normal;font-family:Menlo,'DejaVu Sans Mono',consolas,'Courier New',monospace\"><span style=\"font-weight: bold\"> Total params: </span><span style=\"color: #00af00; text-decoration-color: #00af00\">79,510</span> (310.59 KB)\n",
       "</pre>\n"
      ],
      "text/plain": [
       "\u001b[1m Total params: \u001b[0m\u001b[38;5;34m79,510\u001b[0m (310.59 KB)\n"
      ]
     },
     "metadata": {},
     "output_type": "display_data"
    },
    {
     "data": {
      "text/html": [
       "<pre style=\"white-space:pre;overflow-x:auto;line-height:normal;font-family:Menlo,'DejaVu Sans Mono',consolas,'Courier New',monospace\"><span style=\"font-weight: bold\"> Trainable params: </span><span style=\"color: #00af00; text-decoration-color: #00af00\">79,510</span> (310.59 KB)\n",
       "</pre>\n"
      ],
      "text/plain": [
       "\u001b[1m Trainable params: \u001b[0m\u001b[38;5;34m79,510\u001b[0m (310.59 KB)\n"
      ]
     },
     "metadata": {},
     "output_type": "display_data"
    },
    {
     "data": {
      "text/html": [
       "<pre style=\"white-space:pre;overflow-x:auto;line-height:normal;font-family:Menlo,'DejaVu Sans Mono',consolas,'Courier New',monospace\"><span style=\"font-weight: bold\"> Non-trainable params: </span><span style=\"color: #00af00; text-decoration-color: #00af00\">0</span> (0.00 B)\n",
       "</pre>\n"
      ],
      "text/plain": [
       "\u001b[1m Non-trainable params: \u001b[0m\u001b[38;5;34m0\u001b[0m (0.00 B)\n"
      ]
     },
     "metadata": {},
     "output_type": "display_data"
    }
   ],
   "source": [
    "model.summary()"
   ]
  },
  {
   "attachments": {},
   "cell_type": "markdown",
   "id": "a99208e6-b4ed-414d-80d2-74013924b6ec",
   "metadata": {},
   "source": [
    "- Flatten 층의 파라미터는 0\n",
    "\n",
    "- Flatten 층을 추가하면 입력값의 차원을 짐작할 수 있는 것이 장점\n",
    "    - 784개의 입력이 첫 번째 은닉층에 전달된다는 것이 명확하게 드러남\n",
    " \n",
    "- 입력 데이터에 대한 전처리 과정을 가능한한 모델에 포함시키는 것이 케라스API 의 철학 중 하나"
   ]
  },
  {
   "attachments": {},
   "cell_type": "markdown",
   "id": "b8a0781f-c38b-4489-8df7-e13683c150b9",
   "metadata": {},
   "source": [
    "# 새 모델을 위한 데이터를 다시 준비"
   ]
  },
  {
   "cell_type": "code",
   "execution_count": 42,
   "id": "d83ba6db-95c4-41bd-a0a7-73d4f63c5057",
   "metadata": {},
   "outputs": [],
   "source": [
    "(x_train, y_train), (x_test, y_test) = keras.datasets.fashion_mnist.load_data()\n",
    "scaled_train = x_train / 255\n",
    "scaled_train, scaled_val, y_train, y_val = train_test_split(scaled_train, y_train, test_size = 0.2,\n",
    "                                                            stratify = y_train, random_state = 26)"
   ]
  },
  {
   "cell_type": "code",
   "execution_count": 43,
   "id": "2ac3654e-0579-4cdc-a3cb-8b9cd4da01cb",
   "metadata": {},
   "outputs": [
    {
     "data": {
      "text/plain": [
       "(48000, 28, 28)"
      ]
     },
     "execution_count": 43,
     "metadata": {},
     "output_type": "execute_result"
    }
   ],
   "source": [
    "scaled_train.shape"
   ]
  },
  {
   "cell_type": "code",
   "execution_count": 44,
   "id": "01f0c5f2-186e-4b43-89f7-2134af9b5ac1",
   "metadata": {},
   "outputs": [],
   "source": [
    "model.compile(loss = \"sparse_categorical_crossentropy\", metrics = [\"accuracy\"])"
   ]
  },
  {
   "cell_type": "code",
   "execution_count": 45,
   "id": "8be2f730-d23d-4902-9df8-255d425f25fe",
   "metadata": {},
   "outputs": [
    {
     "name": "stdout",
     "output_type": "stream",
     "text": [
      "Epoch 1/5\n",
      "\u001b[1m1500/1500\u001b[0m \u001b[32m━━━━━━━━━━━━━━━━━━━━\u001b[0m\u001b[37m\u001b[0m \u001b[1m1s\u001b[0m 657us/step - accuracy: 0.7663 - loss: 0.6753\n",
      "Epoch 2/5\n",
      "\u001b[1m1500/1500\u001b[0m \u001b[32m━━━━━━━━━━━━━━━━━━━━\u001b[0m\u001b[37m\u001b[0m \u001b[1m1s\u001b[0m 648us/step - accuracy: 0.8542 - loss: 0.3996\n",
      "Epoch 3/5\n",
      "\u001b[1m1500/1500\u001b[0m \u001b[32m━━━━━━━━━━━━━━━━━━━━\u001b[0m\u001b[37m\u001b[0m \u001b[1m1s\u001b[0m 649us/step - accuracy: 0.8725 - loss: 0.3507\n",
      "Epoch 4/5\n",
      "\u001b[1m1500/1500\u001b[0m \u001b[32m━━━━━━━━━━━━━━━━━━━━\u001b[0m\u001b[37m\u001b[0m \u001b[1m1s\u001b[0m 669us/step - accuracy: 0.8805 - loss: 0.3327\n",
      "Epoch 5/5\n",
      "\u001b[1m1500/1500\u001b[0m \u001b[32m━━━━━━━━━━━━━━━━━━━━\u001b[0m\u001b[37m\u001b[0m \u001b[1m1s\u001b[0m 649us/step - accuracy: 0.8872 - loss: 0.3118\n"
     ]
    },
    {
     "data": {
      "text/plain": [
       "<keras.src.callbacks.history.History at 0x1b4497e6a80>"
      ]
     },
     "execution_count": 45,
     "metadata": {},
     "output_type": "execute_result"
    }
   ],
   "source": [
    "model.fit(scaled_train, y_train, epochs = 5)"
   ]
  },
  {
   "cell_type": "code",
   "execution_count": 46,
   "id": "beb81d89-230a-4220-bb27-f4ee195b82b1",
   "metadata": {},
   "outputs": [
    {
     "name": "stdout",
     "output_type": "stream",
     "text": [
      "\u001b[1m375/375\u001b[0m \u001b[32m━━━━━━━━━━━━━━━━━━━━\u001b[0m\u001b[37m\u001b[0m \u001b[1m0s\u001b[0m 596us/step - accuracy: 0.8754 - loss: 0.3628\n"
     ]
    },
    {
     "data": {
      "text/plain": [
       "[0.35670751333236694, 0.8738333582878113]"
      ]
     },
     "execution_count": 46,
     "metadata": {},
     "output_type": "execute_result"
    }
   ],
   "source": [
    "model.evaluate(scaled_val, y_val)"
   ]
  },
  {
   "attachments": {},
   "cell_type": "markdown",
   "id": "a9279d3c-7318-4b60-87e1-cc09e6982065",
   "metadata": {},
   "source": [
    "# 딥러닝의 하이퍼파라미터\n",
    "\n",
    "- 하이퍼파라미터 : 모델이 학습하지 않아 사람이 지정해 주어야 하는 파라미터\n",
    "\n",
    "- 인공신경망에서 하이퍼파라미터의 종류\n",
    "    - 은닉층의 개수\n",
    "    - 은닉층의 유닛 개수\n",
    "    - 활성화 함수\n",
    "    - 층의 종류\n",
    "        - 밀집층, CNN, RNN\n",
    "    - 미니배치 개수(batch_size)\n",
    "    - 반복 횟수(epochs)\n",
    "    - 옵티마이저(optimizer)\n",
    "    - 옵티마이저의 학습률"
   ]
  },
  {
   "attachments": {},
   "cell_type": "markdown",
   "id": "e104e3cc-bae7-488b-98c1-dfc1842059fa",
   "metadata": {},
   "source": [
    "## 옵티마이저\n",
    "\n",
    "- 케라스에서는 기본적으로 경사하강법 알고리즘(RMSprop)을 사용\n",
    "\n",
    "- 이 외에도 다양한 경사하강법 알고리즘을 제공하고, 이를 옵티마이저 라고 부름"
   ]
  },
  {
   "cell_type": "code",
   "execution_count": 47,
   "id": "a3396ae0-03cf-48ec-9cd5-ba12bc9134e2",
   "metadata": {},
   "outputs": [],
   "source": [
    "# sgd 옵티마이저를 사용하려면\n",
    "sgd = keras.optimizers.SGD()\n",
    "model.compile(optimizer = sgd, loss = \"sparse_categorical_crossentropy\", metrics = [\"accuracy\"])"
   ]
  },
  {
   "cell_type": "code",
   "execution_count": 48,
   "id": "2fe44801-da08-4dcf-895e-5941796cc52e",
   "metadata": {},
   "outputs": [],
   "source": [
    "# 위와 동일한 코드\n",
    "# 원래는 위의 코드처럼 각각의 클래스 객체를 만들어서 사용하는 것이 정석\n",
    "# 번거로움을 피하기 위해 \"sgd\" 라고 입력하면 자동으로 SGD클래스 객체를 생성해줌\n",
    "model.compile(optimizer = \"sgd\", loss = \"sparse_categorical_crossentropy\", metrics = [\"accuracy\"])"
   ]
  },
  {
   "cell_type": "code",
   "execution_count": 49,
   "id": "a601aa29-12f9-4f93-8a74-85a22cd6ca5e",
   "metadata": {},
   "outputs": [],
   "source": [
    "# 옵티마이저의 학습률을 조절하고 싶다면\n",
    "sgd = keras.optimizers.SGD(learning_rate = 0.1)"
   ]
  },
  {
   "attachments": {},
   "cell_type": "markdown",
   "id": "e13bf660-fbbf-4ba4-a376-aaf852d3ad32",
   "metadata": {},
   "source": [
    "### 옵티마이저의 종류\n",
    "\n",
    "<img src = \"./image/optimizer.png\">"
   ]
  },
  {
   "attachments": {},
   "cell_type": "markdown",
   "id": "07711b3f-2a2a-4f40-b163-6f9cd6f58bc2",
   "metadata": {},
   "source": [
    "- Momentum\n",
    "    - SGD 클래스에서 momentum 기본값은 0\n",
    "    - momentum을 0보다 큰 값으로 지정하면 모멘텀 최적화(momentum optimization)를 사용\n",
    "    - 일반적으로 momentum 매개변수는 0.9 이상을 지정\n",
    " \n",
    "- NAG(Nesterov Accelerated Gradient)\n",
    "    - SGD 클래스의 nesterov 매개변수를 기본값 False 에서 True 로 바꾸면 네스테로프 모멘텀 최적화를 사용할 수 있음\n",
    "    - 대부분의 경우 네스테로프 모멘텀 최적화가 기본 경사하강법보다는 더 나은 성능을 제공"
   ]
  },
  {
   "cell_type": "code",
   "execution_count": 50,
   "id": "c5e37c1d-1ec5-42b8-8752-ffdcb29eb0e3",
   "metadata": {},
   "outputs": [],
   "source": [
    "nag = keras.optimizers.SGD(momentum = 0.9, nesterov = True)"
   ]
  },
  {
   "attachments": {},
   "cell_type": "markdown",
   "id": "838b19ed-f62b-4e53-92f3-5fdbbc408344",
   "metadata": {},
   "source": [
    "- 적응적 학습률(adaptive learning rate)\n",
    "    - 모델이 최적점에 가까이 갈수록 학습률을 낮춤\n",
    "        - 안정적으로 최적점에 수렴할 가능성이 높음\n",
    "     \n",
    "    - 적응적 학습률을 사용하는 대표적인 옵티마이저\n",
    "        - Adagrad, RMSprop"
   ]
  },
  {
   "cell_type": "code",
   "execution_count": 51,
   "id": "bf9e5ff0-5554-4f5c-a437-17253a055c0f",
   "metadata": {},
   "outputs": [],
   "source": [
    "adagrad = keras.optimizers.Adagrad()"
   ]
  },
  {
   "cell_type": "code",
   "execution_count": 52,
   "id": "ff011954-beb5-4ad2-a34c-91dcd448f557",
   "metadata": {},
   "outputs": [],
   "source": [
    "rmsprop = keras.optimizers.RMSprop()"
   ]
  },
  {
   "attachments": {},
   "cell_type": "markdown",
   "id": "a82fdf96-fb42-4c8d-8aa7-3a4a3b2c5fc9",
   "metadata": {},
   "source": [
    "- 위의 모멘텀 최적화와 적응적 학습률을 접목한 것이 Adam\n",
    "    - 기본적으로 가장 많이 쓰이는 옵티마이저"
   ]
  },
  {
   "cell_type": "code",
   "execution_count": 53,
   "id": "713660bb-40cc-4595-86db-31d62b635514",
   "metadata": {},
   "outputs": [],
   "source": [
    "model = keras.Sequential()\n",
    "model.add(keras.Input(shape = (28, 28)))\n",
    "model.add(keras.layers.Flatten())\n",
    "model.add(keras.layers.Dense(100, activation = \"relu\"))\n",
    "model.add(keras.layers.Dense(10, activation = \"softmax\"))"
   ]
  },
  {
   "cell_type": "code",
   "execution_count": 54,
   "id": "73f5c0e8-5a11-4ad2-b297-38095a758e41",
   "metadata": {},
   "outputs": [],
   "source": [
    "model.compile(optimizer = \"adam\", loss = \"sparse_categorical_crossentropy\", metrics = [\"accuracy\"])"
   ]
  },
  {
   "cell_type": "code",
   "execution_count": 55,
   "id": "6759776c-c153-4915-a485-35a4064c45fa",
   "metadata": {},
   "outputs": [
    {
     "name": "stdout",
     "output_type": "stream",
     "text": [
      "Epoch 1/5\n",
      "\u001b[1m1500/1500\u001b[0m \u001b[32m━━━━━━━━━━━━━━━━━━━━\u001b[0m\u001b[37m\u001b[0m \u001b[1m1s\u001b[0m 709us/step - accuracy: 0.7718 - loss: 0.6634\n",
      "Epoch 2/5\n",
      "\u001b[1m1500/1500\u001b[0m \u001b[32m━━━━━━━━━━━━━━━━━━━━\u001b[0m\u001b[37m\u001b[0m \u001b[1m1s\u001b[0m 679us/step - accuracy: 0.8573 - loss: 0.3953\n",
      "Epoch 3/5\n",
      "\u001b[1m1500/1500\u001b[0m \u001b[32m━━━━━━━━━━━━━━━━━━━━\u001b[0m\u001b[37m\u001b[0m \u001b[1m1s\u001b[0m 683us/step - accuracy: 0.8726 - loss: 0.3522\n",
      "Epoch 4/5\n",
      "\u001b[1m1500/1500\u001b[0m \u001b[32m━━━━━━━━━━━━━━━━━━━━\u001b[0m\u001b[37m\u001b[0m \u001b[1m1s\u001b[0m 682us/step - accuracy: 0.8814 - loss: 0.3256\n",
      "Epoch 5/5\n",
      "\u001b[1m1500/1500\u001b[0m \u001b[32m━━━━━━━━━━━━━━━━━━━━\u001b[0m\u001b[37m\u001b[0m \u001b[1m1s\u001b[0m 688us/step - accuracy: 0.8838 - loss: 0.3109\n"
     ]
    },
    {
     "data": {
      "text/plain": [
       "<keras.src.callbacks.history.History at 0x1b449609400>"
      ]
     },
     "execution_count": 55,
     "metadata": {},
     "output_type": "execute_result"
    }
   ],
   "source": [
    "model.fit(scaled_train, y_train, epochs = 5, batch_size = 32)"
   ]
  },
  {
   "cell_type": "code",
   "execution_count": 56,
   "id": "69433e17-8551-4bf5-aa1c-62d130945cbd",
   "metadata": {},
   "outputs": [
    {
     "name": "stdout",
     "output_type": "stream",
     "text": [
      "\u001b[1m375/375\u001b[0m \u001b[32m━━━━━━━━━━━━━━━━━━━━\u001b[0m\u001b[37m\u001b[0m \u001b[1m0s\u001b[0m 537us/step - accuracy: 0.8767 - loss: 0.3550\n"
     ]
    },
    {
     "data": {
      "text/plain": [
       "[0.3492567241191864, 0.8757500052452087]"
      ]
     },
     "execution_count": 56,
     "metadata": {},
     "output_type": "execute_result"
    }
   ],
   "source": [
    "model.evaluate(scaled_val, y_val)"
   ]
  },
  {
   "cell_type": "code",
   "execution_count": null,
   "id": "d604819e-4e46-4eeb-902c-82cc4f51773b",
   "metadata": {},
   "outputs": [],
   "source": []
  }
 ],
 "metadata": {
  "kernelspec": {
   "display_name": "Python 3 (ipykernel)",
   "language": "python",
   "name": "python3"
  },
  "language_info": {
   "codemirror_mode": {
    "name": "ipython",
    "version": 3
   },
   "file_extension": ".py",
   "mimetype": "text/x-python",
   "name": "python",
   "nbconvert_exporter": "python",
   "pygments_lexer": "ipython3",
   "version": "3.12.7"
  }
 },
 "nbformat": 4,
 "nbformat_minor": 5
}
