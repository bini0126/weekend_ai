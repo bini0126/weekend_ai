{
 "cells": [
  {
   "cell_type": "markdown",
   "id": "f798ebb6",
   "metadata": {},
   "source": [
    "# 필터의 가중치\n",
    "\n",
    "- 입력 이미지의 2차원 영역에 적용되어 어떤 특징을 크게 두드러지게 표현하는 역할\n",
    "  - 예) 물건의 테두리같은 특징적인 부분의 가중치는 높고 그 외 영역은 가중치가 낮게"
   ]
  },
  {
   "cell_type": "code",
   "execution_count": 1,
   "id": "b87385c2",
   "metadata": {},
   "outputs": [],
   "source": [
    "from tensorflow import keras\n",
    "import matplotlib.pyplot as plt"
   ]
  },
  {
   "cell_type": "code",
   "execution_count": 2,
   "id": "65582473",
   "metadata": {},
   "outputs": [],
   "source": [
    "# 저장해둔 cnn모델 불러오기\n",
    "model = keras.models.load_model(\"./model/best-cnn-model.keras\")"
   ]
  },
  {
   "cell_type": "code",
   "execution_count": 3,
   "id": "881128b4",
   "metadata": {},
   "outputs": [
    {
     "data": {
      "text/plain": [
       "[<Conv2D name=conv2d, built=True>,\n",
       " <MaxPooling2D name=max_pooling2d, built=True>,\n",
       " <Conv2D name=conv2d_1, built=True>,\n",
       " <MaxPooling2D name=max_pooling2d_1, built=True>,\n",
       " <Flatten name=flatten, built=True>,\n",
       " <Dense name=dense, built=True>,\n",
       " <Dropout name=dropout, built=True>,\n",
       " <Dense name=dense_1, built=True>]"
      ]
     },
     "execution_count": 3,
     "metadata": {},
     "output_type": "execute_result"
    }
   ],
   "source": [
    "# 모델 층 확인\n",
    "model.layers"
   ]
  },
  {
   "cell_type": "code",
   "execution_count": 4,
   "metadata": {},
   "outputs": [
    {
     "name": "stdout",
     "output_type": "stream",
     "text": [
      "(3, 3, 1, 32) (32,)\n"
     ]
    }
   ],
   "source": [
    "# 첫 번쨰 합성곱 층의 가중치 확인\n",
    "conv = model.layers[0]\n",
    "print(conv.weights[0].shape, conv.weights[1].shape)"
   ]
  },
  {
   "cell_type": "markdown",
   "id": "d4c1fceb",
   "metadata": {},
   "source": [
    "- conv.weights[0]\n",
    "  - 가중치\n",
    "  - 가중치의 크기\n",
    "    - 커널의 개수 : (3, 3, 1)\n",
    "    - 필터의 개수 : 32\n",
    "\n",
    "- conv.weights[1]\n",
    "  - 절편의 개수 = 필터의 개수"
   ]
  },
  {
   "cell_type": "code",
   "execution_count": 5,
   "metadata": {},
   "outputs": [],
   "source": [
    "# 원활한 계산을 위해 넘파이 배열로 변환\n",
    "conv_weights = conv.weights[0].numpy()"
   ]
  },
  {
   "cell_type": "code",
   "execution_count": 6,
   "id": "2a51c6cb",
   "metadata": {},
   "outputs": [
    {
     "data": {
      "text/plain": [
       "array([[[[ 3.37453485e-01,  1.66899502e-01, -1.48162797e-01,\n",
       "          -7.72116855e-02, -4.46355864e-02, -1.39174774e-01,\n",
       "           1.70236602e-01,  2.75743511e-02,  1.71856239e-01,\n",
       "          -1.13661468e-01, -3.31479728e-01, -8.71016607e-02,\n",
       "           1.67238384e-01,  1.31049067e-01, -2.31568813e-01,\n",
       "           9.01240110e-02, -3.96219827e-02, -9.96640623e-02,\n",
       "           2.91413963e-01, -8.05526078e-01, -1.32516071e-01,\n",
       "           8.28201547e-02, -1.81375712e-01, -5.24318628e-02,\n",
       "           1.18305616e-01, -1.22833498e-01,  2.14435137e-03,\n",
       "          -1.44935921e-01, -2.34745100e-01,  1.52361095e-01,\n",
       "           6.85229972e-02, -1.41850993e-01]],\n",
       "\n",
       "        [[ 2.15947279e-03, -1.62925437e-01,  1.03909068e-01,\n",
       "           5.08775972e-02, -5.30643463e-02,  8.15043077e-02,\n",
       "           2.68311590e-01,  4.80407029e-02, -2.42429882e-01,\n",
       "           6.87291846e-02,  1.18266113e-01, -5.99573612e-01,\n",
       "           7.35288411e-02, -4.43820134e-02,  4.27044719e-01,\n",
       "           2.74119884e-01,  1.60198301e-01,  2.71911561e-01,\n",
       "          -9.22527909e-03, -9.70176578e-01,  2.95487437e-02,\n",
       "           1.10877072e-02,  1.34062931e-01,  1.22820670e-02,\n",
       "           1.96692511e-01, -5.22049237e-03, -3.82465690e-01,\n",
       "           1.02270320e-01,  2.83336908e-01, -6.45950660e-02,\n",
       "          -9.80671272e-02,  1.61515862e-01]],\n",
       "\n",
       "        [[-1.99484304e-01, -2.47024670e-02,  2.50252411e-02,\n",
       "           1.72283091e-02,  1.66546479e-01,  1.11341007e-01,\n",
       "           1.53633758e-01,  8.44430327e-02,  1.15966111e-01,\n",
       "          -8.39141905e-02,  1.77050382e-01, -5.14305830e-02,\n",
       "          -1.94820419e-01,  1.78961217e-01,  2.25893661e-01,\n",
       "           3.56547982e-02, -1.83179140e-01, -1.69698387e-01,\n",
       "           1.22072063e-02, -1.84528187e-01, -2.11329758e-01,\n",
       "          -1.18401974e-01, -3.71909291e-01, -2.17793174e-02,\n",
       "          -1.39160469e-01,  1.14470236e-01, -1.74957246e-01,\n",
       "           2.66748257e-02, -4.35048752e-02,  1.12816691e-01,\n",
       "          -5.54499552e-02, -2.25471228e-01]]],\n",
       "\n",
       "\n",
       "       [[[-2.85600036e-01,  1.37444869e-01, -2.22426042e-01,\n",
       "           2.71952655e-02, -2.19177142e-01, -1.23621427e-01,\n",
       "           1.54891564e-02,  1.51547983e-01,  1.76599994e-01,\n",
       "          -1.20246634e-01,  1.83739945e-01, -8.44531119e-01,\n",
       "          -1.63429424e-01, -1.02632023e-01, -7.86699116e-01,\n",
       "           1.59715205e-01, -1.14374027e-01,  7.37967640e-02,\n",
       "           6.16790950e-02, -1.26527444e-01,  1.08813487e-01,\n",
       "           1.03426710e-01,  1.43574700e-01,  6.13200925e-02,\n",
       "           1.85001910e-01, -5.66991791e-02, -4.89061177e-02,\n",
       "          -3.18251364e-02,  1.79820642e-01,  1.59121171e-01,\n",
       "           5.44824824e-02,  6.09584861e-02]],\n",
       "\n",
       "        [[-2.66861111e-01, -1.16549924e-01,  1.20013602e-01,\n",
       "          -2.23060846e-01, -2.24925093e-02, -1.71885848e-01,\n",
       "          -8.43685400e-03,  3.72454189e-02, -2.10898101e-01,\n",
       "           2.05752607e-02, -1.26526102e-01, -7.04975128e-01,\n",
       "          -1.51610270e-01, -1.83562979e-01, -2.53612399e-01,\n",
       "          -1.48852170e-01,  2.01732114e-01,  1.85676172e-01,\n",
       "          -6.32153630e-01, -5.00980079e-01,  3.09618145e-01,\n",
       "          -9.63725224e-02,  2.25022100e-02,  1.86220899e-01,\n",
       "          -4.43420634e-02, -8.30697715e-02,  1.06330164e-01,\n",
       "           4.63414304e-02,  2.26497930e-02,  2.11435519e-02,\n",
       "           2.62073167e-02,  3.98378819e-02]],\n",
       "\n",
       "        [[-4.39788401e-01, -5.69287979e-04,  1.12244725e-01,\n",
       "           2.09006369e-01,  2.26938009e-01,  2.56570011e-01,\n",
       "           3.46016735e-02,  8.48285183e-02,  5.27283326e-02,\n",
       "           2.08064124e-01,  1.50507003e-01,  4.12114374e-02,\n",
       "           6.17827326e-02,  1.09773993e-01,  6.76560774e-02,\n",
       "          -2.77743608e-01,  1.24527052e-01, -2.50904769e-01,\n",
       "          -1.04835260e+00, -5.99077456e-02, -2.82711536e-01,\n",
       "           1.87356636e-01, -5.64175129e-01, -2.28866905e-01,\n",
       "          -1.57966033e-01,  1.92263171e-01,  1.97691590e-01,\n",
       "           1.58827245e-01, -2.03882039e-01, -1.01904787e-01,\n",
       "          -1.25238881e-01,  1.64335355e-01]]],\n",
       "\n",
       "\n",
       "       [[[ 5.26931882e-02,  1.64663941e-01, -2.37413868e-01,\n",
       "           2.12074339e-01, -3.18046920e-02, -2.92487815e-02,\n",
       "          -3.05660844e-01,  2.56684348e-02,  1.30481366e-02,\n",
       "          -4.32019792e-02,  1.70409426e-01, -1.67585120e-01,\n",
       "           1.28844202e-01,  5.80902137e-02, -3.40656966e-01,\n",
       "          -1.49086401e-01,  3.64661478e-02,  1.34640351e-01,\n",
       "          -1.36476934e-01, -1.38043184e-02, -4.22935262e-02,\n",
       "          -2.16899022e-01,  2.13653445e-01,  1.34274364e-01,\n",
       "           1.03055313e-01, -1.15229316e-01,  1.70790419e-01,\n",
       "           1.20757423e-01,  6.27065673e-02,  2.98383161e-02,\n",
       "           4.71835546e-02,  1.56434640e-01]],\n",
       "\n",
       "        [[ 1.40119284e-01, -1.52349547e-01,  2.21183270e-01,\n",
       "          -2.82767624e-01,  2.39551757e-02, -6.61960691e-02,\n",
       "          -3.33192617e-01,  6.35133088e-02, -1.69177391e-02,\n",
       "          -1.37355864e-01, -9.58562791e-02,  2.21366598e-03,\n",
       "           7.32953176e-02,  1.83761213e-02, -3.53247106e-01,\n",
       "          -2.23560557e-01, -1.94593966e-02, -2.54144892e-02,\n",
       "          -7.47653663e-01,  6.23180456e-02,  1.77033260e-01,\n",
       "           5.77497706e-02,  1.95085943e-01, -1.77496284e-01,\n",
       "          -1.07131600e-01, -5.04075736e-02,  1.38548881e-01,\n",
       "          -1.40559942e-01, -2.56724089e-01, -7.54571240e-03,\n",
       "           3.82547416e-02, -1.51906744e-01]],\n",
       "\n",
       "        [[ 1.55830652e-01,  4.06142436e-02,  3.97908613e-02,\n",
       "           6.92133158e-02, -3.96982767e-02,  1.02976047e-01,\n",
       "          -6.57795966e-02,  2.30711903e-02,  1.85727812e-02,\n",
       "           1.84073105e-01, -2.62886673e-01,  2.45627105e-01,\n",
       "           3.24738286e-02,  6.82822689e-02, -1.66943952e-01,\n",
       "           2.21451402e-01, -9.11206231e-02, -9.92210209e-02,\n",
       "          -7.12801456e-01,  3.32534850e-01,  9.83388908e-03,\n",
       "           1.28071234e-01,  4.67810445e-02,  4.10956331e-02,\n",
       "          -9.59412232e-02,  1.70540899e-01,  5.75848622e-03,\n",
       "          -4.95629050e-02,  1.78106382e-01, -2.21459389e-01,\n",
       "          -8.15430135e-02, -8.70228857e-02]]]], dtype=float32)"
      ]
     },
     "execution_count": 6,
     "metadata": {},
     "output_type": "execute_result"
    }
   ],
   "source": [
    "conv_weights"
   ]
  },
  {
   "cell_type": "code",
   "execution_count": 7,
   "metadata": {},
   "outputs": [
    {
     "name": "stdout",
     "output_type": "stream",
     "text": [
      "-0.029481577 0.21500847\n"
     ]
    }
   ],
   "source": [
    "print(conv_weights.mean(), conv_weights.std())"
   ]
  },
  {
   "cell_type": "code",
   "execution_count": 8,
   "id": "3c3a84d6",
   "metadata": {},
   "outputs": [
    {
     "data": {
      "image/png": "[encoded data removed]",
      "text/plain": [
       "<Figure size 640x480 with 1 Axes>"
      ]
     },
     "metadata": {},
     "output_type": "display_data"
    }
   ],
   "source": [
    "# 가중치 히스토그램\n",
    "plt.figure()\n",
    "plt.hist(conv_weights.reshape(-1, 1)) # hist함수는 데이터를 1차원 배열로 전달해야함\n",
    "plt.xlabel(\"weight\")\n",
    "plt.ylabel(\"count\")\n",
    "plt.show()"
   ]
  },
  {
   "cell_type": "markdown",
   "id": "dda82596",
   "metadata": {},
   "source": [
    "- 0을 중심으로 종 모양의 분포"
   ]
  },
  {
   "cell_type": "code",
   "execution_count": 9,
   "id": "caa1f774",
   "metadata": {},
   "outputs": [
    {
     "data": {
      "image/png": "[encoded data removed]",
      "text/plain": [
       "<Figure size 1500x200 with 32 Axes>"
      ]
     },
     "metadata": {},
     "output_type": "display_data"
    }
   ],
   "source": [
    "# 32개의 커널을 모두 시각화\n",
    "fig, axs = plt.subplots(2, 16, figsize = (15, 2))\n",
    "for i in range(2):\n",
    "    for j in range(16):\n",
    "        axs[i, j].imshow(conv_weights[:,:,0,i*16+j], vmin = -0.5, vmax = 0.5)\n",
    "        axs[i, j].axis(\"off\")\n",
    "plt.show()"
   ]
  },
  {
   "cell_type": "markdown",
   "id": "d508eaf1",
   "metadata": {},
   "source": [
    "- 밝은 부분이 높은 값\n",
    "  - 가중치가 높은 영역에 이미지가 겹치면 크게 활성화 됨\n",
    "    - 예) 오른쪽 세로로 한 줄의 가중치가 높다면 오른쪽에 놓인 직선을 만나면 크게 활성화\n",
    "\n",
    "- i : 행 인덱스(0 ~ 1)\n",
    "- j : 열 인덱스(0 ~ 15)\n",
    "\n",
    "- imshow()\n",
    "  - 배열의 최댓값과 최솟값으로 픽셀의 강도를 표현\n",
    "    - 배열의 최댓값은 가장 밝은 색으로\n",
    "    - 배열의 최솟값은 가장 어두운 색으로 표현\n",
    "\n",
    "    - vmin, vmax\n",
    "      - 컬러맵으로 표현할 색의 범위 지정"
   ]
  },
  {
   "cell_type": "markdown",
   "id": "db533348",
   "metadata": {},
   "source": [
    "# 훈련하지 않은 합성곱 신경망과 비교"
   ]
  },
  {
   "cell_type": "code",
   "execution_count": 11,
   "id": "764971a5",
   "metadata": {},
   "outputs": [],
   "source": [
    "no_training_model = keras.Sequential()\n",
    "no_training_model.add(keras.Input(shape=(28, 28, 1)))\n",
    "no_training_model.add(keras.layers.Conv2D(32, kernel_size = 3, activation= \"relu\", padding= \"same\"))"
   ]
  },
  {
   "cell_type": "code",
   "execution_count": 12,
   "id": "59e048fa",
   "metadata": {},
   "outputs": [
    {
     "name": "stdout",
     "output_type": "stream",
     "text": [
      "(3, 3, 1, 32)\n"
     ]
    }
   ],
   "source": [
    "# 훈련하지 않은 합성곱 층의 가중치를 저장\n",
    "no_training_conv = no_training_model.layers[0]\n",
    "print(no_training_conv.weights[0].shape)"
   ]
  },
  {
   "cell_type": "code",
   "execution_count": 13,
   "id": "754f4fd3",
   "metadata": {},
   "outputs": [
    {
     "name": "stdout",
     "output_type": "stream",
     "text": [
      "-0.0027298932 0.08016142\n"
     ]
    }
   ],
   "source": [
    "no_training_weights = no_training_conv.weights[0].numpy()\n",
    "print(no_training_weights.mean(), no_training_weights.std())"
   ]
  },
  {
   "cell_type": "code",
   "execution_count": 14,
   "id": "8ebea96d",
   "metadata": {},
   "outputs": [
    {
     "data": {
      "image/png": "[encoded data removed]",
      "text/plain": [
       "<Figure size 640x480 with 1 Axes>"
      ]
     },
     "metadata": {},
     "output_type": "display_data"
    }
   ],
   "source": [
    "# 학습하지 않은 합성곱 층 히스토그램\n",
    "plt.figure()\n",
    "plt.hist(no_training_weights.reshape(-1, 1))\n",
    "plt.xlabel(\"weight\")\n",
    "plt.ylabel(\"count\")\n",
    "plt.show()"
   ]
  },
  {
   "cell_type": "markdown",
   "id": "76523e1f",
   "metadata": {},
   "source": [
    "- 대부분의 가중치가 -0.15부터 0.15까지 고르게 분포함\n",
    "  - 텐서플로에서 가중치를 초기화할 때 균등분포에서 랜덤하게 값을 선택하기 떄문에"
   ]
  },
  {
   "cell_type": "code",
   "execution_count": 15,
   "id": "ae28d30b",
   "metadata": {},
   "outputs": [
    {
     "data": {
      "image/png": "[encoded data removed]",
      "text/plain": [
       "<Figure size 1500x200 with 32 Axes>"
      ]
     },
     "metadata": {},
     "output_type": "display_data"
    }
   ],
   "source": [
    "# 32개의 커널을 모두 시각화\n",
    "fig, axs = plt.subplots(2, 16, figsize = (15, 2))\n",
    "for i in range(2):\n",
    "    for j in range(16):\n",
    "        axs[i, j].imshow(no_training_weights[:,:,0,i*16+j], vmin = -0.5, vmax = 0.5)\n",
    "        axs[i, j].axis(\"off\")\n",
    "plt.show()"
   ]
  },
  {
   "cell_type": "markdown",
   "id": "e5e71495",
   "metadata": {},
   "source": [
    "- 훈련된 모델에 비해 패턴이 뚜렷하지 않음"
   ]
  },
  {
   "cell_type": "markdown",
   "id": "4757635b",
   "metadata": {},
   "source": [
    "# 케라스의 함수형 API\n",
    "\n",
    "- Sequential 클래스 : 층을 차례대로 쌓은 단순한 모델을 구성\n",
    "\n",
    "- 복잡한 모델은 구성하기 힘들기 떄문에 함수형 API(function API)를 사용\n",
    "\n",
    "- 케라스의 Model 클래스를 사용하여 모델을 생성\n",
    "\n",
    "- Layers 객체를 함수처럼 호출하여 동작"
   ]
  },
  {
   "cell_type": "markdown",
   "id": "a518b464",
   "metadata": {},
   "source": [
    "## 함수형 API로 다층신걍망 모델 구현 예제"
   ]
  },
  {
   "cell_type": "code",
   "execution_count": 17,
   "id": "01535f51",
   "metadata": {},
   "outputs": [],
   "source": [
    "# 입력층 생성\n",
    "inputs = keras.Input(shape=(784, ))\n",
    "\n",
    "# 은닉층과 출력층 객체 생성\n",
    "dense1 = keras.layers.Dense(100, activation = \"sigmoid\")\n",
    "dense2 = keras.layers.Dense(10, activation = \"softmax\") "
   ]
  },
  {
   "cell_type": "code",
   "execution_count": 18,
   "id": "2738002a",
   "metadata": {},
   "outputs": [],
   "source": [
    "# 은닉층 호출\n",
    "hidden = dense1(inputs)"
   ]
  },
  {
   "cell_type": "markdown",
   "id": "34adc8a7",
   "metadata": {},
   "source": [
    "- inputs를 Dende층에 통과시킨 후 출력값 hodden 을 만드는 구조 생성"
   ]
  },
  {
   "cell_type": "code",
   "execution_count": 19,
   "id": "4ac04c65",
   "metadata": {},
   "outputs": [],
   "source": [
    "# 출력층 호출\n",
    "outputs = dense2(hidden)"
   ]
  },
  {
   "cell_type": "code",
   "execution_count": 20,
   "id": "8f43f760",
   "metadata": {},
   "outputs": [],
   "source": [
    "# Model 클래스로 inputs와 outputs 연결\n",
    "test_model = keras.Model(inputs, outputs)"
   ]
  },
  {
   "cell_type": "code",
   "execution_count": 21,
   "id": "e2d8e213",
   "metadata": {},
   "outputs": [
    {
     "data": {
      "text/html": [
       "<pre style=\"white-space:pre;overflow-x:auto;line-height:normal;font-family:Menlo,'DejaVu Sans Mono',consolas,'Courier New',monospace\"><span style=\"font-weight: bold\">Model: \"functional_9\"</span>\n",
       "</pre>\n"
      ],
      "text/plain": [
       "\u001b[1mModel: \"functional_9\"\u001b[0m\n"
      ]
     },
     "metadata": {},
     "output_type": "display_data"
    },
    {
     "data": {
      "text/html": [
       "<pre style=\"white-space:pre;overflow-x:auto;line-height:normal;font-family:Menlo,'DejaVu Sans Mono',consolas,'Courier New',monospace\">┏━━━━━━━━━━━━━━━━━━━━━━━━━━━━━━━━━┳━━━━━━━━━━━━━━━━━━━━━━━━┳━━━━━━━━━━━━━━━┓\n",
       "┃<span style=\"font-weight: bold\"> Layer (type)                    </span>┃<span style=\"font-weight: bold\"> Output Shape           </span>┃<span style=\"font-weight: bold\">       Param # </span>┃\n",
       "┡━━━━━━━━━━━━━━━━━━━━━━━━━━━━━━━━━╇━━━━━━━━━━━━━━━━━━━━━━━━╇━━━━━━━━━━━━━━━┩\n",
       "│ input_layer_3 (<span style=\"color: #0087ff; text-decoration-color: #0087ff\">InputLayer</span>)      │ (<span style=\"color: #00d7ff; text-decoration-color: #00d7ff\">None</span>, <span style=\"color: #00af00; text-decoration-color: #00af00\">784</span>)            │             <span style=\"color: #00af00; text-decoration-color: #00af00\">0</span> │\n",
       "├─────────────────────────────────┼────────────────────────┼───────────────┤\n",
       "│ dense_1 (<span style=\"color: #0087ff; text-decoration-color: #0087ff\">Dense</span>)                 │ (<span style=\"color: #00d7ff; text-decoration-color: #00d7ff\">None</span>, <span style=\"color: #00af00; text-decoration-color: #00af00\">100</span>)            │        <span style=\"color: #00af00; text-decoration-color: #00af00\">78,500</span> │\n",
       "├─────────────────────────────────┼────────────────────────┼───────────────┤\n",
       "│ dense_2 (<span style=\"color: #0087ff; text-decoration-color: #0087ff\">Dense</span>)                 │ (<span style=\"color: #00d7ff; text-decoration-color: #00d7ff\">None</span>, <span style=\"color: #00af00; text-decoration-color: #00af00\">10</span>)             │         <span style=\"color: #00af00; text-decoration-color: #00af00\">1,010</span> │\n",
       "└─────────────────────────────────┴────────────────────────┴───────────────┘\n",
       "</pre>\n"
      ],
      "text/plain": [
       "┏━━━━━━━━━━━━━━━━━━━━━━━━━━━━━━━━━┳━━━━━━━━━━━━━━━━━━━━━━━━┳━━━━━━━━━━━━━━━┓\n",
       "┃\u001b[1m \u001b[0m\u001b[1mLayer (type)                   \u001b[0m\u001b[1m \u001b[0m┃\u001b[1m \u001b[0m\u001b[1mOutput Shape          \u001b[0m\u001b[1m \u001b[0m┃\u001b[1m \u001b[0m\u001b[1m      Param #\u001b[0m\u001b[1m \u001b[0m┃\n",
       "┡━━━━━━━━━━━━━━━━━━━━━━━━━━━━━━━━━╇━━━━━━━━━━━━━━━━━━━━━━━━╇━━━━━━━━━━━━━━━┩\n",
       "│ input_layer_3 (\u001b[38;5;33mInputLayer\u001b[0m)      │ (\u001b[38;5;45mNone\u001b[0m, \u001b[38;5;34m784\u001b[0m)            │             \u001b[38;5;34m0\u001b[0m │\n",
       "├─────────────────────────────────┼────────────────────────┼───────────────┤\n",
       "│ dense_1 (\u001b[38;5;33mDense\u001b[0m)                 │ (\u001b[38;5;45mNone\u001b[0m, \u001b[38;5;34m100\u001b[0m)            │        \u001b[38;5;34m78,500\u001b[0m │\n",
       "├─────────────────────────────────┼────────────────────────┼───────────────┤\n",
       "│ dense_2 (\u001b[38;5;33mDense\u001b[0m)                 │ (\u001b[38;5;45mNone\u001b[0m, \u001b[38;5;34m10\u001b[0m)             │         \u001b[38;5;34m1,010\u001b[0m │\n",
       "└─────────────────────────────────┴────────────────────────┴───────────────┘\n"
      ]
     },
     "metadata": {},
     "output_type": "display_data"
    },
    {
     "data": {
      "text/html": [
       "<pre style=\"white-space:pre;overflow-x:auto;line-height:normal;font-family:Menlo,'DejaVu Sans Mono',consolas,'Courier New',monospace\"><span style=\"font-weight: bold\"> Total params: </span><span style=\"color: #00af00; text-decoration-color: #00af00\">79,510</span> (310.59 KB)\n",
       "</pre>\n"
      ],
      "text/plain": [
       "\u001b[1m Total params: \u001b[0m\u001b[38;5;34m79,510\u001b[0m (310.59 KB)\n"
      ]
     },
     "metadata": {},
     "output_type": "display_data"
    },
    {
     "data": {
      "text/html": [
       "<pre style=\"white-space:pre;overflow-x:auto;line-height:normal;font-family:Menlo,'DejaVu Sans Mono',consolas,'Courier New',monospace\"><span style=\"font-weight: bold\"> Trainable params: </span><span style=\"color: #00af00; text-decoration-color: #00af00\">79,510</span> (310.59 KB)\n",
       "</pre>\n"
      ],
      "text/plain": [
       "\u001b[1m Trainable params: \u001b[0m\u001b[38;5;34m79,510\u001b[0m (310.59 KB)\n"
      ]
     },
     "metadata": {},
     "output_type": "display_data"
    },
    {
     "data": {
      "text/html": [
       "<pre style=\"white-space:pre;overflow-x:auto;line-height:normal;font-family:Menlo,'DejaVu Sans Mono',consolas,'Courier New',monospace\"><span style=\"font-weight: bold\"> Non-trainable params: </span><span style=\"color: #00af00; text-decoration-color: #00af00\">0</span> (0.00 B)\n",
       "</pre>\n"
      ],
      "text/plain": [
       "\u001b[1m Non-trainable params: \u001b[0m\u001b[38;5;34m0\u001b[0m (0.00 B)\n"
      ]
     },
     "metadata": {},
     "output_type": "display_data"
    }
   ],
   "source": [
    "test_model.summary()"
   ]
  },
  {
   "cell_type": "markdown",
   "id": "7a638b13",
   "metadata": {},
   "source": [
    "# 합성곱 신경망 모델 특성맵 시각화\n",
    "\n",
    "- 함수형 API를 이용해 첫 번쨰 합성곱 층의 출력(특성맵)을 시각화"
   ]
  },
  {
   "cell_type": "code",
   "execution_count": 22,
   "metadata": {},
   "outputs": [
    {
     "name": "stdout",
     "output_type": "stream",
     "text": [
      "<KerasTensor shape=(None, 28, 28, 1), dtype=float32, sparse=False, ragged=False, name=input_layer>\n"
     ]
    }
   ],
   "source": [
    "# 합성곱 모델의 입력\n",
    "print(model.inputs[0])"
   ]
  },
  {
   "cell_type": "code",
   "execution_count": 23,
   "id": "e742db3f",
   "metadata": {},
   "outputs": [],
   "source": [
    "# 합성곱층과 입력충울 함수형 API로 연결\n",
    "conv_acti = keras.Model(model.inputs[0], model.layers[0].output)"
   ]
  },
  {
   "cell_type": "code",
   "execution_count": 24,
   "id": "125f13e9",
   "metadata": {},
   "outputs": [
    {
     "data": {
      "text/html": [
       "<pre style=\"white-space:pre;overflow-x:auto;line-height:normal;font-family:Menlo,'DejaVu Sans Mono',consolas,'Courier New',monospace\"><span style=\"font-weight: bold\">Model: \"functional_10\"</span>\n",
       "</pre>\n"
      ],
      "text/plain": [
       "\u001b[1mModel: \"functional_10\"\u001b[0m\n"
      ]
     },
     "metadata": {},
     "output_type": "display_data"
    },
    {
     "data": {
      "text/html": [
       "<pre style=\"white-space:pre;overflow-x:auto;line-height:normal;font-family:Menlo,'DejaVu Sans Mono',consolas,'Courier New',monospace\">┏━━━━━━━━━━━━━━━━━━━━━━━━━━━━━━━━━┳━━━━━━━━━━━━━━━━━━━━━━━━┳━━━━━━━━━━━━━━━┓\n",
       "┃<span style=\"font-weight: bold\"> Layer (type)                    </span>┃<span style=\"font-weight: bold\"> Output Shape           </span>┃<span style=\"font-weight: bold\">       Param # </span>┃\n",
       "┡━━━━━━━━━━━━━━━━━━━━━━━━━━━━━━━━━╇━━━━━━━━━━━━━━━━━━━━━━━━╇━━━━━━━━━━━━━━━┩\n",
       "│ input_layer (<span style=\"color: #0087ff; text-decoration-color: #0087ff\">InputLayer</span>)        │ (<span style=\"color: #00d7ff; text-decoration-color: #00d7ff\">None</span>, <span style=\"color: #00af00; text-decoration-color: #00af00\">28</span>, <span style=\"color: #00af00; text-decoration-color: #00af00\">28</span>, <span style=\"color: #00af00; text-decoration-color: #00af00\">1</span>)      │             <span style=\"color: #00af00; text-decoration-color: #00af00\">0</span> │\n",
       "├─────────────────────────────────┼────────────────────────┼───────────────┤\n",
       "│ conv2d (<span style=\"color: #0087ff; text-decoration-color: #0087ff\">Conv2D</span>)                 │ (<span style=\"color: #00d7ff; text-decoration-color: #00d7ff\">None</span>, <span style=\"color: #00af00; text-decoration-color: #00af00\">28</span>, <span style=\"color: #00af00; text-decoration-color: #00af00\">28</span>, <span style=\"color: #00af00; text-decoration-color: #00af00\">32</span>)     │           <span style=\"color: #00af00; text-decoration-color: #00af00\">320</span> │\n",
       "└─────────────────────────────────┴────────────────────────┴───────────────┘\n",
       "</pre>\n"
      ],
      "text/plain": [
       "┏━━━━━━━━━━━━━━━━━━━━━━━━━━━━━━━━━┳━━━━━━━━━━━━━━━━━━━━━━━━┳━━━━━━━━━━━━━━━┓\n",
       "┃\u001b[1m \u001b[0m\u001b[1mLayer (type)                   \u001b[0m\u001b[1m \u001b[0m┃\u001b[1m \u001b[0m\u001b[1mOutput Shape          \u001b[0m\u001b[1m \u001b[0m┃\u001b[1m \u001b[0m\u001b[1m      Param #\u001b[0m\u001b[1m \u001b[0m┃\n",
       "┡━━━━━━━━━━━━━━━━━━━━━━━━━━━━━━━━━╇━━━━━━━━━━━━━━━━━━━━━━━━╇━━━━━━━━━━━━━━━┩\n",
       "│ input_layer (\u001b[38;5;33mInputLayer\u001b[0m)        │ (\u001b[38;5;45mNone\u001b[0m, \u001b[38;5;34m28\u001b[0m, \u001b[38;5;34m28\u001b[0m, \u001b[38;5;34m1\u001b[0m)      │             \u001b[38;5;34m0\u001b[0m │\n",
       "├─────────────────────────────────┼────────────────────────┼───────────────┤\n",
       "│ conv2d (\u001b[38;5;33mConv2D\u001b[0m)                 │ (\u001b[38;5;45mNone\u001b[0m, \u001b[38;5;34m28\u001b[0m, \u001b[38;5;34m28\u001b[0m, \u001b[38;5;34m32\u001b[0m)     │           \u001b[38;5;34m320\u001b[0m │\n",
       "└─────────────────────────────────┴────────────────────────┴───────────────┘\n"
      ]
     },
     "metadata": {},
     "output_type": "display_data"
    },
    {
     "data": {
      "text/html": [
       "<pre style=\"white-space:pre;overflow-x:auto;line-height:normal;font-family:Menlo,'DejaVu Sans Mono',consolas,'Courier New',monospace\"><span style=\"font-weight: bold\"> Total params: </span><span style=\"color: #00af00; text-decoration-color: #00af00\">320</span> (1.25 KB)\n",
       "</pre>\n"
      ],
      "text/plain": [
       "\u001b[1m Total params: \u001b[0m\u001b[38;5;34m320\u001b[0m (1.25 KB)\n"
      ]
     },
     "metadata": {},
     "output_type": "display_data"
    },
    {
     "data": {
      "text/html": [
       "<pre style=\"white-space:pre;overflow-x:auto;line-height:normal;font-family:Menlo,'DejaVu Sans Mono',consolas,'Courier New',monospace\"><span style=\"font-weight: bold\"> Trainable params: </span><span style=\"color: #00af00; text-decoration-color: #00af00\">320</span> (1.25 KB)\n",
       "</pre>\n"
      ],
      "text/plain": [
       "\u001b[1m Trainable params: \u001b[0m\u001b[38;5;34m320\u001b[0m (1.25 KB)\n"
      ]
     },
     "metadata": {},
     "output_type": "display_data"
    },
    {
     "data": {
      "text/html": [
       "<pre style=\"white-space:pre;overflow-x:auto;line-height:normal;font-family:Menlo,'DejaVu Sans Mono',consolas,'Courier New',monospace\"><span style=\"font-weight: bold\"> Non-trainable params: </span><span style=\"color: #00af00; text-decoration-color: #00af00\">0</span> (0.00 B)\n",
       "</pre>\n"
      ],
      "text/plain": [
       "\u001b[1m Non-trainable params: \u001b[0m\u001b[38;5;34m0\u001b[0m (0.00 B)\n"
      ]
     },
     "metadata": {},
     "output_type": "display_data"
    }
   ],
   "source": [
    "conv_acti.summary()"
   ]
  },
  {
   "cell_type": "code",
   "execution_count": 25,
   "metadata": {},
   "outputs": [],
   "source": [
    "# 데이터 준비\n",
    "(x_train, y_train), (x_test, y_test) = keras.datasets.fashion_mnist.load_data()"
   ]
  },
  {
   "cell_type": "code",
   "execution_count": 27,
   "id": "74788bb4",
   "metadata": {},
   "outputs": [
    {
     "data": {
      "image/png": "[encoded data removed]",
      "text/plain": [
       "<Figure size 640x480 with 1 Axes>"
      ]
     },
     "metadata": {},
     "output_type": "display_data"
    }
   ],
   "source": [
    "plt.figure()\n",
    "plt.imshow(x_train[0], cmap = \"gray_r\")\n",
    "plt.show()"
   ]
  },
  {
   "cell_type": "code",
   "execution_count": 28,
   "id": "a1e36dcd",
   "metadata": {},
   "outputs": [],
   "source": [
    "# 위의 데이터를 첫 번쨰 합성곱 층에 통과\n",
    "inputs = x_train[[0]].reshape(-1, 28, 28, 1) /255"
   ]
  },
  {
   "cell_type": "code",
   "execution_count": 29,
   "metadata": {},
   "outputs": [
    {
     "name": "stdout",
     "output_type": "stream",
     "text": [
      "\u001b[1m1/1\u001b[0m \u001b[32m━━━━━━━━━━━━━━━━━━━━\u001b[0m\u001b[37m\u001b[0m \u001b[1m0s\u001b[0m 107ms/step\n"
     ]
    }
   ],
   "source": [
    "feature_maps = conv_acti.predict(inputs)"
   ]
  },
  {
   "cell_type": "code",
   "execution_count": 30,
   "id": "e0e7fc2f",
   "metadata": {},
   "outputs": [
    {
     "name": "stdout",
     "output_type": "stream",
     "text": [
      "(1, 28, 28, 32)\n"
     ]
    }
   ],
   "source": [
    "print(feature_maps.shape)"
   ]
  },
  {
   "cell_type": "markdown",
   "id": "27fda74a",
   "metadata": {},
   "source": [
    "- 세임 패딩과 32개의 필터를 사용한 합성곱층의 출력이기 떄문에 (28, 28, 32)\n",
    "\n",
    "- 첫 번쨰 차원은 배치 차원\n",
    "  - 샘플 하나만 입력했기 때문에 1"
   ]
  },
  {
   "cell_type": "code",
   "execution_count": 31,
   "id": "3048a3ec",
   "metadata": {},
   "outputs": [
    {
     "data": {
      "image/png": "[encoded data removed]",
      "text/plain": [
       "<Figure size 1500x800 with 32 Axes>"
      ]
     },
     "metadata": {},
     "output_type": "display_data"
    }
   ],
   "source": [
    "# 32개의 특성맵 시각화\n",
    "fig, axs = plt.subplots(4, 8, figsize= (15, 8))\n",
    "\n",
    "for i in range(4):\n",
    "    for j in range(8):\n",
    "        axs[i, j].imshow(feature_maps[0, :, :, i * 8 + j])\n",
    "        axs[i, j].axis(\"off\")\n",
    "plt.show()"
   ]
  },
  {
   "cell_type": "markdown",
   "id": "490fcf1c",
   "metadata": {},
   "source": [
    "- 32개의 필터로 인해 입력 이미지에서 강하게 활성화된 부분들을 시각화\n",
    "  - 필터가 수직선을 감지한다면 수직선 부분이 강하게 활성화\n",
    "  - 전체적으로 모두 감지하는 필터는 아이템의 전체를 활성화\n",
    "  - 전체적으로 음수값인 필터는 배경과 같은 0에 가까운 값과 곱해지면 작은 음수, 큰 수가 곱해지면 큼 음수가 됨\n",
    "    - 배경을 잘 활성화함 "
   ]
  },
  {
   "cell_type": "code",
   "execution_count": 33,
   "id": "132462dd",
   "metadata": {},
   "outputs": [],
   "source": [
    "# 두 번째 합성곱츠으이 특성맵 확인\n",
    "conv2_acti = keras.Model(model.inputs[0], model.layers[2].output)"
   ]
  },
  {
   "cell_type": "code",
   "execution_count": 34,
   "id": "f01a8cd0",
   "metadata": {},
   "outputs": [
    {
     "data": {
      "text/html": [
       "<pre style=\"white-space:pre;overflow-x:auto;line-height:normal;font-family:Menlo,'DejaVu Sans Mono',consolas,'Courier New',monospace\"><span style=\"font-weight: bold\">Model: \"functional_11\"</span>\n",
       "</pre>\n"
      ],
      "text/plain": [
       "\u001b[1mModel: \"functional_11\"\u001b[0m\n"
      ]
     },
     "metadata": {},
     "output_type": "display_data"
    },
    {
     "data": {
      "text/html": [
       "<pre style=\"white-space:pre;overflow-x:auto;line-height:normal;font-family:Menlo,'DejaVu Sans Mono',consolas,'Courier New',monospace\">┏━━━━━━━━━━━━━━━━━━━━━━━━━━━━━━━━━┳━━━━━━━━━━━━━━━━━━━━━━━━┳━━━━━━━━━━━━━━━┓\n",
       "┃<span style=\"font-weight: bold\"> Layer (type)                    </span>┃<span style=\"font-weight: bold\"> Output Shape           </span>┃<span style=\"font-weight: bold\">       Param # </span>┃\n",
       "┡━━━━━━━━━━━━━━━━━━━━━━━━━━━━━━━━━╇━━━━━━━━━━━━━━━━━━━━━━━━╇━━━━━━━━━━━━━━━┩\n",
       "│ input_layer (<span style=\"color: #0087ff; text-decoration-color: #0087ff\">InputLayer</span>)        │ (<span style=\"color: #00d7ff; text-decoration-color: #00d7ff\">None</span>, <span style=\"color: #00af00; text-decoration-color: #00af00\">28</span>, <span style=\"color: #00af00; text-decoration-color: #00af00\">28</span>, <span style=\"color: #00af00; text-decoration-color: #00af00\">1</span>)      │             <span style=\"color: #00af00; text-decoration-color: #00af00\">0</span> │\n",
       "├─────────────────────────────────┼────────────────────────┼───────────────┤\n",
       "│ conv2d (<span style=\"color: #0087ff; text-decoration-color: #0087ff\">Conv2D</span>)                 │ (<span style=\"color: #00d7ff; text-decoration-color: #00d7ff\">None</span>, <span style=\"color: #00af00; text-decoration-color: #00af00\">28</span>, <span style=\"color: #00af00; text-decoration-color: #00af00\">28</span>, <span style=\"color: #00af00; text-decoration-color: #00af00\">32</span>)     │           <span style=\"color: #00af00; text-decoration-color: #00af00\">320</span> │\n",
       "├─────────────────────────────────┼────────────────────────┼───────────────┤\n",
       "│ max_pooling2d (<span style=\"color: #0087ff; text-decoration-color: #0087ff\">MaxPooling2D</span>)    │ (<span style=\"color: #00d7ff; text-decoration-color: #00d7ff\">None</span>, <span style=\"color: #00af00; text-decoration-color: #00af00\">14</span>, <span style=\"color: #00af00; text-decoration-color: #00af00\">14</span>, <span style=\"color: #00af00; text-decoration-color: #00af00\">32</span>)     │             <span style=\"color: #00af00; text-decoration-color: #00af00\">0</span> │\n",
       "├─────────────────────────────────┼────────────────────────┼───────────────┤\n",
       "│ conv2d_1 (<span style=\"color: #0087ff; text-decoration-color: #0087ff\">Conv2D</span>)               │ (<span style=\"color: #00d7ff; text-decoration-color: #00d7ff\">None</span>, <span style=\"color: #00af00; text-decoration-color: #00af00\">14</span>, <span style=\"color: #00af00; text-decoration-color: #00af00\">14</span>, <span style=\"color: #00af00; text-decoration-color: #00af00\">64</span>)     │        <span style=\"color: #00af00; text-decoration-color: #00af00\">18,496</span> │\n",
       "└─────────────────────────────────┴────────────────────────┴───────────────┘\n",
       "</pre>\n"
      ],
      "text/plain": [
       "┏━━━━━━━━━━━━━━━━━━━━━━━━━━━━━━━━━┳━━━━━━━━━━━━━━━━━━━━━━━━┳━━━━━━━━━━━━━━━┓\n",
       "┃\u001b[1m \u001b[0m\u001b[1mLayer (type)                   \u001b[0m\u001b[1m \u001b[0m┃\u001b[1m \u001b[0m\u001b[1mOutput Shape          \u001b[0m\u001b[1m \u001b[0m┃\u001b[1m \u001b[0m\u001b[1m      Param #\u001b[0m\u001b[1m \u001b[0m┃\n",
       "┡━━━━━━━━━━━━━━━━━━━━━━━━━━━━━━━━━╇━━━━━━━━━━━━━━━━━━━━━━━━╇━━━━━━━━━━━━━━━┩\n",
       "│ input_layer (\u001b[38;5;33mInputLayer\u001b[0m)        │ (\u001b[38;5;45mNone\u001b[0m, \u001b[38;5;34m28\u001b[0m, \u001b[38;5;34m28\u001b[0m, \u001b[38;5;34m1\u001b[0m)      │             \u001b[38;5;34m0\u001b[0m │\n",
       "├─────────────────────────────────┼────────────────────────┼───────────────┤\n",
       "│ conv2d (\u001b[38;5;33mConv2D\u001b[0m)                 │ (\u001b[38;5;45mNone\u001b[0m, \u001b[38;5;34m28\u001b[0m, \u001b[38;5;34m28\u001b[0m, \u001b[38;5;34m32\u001b[0m)     │           \u001b[38;5;34m320\u001b[0m │\n",
       "├─────────────────────────────────┼────────────────────────┼───────────────┤\n",
       "│ max_pooling2d (\u001b[38;5;33mMaxPooling2D\u001b[0m)    │ (\u001b[38;5;45mNone\u001b[0m, \u001b[38;5;34m14\u001b[0m, \u001b[38;5;34m14\u001b[0m, \u001b[38;5;34m32\u001b[0m)     │             \u001b[38;5;34m0\u001b[0m │\n",
       "├─────────────────────────────────┼────────────────────────┼───────────────┤\n",
       "│ conv2d_1 (\u001b[38;5;33mConv2D\u001b[0m)               │ (\u001b[38;5;45mNone\u001b[0m, \u001b[38;5;34m14\u001b[0m, \u001b[38;5;34m14\u001b[0m, \u001b[38;5;34m64\u001b[0m)     │        \u001b[38;5;34m18,496\u001b[0m │\n",
       "└─────────────────────────────────┴────────────────────────┴───────────────┘\n"
      ]
     },
     "metadata": {},
     "output_type": "display_data"
    },
    {
     "data": {
      "text/html": [
       "<pre style=\"white-space:pre;overflow-x:auto;line-height:normal;font-family:Menlo,'DejaVu Sans Mono',consolas,'Courier New',monospace\"><span style=\"font-weight: bold\"> Total params: </span><span style=\"color: #00af00; text-decoration-color: #00af00\">18,816</span> (73.50 KB)\n",
       "</pre>\n"
      ],
      "text/plain": [
       "\u001b[1m Total params: \u001b[0m\u001b[38;5;34m18,816\u001b[0m (73.50 KB)\n"
      ]
     },
     "metadata": {},
     "output_type": "display_data"
    },
    {
     "data": {
      "text/html": [
       "<pre style=\"white-space:pre;overflow-x:auto;line-height:normal;font-family:Menlo,'DejaVu Sans Mono',consolas,'Courier New',monospace\"><span style=\"font-weight: bold\"> Trainable params: </span><span style=\"color: #00af00; text-decoration-color: #00af00\">18,816</span> (73.50 KB)\n",
       "</pre>\n"
      ],
      "text/plain": [
       "\u001b[1m Trainable params: \u001b[0m\u001b[38;5;34m18,816\u001b[0m (73.50 KB)\n"
      ]
     },
     "metadata": {},
     "output_type": "display_data"
    },
    {
     "data": {
      "text/html": [
       "<pre style=\"white-space:pre;overflow-x:auto;line-height:normal;font-family:Menlo,'DejaVu Sans Mono',consolas,'Courier New',monospace\"><span style=\"font-weight: bold\"> Non-trainable params: </span><span style=\"color: #00af00; text-decoration-color: #00af00\">0</span> (0.00 B)\n",
       "</pre>\n"
      ],
      "text/plain": [
       "\u001b[1m Non-trainable params: \u001b[0m\u001b[38;5;34m0\u001b[0m (0.00 B)\n"
      ]
     },
     "metadata": {},
     "output_type": "display_data"
    }
   ],
   "source": [
    "conv2_acti.summary()"
   ]
  },
  {
   "cell_type": "code",
   "execution_count": 35,
   "metadata": {},
   "outputs": [
    {
     "name": "stdout",
     "output_type": "stream",
     "text": [
      "\u001b[1m1/1\u001b[0m \u001b[32m━━━━━━━━━━━━━━━━━━━━\u001b[0m\u001b[37m\u001b[0m \u001b[1m0s\u001b[0m 49ms/step\n"
     ]
    }
   ],
   "source": [
    "feature_maps = conv2_acti.predict(inputs)"
   ]
  },
  {
   "cell_type": "code",
   "execution_count": 36,
   "metadata": {},
   "outputs": [
    {
     "name": "stdout",
     "output_type": "stream",
     "text": [
      "(1, 14, 14, 64)\n"
     ]
    }
   ],
   "source": [
    "print(feature_maps.shape)"
   ]
  },
  {
   "cell_type": "code",
   "execution_count": 37,
   "id": "ae322207",
   "metadata": {},
   "outputs": [
    {
     "data": {
      "image/png": "[encoded data removed]",
      "text/plain": [
       "<Figure size 1200x1200 with 64 Axes>"
      ]
     },
     "metadata": {},
     "output_type": "display_data"
    }
   ],
   "source": [
    "fig, axs = plt.subplots(8, 8, figsize= (12, 12))\n",
    "\n",
    "for i in range(8):\n",
    "    for j in range(8):\n",
    "        axs[i, j].imshow(feature_maps[0, :, :, i * 8 + j])\n",
    "        axs[i, j].axis(\"off\")\n",
    "plt.show()"
   ]
  },
  {
   "cell_type": "markdown",
   "id": "387182f1",
   "metadata": {},
   "source": [
    "- 특성맵을 시각적으로 이해하기 난해함\n",
    "  - 합성곱층을 많이 쌓을수록 심해짐\n",
    "  - 앞부분의 합성곱층은 이미지의 시각적인 정보를 감지하고\n",
    "  - 뒷부분의 합성곱층은 앞쪽에서 감지한 시작적인 정보를 바탕으로 추상적인 정보를 학습"
   ]
  },
  {
   "cell_type": "markdown",
   "id": "69e6525e",
   "metadata": {},
   "source": [
    "# 풀링 결과물 비교"
   ]
  },
  {
   "cell_type": "code",
   "execution_count": 38,
   "id": "3399f914",
   "metadata": {},
   "outputs": [],
   "source": [
    "pool_model = keras.Model(model.inputs[0], model.layers[1].output)"
   ]
  },
  {
   "cell_type": "code",
   "execution_count": 39,
   "id": "99ae254a",
   "metadata": {},
   "outputs": [
    {
     "data": {
      "text/html": [
       "<pre style=\"white-space:pre;overflow-x:auto;line-height:normal;font-family:Menlo,'DejaVu Sans Mono',consolas,'Courier New',monospace\"><span style=\"font-weight: bold\">Model: \"functional_12\"</span>\n",
       "</pre>\n"
      ],
      "text/plain": [
       "\u001b[1mModel: \"functional_12\"\u001b[0m\n"
      ]
     },
     "metadata": {},
     "output_type": "display_data"
    },
    {
     "data": {
      "text/html": [
       "<pre style=\"white-space:pre;overflow-x:auto;line-height:normal;font-family:Menlo,'DejaVu Sans Mono',consolas,'Courier New',monospace\">┏━━━━━━━━━━━━━━━━━━━━━━━━━━━━━━━━━┳━━━━━━━━━━━━━━━━━━━━━━━━┳━━━━━━━━━━━━━━━┓\n",
       "┃<span style=\"font-weight: bold\"> Layer (type)                    </span>┃<span style=\"font-weight: bold\"> Output Shape           </span>┃<span style=\"font-weight: bold\">       Param # </span>┃\n",
       "┡━━━━━━━━━━━━━━━━━━━━━━━━━━━━━━━━━╇━━━━━━━━━━━━━━━━━━━━━━━━╇━━━━━━━━━━━━━━━┩\n",
       "│ input_layer (<span style=\"color: #0087ff; text-decoration-color: #0087ff\">InputLayer</span>)        │ (<span style=\"color: #00d7ff; text-decoration-color: #00d7ff\">None</span>, <span style=\"color: #00af00; text-decoration-color: #00af00\">28</span>, <span style=\"color: #00af00; text-decoration-color: #00af00\">28</span>, <span style=\"color: #00af00; text-decoration-color: #00af00\">1</span>)      │             <span style=\"color: #00af00; text-decoration-color: #00af00\">0</span> │\n",
       "├─────────────────────────────────┼────────────────────────┼───────────────┤\n",
       "│ conv2d (<span style=\"color: #0087ff; text-decoration-color: #0087ff\">Conv2D</span>)                 │ (<span style=\"color: #00d7ff; text-decoration-color: #00d7ff\">None</span>, <span style=\"color: #00af00; text-decoration-color: #00af00\">28</span>, <span style=\"color: #00af00; text-decoration-color: #00af00\">28</span>, <span style=\"color: #00af00; text-decoration-color: #00af00\">32</span>)     │           <span style=\"color: #00af00; text-decoration-color: #00af00\">320</span> │\n",
       "├─────────────────────────────────┼────────────────────────┼───────────────┤\n",
       "│ max_pooling2d (<span style=\"color: #0087ff; text-decoration-color: #0087ff\">MaxPooling2D</span>)    │ (<span style=\"color: #00d7ff; text-decoration-color: #00d7ff\">None</span>, <span style=\"color: #00af00; text-decoration-color: #00af00\">14</span>, <span style=\"color: #00af00; text-decoration-color: #00af00\">14</span>, <span style=\"color: #00af00; text-decoration-color: #00af00\">32</span>)     │             <span style=\"color: #00af00; text-decoration-color: #00af00\">0</span> │\n",
       "└─────────────────────────────────┴────────────────────────┴───────────────┘\n",
       "</pre>\n"
      ],
      "text/plain": [
       "┏━━━━━━━━━━━━━━━━━━━━━━━━━━━━━━━━━┳━━━━━━━━━━━━━━━━━━━━━━━━┳━━━━━━━━━━━━━━━┓\n",
       "┃\u001b[1m \u001b[0m\u001b[1mLayer (type)                   \u001b[0m\u001b[1m \u001b[0m┃\u001b[1m \u001b[0m\u001b[1mOutput Shape          \u001b[0m\u001b[1m \u001b[0m┃\u001b[1m \u001b[0m\u001b[1m      Param #\u001b[0m\u001b[1m \u001b[0m┃\n",
       "┡━━━━━━━━━━━━━━━━━━━━━━━━━━━━━━━━━╇━━━━━━━━━━━━━━━━━━━━━━━━╇━━━━━━━━━━━━━━━┩\n",
       "│ input_layer (\u001b[38;5;33mInputLayer\u001b[0m)        │ (\u001b[38;5;45mNone\u001b[0m, \u001b[38;5;34m28\u001b[0m, \u001b[38;5;34m28\u001b[0m, \u001b[38;5;34m1\u001b[0m)      │             \u001b[38;5;34m0\u001b[0m │\n",
       "├─────────────────────────────────┼────────────────────────┼───────────────┤\n",
       "│ conv2d (\u001b[38;5;33mConv2D\u001b[0m)                 │ (\u001b[38;5;45mNone\u001b[0m, \u001b[38;5;34m28\u001b[0m, \u001b[38;5;34m28\u001b[0m, \u001b[38;5;34m32\u001b[0m)     │           \u001b[38;5;34m320\u001b[0m │\n",
       "├─────────────────────────────────┼────────────────────────┼───────────────┤\n",
       "│ max_pooling2d (\u001b[38;5;33mMaxPooling2D\u001b[0m)    │ (\u001b[38;5;45mNone\u001b[0m, \u001b[38;5;34m14\u001b[0m, \u001b[38;5;34m14\u001b[0m, \u001b[38;5;34m32\u001b[0m)     │             \u001b[38;5;34m0\u001b[0m │\n",
       "└─────────────────────────────────┴────────────────────────┴───────────────┘\n"
      ]
     },
     "metadata": {},
     "output_type": "display_data"
    },
    {
     "data": {
      "text/html": [
       "<pre style=\"white-space:pre;overflow-x:auto;line-height:normal;font-family:Menlo,'DejaVu Sans Mono',consolas,'Courier New',monospace\"><span style=\"font-weight: bold\"> Total params: </span><span style=\"color: #00af00; text-decoration-color: #00af00\">320</span> (1.25 KB)\n",
       "</pre>\n"
      ],
      "text/plain": [
       "\u001b[1m Total params: \u001b[0m\u001b[38;5;34m320\u001b[0m (1.25 KB)\n"
      ]
     },
     "metadata": {},
     "output_type": "display_data"
    },
    {
     "data": {
      "text/html": [
       "<pre style=\"white-space:pre;overflow-x:auto;line-height:normal;font-family:Menlo,'DejaVu Sans Mono',consolas,'Courier New',monospace\"><span style=\"font-weight: bold\"> Trainable params: </span><span style=\"color: #00af00; text-decoration-color: #00af00\">320</span> (1.25 KB)\n",
       "</pre>\n"
      ],
      "text/plain": [
       "\u001b[1m Trainable params: \u001b[0m\u001b[38;5;34m320\u001b[0m (1.25 KB)\n"
      ]
     },
     "metadata": {},
     "output_type": "display_data"
    },
    {
     "data": {
      "text/html": [
       "<pre style=\"white-space:pre;overflow-x:auto;line-height:normal;font-family:Menlo,'DejaVu Sans Mono',consolas,'Courier New',monospace\"><span style=\"font-weight: bold\"> Non-trainable params: </span><span style=\"color: #00af00; text-decoration-color: #00af00\">0</span> (0.00 B)\n",
       "</pre>\n"
      ],
      "text/plain": [
       "\u001b[1m Non-trainable params: \u001b[0m\u001b[38;5;34m0\u001b[0m (0.00 B)\n"
      ]
     },
     "metadata": {},
     "output_type": "display_data"
    }
   ],
   "source": [
    "pool_model.summary()"
   ]
  },
  {
   "cell_type": "code",
   "execution_count": 41,
   "id": "83c5faf7",
   "metadata": {},
   "outputs": [
    {
     "name": "stdout",
     "output_type": "stream",
     "text": [
      "\u001b[1m1/1\u001b[0m \u001b[32m━━━━━━━━━━━━━━━━━━━━\u001b[0m\u001b[37m\u001b[0m \u001b[1m0s\u001b[0m 43ms/step\n"
     ]
    }
   ],
   "source": [
    "pool_feature_maps = pool_model.predict(inputs)"
   ]
  },
  {
   "cell_type": "code",
   "execution_count": 42,
   "id": "80df535f",
   "metadata": {},
   "outputs": [
    {
     "name": "stdout",
     "output_type": "stream",
     "text": [
      "(1, 14, 14, 32)\n"
     ]
    }
   ],
   "source": [
    "print(pool_feature_maps.shape)"
   ]
  },
  {
   "cell_type": "code",
   "execution_count": 43,
   "id": "ea812ee5",
   "metadata": {},
   "outputs": [
    {
     "data": {
      "image/png": "[encoded data removed]",
      "text/plain": [
       "<Figure size 1500x800 with 32 Axes>"
      ]
     },
     "metadata": {},
     "output_type": "display_data"
    }
   ],
   "source": [
    "fig, axs = plt.subplots(4, 8, figsize= (15, 8))\n",
    "\n",
    "for i in range(4):\n",
    "    for j in range(8):\n",
    "        axs[i, j].imshow(pool_feature_maps[0, :, :, i * 8 + j])\n",
    "        axs[i, j].axis(\"off\")\n",
    "plt.show()"
   ]
  }
 ],
 "metadata": {
  "kernelspec": {
   "display_name": "base",
   "language": "python",
   "name": "python3"
  },
  "language_info": {
   "codemirror_mode": {
    "name": "ipython",
    "version": 3
   },
   "file_extension": ".py",
   "mimetype": "text/x-python",
   "name": "python",
   "nbconvert_exporter": "python",
   "pygments_lexer": "ipython3",
   "version": "3.12.7"
  }
 },
 "nbformat": 4,
 "nbformat_minor": 5
}
