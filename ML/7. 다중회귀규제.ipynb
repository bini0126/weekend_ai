{
 "cells": [
  {
   "attachments": {},
   "cell_type": "markdown",
   "metadata": {},
   "source": [
    "# 특수 공학(feature engineering)\n",
    "\n",
    "- 기존의 특성을 사용해 새로운 특성을 만들어내는 직업\n",
    "\n",
    "- 특성 공학 기법\n",
    "    - 차원 축소(Dimension Reduction)\n",
    "        - 특성 선정(Feature Selection)\n",
    "            - 특성 랭킹 또는 특성 중요도에 따라 선정\n",
    "            - 분석가의 사전 배경 지식을 이용하거나, 랜덤 선정 및 측정을 반복하는 방법\n",
    "\n",
    "        - 특성 추출(Feature Extraction)\n",
    "            - 특성들의 조하으로 새로운 특성을 생성\n",
    "\n",
    "    - 스케일링(Scaling)\n",
    "        - 변수의 분포가 편향되어 있을 경우, 변수 간의 관계가 잘 드러나지 않는 경우 범위 변환\n",
    "\n",
    "    - 변형(Transform)\n",
    "        - 기존에 존재하는 변수의 성질을 이용해 다른 변수를 생성하는 방법\n",
    "            - 예) 날짜별 데이터에 주말 여부 추가\n",
    "\n",
    "    - 비닝(Binning)\n",
    "        - 연속형 변수를 범주형 변수로 변환\n",
    "            - 예) 33세, 47세 -> 30대, 40대\n",
    "\n",
    "    - 더미(Dummy)\n",
    "        - 범주형 변수를 연속형 변수로 변환\n",
    "        - 기존 특성이나 특성의 조합을 규칙에 따라 수치화하여 추가"
   ]
  },
  {
   "cell_type": "code",
   "execution_count": 1,
   "metadata": {},
   "outputs": [],
   "source": [
    "import pandas as pd \n",
    "import numpy as np \n",
    "import matplotlib.pyplot as plt \n",
    "from sklearn.model_selection import train_test_split\n",
    "from sklearn.preprocessing import PolynomialFeatures, StandardScaler\n",
    "from sklearn.linear_model import LinearRegression, Ridge, Lasso"
   ]
  },
  {
   "attachments": {},
   "cell_type": "markdown",
   "metadata": {},
   "source": [
    "# 데이터 준비"
   ]
  },
  {
   "cell_type": "code",
   "execution_count": 2,
   "metadata": {},
   "outputs": [],
   "source": [
    "df = pd.read_csv(\"./data/Fish.csv\")"
   ]
  },
  {
   "cell_type": "code",
   "execution_count": 3,
   "metadata": {},
   "outputs": [],
   "source": [
    "df = df.loc[df[\"Species\"] == \"Perch\", [\"Weight\", \"Length2\", \"Height\", \"Width\"]]"
   ]
  },
  {
   "cell_type": "code",
   "execution_count": 4,
   "metadata": {},
   "outputs": [
    {
     "data": {
      "text/html": [
       "<div>\n",
       "<style scoped>\n",
       "    .dataframe tbody tr th:only-of-type {\n",
       "        vertical-align: middle;\n",
       "    }\n",
       "\n",
       "    .dataframe tbody tr th {\n",
       "        vertical-align: top;\n",
       "    }\n",
       "\n",
       "    .dataframe thead th {\n",
       "        text-align: right;\n",
       "    }\n",
       "</style>\n",
       "<table border=\"1\" class=\"dataframe\">\n",
       "  <thead>\n",
       "    <tr style=\"text-align: right;\">\n",
       "      <th></th>\n",
       "      <th>Weight</th>\n",
       "      <th>Length2</th>\n",
       "      <th>Height</th>\n",
       "      <th>Width</th>\n",
       "    </tr>\n",
       "  </thead>\n",
       "  <tbody>\n",
       "    <tr>\n",
       "      <th>72</th>\n",
       "      <td>5.9</td>\n",
       "      <td>8.4</td>\n",
       "      <td>2.1120</td>\n",
       "      <td>1.4080</td>\n",
       "    </tr>\n",
       "    <tr>\n",
       "      <th>73</th>\n",
       "      <td>32.0</td>\n",
       "      <td>13.7</td>\n",
       "      <td>3.5280</td>\n",
       "      <td>1.9992</td>\n",
       "    </tr>\n",
       "    <tr>\n",
       "      <th>74</th>\n",
       "      <td>40.0</td>\n",
       "      <td>15.0</td>\n",
       "      <td>3.8240</td>\n",
       "      <td>2.4320</td>\n",
       "    </tr>\n",
       "    <tr>\n",
       "      <th>75</th>\n",
       "      <td>51.5</td>\n",
       "      <td>16.2</td>\n",
       "      <td>4.5924</td>\n",
       "      <td>2.6316</td>\n",
       "    </tr>\n",
       "    <tr>\n",
       "      <th>76</th>\n",
       "      <td>70.0</td>\n",
       "      <td>17.4</td>\n",
       "      <td>4.5880</td>\n",
       "      <td>2.9415</td>\n",
       "    </tr>\n",
       "  </tbody>\n",
       "</table>\n",
       "</div>"
      ],
      "text/plain": [
       "    Weight  Length2  Height   Width\n",
       "72     5.9      8.4  2.1120  1.4080\n",
       "73    32.0     13.7  3.5280  1.9992\n",
       "74    40.0     15.0  3.8240  2.4320\n",
       "75    51.5     16.2  4.5924  2.6316\n",
       "76    70.0     17.4  4.5880  2.9415"
      ]
     },
     "execution_count": 4,
     "metadata": {},
     "output_type": "execute_result"
    }
   ],
   "source": [
    "df.head()"
   ]
  },
  {
   "cell_type": "code",
   "execution_count": 5,
   "metadata": {},
   "outputs": [
    {
     "data": {
      "text/plain": [
       "(56, 4)"
      ]
     },
     "execution_count": 5,
     "metadata": {},
     "output_type": "execute_result"
    }
   ],
   "source": [
    "df.shape"
   ]
  },
  {
   "cell_type": "code",
   "execution_count": 6,
   "metadata": {},
   "outputs": [],
   "source": [
    "x = df.drop(\"Weight\", axis=1)\n",
    "y = df[\"Weight\"]"
   ]
  },
  {
   "cell_type": "code",
   "execution_count": 7,
   "metadata": {},
   "outputs": [],
   "source": [
    "x_train, x_test, y_train, y_test = train_test_split(x, y, test_size=0.25, random_state=22)"
   ]
  },
  {
   "cell_type": "code",
   "execution_count": 8,
   "metadata": {},
   "outputs": [
    {
     "data": {
      "text/plain": [
       "((42, 3), (14, 3))"
      ]
     },
     "execution_count": 8,
     "metadata": {},
     "output_type": "execute_result"
    }
   ],
   "source": [
    "x_train.shape, x_test.shape"
   ]
  },
  {
   "cell_type": "code",
   "execution_count": 9,
   "metadata": {},
   "outputs": [],
   "source": [
    "# PoltnomialFeature 사용 예시\n",
    "pf = PolynomialFeatures()"
   ]
  },
  {
   "cell_type": "code",
   "execution_count": 10,
   "metadata": {},
   "outputs": [
    {
     "data": {
      "text/plain": [
       "array([[1., 2., 3., 4., 6., 9.]])"
      ]
     },
     "execution_count": 10,
     "metadata": {},
     "output_type": "execute_result"
    }
   ],
   "source": [
    "pf.fit_transform([[2, 3]])"
   ]
  },
  {
   "cell_type": "code",
   "execution_count": 11,
   "metadata": {},
   "outputs": [
    {
     "data": {
      "text/plain": [
       "array(['1', 'x0', 'x1', 'x0^2', 'x0 x1', 'x1^2'], dtype=object)"
      ]
     },
     "execution_count": 11,
     "metadata": {},
     "output_type": "execute_result"
    }
   ],
   "source": [
    "# 특성이 어떻게 만들어졌는지 확인\n",
    "pf.get_feature_names_out()"
   ]
  },
  {
   "attachments": {},
   "cell_type": "markdown",
   "metadata": {},
   "source": [
    "- include_bias : 절편을 추가해주는 파라미터\n",
    "    - 사이킷런이 선형 회귀모델은 자동으로 절편을 추가해주기 때문에 궅이 절편을 추가할 필요가 없음"
   ]
  },
  {
   "cell_type": "code",
   "execution_count": 12,
   "metadata": {},
   "outputs": [
    {
     "data": {
      "text/plain": [
       "array([[2., 3., 4., 6., 9.]])"
      ]
     },
     "execution_count": 12,
     "metadata": {},
     "output_type": "execute_result"
    }
   ],
   "source": [
    "pf = PolynomialFeatures(include_bias= False)\n",
    "pf.fit_transform([[2, 3]])"
   ]
  },
  {
   "cell_type": "code",
   "execution_count": 13,
   "metadata": {},
   "outputs": [],
   "source": [
    "# 실전 적용\n",
    "pf = PolynomialFeatures(include_bias= False)\n",
    "poly_train = pf.fit_transform(x_train)\n",
    "poly_test = pf.fit_transform(x_test)"
   ]
  },
  {
   "attachments": {},
   "cell_type": "markdown",
   "metadata": {},
   "source": [
    "- PolynomialFeature는 별도의 통계값을 저장하지 않기 때문에 테스트 세트를 함꼐 변환해도 차이가 없지만 항상 훈련 데이터를 기준으로 학습하고 테스트 데이터를 변환하는 습관을 들이는 것이 중요"
   ]
  },
  {
   "cell_type": "code",
   "execution_count": 14,
   "metadata": {},
   "outputs": [
    {
     "data": {
      "text/plain": [
       "(42, 3)"
      ]
     },
     "execution_count": 14,
     "metadata": {},
     "output_type": "execute_result"
    }
   ],
   "source": [
    "x_train.shape"
   ]
  },
  {
   "cell_type": "code",
   "execution_count": 16,
   "metadata": {},
   "outputs": [
    {
     "data": {
      "text/plain": [
       "(42, 9)"
      ]
     },
     "execution_count": 16,
     "metadata": {},
     "output_type": "execute_result"
    }
   ],
   "source": [
    "poly_train.shape"
   ]
  },
  {
   "attachments": {},
   "cell_type": "markdown",
   "metadata": {},
   "source": [
    "# 모델 훈련"
   ]
  },
  {
   "cell_type": "code",
   "execution_count": 17,
   "metadata": {},
   "outputs": [
    {
     "name": "stdout",
     "output_type": "stream",
     "text": [
      "0.9454724564115526\n",
      "0.9208799038058146\n"
     ]
    }
   ],
   "source": [
    "# 특성공학 전 데이터로 학습한 모델 \n",
    "lr_org = LinearRegression()\n",
    "lr_org.fit(x_train, y_train)\n",
    "\n",
    "print(lr_org.score(x_train, y_train))\n",
    "print(lr_org.score(x_test, y_test))"
   ]
  },
  {
   "cell_type": "code",
   "execution_count": 18,
   "metadata": {},
   "outputs": [
    {
     "name": "stdout",
     "output_type": "stream",
     "text": [
      "0.9944643867180906\n",
      "0.9648499259560441\n"
     ]
    }
   ],
   "source": [
    "# 특성 공학 데이터로 학습한 모델 \n",
    "lr_poly = LinearRegression()\n",
    "lr_poly.fit(poly_train, y_train)\n",
    "\n",
    "print(lr_poly.score(poly_train, y_train))\n",
    "print(lr_poly.score(poly_test, y_test))"
   ]
  },
  {
   "attachments": {},
   "cell_type": "markdown",
   "metadata": {},
   "source": [
    "# 모델 최적화\n",
    "\n",
    "- 특성을 더 추가\n",
    "    - degree 매개 변수 : 고차항의 최대 차수를 지정"
   ]
  },
  {
   "cell_type": "code",
   "execution_count": 19,
   "metadata": {},
   "outputs": [],
   "source": [
    "pf = PolynomialFeatures(degree=5, include_bias=False)\n",
    "poly_train5 = pf.fit_transform(x_train)\n",
    "poly_test5 = pf.transform(x_test)"
   ]
  },
  {
   "cell_type": "code",
   "execution_count": 20,
   "metadata": {},
   "outputs": [
    {
     "data": {
      "text/plain": [
       "(42, 55)"
      ]
     },
     "execution_count": 20,
     "metadata": {},
     "output_type": "execute_result"
    }
   ],
   "source": [
    "poly_train5.shape"
   ]
  },
  {
   "cell_type": "code",
   "execution_count": 21,
   "metadata": {},
   "outputs": [
    {
     "name": "stdout",
     "output_type": "stream",
     "text": [
      "0.9999999999999974\n",
      "-688.6329598696226\n"
     ]
    }
   ],
   "source": [
    "lr_poly5 = LinearRegression()\n",
    "lr_poly5.fit(poly_train5, y_train)\n",
    "\n",
    "print(lr_poly5.score(poly_train5, y_train))\n",
    "print(lr_poly5.score(poly_test5, y_test))"
   ]
  },
  {
   "attachments": {},
   "cell_type": "markdown",
   "metadata": {},
   "source": [
    "- 훈련 데이터에 대해서는 완벽하게 학습했음\n",
    "\n",
    "- 테스트 데이터에 대해서는 분산보다 오차가 큼\n",
    "    - 데이터의 평균으로 찍는 것 보다 성능이 떨어짐\n",
    "    - 과대적합이 일어났음"
   ]
  },
  {
   "attachments": {},
   "cell_type": "markdown",
   "metadata": {},
   "source": [
    "# 규제(Regularization)\n",
    "\n",
    "- 머신러닝 모델이 훈련세트를 과도하게 학습하지 못하도록 방지하는 것\n",
    "    - 선형 회귀 모델의 경우에는 특성의 기울기 크기를 제한\n",
    "\n",
    "- 선형 회귀 모델에 규제를 가하는 방법에 따라 릿지(ridge) 모델과 라쏘(lasso) 모델로 나뉨\n",
    "\n",
    "- 릿지 모델\n",
    "    - 계수를 제곱한 값을 제한\n",
    "    - l2 규제\n",
    "\n",
    "- 라쏘 모델\n",
    "    - 계수의 절대값을 제한\n",
    "    - l1 규제\n"
   ]
  },
  {
   "cell_type": "code",
   "execution_count": 22,
   "metadata": {},
   "outputs": [],
   "source": [
    "# 일반적으로 선형 회귀 모델에 규제를 적용할 때 \n",
    "\n",
    "ss = StandardScaler()\n",
    "scaled_train = ss.fit_transform(poly_train5)\n",
    "scaled_test = ss.transform(poly_test5)"
   ]
  },
  {
   "attachments": {},
   "cell_type": "markdown",
   "metadata": {},
   "source": [
    "# 릿지 회귀"
   ]
  },
  {
   "cell_type": "code",
   "execution_count": 23,
   "metadata": {},
   "outputs": [
    {
     "name": "stdout",
     "output_type": "stream",
     "text": [
      "0.9934237513875885\n",
      "0.9654956703081794\n"
     ]
    }
   ],
   "source": [
    "rid = Ridge()\n",
    "rid.fit(scaled_train, y_train)\n",
    "\n",
    "print(rid.score(scaled_train, y_train))\n",
    "print(rid.score(scaled_test, y_test))"
   ]
  },
  {
   "attachments": {},
   "cell_type": "markdown",
   "metadata": {},
   "source": [
    "## 초매개 변수(Hyperparameter)\n",
    "\n",
    "- 머신러닝 모델이 학습할 수 없고 사람이 설정해야하는 파라미터\n",
    "\n",
    "- 사이킷런 모델에서 하이파라미터는 클래스의 매개변수로 표현됨"
   ]
  },
  {
   "attachments": {},
   "cell_type": "markdown",
   "metadata": {},
   "source": [
    "## 릿지 모델 하이퍼파라미터 튜닝\n",
    "\n",
    "- alpha : 규제의 강도\n",
    "    - alpha 값이 크면\n",
    "        - 규제의 강도가 세짐\n",
    "        - 계수의 값의 줄이고 과소 적합을 유도\n",
    "\n",
    "    - alpha 값이 작으면\n",
    "        - 규제의 강도가 약해짐\n",
    "        - 계수의 값을 덜 줄이고 과대적합 가능성이 커짐"
   ]
  },
  {
   "cell_type": "code",
   "execution_count": 27,
   "metadata": {},
   "outputs": [],
   "source": [
    "train_hist = []\n",
    "test_hist = []\n",
    "\n",
    "alpha_li = [0.001, 0.01, 0.1, 1, 10, 100, 1000]\n",
    "\n",
    "for alpha in alpha_li:\n",
    "    # 모델 생성\n",
    "    rid = Ridge(alpha=alpha)\n",
    "    # 훈련\n",
    "    rid.fit(scaled_train, y_train)\n",
    "    # 모델 성능을 저장\n",
    "    train_hist.append(rid.score(scaled_train, y_train))\n",
    "    test_hist.append(rid.score(scaled_test, y_test))"
   ]
  },
  {
   "cell_type": "code",
   "execution_count": 28,
   "metadata": {},
   "outputs": [
    {
     "data": {
      "image/png": "[encoded data removed]",
      "text/plain": [
       "<Figure size 640x480 with 1 Axes>"
      ]
     },
     "metadata": {},
     "output_type": "display_data"
    }
   ],
   "source": [
    "plt.figure()\n",
    "\n",
    "plt.plot(np.log10(alpha_li), train_hist)\n",
    "plt.plot(np.log10(alpha_li), test_hist)\n",
    "\n",
    "plt.xlabel(\"alpha\")\n",
    "plt.ylabel(\"R2\")\n",
    "\n",
    "plt.legend(labels = [\"train\", \"test\"])\n",
    "plt.show()\n"
   ]
  },
  {
   "cell_type": "code",
   "execution_count": 29,
   "metadata": {},
   "outputs": [
    {
     "data": {
      "text/plain": [
       "[0.9540492846315748,\n",
       " 0.9601611382778064,\n",
       " 0.9656316065267856,\n",
       " 0.9654956703081794,\n",
       " 0.9629405642506067,\n",
       " 0.9620281275090432,\n",
       " 0.9276302327042134]"
      ]
     },
     "execution_count": 29,
     "metadata": {},
     "output_type": "execute_result"
    }
   ],
   "source": [
    "test_hist"
   ]
  },
  {
   "attachments": {},
   "cell_type": "markdown",
   "metadata": {},
   "source": [
    "- alpha가 작을 때는 훈련데이터만 잘 맞고 테스트 데이터에는 못 맞힘\n",
    "    - 과대적합이 일어났음\n",
    "\n",
    "- alpha가 커질수록 훈련데이터 점수가 낮아짐\n",
    "    - 과소적합으로 유도되고 있음\n",
    "\n",
    "- 테스트데이터에 가장 점수가 높은 alpja 값은 0.1임"
   ]
  },
  {
   "cell_type": "code",
   "execution_count": 30,
   "metadata": {},
   "outputs": [
    {
     "name": "stdout",
     "output_type": "stream",
     "text": [
      "0.9946757215240687\n",
      "0.9656316065267856\n"
     ]
    }
   ],
   "source": [
    "rid = Ridge(alpha=0.1)\n",
    "rid.fit(scaled_train, y_train)\n",
    "\n",
    "print(rid.score(scaled_train, y_train))\n",
    "print(rid.score(scaled_test, y_test))"
   ]
  },
  {
   "attachments": {},
   "cell_type": "markdown",
   "metadata": {},
   "source": [
    "# 라쏘 회귀"
   ]
  },
  {
   "cell_type": "code",
   "execution_count": 31,
   "metadata": {},
   "outputs": [
    {
     "name": "stdout",
     "output_type": "stream",
     "text": [
      "0.9934412075511904\n",
      "0.9664778176135478\n"
     ]
    }
   ],
   "source": [
    "las = Lasso()\n",
    "las.fit(scaled_train, y_train)\n",
    "\n",
    "print(las.score(scaled_train, y_train))\n",
    "print(las.score(scaled_test, y_test))"
   ]
  },
  {
   "attachments": {},
   "cell_type": "markdown",
   "metadata": {},
   "source": [
    "## 라쏘 모델 하이퍼파라미터 튜닝"
   ]
  },
  {
   "cell_type": "code",
   "execution_count": 36,
   "metadata": {},
   "outputs": [
    {
     "name": "stderr",
     "output_type": "stream",
     "text": [
      "c:\\Python38\\lib\\site-packages\\sklearn\\linear_model\\_coordinate_descent.py:628: ConvergenceWarning: Objective did not converge. You might want to increase the number of iterations, check the scale of the features or consider increasing regularisation. Duality gap: 1.090e+04, tolerance: 4.886e+02\n",
      "  model = cd_fast.enet_coordinate_descent(\n",
      "c:\\Python38\\lib\\site-packages\\sklearn\\linear_model\\_coordinate_descent.py:628: ConvergenceWarning: Objective did not converge. You might want to increase the number of iterations, check the scale of the features or consider increasing regularisation. Duality gap: 9.511e+03, tolerance: 4.886e+02\n",
      "  model = cd_fast.enet_coordinate_descent(\n",
      "c:\\Python38\\lib\\site-packages\\sklearn\\linear_model\\_coordinate_descent.py:628: ConvergenceWarning: Objective did not converge. You might want to increase the number of iterations, check the scale of the features or consider increasing regularisation. Duality gap: 1.038e+03, tolerance: 4.886e+02\n",
      "  model = cd_fast.enet_coordinate_descent(\n",
      "c:\\Python38\\lib\\site-packages\\sklearn\\linear_model\\_coordinate_descent.py:628: ConvergenceWarning: Objective did not converge. You might want to increase the number of iterations, check the scale of the features or consider increasing regularisation. Duality gap: 5.253e+02, tolerance: 4.886e+02\n",
      "  model = cd_fast.enet_coordinate_descent(\n"
     ]
    }
   ],
   "source": [
    "train_hist = []\n",
    "test_hist = []\n",
    "\n",
    "alpha_li = [0.001, 0.01, 0.1, 1, 10, 100]\n",
    "\n",
    "for alpha in alpha_li:\n",
    "    # 모델 생성\n",
    "    las = Lasso(alpha=alpha)\n",
    "    # 훈련\n",
    "    las.fit(scaled_train, y_train)\n",
    "    # 모델 성능을 저장\n",
    "    train_hist.append(las.score(scaled_train, y_train))\n",
    "    test_hist.append(las.score(scaled_test, y_test))"
   ]
  },
  {
   "cell_type": "code",
   "execution_count": 37,
   "metadata": {},
   "outputs": [
    {
     "data": {
      "image/png": "[encoded data removed]",
      "text/plain": [
       "<Figure size 640x480 with 1 Axes>"
      ]
     },
     "metadata": {},
     "output_type": "display_data"
    }
   ],
   "source": [
    "plt.figure()\n",
    "\n",
    "plt.plot(np.log10(alpha_li), train_hist)\n",
    "plt.plot(np.log10(alpha_li), test_hist)\n",
    "\n",
    "plt.xlabel(\"alpha\")\n",
    "plt.ylabel(\"R2\")\n",
    "\n",
    "plt.legend(labels = [\"train\", \"test\"])\n",
    "plt.show()\n"
   ]
  },
  {
   "cell_type": "code",
   "execution_count": 38,
   "metadata": {},
   "outputs": [
    {
     "data": {
      "text/plain": [
       "[0.9634927041660588,\n",
       " 0.9631523533743765,\n",
       " 0.9618530402125183,\n",
       " 0.9664778176135478,\n",
       " 0.9724903570325631,\n",
       " 0.9359497347924923]"
      ]
     },
     "execution_count": 38,
     "metadata": {},
     "output_type": "execute_result"
    }
   ],
   "source": [
    "test_hist"
   ]
  },
  {
   "cell_type": "code",
   "execution_count": 39,
   "metadata": {},
   "outputs": [
    {
     "name": "stdout",
     "output_type": "stream",
     "text": [
      "0.9923890431208621\n",
      "0.9724903570325631\n"
     ]
    },
    {
     "name": "stderr",
     "output_type": "stream",
     "text": [
      "c:\\Python38\\lib\\site-packages\\sklearn\\linear_model\\_coordinate_descent.py:628: ConvergenceWarning: Objective did not converge. You might want to increase the number of iterations, check the scale of the features or consider increasing regularisation. Duality gap: 5.253e+02, tolerance: 4.886e+02\n",
      "  model = cd_fast.enet_coordinate_descent(\n"
     ]
    }
   ],
   "source": [
    "# 모델 성능이 가장 높은 지점 확인\n",
    "las = Lasso(alpha=10)\n",
    "las.fit(scaled_train, y_train)\n",
    "\n",
    "print(las.score(scaled_train, y_train))\n",
    "print(las.score(scaled_test, y_test))"
   ]
  },
  {
   "cell_type": "code",
   "execution_count": 40,
   "metadata": {},
   "outputs": [
    {
     "data": {
      "text/plain": [
       "array([ 0.        ,  0.        ,  0.        ,  0.        , 11.28725406,\n",
       "       62.79596829,  0.        , 17.09439312, 13.06948984,  0.        ,\n",
       "        0.        ,  7.64939809, 82.31451384,  4.13696115, 17.58933302,\n",
       "       70.40480973,  0.        ,  0.        ,  0.        ,  0.        ,\n",
       "        0.        ,  0.        ,  0.        ,  0.        ,  0.        ,\n",
       "        0.        ,  0.        ,  0.        ,  0.        , 45.47953764,\n",
       "        0.        ,  0.        ,  0.        ,  0.        ,  0.        ,\n",
       "        0.        ,  0.        ,  0.        ,  0.        ,  0.        ,\n",
       "        0.        ,  0.        ,  0.        ,  0.        ,  0.        ,\n",
       "        0.        ,  0.        ,  0.        ,  0.        ,  0.        ,\n",
       "        0.        ,  0.        ,  0.        ,  0.        ,  0.        ])"
      ]
     },
     "execution_count": 40,
     "metadata": {},
     "output_type": "execute_result"
    }
   ],
   "source": [
    "las.coef_"
   ]
  },
  {
   "cell_type": "code",
   "execution_count": 42,
   "metadata": {},
   "outputs": [
    {
     "data": {
      "text/plain": [
       "array([  7.15191557, -17.04109713, -19.61014829,  44.10921073,\n",
       "        24.07589208,  21.23515039,   8.1101644 ,  -8.12424665,\n",
       "         5.14893811,  42.98724874,  33.95521256,  29.21137002,\n",
       "        27.51582039,  11.2356649 ,  22.38043992,  23.10940751,\n",
       "        -4.48350124,  -4.69062498,  20.89272314,  12.98018532,\n",
       "        17.31806844,   8.17177246,  23.26049512,   3.87739252,\n",
       "        11.07463224,  30.33860205,   0.82303301,  -2.41336904,\n",
       "        20.0930958 ,  38.11088514,  -1.35448304, -14.92300511,\n",
       "        -2.97989767,  32.86907698, -38.35220535, -20.26099014,\n",
       "       -35.85431637,  -1.22469647, -25.99045982, -24.67286906,\n",
       "        18.34446768, -15.52808651, -23.76704937,  -6.18374269,\n",
       "        38.0459571 ,  -4.81852951, -22.58532445, -14.91821931,\n",
       "        17.41578945,  57.48993408,   5.79824368, -21.39289081,\n",
       "       -23.60366948,  -1.51887965,  43.09173034])"
      ]
     },
     "execution_count": 42,
     "metadata": {},
     "output_type": "execute_result"
    }
   ],
   "source": [
    "rid.coef_"
   ]
  },
  {
   "cell_type": "code",
   "execution_count": 43,
   "metadata": {},
   "outputs": [
    {
     "name": "stdout",
     "output_type": "stream",
     "text": [
      "45\n"
     ]
    }
   ],
   "source": [
    "print(np.sum(las.coef_==0))"
   ]
  },
  {
   "attachments": {},
   "cell_type": "markdown",
   "metadata": {},
   "source": [
    "- 라쏘 모델은 기울기를 아예 0으로 만드는 경우가 있음\n",
    "\n",
    "- 현재는 45개의 독립변수의 기울기를 0으로 만들어 사용하지 않음\n",
    "    - 이런 특징을 이용해 유용한 특성을 선택하는 용도로는 사용할 수 있음"
   ]
  },
  {
   "attachments": {},
   "cell_type": "markdown",
   "metadata": {},
   "source": []
  }
 ],
 "metadata": {
  "kernelspec": {
   "display_name": "Python 3",
   "language": "python",
   "name": "python3"
  },
  "language_info": {
   "codemirror_mode": {
    "name": "ipython",
    "version": 3
   },
   "file_extension": ".py",
   "mimetype": "text/x-python",
   "name": "python",
   "nbconvert_exporter": "python",
   "pygments_lexer": "ipython3",
   "version": "3.8.1"
  },
  "orig_nbformat": 4
 },
 "nbformat": 4,
 "nbformat_minor": 2
}
