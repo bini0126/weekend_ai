{
 "cells": [
  {
   "cell_type": "code",
   "execution_count": 28,
   "id": "004df144-4285-41ff-a658-18a899600890",
   "metadata": {},
   "outputs": [],
   "source": [
    "import requests\n",
    "from bs4 import BeautifulSoup"
   ]
  },
  {
   "cell_type": "code",
   "execution_count": 2,
   "id": "9f8b2fd5-6841-4b36-9937-b719cf6dd4d3",
   "metadata": {},
   "outputs": [],
   "source": [
    "# json 응답 예시\n",
    "url = \"\thttp://kobis.or.kr/kobisopenapi/webservice/rest/boxoffice/searchDailyBoxOfficeList.json?key=82ca741a2844c5c180a208137bb92bd7&targetDt=20120101\""
   ]
  },
  {
   "cell_type": "code",
   "execution_count": 3,
   "id": "a769ed4f-c11b-40ba-bda1-c926607d0282",
   "metadata": {},
   "outputs": [],
   "source": [
    "res = requests.get(url)"
   ]
  },
  {
   "cell_type": "code",
   "execution_count": 4,
   "id": "ffd724a8-1f9e-43ef-a3d4-0d7097bd4599",
   "metadata": {},
   "outputs": [
    {
     "data": {
      "text/plain": [
       "<Response [200]>"
      ]
     },
     "execution_count": 4,
     "metadata": {},
     "output_type": "execute_result"
    }
   ],
   "source": [
    "res"
   ]
  },
  {
   "cell_type": "code",
   "execution_count": 5,
   "id": "02314351-9de7-4f84-8cd0-a1b59e928e96",
   "metadata": {},
   "outputs": [
    {
     "data": {
      "text/plain": [
       "{'faultInfo': {'message': '유효하지않은 키값입니다.', 'errorCode': '320010'}}"
      ]
     },
     "execution_count": 5,
     "metadata": {},
     "output_type": "execute_result"
    }
   ],
   "source": [
    "res.json()"
   ]
  },
  {
   "cell_type": "code",
   "execution_count": 6,
   "id": "1775b103-4cdd-42f1-b901-fd568aebc537",
   "metadata": {},
   "outputs": [],
   "source": [
    "# 발급받은 key로 시도\n",
    "url = \"\thttp://kobis.or.kr/kobisopenapi/webservice/rest/boxoffice/searchDailyBoxOfficeList.json?key=837b54499d2985fc5aaf3fd29cdbb1d0&targetDt=20120101\""
   ]
  },
  {
   "cell_type": "code",
   "execution_count": 7,
   "id": "8153d5ca-34d2-4295-a9dc-1091944d176e",
   "metadata": {},
   "outputs": [],
   "source": [
    "res = requests.get(url)"
   ]
  },
  {
   "cell_type": "code",
   "execution_count": 8,
   "id": "3ba14d59-9b1f-4d86-8979-bfbdf8fafe32",
   "metadata": {},
   "outputs": [
    {
     "data": {
      "text/plain": [
       "{'boxOfficeResult': {'boxofficeType': '일별 박스오피스',\n",
       "  'showRange': '20120101~20120101',\n",
       "  'dailyBoxOfficeList': [{'rnum': '1',\n",
       "    'rank': '1',\n",
       "    'rankInten': '0',\n",
       "    'rankOldAndNew': 'OLD',\n",
       "    'movieCd': '20112207',\n",
       "    'movieNm': '미션임파서블:고스트프로토콜',\n",
       "    'openDt': '2011-12-15',\n",
       "    'salesAmt': '2776060500',\n",
       "    'salesShare': '36.3',\n",
       "    'salesInten': '-415699000',\n",
       "    'salesChange': '-13',\n",
       "    'salesAcc': '40541108500',\n",
       "    'audiCnt': '353274',\n",
       "    'audiInten': '-60106',\n",
       "    'audiChange': '-14.5',\n",
       "    'audiAcc': '5328435',\n",
       "    'scrnCnt': '697',\n",
       "    'showCnt': '3223'},\n",
       "   {'rnum': '2',\n",
       "    'rank': '2',\n",
       "    'rankInten': '1',\n",
       "    'rankOldAndNew': 'OLD',\n",
       "    'movieCd': '20110295',\n",
       "    'movieNm': '마이 웨이',\n",
       "    'openDt': '2011-12-21',\n",
       "    'salesAmt': '1189058500',\n",
       "    'salesShare': '15.6',\n",
       "    'salesInten': '-105894500',\n",
       "    'salesChange': '-8.2',\n",
       "    'salesAcc': '13002897500',\n",
       "    'audiCnt': '153501',\n",
       "    'audiInten': '-16465',\n",
       "    'audiChange': '-9.7',\n",
       "    'audiAcc': '1739543',\n",
       "    'scrnCnt': '588',\n",
       "    'showCnt': '2321'},\n",
       "   {'rnum': '3',\n",
       "    'rank': '3',\n",
       "    'rankInten': '-1',\n",
       "    'rankOldAndNew': 'OLD',\n",
       "    'movieCd': '20112621',\n",
       "    'movieNm': '셜록홈즈 : 그림자 게임',\n",
       "    'openDt': '2011-12-21',\n",
       "    'salesAmt': '1176022500',\n",
       "    'salesShare': '15.4',\n",
       "    'salesInten': '-210328500',\n",
       "    'salesChange': '-15.2',\n",
       "    'salesAcc': '10678327500',\n",
       "    'audiCnt': '153004',\n",
       "    'audiInten': '-31283',\n",
       "    'audiChange': '-17',\n",
       "    'audiAcc': '1442861',\n",
       "    'scrnCnt': '360',\n",
       "    'showCnt': '1832'},\n",
       "   {'rnum': '4',\n",
       "    'rank': '4',\n",
       "    'rankInten': '0',\n",
       "    'rankOldAndNew': 'OLD',\n",
       "    'movieCd': '20113260',\n",
       "    'movieNm': '퍼펙트 게임',\n",
       "    'openDt': '2011-12-21',\n",
       "    'salesAmt': '644532000',\n",
       "    'salesShare': '8.4',\n",
       "    'salesInten': '-75116500',\n",
       "    'salesChange': '-10.4',\n",
       "    'salesAcc': '6640940000',\n",
       "    'audiCnt': '83644',\n",
       "    'audiInten': '-12225',\n",
       "    'audiChange': '-12.8',\n",
       "    'audiAcc': '895416',\n",
       "    'scrnCnt': '396',\n",
       "    'showCnt': '1364'},\n",
       "   {'rnum': '5',\n",
       "    'rank': '5',\n",
       "    'rankInten': '0',\n",
       "    'rankOldAndNew': 'OLD',\n",
       "    'movieCd': '20113271',\n",
       "    'movieNm': '프렌즈: 몬스터섬의비밀 ',\n",
       "    'openDt': '2011-12-29',\n",
       "    'salesAmt': '436753500',\n",
       "    'salesShare': '5.7',\n",
       "    'salesInten': '-89051000',\n",
       "    'salesChange': '-16.9',\n",
       "    'salesAcc': '1523037000',\n",
       "    'audiCnt': '55092',\n",
       "    'audiInten': '-15568',\n",
       "    'audiChange': '-22',\n",
       "    'audiAcc': '202909',\n",
       "    'scrnCnt': '290',\n",
       "    'showCnt': '838'},\n",
       "   {'rnum': '6',\n",
       "    'rank': '6',\n",
       "    'rankInten': '1',\n",
       "    'rankOldAndNew': 'OLD',\n",
       "    'movieCd': '19940256',\n",
       "    'movieNm': '라이온 킹',\n",
       "    'openDt': '1994-07-02',\n",
       "    'salesAmt': '507115500',\n",
       "    'salesShare': '6.6',\n",
       "    'salesInten': '-114593500',\n",
       "    'salesChange': '-18.4',\n",
       "    'salesAcc': '1841625000',\n",
       "    'audiCnt': '45750',\n",
       "    'audiInten': '-11699',\n",
       "    'audiChange': '-20.4',\n",
       "    'audiAcc': '171285',\n",
       "    'scrnCnt': '244',\n",
       "    'showCnt': '895'},\n",
       "   {'rnum': '7',\n",
       "    'rank': '7',\n",
       "    'rankInten': '-1',\n",
       "    'rankOldAndNew': 'OLD',\n",
       "    'movieCd': '20113381',\n",
       "    'movieNm': '오싹한 연애',\n",
       "    'openDt': '2011-12-01',\n",
       "    'salesAmt': '344871000',\n",
       "    'salesShare': '4.5',\n",
       "    'salesInten': '-107005500',\n",
       "    'salesChange': '-23.7',\n",
       "    'salesAcc': '20634684500',\n",
       "    'audiCnt': '45062',\n",
       "    'audiInten': '-15926',\n",
       "    'audiChange': '-26.1',\n",
       "    'audiAcc': '2823060',\n",
       "    'scrnCnt': '243',\n",
       "    'showCnt': '839'},\n",
       "   {'rnum': '8',\n",
       "    'rank': '8',\n",
       "    'rankInten': '0',\n",
       "    'rankOldAndNew': 'OLD',\n",
       "    'movieCd': '20112709',\n",
       "    'movieNm': '극장판 포켓몬스터 베스트 위시「비크티니와 백의 영웅 레시라무」',\n",
       "    'openDt': '2011-12-22',\n",
       "    'salesAmt': '167809500',\n",
       "    'salesShare': '2.2',\n",
       "    'salesInten': '-45900500',\n",
       "    'salesChange': '-21.5',\n",
       "    'salesAcc': '1897120000',\n",
       "    'audiCnt': '24202',\n",
       "    'audiInten': '-7756',\n",
       "    'audiChange': '-24.3',\n",
       "    'audiAcc': '285959',\n",
       "    'scrnCnt': '186',\n",
       "    'showCnt': '348'},\n",
       "   {'rnum': '9',\n",
       "    'rank': '9',\n",
       "    'rankInten': '0',\n",
       "    'rankOldAndNew': 'OLD',\n",
       "    'movieCd': '20113311',\n",
       "    'movieNm': '앨빈과 슈퍼밴드3',\n",
       "    'openDt': '2011-12-15',\n",
       "    'salesAmt': '137030000',\n",
       "    'salesShare': '1.8',\n",
       "    'salesInten': '-35408000',\n",
       "    'salesChange': '-20.5',\n",
       "    'salesAcc': '3416675000',\n",
       "    'audiCnt': '19729',\n",
       "    'audiInten': '-6461',\n",
       "    'audiChange': '-24.7',\n",
       "    'audiAcc': '516289',\n",
       "    'scrnCnt': '169',\n",
       "    'showCnt': '359'},\n",
       "   {'rnum': '10',\n",
       "    'rank': '10',\n",
       "    'rankInten': '0',\n",
       "    'rankOldAndNew': 'OLD',\n",
       "    'movieCd': '20112708',\n",
       "    'movieNm': '극장판 포켓몬스터 베스트 위시 「비크티니와 흑의 영웅 제크로무」',\n",
       "    'openDt': '2011-12-22',\n",
       "    'salesAmt': '125535500',\n",
       "    'salesShare': '1.6',\n",
       "    'salesInten': '-40756000',\n",
       "    'salesChange': '-24.5',\n",
       "    'salesAcc': '1595695000',\n",
       "    'audiCnt': '17817',\n",
       "    'audiInten': '-6554',\n",
       "    'audiChange': '-26.9',\n",
       "    'audiAcc': '235070',\n",
       "    'scrnCnt': '175',\n",
       "    'showCnt': '291'}]}}"
      ]
     },
     "execution_count": 8,
     "metadata": {},
     "output_type": "execute_result"
    }
   ],
   "source": [
    "res.json()"
   ]
  },
  {
   "cell_type": "code",
   "execution_count": 15,
   "id": "be3a2d5d-1459-48b1-b940-bf2a62a8baa7",
   "metadata": {},
   "outputs": [],
   "source": [
    "# params 파라미터를 활용\n",
    "key = \"837b54499d2985fc5aaf3fd29cdbb1d0\"\n",
    "\n",
    "url = \"http://www.kobis.or.kr/kobisopenapi/webservice/rest/boxoffice/searchDailyBoxOfficeList.json\"\n",
    "\n",
    "params = {\"key\" : key,\n",
    "          \"targetDt\" : \"20250214\"}\n",
    "\n",
    "res = requests.get(url, params = params)"
   ]
  },
  {
   "cell_type": "code",
   "execution_count": 16,
   "id": "30c652a3-ddfd-486e-b902-7688971dbaf4",
   "metadata": {},
   "outputs": [],
   "source": [
    "data = res.json()"
   ]
  },
  {
   "cell_type": "code",
   "execution_count": 17,
   "id": "05f3702f-6784-4077-99ce-ae454aabcd04",
   "metadata": {},
   "outputs": [
    {
     "data": {
      "text/plain": [
       "{'boxOfficeResult': {'boxofficeType': '일별 박스오피스',\n",
       "  'showRange': '20250214~20250214',\n",
       "  'dailyBoxOfficeList': [{'rnum': '1',\n",
       "    'rank': '1',\n",
       "    'rankInten': '0',\n",
       "    'rankOldAndNew': 'OLD',\n",
       "    'movieCd': '20242404',\n",
       "    'movieNm': '캡틴 아메리카: 브레이브 뉴 월드',\n",
       "    'openDt': '2025-02-12',\n",
       "    'salesAmt': '1166651870',\n",
       "    'salesShare': '57.1',\n",
       "    'salesInten': '328589740',\n",
       "    'salesChange': '39.2',\n",
       "    'salesAcc': '3252094390',\n",
       "    'audiCnt': '113883',\n",
       "    'audiInten': '29040',\n",
       "    'audiChange': '34.2',\n",
       "    'audiAcc': '322731',\n",
       "    'scrnCnt': '1757',\n",
       "    'showCnt': '7916'},\n",
       "   {'rnum': '2',\n",
       "    'rank': '2',\n",
       "    'rankInten': '1',\n",
       "    'rankOldAndNew': 'OLD',\n",
       "    'movieCd': '20223819',\n",
       "    'movieNm': '말할 수 없는 비밀',\n",
       "    'openDt': '2025-01-27',\n",
       "    'salesAmt': '161208220',\n",
       "    'salesShare': '7.9',\n",
       "    'salesInten': '42299340',\n",
       "    'salesChange': '35.6',\n",
       "    'salesAcc': '6209208040',\n",
       "    'audiCnt': '16774',\n",
       "    'audiInten': '3910',\n",
       "    'audiChange': '30.4',\n",
       "    'audiAcc': '652598',\n",
       "    'scrnCnt': '683',\n",
       "    'showCnt': '1672'},\n",
       "   {'rnum': '3',\n",
       "    'rank': '3',\n",
       "    'rankInten': '0',\n",
       "    'rankOldAndNew': 'NEW',\n",
       "    'movieCd': '19988717',\n",
       "    'movieNm': '명탐정 코난: 14번째 표적',\n",
       "    'openDt': '2025-02-14',\n",
       "    'salesAmt': '144339960',\n",
       "    'salesShare': '7.1',\n",
       "    'salesInten': '144339960',\n",
       "    'salesChange': '100',\n",
       "    'salesAcc': '189348360',\n",
       "    'audiCnt': '15480',\n",
       "    'audiInten': '15480',\n",
       "    'audiChange': '100',\n",
       "    'audiAcc': '19292',\n",
       "    'scrnCnt': '557',\n",
       "    'showCnt': '1239'},\n",
       "   {'rnum': '4',\n",
       "    'rank': '4',\n",
       "    'rankInten': '-2',\n",
       "    'rankOldAndNew': 'OLD',\n",
       "    'movieCd': '20233006',\n",
       "    'movieNm': '히트맨2',\n",
       "    'openDt': '2025-01-22',\n",
       "    'salesAmt': '146140700',\n",
       "    'salesShare': '7.1',\n",
       "    'salesInten': '19416900',\n",
       "    'salesChange': '15.3',\n",
       "    'salesAcc': '22670176240',\n",
       "    'audiCnt': '15269',\n",
       "    'audiInten': '1462',\n",
       "    'audiChange': '10.6',\n",
       "    'audiAcc': '2408177',\n",
       "    'scrnCnt': '670',\n",
       "    'showCnt': '1675'},\n",
       "   {'rnum': '5',\n",
       "    'rank': '5',\n",
       "    'rankInten': '-1',\n",
       "    'rankOldAndNew': 'OLD',\n",
       "    'movieCd': '20247450',\n",
       "    'movieNm': '검은 수녀들',\n",
       "    'openDt': '2025-01-24',\n",
       "    'salesAmt': '52505500',\n",
       "    'salesShare': '2.6',\n",
       "    'salesInten': '-1379400',\n",
       "    'salesChange': '-2.6',\n",
       "    'salesAcc': '15824949460',\n",
       "    'audiCnt': '5352',\n",
       "    'audiInten': '-412',\n",
       "    'audiChange': '-7.1',\n",
       "    'audiAcc': '1637188',\n",
       "    'scrnCnt': '497',\n",
       "    'showCnt': '742'},\n",
       "   {'rnum': '6',\n",
       "    'rank': '6',\n",
       "    'rankInten': '-1',\n",
       "    'rankOldAndNew': 'OLD',\n",
       "    'movieCd': '20244762',\n",
       "    'movieNm': '서브스턴스',\n",
       "    'openDt': '2024-12-11',\n",
       "    'salesAmt': '51214400',\n",
       "    'salesShare': '2.5',\n",
       "    'salesInten': '9889040',\n",
       "    'salesChange': '23.9',\n",
       "    'salesAcc': '4459918440',\n",
       "    'audiCnt': '5082',\n",
       "    'audiInten': '763',\n",
       "    'audiChange': '17.7',\n",
       "    'audiAcc': '457696',\n",
       "    'scrnCnt': '278',\n",
       "    'showCnt': '366'},\n",
       "   {'rnum': '7',\n",
       "    'rank': '7',\n",
       "    'rankInten': '14',\n",
       "    'rankOldAndNew': 'OLD',\n",
       "    'movieCd': '20248710',\n",
       "    'movieNm': '엘리: 몬스터 패밀리',\n",
       "    'openDt': '2025-02-14',\n",
       "    'salesAmt': '32788600',\n",
       "    'salesShare': '1.6',\n",
       "    'salesInten': '28306600',\n",
       "    'salesChange': '631.6',\n",
       "    'salesAcc': '44229000',\n",
       "    'audiCnt': '4324',\n",
       "    'audiInten': '3826',\n",
       "    'audiChange': '768.3',\n",
       "    'audiAcc': '5494',\n",
       "    'scrnCnt': '273',\n",
       "    'showCnt': '310'},\n",
       "   {'rnum': '8',\n",
       "    'rank': '8',\n",
       "    'rankInten': '-2',\n",
       "    'rankOldAndNew': 'OLD',\n",
       "    'movieCd': '20251800',\n",
       "    'movieNm': '브루탈리스트',\n",
       "    'openDt': '2025-02-12',\n",
       "    'salesAmt': '35230700',\n",
       "    'salesShare': '1.7',\n",
       "    'salesInten': '4506000',\n",
       "    'salesChange': '14.7',\n",
       "    'salesAcc': '156483400',\n",
       "    'audiCnt': '3572',\n",
       "    'audiInten': '273',\n",
       "    'audiChange': '8.3',\n",
       "    'audiAcc': '14807',\n",
       "    'scrnCnt': '291',\n",
       "    'showCnt': '415'},\n",
       "   {'rnum': '9',\n",
       "    'rank': '9',\n",
       "    'rankInten': '22',\n",
       "    'rankOldAndNew': 'OLD',\n",
       "    'movieCd': '20252058',\n",
       "    'movieNm': '첫 번째 키스',\n",
       "    'openDt': '2025-02-26',\n",
       "    'salesAmt': '29876000',\n",
       "    'salesShare': '1.5',\n",
       "    'salesInten': '28382000',\n",
       "    'salesChange': '1899.7',\n",
       "    'salesAcc': '31370000',\n",
       "    'audiCnt': '3163',\n",
       "    'audiInten': '2997',\n",
       "    'audiChange': '1805.4',\n",
       "    'audiAcc': '3329',\n",
       "    'scrnCnt': '18',\n",
       "    'showCnt': '18'},\n",
       "   {'rnum': '10',\n",
       "    'rank': '10',\n",
       "    'rankInten': '0',\n",
       "    'rankOldAndNew': 'OLD',\n",
       "    'movieCd': '20090683',\n",
       "    'movieNm': '500일의 썸머',\n",
       "    'openDt': '2010-01-21',\n",
       "    'salesAmt': '28853200',\n",
       "    'salesShare': '1.4',\n",
       "    'salesInten': '15069500',\n",
       "    'salesChange': '109.3',\n",
       "    'salesAcc': '2431393000',\n",
       "    'audiCnt': '2708',\n",
       "    'audiInten': '1272',\n",
       "    'audiChange': '88.6',\n",
       "    'audiAcc': '304401',\n",
       "    'scrnCnt': '104',\n",
       "    'showCnt': '207'}]}}"
      ]
     },
     "execution_count": 17,
     "metadata": {},
     "output_type": "execute_result"
    }
   ],
   "source": [
    "data"
   ]
  },
  {
   "cell_type": "code",
   "execution_count": 18,
   "id": "fca75bd0-bb54-46fd-9e1b-7911e1ed4532",
   "metadata": {},
   "outputs": [
    {
     "name": "stdout",
     "output_type": "stream",
     "text": [
      "캡틴 아메리카: 브레이브 뉴 월드\n",
      "말할 수 없는 비밀\n",
      "명탐정 코난: 14번째 표적\n",
      "히트맨2\n",
      "검은 수녀들\n",
      "서브스턴스\n",
      "엘리: 몬스터 패밀리\n",
      "브루탈리스트\n",
      "첫 번째 키스\n",
      "500일의 썸머\n"
     ]
    }
   ],
   "source": [
    "for i in data[\"boxOfficeResult\"][\"dailyBoxOfficeList\"]:\n",
    "    print(i[\"movieNm\"])"
   ]
  },
  {
   "cell_type": "markdown",
   "id": "9c2374f5-a336-4d8b-8b56-1c5d6f0d1ba0",
   "metadata": {},
   "source": [
    "# 네이버 블로그 검색 API"
   ]
  },
  {
   "cell_type": "code",
   "execution_count": 19,
   "id": "3e75072a-3246-400e-bede-ac799f3b47e1",
   "metadata": {},
   "outputs": [],
   "source": [
    "client_id = \"u3pB3jXFdJgkxowRHNjA\"\n",
    "client_secret = \"OYuj4rotIZ\"\n",
    "\n",
    "url = \"https://openapi.naver.com/v1/search/blog.json\"\n",
    "\n",
    "word = \"신촌 맛집\"\n",
    "\n",
    "params = {\"query\" : word}\n",
    "\n",
    "headers = {\"X-Naver-Client-Id\" : client_id,\n",
    "           \"X-Naver-Client-Secret\" : client_secret}\n",
    "\n",
    "res = requests.get(url, params = params, headers = headers)"
   ]
  },
  {
   "cell_type": "code",
   "execution_count": 20,
   "id": "e161395e-322a-4bc4-a85c-9dfd345f590d",
   "metadata": {},
   "outputs": [
    {
     "data": {
      "text/plain": [
       "<Response [200]>"
      ]
     },
     "execution_count": 20,
     "metadata": {},
     "output_type": "execute_result"
    }
   ],
   "source": [
    "res"
   ]
  },
  {
   "cell_type": "code",
   "execution_count": 21,
   "id": "c2d5d319-14a1-4a69-817c-288ea5729da5",
   "metadata": {},
   "outputs": [
    {
     "data": {
      "text/plain": [
       "{'lastBuildDate': 'Sat, 15 Feb 2025 17:12:22 +0900',\n",
       " 'total': 267569,\n",
       " 'start': 1,\n",
       " 'display': 10,\n",
       " 'items': [{'title': '<b>신촌맛집</b> 버거옥 햄버거 데이트 1+1 구매시 킵핑도 가능해요',\n",
       "   'link': 'https://blog.naver.com/intpjune/223729466038',\n",
       "   'description': '좋아서 신촌에 데이트 나왔습니다. 점심 메뉴는 <b>신촌맛집</b> 버거옥으로 결정했어요. 신촌역 1번 출구에서... 신촌 햄버거 맛집답게 커플들이 아주 많았습니다. 호랑이 비프 더블 + 호랑이 치킨 더블 12,900원 / 용... ',\n",
       "   'bloggername': '장중일기',\n",
       "   'bloggerlink': 'blog.naver.com/intpjune',\n",
       "   'postdate': '20250118'},\n",
       "  {'title': '신촌마라탕 <b>신촌맛집</b> 추천 라화쿵부 최애 마라탕 집',\n",
       "   'link': 'https://blog.naver.com/angelic09/223756678021',\n",
       "   'description': '바삭바삭 쫀득쫀득 미쳤습니다!! 거기다 안에 고기도 두툼하게 들어가 있어요 아주 깔끔하게 클리어해버리기 <b>신촌맛집</b> 신촌마라탕 맛집으로 라화쿵부 완전 강추!!!',\n",
       "   'bloggername': '헤일리의 일상 기록',\n",
       "   'bloggerlink': 'blog.naver.com/angelic09',\n",
       "   'postdate': '20250211'},\n",
       "  {'title': '<b>신촌맛집</b> 버거옥 세트1+1에 킵핑 혼밥까지 가능한 곳',\n",
       "   'link': 'https://blog.naver.com/kiki2a/223699418066',\n",
       "   'description': '<b>신촌맛집</b> 버거옥 매일 10~22시 신촌역 1번출구에서 아주 조금만 걸으면 버거옥 ! 신규 브랜드인데도 꽤나 후기가 많았고 짝꿍이 햄버거를 워낙 좋아해서 같이 다녀왔당 12월 13일에 새로 오픈한 <b>신촌맛집</b> 버거옥 1... ',\n",
       "   'bloggername': '리릭리릭 휘리릭 ♪',\n",
       "   'bloggerlink': 'blog.naver.com/kiki2a',\n",
       "   'postdate': '20241219'},\n",
       "  {'title': '[<b>신촌 맛집</b>] 애슐리퀸즈 현대유플렉스 신촌점',\n",
       "   'link': 'https://blog.naver.com/kk544558/223708547922',\n",
       "   'description': '(아래 인플루언서 홈에서 팬하기를 누르면 끝!) #애슐리 #애슐리퀸즈 #애슐리퀸즈현대유플렉스신촌점 #<b>신촌맛집</b> #신촌현대백화점맛집 https://youtube.com/shorts/_cfBrYTx3Qs?si=QeNe3iG9hosW8eYr',\n",
       "   'bloggername': '내세상 여행 블로그',\n",
       "   'bloggerlink': 'blog.naver.com/kk544558',\n",
       "   'postdate': '20241229'},\n",
       "  {'title': '<b>신촌 맛집</b> 스시가 훌륭한 초밥 정식 현대백화점 스시도쿠',\n",
       "   'link': 'https://blog.naver.com/gusalsths/223758122519',\n",
       "   'description': '신촌 현대백화점 10층 식당가에 위치한 초밥정식이 훌륭한 스시 맛집 스시도쿠에 갔다. 백화점 안에... <b>신촌 맛집</b> 스시도쿠에서 훌륭한 초밥 정식으로 넘 맛있게 저녁식사를 했다. 다른 메뉴들도 맛있어... ',\n",
       "   'bloggername': '민토하우스',\n",
       "   'bloggerlink': 'blog.naver.com/gusalsths',\n",
       "   'postdate': '20250212'},\n",
       "  {'title': '<b>신촌 맛집</b> 햄버거 꿀맛인 신촌역 점심 혼밥 핫플 버거옥',\n",
       "   'link': 'https://blog.naver.com/al_dente/223701516439',\n",
       "   'description': '언니랑 <b>신촌 맛집</b> 들러서 맛점하고 왔답니다. 어디로 먹으러 갔었냐면 바로 이번달 13일에 따끈하게 새로 오픈한 신규 브랜드 버거옥 신촌직영점으로 한번 들러보았쟈냐요!!! 떠오르는 신촌역 맛집 답게 매장... ',\n",
       "   'bloggername': '자두자두자몽의 푸드몽',\n",
       "   'bloggerlink': 'blog.naver.com/al_dente',\n",
       "   'postdate': '20241221'},\n",
       "  {'title': '<b>신촌 맛집</b> 가정비 좋았던 한술식당 신촌점 후기',\n",
       "   'link': 'https://blog.naver.com/kh6786/223484047092',\n",
       "   'description': '혼밥도 부담없어서 든든한 한끼를 먹고 싶을 때 꼭 한술식당을 방문해보세요! #<b>신촌맛집</b> #신촌역맛집 #신촌덮밥 #신촌가성비맛집 #연대맛집 #한술식당신촌점 감사합니다^^',\n",
       "   'bloggername': '사이클론의 사진여행',\n",
       "   'bloggerlink': 'blog.naver.com/kh6786',\n",
       "   'postdate': '20240619'},\n",
       "  {'title': '신촌역 현대백화점 <b>신촌 맛집</b>, 초밥 정식 스시도쿠',\n",
       "   'link': 'https://blog.naver.com/jj_ciel/223722151038',\n",
       "   'description': '현대백화점 <b>신촌 맛집</b> 찾으시거나 신촌역 맛집 찾으시는 분들 참고하시면 되겠습니다 그럼 오늘도 맛있는 음식 많이 드시고 늘 행복하세요! #신촌역맛집 #<b>신촌맛집</b>초밥 #현대백화점<b>신촌맛집</b> #신촌스시도쿠',\n",
       "   'bloggername': 'ciel의 ㅇㄱㅈㄱ',\n",
       "   'bloggerlink': 'blog.naver.com/jj_ciel',\n",
       "   'postdate': '20250111'},\n",
       "  {'title': '[<b>신촌 맛집</b>] 명물화로, 신촌 삼겹살 맛집 내돈내산',\n",
       "   'link': 'https://blog.naver.com/bmn63499/223696796911',\n",
       "   'description': '급하게 <b>신촌 맛집</b>이라고... 또 검색을 하고 나서 왔어요 ㅋㅋㅋ 신촌에서 10년을 일해도.... 맨날 맛집 검색함.. 하하 안에 들어가보니, 이렇게 멋들어진 현판이 ㅋㅋ 단체 모임하시는 분들도 많았는데요. 자리가... ',\n",
       "   'bloggername': '데일리웅코',\n",
       "   'bloggerlink': 'blog.naver.com/bmn63499',\n",
       "   'postdate': '20241219'},\n",
       "  {'title': '서울 몬자야키, 오코노미야키 <b>신촌 맛집</b> 야바이 주차, 예약... ',\n",
       "   'link': 'https://blog.naver.com/springjean/223744582649',\n",
       "   'description': '<b>신촌 맛집</b> 야바이 위치, 영업시간, 주차 <b>신촌 맛집</b> 야바이는 2호선 신촌역 1번 출구에서 가깝다고 나오는데 도보로 10분 좀 안되게 걸어야 하더라고요. (네이버 지도 켜고 찾으시는 것이 빠름!) 영업시간은 오후... ',\n",
       "   'bloggername': '도담도담, 러브하우스 : )',\n",
       "   'bloggerlink': 'blog.naver.com/springjean',\n",
       "   'postdate': '20250203'}]}"
      ]
     },
     "execution_count": 21,
     "metadata": {},
     "output_type": "execute_result"
    }
   ],
   "source": [
    "res.json()"
   ]
  },
  {
   "cell_type": "markdown",
   "id": "ba072310-ab4b-4cb9-8068-904022490fdc",
   "metadata": {},
   "source": [
    "# headers"
   ]
  },
  {
   "cell_type": "code",
   "execution_count": 22,
   "id": "a97c870a-b18d-4ecc-ac78-dd74be646f1c",
   "metadata": {},
   "outputs": [],
   "source": [
    "url = \"https://www.imdb.com/chart/top/?ref_=nv_mv_250\"\n",
    "\n",
    "res = requests.get(url)"
   ]
  },
  {
   "cell_type": "code",
   "execution_count": 23,
   "id": "23068bce-ca0f-478f-9a67-faace502e270",
   "metadata": {},
   "outputs": [
    {
     "data": {
      "text/plain": [
       "<Response [403]>"
      ]
     },
     "execution_count": 23,
     "metadata": {},
     "output_type": "execute_result"
    }
   ],
   "source": [
    "res"
   ]
  },
  {
   "cell_type": "code",
   "execution_count": 24,
   "id": "7ea7a86e-2d37-465f-aa3b-2350ade32063",
   "metadata": {},
   "outputs": [
    {
     "data": {
      "text/plain": [
       "'<html>\\r\\n<head><title>403 Forbidden</title></head>\\r\\n<body>\\r\\n<center><h1>403 Forbidden</h1></center>\\r\\n</body>\\r\\n</html>\\r\\n'"
      ]
     },
     "execution_count": 24,
     "metadata": {},
     "output_type": "execute_result"
    }
   ],
   "source": [
    "res.text"
   ]
  },
  {
   "cell_type": "code",
   "execution_count": 32,
   "id": "69904003-31f2-4847-a837-f8f30f6ff399",
   "metadata": {},
   "outputs": [],
   "source": [
    "url = \"https://www.imdb.com/chart/top/?ref_=nv_mv_250\"\n",
    "\n",
    "headers = {\n",
    "    \"user-agent\" : \"Mozilla/5.0 (Windows NT 10.0; Win64; x64) AppleWebKit/537.36 (KHTML, like Gecko) Chrome/133.0.0.0 Safari/537.36\",\n",
    "    \"Accept-Language\": \"en\"\n",
    "}\n",
    "\n",
    "res = requests.get(url, headers = headers)"
   ]
  },
  {
   "cell_type": "code",
   "execution_count": 33,
   "id": "650b7cea-9330-490b-ae0e-52b8dcef17e7",
   "metadata": {},
   "outputs": [
    {
     "data": {
      "text/plain": [
       "<Response [200]>"
      ]
     },
     "execution_count": 33,
     "metadata": {},
     "output_type": "execute_result"
    }
   ],
   "source": [
    "res"
   ]
  },
  {
   "cell_type": "code",
   "execution_count": 34,
   "id": "8c580e5b-ee3b-46be-b78c-4637d3b747bc",
   "metadata": {},
   "outputs": [],
   "source": [
    "soup = BeautifulSoup(res.text, \"lxml\")"
   ]
  },
  {
   "cell_type": "code",
   "execution_count": 35,
   "id": "baf1d571-797b-4bfd-ade6-e3478728f964",
   "metadata": {
    "scrolled": true
   },
   "outputs": [
    {
     "data": {
      "text/plain": [
       "[<h3 class=\"ipc-title__text\">1. The Shawshank Redemption</h3>,\n",
       " <h3 class=\"ipc-title__text\">2. The Godfather</h3>,\n",
       " <h3 class=\"ipc-title__text\">3. The Dark Knight</h3>,\n",
       " <h3 class=\"ipc-title__text\">4. The Godfather Part II</h3>,\n",
       " <h3 class=\"ipc-title__text\">5. 12 Angry Men</h3>,\n",
       " <h3 class=\"ipc-title__text\">6. The Lord of the Rings: The Return of the King</h3>,\n",
       " <h3 class=\"ipc-title__text\">7. Schindler's List</h3>,\n",
       " <h3 class=\"ipc-title__text\">8. Pulp Fiction</h3>,\n",
       " <h3 class=\"ipc-title__text\">9. The Lord of the Rings: The Fellowship of the Ring</h3>,\n",
       " <h3 class=\"ipc-title__text\">10. The Good, the Bad and the Ugly</h3>,\n",
       " <h3 class=\"ipc-title__text\">11. Forrest Gump</h3>,\n",
       " <h3 class=\"ipc-title__text\">12. The Lord of the Rings: The Two Towers</h3>,\n",
       " <h3 class=\"ipc-title__text\">13. Fight Club</h3>,\n",
       " <h3 class=\"ipc-title__text\">14. Inception</h3>,\n",
       " <h3 class=\"ipc-title__text\">15. Star Wars: Episode V - The Empire Strikes Back</h3>,\n",
       " <h3 class=\"ipc-title__text\">16. The Matrix</h3>,\n",
       " <h3 class=\"ipc-title__text\">17. Goodfellas</h3>,\n",
       " <h3 class=\"ipc-title__text\">18. One Flew Over the Cuckoo's Nest</h3>,\n",
       " <h3 class=\"ipc-title__text\">19. Interstellar</h3>,\n",
       " <h3 class=\"ipc-title__text\">20. Se7en</h3>,\n",
       " <h3 class=\"ipc-title__text\">21. It's a Wonderful Life</h3>,\n",
       " <h3 class=\"ipc-title__text\">22. Seven Samurai</h3>,\n",
       " <h3 class=\"ipc-title__text\">23. The Silence of the Lambs</h3>,\n",
       " <h3 class=\"ipc-title__text\">24. Saving Private Ryan</h3>,\n",
       " <h3 class=\"ipc-title__text\">25. City of God</h3>]"
      ]
     },
     "execution_count": 35,
     "metadata": {},
     "output_type": "execute_result"
    }
   ],
   "source": [
    "soup.select(\"a.ipc-title-link-wrapper > h3.ipc-title__text\")"
   ]
  },
  {
   "cell_type": "code",
   "execution_count": null,
   "id": "db06948c-98d5-43f7-81e2-72600b2a5779",
   "metadata": {},
   "outputs": [],
   "source": []
  },
  {
   "cell_type": "code",
   "execution_count": null,
   "id": "b3a18a12-cb7b-47ff-b29f-167a376c9c1d",
   "metadata": {},
   "outputs": [],
   "source": []
  },
  {
   "cell_type": "code",
   "execution_count": null,
   "id": "564eb0a2-d71c-46f6-a667-6dbad5f9b651",
   "metadata": {},
   "outputs": [],
   "source": []
  },
  {
   "cell_type": "code",
   "execution_count": null,
   "id": "f09a5afc-6a85-4a26-8f38-19b00bb829aa",
   "metadata": {},
   "outputs": [],
   "source": []
  },
  {
   "cell_type": "code",
   "execution_count": null,
   "id": "b68e0bb1-8dfa-4efa-b97e-4ab683b426b0",
   "metadata": {},
   "outputs": [],
   "source": []
  },
  {
   "cell_type": "code",
   "execution_count": null,
   "id": "72b432d6-0334-45fa-a583-f71fc8305f77",
   "metadata": {},
   "outputs": [],
   "source": []
  },
  {
   "cell_type": "code",
   "execution_count": null,
   "id": "e63f5168-6ae4-492b-ae00-b319bd1ab434",
   "metadata": {},
   "outputs": [],
   "source": []
  },
  {
   "cell_type": "code",
   "execution_count": null,
   "id": "9baedea4-ed1a-41c3-8b54-3d96da12de70",
   "metadata": {},
   "outputs": [],
   "source": []
  },
  {
   "cell_type": "code",
   "execution_count": null,
   "id": "fb5f1d92-8ee6-4996-aeaf-7886c3de615a",
   "metadata": {},
   "outputs": [],
   "source": []
  }
 ],
 "metadata": {
  "kernelspec": {
   "display_name": "Python [conda env:base] *",
   "language": "python",
   "name": "conda-base-py"
  },
  "language_info": {
   "codemirror_mode": {
    "name": "ipython",
    "version": 3
   },
   "file_extension": ".py",
   "mimetype": "text/x-python",
   "name": "python",
   "nbconvert_exporter": "python",
   "pygments_lexer": "ipython3",
   "version": "3.12.7"
  }
 },
 "nbformat": 4,
 "nbformat_minor": 5
}
