{
 "cells": [
  {
   "cell_type": "code",
   "execution_count": 1,
   "id": "38e849a6-4e00-4631-841f-1514549dc5f4",
   "metadata": {},
   "outputs": [],
   "source": [
    "import numpy as np"
   ]
  },
  {
   "cell_type": "markdown",
   "id": "282fa4fc-e821-4beb-b48d-d99e0ad46f70",
   "metadata": {},
   "source": [
    "# 넘파이 배열의 구조\n",
    "\n",
    "- 넘파이 모듈의 기본 배열은 ndarray(n-dimension array, 다차원배열)"
   ]
  },
  {
   "cell_type": "markdown",
   "id": "50c62c73-6ba9-49ee-b52f-deb604212b95",
   "metadata": {},
   "source": [
    "## 리스트를 다차원배열로 변환"
   ]
  },
  {
   "cell_type": "code",
   "execution_count": 2,
   "id": "9583cf08-2ea5-4a70-8465-b22cbde8d346",
   "metadata": {},
   "outputs": [],
   "source": [
    "# array() : 다차원배열을 만드는 함수\n",
    "lst = [1, 2, 3, 4]\n",
    "lst_array = np.array(lst)"
   ]
  },
  {
   "cell_type": "code",
   "execution_count": 3,
   "id": "4b91141c-023b-4c3e-90ae-743ec4fd5ff7",
   "metadata": {},
   "outputs": [
    {
     "data": {
      "text/plain": [
       "array([1, 2, 3, 4])"
      ]
     },
     "execution_count": 3,
     "metadata": {},
     "output_type": "execute_result"
    }
   ],
   "source": [
    "lst_array"
   ]
  },
  {
   "cell_type": "code",
   "execution_count": 4,
   "id": "cf86e049-cff5-4814-9eaf-f5081c221fe4",
   "metadata": {},
   "outputs": [
    {
     "data": {
      "text/plain": [
       "numpy.ndarray"
      ]
     },
     "execution_count": 4,
     "metadata": {},
     "output_type": "execute_result"
    }
   ],
   "source": [
    "type(lst_array)"
   ]
  },
  {
   "cell_type": "markdown",
   "id": "3db841af-f593-41b0-aa94-740caf733dd0",
   "metadata": {},
   "source": [
    "## 튜플을 다차원배열로 변환"
   ]
  },
  {
   "cell_type": "code",
   "execution_count": 5,
   "id": "cab595e2-3eff-4730-b6c6-fd8e6d1b727a",
   "metadata": {},
   "outputs": [],
   "source": [
    "tu = (1, 2, 3, 4)\n",
    "tu_arr = np.array(tu)"
   ]
  },
  {
   "cell_type": "code",
   "execution_count": 6,
   "id": "e1c5d12a-04c7-46a9-8603-2b2d55581d4c",
   "metadata": {},
   "outputs": [
    {
     "data": {
      "text/plain": [
       "array([1, 2, 3, 4])"
      ]
     },
     "execution_count": 6,
     "metadata": {},
     "output_type": "execute_result"
    }
   ],
   "source": [
    "tu_arr"
   ]
  },
  {
   "cell_type": "code",
   "execution_count": 7,
   "id": "16d34cb8-31a0-4a6e-8da6-4947fefffa22",
   "metadata": {},
   "outputs": [
    {
     "data": {
      "text/plain": [
       "numpy.ndarray"
      ]
     },
     "execution_count": 7,
     "metadata": {},
     "output_type": "execute_result"
    }
   ],
   "source": [
    "type(tu_arr)"
   ]
  },
  {
   "cell_type": "code",
   "execution_count": 9,
   "id": "c67d6eb6-c5d8-49f9-a85e-1aa0b3b179f9",
   "metadata": {},
   "outputs": [
    {
     "data": {
      "text/plain": [
       "(2385360225840, 2385360225840)"
      ]
     },
     "execution_count": 9,
     "metadata": {},
     "output_type": "execute_result"
    }
   ],
   "source": [
    "# 배열은 mutable 의 특징을 가짐\n",
    "# 변수를 다른 변수에 복사한 뒤 데이터를 수정하면 모든 변수의 데이터가 수정됨\n",
    "co_arr = lst_array\n",
    "id(co_arr), id(lst_array)"
   ]
  },
  {
   "cell_type": "code",
   "execution_count": 10,
   "id": "048c4573-5a42-4d80-8376-4929928337b1",
   "metadata": {},
   "outputs": [],
   "source": [
    "co_arr[0] = 100"
   ]
  },
  {
   "cell_type": "code",
   "execution_count": 11,
   "id": "7cd51375-6f48-425f-afa4-94545c624db2",
   "metadata": {},
   "outputs": [
    {
     "data": {
      "text/plain": [
       "array([100,   2,   3,   4])"
      ]
     },
     "execution_count": 11,
     "metadata": {},
     "output_type": "execute_result"
    }
   ],
   "source": [
    "co_arr"
   ]
  },
  {
   "cell_type": "code",
   "execution_count": 12,
   "id": "d126b927-8236-461a-a55a-eca63c2ff4a3",
   "metadata": {},
   "outputs": [
    {
     "data": {
      "text/plain": [
       "array([100,   2,   3,   4])"
      ]
     },
     "execution_count": 12,
     "metadata": {},
     "output_type": "execute_result"
    }
   ],
   "source": [
    "lst_array"
   ]
  },
  {
   "cell_type": "code",
   "execution_count": 13,
   "id": "ced4f6ec-8d35-4a58-b7e5-3ce210db3339",
   "metadata": {},
   "outputs": [],
   "source": [
    "# 다차원 배열의 값을 복사해서 새로운 배열을 만들면\n",
    "# 동일한 값을 가진 새로운 배열이 만들어지기 때문에 서로 다른 데이터가 됨\n",
    "new_arr = np.array(lst_array)"
   ]
  },
  {
   "cell_type": "code",
   "execution_count": 14,
   "id": "881a4a47-ab5d-411b-bab7-62bcdbcdb85a",
   "metadata": {},
   "outputs": [
    {
     "data": {
      "text/plain": [
       "(2385375412944, 2385360225840)"
      ]
     },
     "execution_count": 14,
     "metadata": {},
     "output_type": "execute_result"
    }
   ],
   "source": [
    "id(new_arr), id(lst_array)"
   ]
  },
  {
   "cell_type": "code",
   "execution_count": 15,
   "id": "6429b329-a40d-452a-82b6-e35b59c31ce1",
   "metadata": {},
   "outputs": [],
   "source": [
    "new_arr[0] = 99"
   ]
  },
  {
   "cell_type": "code",
   "execution_count": 16,
   "id": "6e7e10f2-8bec-4d7a-9a98-f39d257bc5ba",
   "metadata": {},
   "outputs": [
    {
     "data": {
      "text/plain": [
       "array([99,  2,  3,  4])"
      ]
     },
     "execution_count": 16,
     "metadata": {},
     "output_type": "execute_result"
    }
   ],
   "source": [
    "new_arr"
   ]
  },
  {
   "cell_type": "code",
   "execution_count": 17,
   "id": "66227039-fa24-4045-ac15-a5e8232521fb",
   "metadata": {},
   "outputs": [
    {
     "data": {
      "text/plain": [
       "array([100,   2,   3,   4])"
      ]
     },
     "execution_count": 17,
     "metadata": {},
     "output_type": "execute_result"
    }
   ],
   "source": [
    "lst_array"
   ]
  },
  {
   "cell_type": "markdown",
   "id": "ba6f1e2a-e0d8-454b-8750-66576511d19b",
   "metadata": {},
   "source": [
    "## 자료형을 지정해서 다차원 배열 만들기\n",
    "\n",
    "- 파이썬 리스트는 다양한 자료형을 사용할 수 있지만 넘파이 배열은 같은 자료형만 넣을 수 있음\n",
    "    - 다차원 배열을 생성할 때 자료형을 지정하지 않으면 내부의 원소를 보고 자동으로 추론해서 만듦"
   ]
  },
  {
   "cell_type": "code",
   "execution_count": 22,
   "id": "64df04a1-350c-4ea6-beab-dbf94f5c08e9",
   "metadata": {},
   "outputs": [],
   "source": [
    "# float 자료형을 지정해서 다차원 배열 만들기\n",
    "fl_arr = np.array(lst, dtype = float)"
   ]
  },
  {
   "cell_type": "code",
   "execution_count": 23,
   "id": "a3d9bdd1-448b-4d94-8600-ab74c28c9842",
   "metadata": {},
   "outputs": [
    {
     "data": {
      "text/plain": [
       "array([1., 2., 3., 4.])"
      ]
     },
     "execution_count": 23,
     "metadata": {},
     "output_type": "execute_result"
    }
   ],
   "source": [
    "fl_arr"
   ]
  },
  {
   "cell_type": "code",
   "execution_count": 24,
   "id": "2825fe44-e947-45ba-8f23-9feb955f899d",
   "metadata": {},
   "outputs": [
    {
     "data": {
      "text/plain": [
       "dtype('float64')"
      ]
     },
     "execution_count": 24,
     "metadata": {},
     "output_type": "execute_result"
    }
   ],
   "source": [
    "fl_arr.dtype"
   ]
  },
  {
   "cell_type": "markdown",
   "id": "25d571c8-c282-4bd5-91d9-456f0b1e538e",
   "metadata": {},
   "source": [
    "# 2차원 배열\n",
    "\n",
    "- 2개의 축을 가지는 배열(행, 열)\n",
    "    - 두 개의 1차원 배열이 쌓여서 하나의 2차원 배열이 만들어짐"
   ]
  },
  {
   "cell_type": "code",
   "execution_count": 25,
   "id": "223e91e2-53a8-4eef-8360-622d3e2e06b7",
   "metadata": {},
   "outputs": [],
   "source": [
    "arr2d = np.array([[1, 2, 3], [4, 5, 6]])"
   ]
  },
  {
   "cell_type": "code",
   "execution_count": 26,
   "id": "0a5a7e38-6040-408d-84c2-6e5ed7078733",
   "metadata": {},
   "outputs": [
    {
     "data": {
      "text/plain": [
       "array([[1, 2, 3],\n",
       "       [4, 5, 6]])"
      ]
     },
     "execution_count": 26,
     "metadata": {},
     "output_type": "execute_result"
    }
   ],
   "source": [
    "arr2d"
   ]
  },
  {
   "cell_type": "code",
   "execution_count": 27,
   "id": "67f637e7-9d62-488d-b5d1-0411eb7f8b5c",
   "metadata": {},
   "outputs": [
    {
     "data": {
      "text/plain": [
       "(2, 3)"
      ]
     },
     "execution_count": 27,
     "metadata": {},
     "output_type": "execute_result"
    }
   ],
   "source": [
    "# 각 축의 원소의 개수\n",
    "arr2d.shape"
   ]
  },
  {
   "cell_type": "code",
   "execution_count": 28,
   "id": "98e4114e-e532-4958-9c4c-84fee2c105a1",
   "metadata": {},
   "outputs": [
    {
     "data": {
      "text/plain": [
       "2"
      ]
     },
     "execution_count": 28,
     "metadata": {},
     "output_type": "execute_result"
    }
   ],
   "source": [
    "# 축의 개수\n",
    "arr2d.ndim"
   ]
  },
  {
   "cell_type": "code",
   "execution_count": 29,
   "id": "ad1a2c89-a369-4be8-b31c-ea80952b19ea",
   "metadata": {},
   "outputs": [
    {
     "data": {
      "text/plain": [
       "dtype('int32')"
      ]
     },
     "execution_count": 29,
     "metadata": {},
     "output_type": "execute_result"
    }
   ],
   "source": [
    "arr2d.dtype"
   ]
  },
  {
   "cell_type": "code",
   "execution_count": 30,
   "id": "dd8eb4aa-3aa1-46db-8109-fe83fb2226dc",
   "metadata": {},
   "outputs": [
    {
     "data": {
      "text/plain": [
       "array([1, 2, 3, 4, 5, 6])"
      ]
     },
     "execution_count": 30,
     "metadata": {},
     "output_type": "execute_result"
    }
   ],
   "source": [
    "# 다차원 배열을 1차원 배열로 조회\n",
    "arr2d.flatten()"
   ]
  },
  {
   "cell_type": "code",
   "execution_count": 31,
   "id": "e098bc4e-9ae3-44f1-afd8-0f26b27058b5",
   "metadata": {},
   "outputs": [
    {
     "data": {
      "text/plain": [
       "array([[1, 2, 3],\n",
       "       [4, 5, 6]])"
      ]
     },
     "execution_count": 31,
     "metadata": {},
     "output_type": "execute_result"
    }
   ],
   "source": [
    "arr2d"
   ]
  },
  {
   "cell_type": "markdown",
   "id": "9e4536d4-7764-41e0-850f-d34527915aad",
   "metadata": {},
   "source": [
    "# 원소 조회하기"
   ]
  },
  {
   "cell_type": "code",
   "execution_count": 32,
   "id": "993d7710-8660-47a0-bbbd-a586784f87bc",
   "metadata": {},
   "outputs": [
    {
     "data": {
      "text/plain": [
       "array([100,   2,   3,   4])"
      ]
     },
     "execution_count": 32,
     "metadata": {},
     "output_type": "execute_result"
    }
   ],
   "source": [
    "# 1차원 배열에서 원소 조회하기\n",
    "lst_array"
   ]
  },
  {
   "cell_type": "code",
   "execution_count": 33,
   "id": "2f971b4f-c400-4138-a247-9e03f2978d8b",
   "metadata": {},
   "outputs": [
    {
     "data": {
      "text/plain": [
       "[1, 2, 3, 4]"
      ]
     },
     "execution_count": 33,
     "metadata": {},
     "output_type": "execute_result"
    }
   ],
   "source": [
    "lst"
   ]
  },
  {
   "cell_type": "code",
   "execution_count": 34,
   "id": "47586c0d-6470-4551-98d8-769bbdf7f1df",
   "metadata": {},
   "outputs": [
    {
     "data": {
      "text/plain": [
       "1"
      ]
     },
     "execution_count": 34,
     "metadata": {},
     "output_type": "execute_result"
    }
   ],
   "source": [
    "lst[0]"
   ]
  },
  {
   "cell_type": "code",
   "execution_count": 35,
   "id": "91d94a88-8851-4865-83aa-36b0322cbd53",
   "metadata": {},
   "outputs": [
    {
     "data": {
      "text/plain": [
       "100"
      ]
     },
     "execution_count": 35,
     "metadata": {},
     "output_type": "execute_result"
    }
   ],
   "source": [
    "lst_array[0]"
   ]
  },
  {
   "cell_type": "code",
   "execution_count": 36,
   "id": "30ebb732-660d-44ba-bc64-1162496b9ea5",
   "metadata": {},
   "outputs": [],
   "source": [
    "# 다차원배열에서 원소 조회하기\n",
    "list2d = arr2d.tolist() # 배열을 리스트로 변환"
   ]
  },
  {
   "cell_type": "code",
   "execution_count": 37,
   "id": "a2d28be5-3046-4db0-983f-1afb64f13b9b",
   "metadata": {},
   "outputs": [
    {
     "data": {
      "text/plain": [
       "[[1, 2, 3], [4, 5, 6]]"
      ]
     },
     "execution_count": 37,
     "metadata": {},
     "output_type": "execute_result"
    }
   ],
   "source": [
    "list2d"
   ]
  },
  {
   "cell_type": "code",
   "execution_count": 39,
   "id": "adce63a4-768f-4068-bd18-9a084caf4ad5",
   "metadata": {},
   "outputs": [
    {
     "data": {
      "text/plain": [
       "array([[1, 2, 3],\n",
       "       [4, 5, 6]])"
      ]
     },
     "execution_count": 39,
     "metadata": {},
     "output_type": "execute_result"
    }
   ],
   "source": [
    "arr2d"
   ]
  },
  {
   "cell_type": "code",
   "execution_count": 42,
   "id": "563aa5ab-bbac-4b6f-b47d-5e7251e5e034",
   "metadata": {},
   "outputs": [
    {
     "data": {
      "text/plain": [
       "2"
      ]
     },
     "execution_count": 42,
     "metadata": {},
     "output_type": "execute_result"
    }
   ],
   "source": [
    "# 리스트는 정수만 이용해서 원소 조회 가능\n",
    "# 따라서 리스트 내 리스트의 원소를 조회할 때는 인덱스를 두 번 사용해야함\n",
    "list2d[0][1]"
   ]
  },
  {
   "cell_type": "code",
   "execution_count": 43,
   "id": "def7f343-6bcb-4a2b-be76-16040c7c54d0",
   "metadata": {},
   "outputs": [
    {
     "ename": "TypeError",
     "evalue": "list indices must be integers or slices, not tuple",
     "output_type": "error",
     "traceback": [
      "\u001b[1;31m---------------------------------------------------------------------------\u001b[0m",
      "\u001b[1;31mTypeError\u001b[0m                                 Traceback (most recent call last)",
      "Cell \u001b[1;32mIn[43], line 1\u001b[0m\n\u001b[1;32m----> 1\u001b[0m list2d[\u001b[38;5;241m0\u001b[39m, \u001b[38;5;241m1\u001b[39m]\n",
      "\u001b[1;31mTypeError\u001b[0m: list indices must be integers or slices, not tuple"
     ]
    }
   ],
   "source": [
    "list2d[0, 1]"
   ]
  },
  {
   "cell_type": "code",
   "execution_count": 48,
   "id": "d5f010c7-01a1-4c0c-9820-39f4d6bfe51f",
   "metadata": {},
   "outputs": [
    {
     "data": {
      "text/plain": [
       "2"
      ]
     },
     "execution_count": 48,
     "metadata": {},
     "output_type": "execute_result"
    }
   ],
   "source": [
    "# 다차원 배열은 행과 열의 인덱스를 튜플로 조회할 수 있음\n",
    "arr2d[0, 1]"
   ]
  },
  {
   "cell_type": "code",
   "execution_count": 47,
   "id": "0e34e4eb-d717-4f99-9340-00c61e94c259",
   "metadata": {},
   "outputs": [
    {
     "data": {
      "text/plain": [
       "2"
      ]
     },
     "execution_count": 47,
     "metadata": {},
     "output_type": "execute_result"
    }
   ],
   "source": [
    "arr2d[0][1]"
   ]
  },
  {
   "cell_type": "markdown",
   "id": "fac8bf2f-cd71-4882-a0f3-6ff3411f185c",
   "metadata": {},
   "source": [
    "## 슬라이싱"
   ]
  },
  {
   "cell_type": "code",
   "execution_count": 49,
   "id": "e0eddee4-6101-4648-8f48-28e8c27f7342",
   "metadata": {},
   "outputs": [],
   "source": [
    "arr1 = np.array([[0, 1, 2, 3],\n",
    "                 [4, 5, 6, 7]])"
   ]
  },
  {
   "cell_type": "code",
   "execution_count": 50,
   "id": "62337d9c-47b2-4a21-aafe-cada64e97f9f",
   "metadata": {},
   "outputs": [
    {
     "data": {
      "text/plain": [
       "array([[0, 1, 2, 3],\n",
       "       [4, 5, 6, 7]])"
      ]
     },
     "execution_count": 50,
     "metadata": {},
     "output_type": "execute_result"
    }
   ],
   "source": [
    "arr1"
   ]
  },
  {
   "cell_type": "code",
   "execution_count": 51,
   "id": "9a33a6fd-c09d-4a73-9a8c-b799bde963da",
   "metadata": {},
   "outputs": [
    {
     "data": {
      "text/plain": [
       "array([0, 1, 2, 3])"
      ]
     },
     "execution_count": 51,
     "metadata": {},
     "output_type": "execute_result"
    }
   ],
   "source": [
    "# 첫 번째 행 전체\n",
    "arr1[0, :]"
   ]
  },
  {
   "cell_type": "code",
   "execution_count": 52,
   "id": "4cc6e7fa-a3b0-4f24-8d1f-bf8185079578",
   "metadata": {},
   "outputs": [
    {
     "data": {
      "text/plain": [
       "array([1, 5])"
      ]
     },
     "execution_count": 52,
     "metadata": {},
     "output_type": "execute_result"
    }
   ],
   "source": [
    "# 두 번째 열 전체\n",
    "arr1[:, 1]"
   ]
  },
  {
   "cell_type": "code",
   "execution_count": 53,
   "id": "578e4208-b1a0-4a9b-88f6-1a341a810cad",
   "metadata": {},
   "outputs": [
    {
     "data": {
      "text/plain": [
       "array([5, 6, 7])"
      ]
     },
     "execution_count": 53,
     "metadata": {},
     "output_type": "execute_result"
    }
   ],
   "source": [
    "# 두 번째 행의 두 번째 열부터 끝 열까지\n",
    "arr1[1, 1:]"
   ]
  },
  {
   "cell_type": "code",
   "execution_count": 54,
   "id": "75d2d7d5-03da-49f6-b40f-6c86994be4d2",
   "metadata": {},
   "outputs": [
    {
     "data": {
      "text/plain": [
       "array([[0, 1],\n",
       "       [4, 5]])"
      ]
     },
     "execution_count": 54,
     "metadata": {},
     "output_type": "execute_result"
    }
   ],
   "source": [
    "# 각 행의 두 번째 열까지\n",
    "arr1[:, :2]"
   ]
  },
  {
   "cell_type": "markdown",
   "id": "b515c0f4-1af4-4f50-88df-6ec035851714",
   "metadata": {},
   "source": [
    "- 연습문제\n",
    "\n",
    "1. 아래의 행렬에서 값 7을 인덱싱\n",
    "\n",
    "2. 아래의 행렬에서 값 14를 인덱싱\n",
    "\n",
    "3. 아래의 행렬에서 배열 [6, 7] 을 슬라이싱\n",
    "\n",
    "4. 아래의 행렬에서 배열 [7, 12] 를 슬라이싱\n",
    "\n",
    "5. 아래의 행렬에서 배열 [[3, 4], [8, 9]] 를 슬라이싱"
   ]
  },
  {
   "cell_type": "code",
   "execution_count": 55,
   "id": "6fc0c7ae-c3b3-40a3-8980-f3ae5d01478b",
   "metadata": {},
   "outputs": [],
   "source": [
    "m = np.arange(15).reshape(3, -1)"
   ]
  },
  {
   "cell_type": "code",
   "execution_count": 56,
   "id": "55b9c660-5e3e-4e99-b339-a76ff1e473d3",
   "metadata": {},
   "outputs": [
    {
     "data": {
      "text/plain": [
       "array([[ 0,  1,  2,  3,  4],\n",
       "       [ 5,  6,  7,  8,  9],\n",
       "       [10, 11, 12, 13, 14]])"
      ]
     },
     "execution_count": 56,
     "metadata": {},
     "output_type": "execute_result"
    }
   ],
   "source": [
    "m"
   ]
  },
  {
   "cell_type": "code",
   "execution_count": 59,
   "id": "c883c767-b689-4e77-8adc-9ab045d4e450",
   "metadata": {},
   "outputs": [
    {
     "data": {
      "text/plain": [
       "7"
      ]
     },
     "execution_count": 59,
     "metadata": {},
     "output_type": "execute_result"
    }
   ],
   "source": [
    "# 1. 아래의 행렬에서 값 7을 인덱싱\n",
    "m[1, 2]"
   ]
  },
  {
   "cell_type": "code",
   "execution_count": 61,
   "id": "ce041632-9069-4875-ac4f-0345a8c4b054",
   "metadata": {},
   "outputs": [
    {
     "data": {
      "text/plain": [
       "14"
      ]
     },
     "execution_count": 61,
     "metadata": {},
     "output_type": "execute_result"
    }
   ],
   "source": [
    "# 2. 아래의 행렬에서 값 14를 인덱싱\n",
    "m[2, -1]"
   ]
  },
  {
   "cell_type": "code",
   "execution_count": 62,
   "id": "f90bdaf4-29ff-44e0-991c-4bcab2ca17a8",
   "metadata": {},
   "outputs": [
    {
     "data": {
      "text/plain": [
       "array([6, 7])"
      ]
     },
     "execution_count": 62,
     "metadata": {},
     "output_type": "execute_result"
    }
   ],
   "source": [
    "# 3. 아래의 행렬에서 배열 [6, 7] 을 슬라이싱\n",
    "m[1, 1:3]"
   ]
  },
  {
   "cell_type": "code",
   "execution_count": 63,
   "id": "4c38186c-6572-49b6-a765-7f642c07a2ba",
   "metadata": {},
   "outputs": [
    {
     "data": {
      "text/plain": [
       "array([ 7, 12])"
      ]
     },
     "execution_count": 63,
     "metadata": {},
     "output_type": "execute_result"
    }
   ],
   "source": [
    "# 4. 아래의 행렬에서 배열 [7, 12] 를 슬라이싱\n",
    "m[1:, 2]"
   ]
  },
  {
   "cell_type": "code",
   "execution_count": 64,
   "id": "e3138151-2e1b-417c-9d0d-234045ed2ac3",
   "metadata": {},
   "outputs": [
    {
     "data": {
      "text/plain": [
       "array([[3, 4],\n",
       "       [8, 9]])"
      ]
     },
     "execution_count": 64,
     "metadata": {},
     "output_type": "execute_result"
    }
   ],
   "source": [
    "# 5. 아래의 행렬에서 배열 [[3, 4], [8, 9]] 를 슬라이싱\n",
    "m[:2, 3:]"
   ]
  },
  {
   "cell_type": "markdown",
   "id": "f81bdd53-1657-416c-87dd-9965800876d2",
   "metadata": {},
   "source": [
    "## 파이썬 리스트와 넘파이 배열의 차이\n",
    "\n",
    "- 넘파이 배열은 배열끼리 연산이 가능하지만 파이썬 리스트는 값의 추가만 가능\n",
    "\n",
    "- 넘파이 배열은 숫자와의 연산도 가능하지만 파이썬 리스트는 불가능\n",
    "    - 파이썬 리스트 : 곱셈으로 리스트 요소를 반복하는 것은 가능\n",
    " \n",
    "- 사용 용도\n",
    "    - 파이썬 리스트는 값을 추가하거나 제거하는 일에 사용\n",
    "    - 넘파이 배열은 수치 계산이 많고 복잡하거나 다차원 배열이 필요할 때 사용"
   ]
  },
  {
   "cell_type": "markdown",
   "id": "5c738087-4a79-412f-a33e-f68b8442c16c",
   "metadata": {},
   "source": [
    "### 전치 연산(transpose)\n",
    "\n",
    "- 2차원 배열의 행과 열을 바꾸는 연산"
   ]
  },
  {
   "cell_type": "code",
   "execution_count": 65,
   "id": "4f1f1c96-4d97-43ef-99fe-66c6a9285a68",
   "metadata": {},
   "outputs": [],
   "source": [
    "arr = np.array([[1, 2, 3],\n",
    "                [4, 5, 6]])"
   ]
  },
  {
   "cell_type": "code",
   "execution_count": 66,
   "id": "070a3830-73ec-4542-9219-013cb679a4ac",
   "metadata": {},
   "outputs": [
    {
     "data": {
      "text/plain": [
       "array([[1, 2, 3],\n",
       "       [4, 5, 6]])"
      ]
     },
     "execution_count": 66,
     "metadata": {},
     "output_type": "execute_result"
    }
   ],
   "source": [
    "arr"
   ]
  },
  {
   "cell_type": "code",
   "execution_count": 67,
   "id": "a6b03dee-c64e-4eb4-9140-f4939f59f42d",
   "metadata": {},
   "outputs": [
    {
     "data": {
      "text/plain": [
       "(2, 3)"
      ]
     },
     "execution_count": 67,
     "metadata": {},
     "output_type": "execute_result"
    }
   ],
   "source": [
    "arr.shape"
   ]
  },
  {
   "cell_type": "code",
   "execution_count": 68,
   "id": "53c01d0c-9c74-439a-9b2b-6032a9e26ba5",
   "metadata": {},
   "outputs": [
    {
     "data": {
      "text/plain": [
       "array([[1, 4],\n",
       "       [2, 5],\n",
       "       [3, 6]])"
      ]
     },
     "execution_count": 68,
     "metadata": {},
     "output_type": "execute_result"
    }
   ],
   "source": [
    "# 전치\n",
    "arr.T"
   ]
  },
  {
   "cell_type": "code",
   "execution_count": 69,
   "id": "0fead87e-329c-4ecb-ad56-2d7dda503e7f",
   "metadata": {},
   "outputs": [
    {
     "data": {
      "text/plain": [
       "(3, 2)"
      ]
     },
     "execution_count": 69,
     "metadata": {},
     "output_type": "execute_result"
    }
   ],
   "source": [
    "arr.T.shape"
   ]
  },
  {
   "cell_type": "markdown",
   "id": "4ed96d8a-694c-4ad8-b0db-6724adf88623",
   "metadata": {},
   "source": [
    "### 배열 크기 변형"
   ]
  },
  {
   "cell_type": "code",
   "execution_count": 70,
   "id": "4f099b7d-0416-4b9b-964e-b4125631dcf5",
   "metadata": {},
   "outputs": [],
   "source": [
    "arr1 = np.arange(12)"
   ]
  },
  {
   "cell_type": "code",
   "execution_count": 71,
   "id": "6948bac5-278b-42cf-9112-e188d00aad80",
   "metadata": {},
   "outputs": [
    {
     "data": {
      "text/plain": [
       "array([ 0,  1,  2,  3,  4,  5,  6,  7,  8,  9, 10, 11])"
      ]
     },
     "execution_count": 71,
     "metadata": {},
     "output_type": "execute_result"
    }
   ],
   "source": [
    "arr1"
   ]
  },
  {
   "cell_type": "code",
   "execution_count": 76,
   "id": "bd308b84-6406-4ba4-8cb7-af9e40a39cf2",
   "metadata": {},
   "outputs": [],
   "source": [
    "arr2 = arr1.reshape(3, 4)"
   ]
  },
  {
   "cell_type": "code",
   "execution_count": 77,
   "id": "e05c2781-6e91-4d7a-95c4-9bdc644d13e4",
   "metadata": {},
   "outputs": [
    {
     "data": {
      "text/plain": [
       "array([[ 0,  1,  2,  3],\n",
       "       [ 4,  5,  6,  7],\n",
       "       [ 8,  9, 10, 11]])"
      ]
     },
     "execution_count": 77,
     "metadata": {},
     "output_type": "execute_result"
    }
   ],
   "source": [
    "arr2"
   ]
  },
  {
   "cell_type": "markdown",
   "id": "362b4e74-c4b5-4791-8646-e32be1b6aa19",
   "metadata": {},
   "source": [
    "- 사용하는 원소의 수가 정해져 있기 때문에 reshape 의 형태 원소 중 하나는 -1로 대체할 수 있음"
   ]
  },
  {
   "cell_type": "code",
   "execution_count": 87,
   "id": "203bf4a3-65ff-4191-9504-4701c04e518a",
   "metadata": {},
   "outputs": [
    {
     "data": {
      "text/plain": [
       "array([[ 0,  1,  2,  3],\n",
       "       [ 4,  5,  6,  7],\n",
       "       [ 8,  9, 10, 11]])"
      ]
     },
     "execution_count": 87,
     "metadata": {},
     "output_type": "execute_result"
    }
   ],
   "source": [
    "arr1.reshape(3, -1)"
   ]
  },
  {
   "cell_type": "code",
   "execution_count": 85,
   "id": "dc9b5a41-ac2c-4851-94ec-885bce904207",
   "metadata": {},
   "outputs": [
    {
     "data": {
      "text/plain": [
       "array([[[ 0,  1,  2],\n",
       "        [ 3,  4,  5]],\n",
       "\n",
       "       [[ 6,  7,  8],\n",
       "        [ 9, 10, 11]]])"
      ]
     },
     "execution_count": 85,
     "metadata": {},
     "output_type": "execute_result"
    }
   ],
   "source": [
    "arr1.reshape(2, 2, -1)"
   ]
  },
  {
   "cell_type": "code",
   "execution_count": 80,
   "id": "ab9169d1-b974-43f0-9b5a-b5217ca1b773",
   "metadata": {},
   "outputs": [
    {
     "data": {
      "text/plain": [
       "array([[[ 0,  1],\n",
       "        [ 2,  3],\n",
       "        [ 4,  5]],\n",
       "\n",
       "       [[ 6,  7],\n",
       "        [ 8,  9],\n",
       "        [10, 11]]])"
      ]
     },
     "execution_count": 80,
     "metadata": {},
     "output_type": "execute_result"
    }
   ],
   "source": [
    "arr1.reshape(2, -1, 2)"
   ]
  },
  {
   "cell_type": "markdown",
   "id": "27d3f1fc-704b-465e-8610-705fbd378631",
   "metadata": {},
   "source": [
    "# 넘파이 함수의 특징\n",
    "\n",
    "- 벡터화 연산\n",
    "    - 벡터와 행렬의 연산은 구성하는 원소별로 처리하는 것이 보통\n",
    "    - 동일한 인덱스의 원소끼리 계산을 처리하는 것을 벡터화 연산이라고 함\n",
    " \n",
    "- 유니버설 함수(universal function)\n",
    "    - 벡터화 연산을 지원하는 특별한 함수를 유니버설 함수라고 함"
   ]
  },
  {
   "cell_type": "code",
   "execution_count": 88,
   "id": "41c9b932-06e8-4a6f-aafc-81d3cbc576cc",
   "metadata": {},
   "outputs": [],
   "source": [
    "# 일반 파이썬 함수의 타입 확인\n",
    "def test():\n",
    "    pass"
   ]
  },
  {
   "cell_type": "code",
   "execution_count": 89,
   "id": "1aacd0b6-c551-4d5c-94bb-3b6751b8bf33",
   "metadata": {},
   "outputs": [
    {
     "data": {
      "text/plain": [
       "function"
      ]
     },
     "execution_count": 89,
     "metadata": {},
     "output_type": "execute_result"
    }
   ],
   "source": [
    "type(test)"
   ]
  },
  {
   "cell_type": "code",
   "execution_count": 90,
   "id": "daa387c5-afd4-43b3-8ac5-f0974a795559",
   "metadata": {},
   "outputs": [
    {
     "data": {
      "text/plain": [
       "numpy.ufunc"
      ]
     },
     "execution_count": 90,
     "metadata": {},
     "output_type": "execute_result"
    }
   ],
   "source": [
    "# 유니버설 함수 확인\n",
    "type(np.add)"
   ]
  },
  {
   "cell_type": "code",
   "execution_count": 92,
   "id": "77e0cb35-b3ba-44d6-a3a0-b0922f4fcf3f",
   "metadata": {},
   "outputs": [
    {
     "data": {
      "text/plain": [
       "numpy._ArrayFunctionDispatcher"
      ]
     },
     "execution_count": 92,
     "metadata": {},
     "output_type": "execute_result"
    }
   ],
   "source": [
    "# 넘파이 모듈에는 유니버설 함수도 있고 일반 함수도 있음\n",
    "type(np.sort)"
   ]
  },
  {
   "cell_type": "code",
   "execution_count": 94,
   "id": "ba6d2e9f-b451-4ee2-9054-b438400ac328",
   "metadata": {},
   "outputs": [
    {
     "data": {
      "text/plain": [
       "[[1, 2, 3], [4, 5, 6], [1, 2, 3], [4, 5, 6]]"
      ]
     },
     "execution_count": 94,
     "metadata": {},
     "output_type": "execute_result"
    }
   ],
   "source": [
    "list2d + list2d"
   ]
  },
  {
   "cell_type": "code",
   "execution_count": 95,
   "id": "aba81cbb-826d-4515-9f92-3dbef8e8d150",
   "metadata": {},
   "outputs": [
    {
     "data": {
      "text/plain": [
       "array([[ 2,  4,  6],\n",
       "       [ 8, 10, 12]])"
      ]
     },
     "execution_count": 95,
     "metadata": {},
     "output_type": "execute_result"
    }
   ],
   "source": [
    "np.add(list2d, list2d)"
   ]
  },
  {
   "cell_type": "markdown",
   "id": "74f2b0d2-810b-4998-996c-1cf74805001f",
   "metadata": {},
   "source": [
    "## 벡터화 연산\n",
    "\n",
    "- 예) data 리스트 내의 각 값에 2를 곱해야 하는 경우"
   ]
  },
  {
   "cell_type": "code",
   "execution_count": 96,
   "id": "5cd5f9a4-ebfa-4e55-a6e9-cf30b99e3386",
   "metadata": {},
   "outputs": [],
   "source": [
    "# 리스트를 통한 풀이\n",
    "data = list(range(10))"
   ]
  },
  {
   "cell_type": "code",
   "execution_count": 97,
   "id": "f1d2c735-d1e9-46c2-a4e5-77f2237eaff7",
   "metadata": {},
   "outputs": [
    {
     "data": {
      "text/plain": [
       "[0, 1, 2, 3, 4, 5, 6, 7, 8, 9]"
      ]
     },
     "execution_count": 97,
     "metadata": {},
     "output_type": "execute_result"
    }
   ],
   "source": [
    "data"
   ]
  },
  {
   "cell_type": "code",
   "execution_count": 98,
   "id": "6482adab-bb6f-4171-94c6-385a2977cb06",
   "metadata": {},
   "outputs": [
    {
     "data": {
      "text/plain": [
       "[0, 1, 2, 3, 4, 5, 6, 7, 8, 9, 0, 1, 2, 3, 4, 5, 6, 7, 8, 9]"
      ]
     },
     "execution_count": 98,
     "metadata": {},
     "output_type": "execute_result"
    }
   ],
   "source": [
    "data * 2"
   ]
  },
  {
   "cell_type": "code",
   "execution_count": 99,
   "id": "ad119733-05f1-42c8-a0c4-a8c8d736f071",
   "metadata": {},
   "outputs": [
    {
     "data": {
      "text/plain": [
       "[0, 2, 4, 6, 8, 10, 12, 14, 16, 18]"
      ]
     },
     "execution_count": 99,
     "metadata": {},
     "output_type": "execute_result"
    }
   ],
   "source": [
    "ans = []\n",
    "\n",
    "for i in data:\n",
    "    ans.append(i * 2)\n",
    "\n",
    "ans"
   ]
  },
  {
   "cell_type": "code",
   "execution_count": 100,
   "id": "c5a721ed-dcbf-4c58-9d85-64f5011cce60",
   "metadata": {},
   "outputs": [],
   "source": [
    "# 넘파이를 통한 풀이\n",
    "data = np.array(data)"
   ]
  },
  {
   "cell_type": "code",
   "execution_count": 101,
   "id": "9f1b2c9e-0414-40d2-bb03-08a3648c0eec",
   "metadata": {},
   "outputs": [
    {
     "data": {
      "text/plain": [
       "array([ 0,  2,  4,  6,  8, 10, 12, 14, 16, 18])"
      ]
     },
     "execution_count": 101,
     "metadata": {},
     "output_type": "execute_result"
    }
   ],
   "source": [
    "data * 2"
   ]
  },
  {
   "cell_type": "markdown",
   "id": "1defd783-c54a-4eaa-8694-4037c37c4be5",
   "metadata": {},
   "source": [
    "### 넘파이 벡터화 연산\n",
    "\n",
    "- 벡터화 연산은 비교 연산과 논리 연산을 포함한 모든 종류의 수학 연산에 대해 적용됨"
   ]
  },
  {
   "cell_type": "code",
   "execution_count": 102,
   "id": "cec27241-ed13-477b-a97a-02b079633fb0",
   "metadata": {},
   "outputs": [],
   "source": [
    "a = np.array([1, 2, 3])\n",
    "b = np.array([10, 20, 30])"
   ]
  },
  {
   "cell_type": "code",
   "execution_count": 103,
   "id": "7774fe47-3ab8-4324-90b8-c48be46293a3",
   "metadata": {},
   "outputs": [
    {
     "data": {
      "text/plain": [
       "array([1, 2, 3])"
      ]
     },
     "execution_count": 103,
     "metadata": {},
     "output_type": "execute_result"
    }
   ],
   "source": [
    "a"
   ]
  },
  {
   "cell_type": "code",
   "execution_count": 104,
   "id": "08c548c6-2179-4c7f-9ce1-6c29c8dc0081",
   "metadata": {},
   "outputs": [
    {
     "data": {
      "text/plain": [
       "array([10, 20, 30])"
      ]
     },
     "execution_count": 104,
     "metadata": {},
     "output_type": "execute_result"
    }
   ],
   "source": [
    "b"
   ]
  },
  {
   "cell_type": "code",
   "execution_count": 105,
   "id": "b57d8521-efe5-4045-870b-9c6645a2525e",
   "metadata": {},
   "outputs": [
    {
     "data": {
      "text/plain": [
       "array([12, 24, 36])"
      ]
     },
     "execution_count": 105,
     "metadata": {},
     "output_type": "execute_result"
    }
   ],
   "source": [
    "2 * a + b"
   ]
  },
  {
   "cell_type": "code",
   "execution_count": 106,
   "id": "de2c68dd-5f2a-4846-a92c-3a94430e5f21",
   "metadata": {},
   "outputs": [
    {
     "data": {
      "text/plain": [
       "array([False,  True, False])"
      ]
     },
     "execution_count": 106,
     "metadata": {},
     "output_type": "execute_result"
    }
   ],
   "source": [
    "a == 2"
   ]
  },
  {
   "cell_type": "code",
   "execution_count": 107,
   "id": "12b86eb4-3e9f-43b7-9a8d-babe1834fbfd",
   "metadata": {},
   "outputs": [
    {
     "data": {
      "text/plain": [
       "array([False,  True,  True])"
      ]
     },
     "execution_count": 107,
     "metadata": {},
     "output_type": "execute_result"
    }
   ],
   "source": [
    "b > 10"
   ]
  },
  {
   "cell_type": "code",
   "execution_count": 108,
   "id": "ea66b46f-da22-47f3-a5c0-872f9fafc8ca",
   "metadata": {},
   "outputs": [
    {
     "data": {
      "text/plain": [
       "array([False,  True, False])"
      ]
     },
     "execution_count": 108,
     "metadata": {},
     "output_type": "execute_result"
    }
   ],
   "source": [
    "(a == 2) & (b > 10)"
   ]
  },
  {
   "cell_type": "code",
   "execution_count": 109,
   "id": "23b7c7e1-32e4-46bf-b5f3-0c0873fd83b5",
   "metadata": {},
   "outputs": [
    {
     "data": {
      "text/plain": [
       "array([2])"
      ]
     },
     "execution_count": 109,
     "metadata": {},
     "output_type": "execute_result"
    }
   ],
   "source": [
    "a[a == 2]"
   ]
  },
  {
   "cell_type": "markdown",
   "id": "a2107272-8ddf-40bc-a8a7-539cd5b87d20",
   "metadata": {},
   "source": [
    "- 배열끼리의 연산"
   ]
  },
  {
   "cell_type": "code",
   "execution_count": 110,
   "id": "64ebe79e-0671-4674-b387-03ff697e5730",
   "metadata": {},
   "outputs": [],
   "source": [
    "arr1 = np.arange(6, 10)"
   ]
  },
  {
   "cell_type": "code",
   "execution_count": 111,
   "id": "5e11d1c7-c54d-4821-be3c-05899cadb6f5",
   "metadata": {},
   "outputs": [
    {
     "data": {
      "text/plain": [
       "array([6, 7, 8, 9])"
      ]
     },
     "execution_count": 111,
     "metadata": {},
     "output_type": "execute_result"
    }
   ],
   "source": [
    "arr1"
   ]
  },
  {
   "cell_type": "code",
   "execution_count": 112,
   "id": "7ba5565d-5873-494b-b2a7-b7dc76e7dc60",
   "metadata": {},
   "outputs": [],
   "source": [
    "arr2 = np.arange(10, 14)"
   ]
  },
  {
   "cell_type": "code",
   "execution_count": 113,
   "id": "ec0ff46b-2d25-4026-8a7c-73635f09ff08",
   "metadata": {},
   "outputs": [
    {
     "data": {
      "text/plain": [
       "array([10, 11, 12, 13])"
      ]
     },
     "execution_count": 113,
     "metadata": {},
     "output_type": "execute_result"
    }
   ],
   "source": [
    "arr2"
   ]
  },
  {
   "cell_type": "code",
   "execution_count": 114,
   "id": "695eacd7-3fe3-4225-8262-0ee6435efc0e",
   "metadata": {},
   "outputs": [
    {
     "data": {
      "text/plain": [
       "array([ 60,  77,  96, 117])"
      ]
     },
     "execution_count": 114,
     "metadata": {},
     "output_type": "execute_result"
    }
   ],
   "source": [
    "# 두 개의 다차원 배열을 곱하면 동일한 인덱스의 원소끼리 곱셈한 결과인 1차원 배열이 반환됨\n",
    "arr1 * arr2"
   ]
  },
  {
   "cell_type": "code",
   "execution_count": 115,
   "id": "5bf2c626-14ba-44d3-ac2b-77f5b82a3760",
   "metadata": {},
   "outputs": [],
   "source": [
    "# arr1 에 차원 추가(수직축 추가)\n",
    "new_arr1 = arr1.reshape(-1, 1)"
   ]
  },
  {
   "cell_type": "code",
   "execution_count": 116,
   "id": "87e94796-d6c7-4450-b857-f400c1ec8911",
   "metadata": {},
   "outputs": [
    {
     "data": {
      "text/plain": [
       "array([[6],\n",
       "       [7],\n",
       "       [8],\n",
       "       [9]])"
      ]
     },
     "execution_count": 116,
     "metadata": {},
     "output_type": "execute_result"
    }
   ],
   "source": [
    "new_arr1"
   ]
  },
  {
   "cell_type": "code",
   "execution_count": 117,
   "id": "9b194a53-52ba-48be-920b-5f41640fc68f",
   "metadata": {},
   "outputs": [
    {
     "data": {
      "text/plain": [
       "(4, 1)"
      ]
     },
     "execution_count": 117,
     "metadata": {},
     "output_type": "execute_result"
    }
   ],
   "source": [
    "new_arr1.shape"
   ]
  },
  {
   "cell_type": "code",
   "execution_count": 118,
   "id": "add1bcdb-f837-4b9e-b81b-f124ee4dbff2",
   "metadata": {},
   "outputs": [],
   "source": [
    "# arr2 에 차원 추가(수평축 추가)\n",
    "new_arr2 = arr2.reshape(1, -1)"
   ]
  },
  {
   "cell_type": "code",
   "execution_count": 119,
   "id": "94b2dbbb-c787-4ca1-9832-909b6c2a6029",
   "metadata": {},
   "outputs": [
    {
     "data": {
      "text/plain": [
       "array([[10, 11, 12, 13]])"
      ]
     },
     "execution_count": 119,
     "metadata": {},
     "output_type": "execute_result"
    }
   ],
   "source": [
    "new_arr2"
   ]
  },
  {
   "cell_type": "code",
   "execution_count": 120,
   "id": "c25c74e2-d0d6-495d-955f-06c7a4c7e16f",
   "metadata": {},
   "outputs": [
    {
     "data": {
      "text/plain": [
       "(1, 4)"
      ]
     },
     "execution_count": 120,
     "metadata": {},
     "output_type": "execute_result"
    }
   ],
   "source": [
    "new_arr2.shape"
   ]
  },
  {
   "cell_type": "code",
   "execution_count": 121,
   "id": "bb80cb9f-a673-4e28-add2-b01808124b8f",
   "metadata": {},
   "outputs": [
    {
     "data": {
      "text/plain": [
       "array([[ 60,  66,  72,  78],\n",
       "       [ 70,  77,  84,  91],\n",
       "       [ 80,  88,  96, 104],\n",
       "       [ 90,  99, 108, 117]])"
      ]
     },
     "execution_count": 121,
     "metadata": {},
     "output_type": "execute_result"
    }
   ],
   "source": [
    "# 배열 곱 연산\n",
    "new_arr1 * new_arr2"
   ]
  },
  {
   "cell_type": "code",
   "execution_count": 122,
   "id": "9c49d2bd-09b1-41f0-ab45-63868a8c6042",
   "metadata": {},
   "outputs": [
    {
     "data": {
      "text/plain": [
       "array([[ 60,  66,  72,  78],\n",
       "       [ 70,  77,  84,  91],\n",
       "       [ 80,  88,  96, 104],\n",
       "       [ 90,  99, 108, 117]])"
      ]
     },
     "execution_count": 122,
     "metadata": {},
     "output_type": "execute_result"
    }
   ],
   "source": [
    "# 행렬곱 연산\n",
    "new_arr1 @ new_arr2"
   ]
  },
  {
   "cell_type": "code",
   "execution_count": 123,
   "id": "4e28fef5-312e-4120-a00e-5be6cebca9cc",
   "metadata": {},
   "outputs": [],
   "source": [
    "a = np.array([[1, 2],\n",
    "              [3, 4]])\n",
    "b = np.array([[5, 6],\n",
    "              [7, 8]])"
   ]
  },
  {
   "cell_type": "code",
   "execution_count": 124,
   "id": "75d266aa-cde5-4065-9549-7c2caa7d2038",
   "metadata": {},
   "outputs": [
    {
     "data": {
      "text/plain": [
       "array([[ 5, 12],\n",
       "       [21, 32]])"
      ]
     },
     "execution_count": 124,
     "metadata": {},
     "output_type": "execute_result"
    }
   ],
   "source": [
    "# * 연산자는 요소별 곱셈을 수행\n",
    "a * b"
   ]
  },
  {
   "cell_type": "code",
   "execution_count": 125,
   "id": "27c5f809-aaab-45cf-be90-46cc1f010bf2",
   "metadata": {},
   "outputs": [
    {
     "data": {
      "text/plain": [
       "array([[19, 22],\n",
       "       [43, 50]])"
      ]
     },
     "execution_count": 125,
     "metadata": {},
     "output_type": "execute_result"
    }
   ],
   "source": [
    "# @ 연산자는 행렬 곱을 수행\n",
    "a @ b"
   ]
  },
  {
   "cell_type": "markdown",
   "id": "63d87f64-46e3-47f0-b6a7-7ae714053d1b",
   "metadata": {},
   "source": [
    "## 브로드캐스팅(broadcasting)\n",
    "\n",
    "- 배열끼리 연산을 하기 위해서는 두 배열의 크기가 같아야 함\n",
    "\n",
    "- 서로 다른 크기를 가진 배열의 사칙 연산을 하는 경우 넘파이에서는 크기가 작은 배열을 자동으로 반복 확장하여 크기가 큰 배열에 맞춤"
   ]
  },
  {
   "cell_type": "code",
   "execution_count": 126,
   "id": "99102e4b-15a3-4ef4-b20a-cdd7f39d8ddd",
   "metadata": {},
   "outputs": [
    {
     "data": {
      "text/plain": [
       "array([[6],\n",
       "       [7],\n",
       "       [8],\n",
       "       [9]])"
      ]
     },
     "execution_count": 126,
     "metadata": {},
     "output_type": "execute_result"
    }
   ],
   "source": [
    "new_arr1"
   ]
  },
  {
   "cell_type": "code",
   "execution_count": 127,
   "id": "8f36f696-42b8-49ac-b71b-5c9c61a23cf4",
   "metadata": {},
   "outputs": [
    {
     "data": {
      "text/plain": [
       "array([[10, 11, 12, 13]])"
      ]
     },
     "execution_count": 127,
     "metadata": {},
     "output_type": "execute_result"
    }
   ],
   "source": [
    "new_arr2"
   ]
  },
  {
   "cell_type": "code",
   "execution_count": 128,
   "id": "81d777f9-678a-418b-b0c2-cdaa06fc4f68",
   "metadata": {},
   "outputs": [
    {
     "data": {
      "text/plain": [
       "array([[16, 17, 18, 19],\n",
       "       [17, 18, 19, 20],\n",
       "       [18, 19, 20, 21],\n",
       "       [19, 20, 21, 22]])"
      ]
     },
     "execution_count": 128,
     "metadata": {},
     "output_type": "execute_result"
    }
   ],
   "source": [
    "new_arr1 + new_arr2"
   ]
  },
  {
   "cell_type": "markdown",
   "id": "fb8be3f6-6e35-4fa3-804c-159e57e08158",
   "metadata": {},
   "source": [
    "- 연습문제\n",
    "\n",
    "1. 아래의 배열에서 3의 배수를 찾기\n",
    "\n",
    "2. 아래의 배열에서 4로 나누면 1이 남는 수를 찾기\n",
    "\n",
    "3. 아래의 배열에서 3으로 나누면 나누어지고 4로 나누면 1이 남는 수를 찾기"
   ]
  },
  {
   "cell_type": "code",
   "execution_count": 129,
   "id": "d7c05878-ff76-4916-836f-d92201fce462",
   "metadata": {},
   "outputs": [],
   "source": [
    "x = np.arange(1, 21)"
   ]
  },
  {
   "cell_type": "code",
   "execution_count": 130,
   "id": "dffe3f46-708c-4581-bf0c-f8774abb2b9b",
   "metadata": {},
   "outputs": [
    {
     "data": {
      "text/plain": [
       "array([ 1,  2,  3,  4,  5,  6,  7,  8,  9, 10, 11, 12, 13, 14, 15, 16, 17,\n",
       "       18, 19, 20])"
      ]
     },
     "execution_count": 130,
     "metadata": {},
     "output_type": "execute_result"
    }
   ],
   "source": [
    "x"
   ]
  },
  {
   "cell_type": "code",
   "execution_count": 133,
   "id": "847a7b17-8718-4a8e-832d-ef5c62d803c6",
   "metadata": {},
   "outputs": [
    {
     "data": {
      "text/plain": [
       "array([ 3,  6,  9, 12, 15, 18])"
      ]
     },
     "execution_count": 133,
     "metadata": {},
     "output_type": "execute_result"
    }
   ],
   "source": [
    "# 1. 아래의 배열에서 3의 배수를 찾기\n",
    "x[x % 3 == 0]"
   ]
  },
  {
   "cell_type": "code",
   "execution_count": 136,
   "id": "f5796b4e-f3a9-4fb5-b256-34048b95e5e2",
   "metadata": {},
   "outputs": [
    {
     "data": {
      "text/plain": [
       "array([ 1,  5,  9, 13, 17])"
      ]
     },
     "execution_count": 136,
     "metadata": {},
     "output_type": "execute_result"
    }
   ],
   "source": [
    "# 2. 아래의 배열에서 4로 나누면 1이 남는 수를 찾기\n",
    "x[x % 4 == 1]"
   ]
  },
  {
   "cell_type": "code",
   "execution_count": 141,
   "id": "2c6f48d0-dfd9-436f-a415-47deffcd129e",
   "metadata": {},
   "outputs": [
    {
     "data": {
      "text/plain": [
       "array([9])"
      ]
     },
     "execution_count": 141,
     "metadata": {},
     "output_type": "execute_result"
    }
   ],
   "source": [
    "# 3. 아래의 배열에서 3으로 나누면 나누어지고 4로 나누면 1이 남는 수를 찾기\n",
    "x[(x % 3 == 0) & (x % 4 == 1)]"
   ]
  },
  {
   "cell_type": "markdown",
   "id": "8bacb934-542f-47cb-936d-73da2fd2680c",
   "metadata": {},
   "source": [
    "## 축에 따른 연산\n",
    "\n",
    "- 동일한 축에 있는 원소들을 계산하기 위해서 필요함"
   ]
  },
  {
   "cell_type": "code",
   "execution_count": 142,
   "id": "3f260b8e-6c77-4a59-b5a9-032630d7df56",
   "metadata": {},
   "outputs": [],
   "source": [
    "# 1차원 배열\n",
    "arr1 = np.array([1, 2, 3, 4])"
   ]
  },
  {
   "cell_type": "code",
   "execution_count": 143,
   "id": "b5db6212-6b0a-4487-877b-f65c143060a8",
   "metadata": {},
   "outputs": [
    {
     "data": {
      "text/plain": [
       "array([1, 2, 3, 4])"
      ]
     },
     "execution_count": 143,
     "metadata": {},
     "output_type": "execute_result"
    }
   ],
   "source": [
    "arr1"
   ]
  },
  {
   "cell_type": "code",
   "execution_count": 144,
   "id": "b5377cd1-8e01-42d2-a00e-963200807373",
   "metadata": {},
   "outputs": [
    {
     "data": {
      "text/plain": [
       "10"
      ]
     },
     "execution_count": 144,
     "metadata": {},
     "output_type": "execute_result"
    }
   ],
   "source": [
    "# 합계\n",
    "np.sum(arr1)"
   ]
  },
  {
   "cell_type": "code",
   "execution_count": 145,
   "id": "0967e54a-77e1-4a7e-a855-59b2b9684d95",
   "metadata": {},
   "outputs": [
    {
     "data": {
      "text/plain": [
       "10"
      ]
     },
     "execution_count": 145,
     "metadata": {},
     "output_type": "execute_result"
    }
   ],
   "source": [
    "arr1.sum()"
   ]
  },
  {
   "cell_type": "code",
   "execution_count": 146,
   "id": "15dc46e4-a021-4067-98c5-e8954c2408ea",
   "metadata": {},
   "outputs": [
    {
     "data": {
      "text/plain": [
       "4"
      ]
     },
     "execution_count": 146,
     "metadata": {},
     "output_type": "execute_result"
    }
   ],
   "source": [
    "# 최댓값\n",
    "arr1.max()"
   ]
  },
  {
   "cell_type": "code",
   "execution_count": 147,
   "id": "278dbaf4-9540-4a3b-96ef-75af54156a7c",
   "metadata": {},
   "outputs": [
    {
     "data": {
      "text/plain": [
       "1"
      ]
     },
     "execution_count": 147,
     "metadata": {},
     "output_type": "execute_result"
    }
   ],
   "source": [
    "# 최솟값\n",
    "arr1.min()"
   ]
  },
  {
   "cell_type": "code",
   "execution_count": 148,
   "id": "0a78a4c0-914b-4475-8ad2-0c3636c0235b",
   "metadata": {},
   "outputs": [
    {
     "data": {
      "text/plain": [
       "0"
      ]
     },
     "execution_count": 148,
     "metadata": {},
     "output_type": "execute_result"
    }
   ],
   "source": [
    "# 최솟값의 위치\n",
    "arr1.argmin()"
   ]
  },
  {
   "cell_type": "code",
   "execution_count": 149,
   "id": "f3b25586-ec2e-4349-85b3-934bd67909e1",
   "metadata": {},
   "outputs": [
    {
     "data": {
      "text/plain": [
       "3"
      ]
     },
     "execution_count": 149,
     "metadata": {},
     "output_type": "execute_result"
    }
   ],
   "source": [
    "# 최댓값의 위치\n",
    "arr1.argmax()"
   ]
  },
  {
   "cell_type": "code",
   "execution_count": 150,
   "id": "f2886693-3070-4553-b7ee-b822fb7adb23",
   "metadata": {},
   "outputs": [
    {
     "data": {
      "text/plain": [
       "2.5"
      ]
     },
     "execution_count": 150,
     "metadata": {},
     "output_type": "execute_result"
    }
   ],
   "source": [
    "# 평균\n",
    "arr1.mean()"
   ]
  },
  {
   "cell_type": "code",
   "execution_count": 151,
   "id": "b14a60af-9ec8-415a-90fc-b48917765af5",
   "metadata": {},
   "outputs": [
    {
     "data": {
      "text/plain": [
       "2.5"
      ]
     },
     "execution_count": 151,
     "metadata": {},
     "output_type": "execute_result"
    }
   ],
   "source": [
    "# 중앙값\n",
    "np.median(arr1)"
   ]
  },
  {
   "cell_type": "code",
   "execution_count": 152,
   "id": "a4579cbb-e72d-4ca4-a573-c6ba3380d1a4",
   "metadata": {},
   "outputs": [],
   "source": [
    "# 2차원 배열\n",
    "arr2 = arr1.reshape(2, 2)"
   ]
  },
  {
   "cell_type": "code",
   "execution_count": 153,
   "id": "93e2d916-866f-4b54-a9e2-1267d4622eb1",
   "metadata": {},
   "outputs": [
    {
     "data": {
      "text/plain": [
       "array([[1, 2],\n",
       "       [3, 4]])"
      ]
     },
     "execution_count": 153,
     "metadata": {},
     "output_type": "execute_result"
    }
   ],
   "source": [
    "arr2"
   ]
  },
  {
   "cell_type": "code",
   "execution_count": 154,
   "id": "ba1d5266-15f6-458b-b00c-974434195ac3",
   "metadata": {},
   "outputs": [
    {
     "data": {
      "text/plain": [
       "10"
      ]
     },
     "execution_count": 154,
     "metadata": {},
     "output_type": "execute_result"
    }
   ],
   "source": [
    "# 모든 원소를 더한 합\n",
    "np.sum(arr2)"
   ]
  },
  {
   "cell_type": "code",
   "execution_count": 155,
   "id": "d0689e52-e462-4229-ad62-28e4480fc255",
   "metadata": {},
   "outputs": [
    {
     "data": {
      "text/plain": [
       "array([4, 6])"
      ]
     },
     "execution_count": 155,
     "metadata": {},
     "output_type": "execute_result"
    }
   ],
   "source": [
    "# 수직방향으로 같은 열에 속한 원소만 합산\n",
    "np.sum(arr2, axis = 0)"
   ]
  },
  {
   "cell_type": "code",
   "execution_count": 156,
   "id": "3afd1a08-d5fc-4169-8a2a-244987868894",
   "metadata": {},
   "outputs": [
    {
     "data": {
      "text/plain": [
       "array([3, 7])"
      ]
     },
     "execution_count": 156,
     "metadata": {},
     "output_type": "execute_result"
    }
   ],
   "source": [
    "# 수평방향으로 같은 행에 속한 원소만 합산\n",
    "np.sum(arr2, axis = 1)"
   ]
  },
  {
   "cell_type": "code",
   "execution_count": 157,
   "id": "29ece98d-bb07-4731-998b-471afbc6cc7a",
   "metadata": {},
   "outputs": [],
   "source": [
    "arr3 = np.random.randint(0, 3, (2, 3))"
   ]
  },
  {
   "cell_type": "code",
   "execution_count": 158,
   "id": "99d5c360-8f8f-4a33-968f-89073f200dd0",
   "metadata": {},
   "outputs": [
    {
     "data": {
      "text/plain": [
       "array([[0, 2, 2],\n",
       "       [1, 1, 0]])"
      ]
     },
     "execution_count": 158,
     "metadata": {},
     "output_type": "execute_result"
    }
   ],
   "source": [
    "arr3"
   ]
  },
  {
   "cell_type": "code",
   "execution_count": 159,
   "id": "3adbe04d-bf10-4a2d-b4c0-ef7f949bc582",
   "metadata": {},
   "outputs": [
    {
     "data": {
      "text/plain": [
       "6"
      ]
     },
     "execution_count": 159,
     "metadata": {},
     "output_type": "execute_result"
    }
   ],
   "source": [
    "np.sum(arr3)"
   ]
  },
  {
   "cell_type": "code",
   "execution_count": 160,
   "id": "6bf7bab1-aebe-479d-9294-bdcfb00f6bf7",
   "metadata": {},
   "outputs": [
    {
     "data": {
      "text/plain": [
       "array([1, 3, 2])"
      ]
     },
     "execution_count": 160,
     "metadata": {},
     "output_type": "execute_result"
    }
   ],
   "source": [
    "np.sum(arr3, axis = 0)"
   ]
  },
  {
   "cell_type": "code",
   "execution_count": 161,
   "id": "7a19725f-e2a6-45c2-9ca5-e7a4d5b0f9e6",
   "metadata": {},
   "outputs": [
    {
     "data": {
      "text/plain": [
       "array([4, 2])"
      ]
     },
     "execution_count": 161,
     "metadata": {},
     "output_type": "execute_result"
    }
   ],
   "source": [
    "np.sum(arr3, axis = 1)"
   ]
  },
  {
   "cell_type": "code",
   "execution_count": 162,
   "id": "7cc8142d-cc7f-4351-9569-c74860459225",
   "metadata": {},
   "outputs": [],
   "source": [
    "# 3차원배열\n",
    "arr4 = np.arange(1, 9)"
   ]
  },
  {
   "cell_type": "code",
   "execution_count": 163,
   "id": "af4ea8c3-a5f4-4d7f-9a7b-005b51ff835f",
   "metadata": {},
   "outputs": [
    {
     "data": {
      "text/plain": [
       "array([1, 2, 3, 4, 5, 6, 7, 8])"
      ]
     },
     "execution_count": 163,
     "metadata": {},
     "output_type": "execute_result"
    }
   ],
   "source": [
    "arr4"
   ]
  },
  {
   "cell_type": "code",
   "execution_count": 165,
   "id": "268ab8ca-aeb1-4fc2-ba3c-336edfbe9f5c",
   "metadata": {},
   "outputs": [],
   "source": [
    "arr5 = arr4.reshape(2, 2, 2)"
   ]
  },
  {
   "cell_type": "code",
   "execution_count": 166,
   "id": "14f37709-d468-451e-9458-e9ec146a4b8a",
   "metadata": {},
   "outputs": [
    {
     "data": {
      "text/plain": [
       "array([[[1, 2],\n",
       "        [3, 4]],\n",
       "\n",
       "       [[5, 6],\n",
       "        [7, 8]]])"
      ]
     },
     "execution_count": 166,
     "metadata": {},
     "output_type": "execute_result"
    }
   ],
   "source": [
    "arr5"
   ]
  },
  {
   "cell_type": "code",
   "execution_count": 167,
   "id": "05dbee15-9bb5-481e-853d-7cabe6f9d659",
   "metadata": {},
   "outputs": [
    {
     "data": {
      "text/plain": [
       "36"
      ]
     },
     "execution_count": 167,
     "metadata": {},
     "output_type": "execute_result"
    }
   ],
   "source": [
    "# 모든 원소를 더한 합\n",
    "np.sum(arr5)"
   ]
  },
  {
   "cell_type": "code",
   "execution_count": 168,
   "id": "25315aa0-a0dc-4e5d-8195-79d16378e7f5",
   "metadata": {},
   "outputs": [
    {
     "data": {
      "text/plain": [
       "array([[ 6,  8],\n",
       "       [10, 12]])"
      ]
     },
     "execution_count": 168,
     "metadata": {},
     "output_type": "execute_result"
    }
   ],
   "source": [
    "# 두 개의 행렬의 동일한 인덱스의 원소를 합한 값\n",
    "np.sum(arr5, axis = 0)"
   ]
  },
  {
   "cell_type": "code",
   "execution_count": 169,
   "id": "129a2b13-630c-45f3-8123-7f0cd2ec3e39",
   "metadata": {},
   "outputs": [
    {
     "data": {
      "text/plain": [
       "array([[ 4,  6],\n",
       "       [12, 14]])"
      ]
     },
     "execution_count": 169,
     "metadata": {},
     "output_type": "execute_result"
    }
   ],
   "source": [
    "# 각 2차원 배열의 열의 합\n",
    "np.sum(arr5, axis = 1)"
   ]
  },
  {
   "cell_type": "code",
   "execution_count": 170,
   "id": "808bdfa6-3ce0-45e4-8883-f01024b99cad",
   "metadata": {},
   "outputs": [
    {
     "data": {
      "text/plain": [
       "array([[ 3,  7],\n",
       "       [11, 15]])"
      ]
     },
     "execution_count": 170,
     "metadata": {},
     "output_type": "execute_result"
    }
   ],
   "source": [
    "# 각 2차원 배열의 행의 합\n",
    "np.sum(arr5, axis = 2)"
   ]
  },
  {
   "cell_type": "code",
   "execution_count": 171,
   "id": "058159fe-66a7-443d-a7f7-df6d5ad0c4a5",
   "metadata": {},
   "outputs": [
    {
     "data": {
      "text/plain": [
       "array([16, 20])"
      ]
     },
     "execution_count": 171,
     "metadata": {},
     "output_type": "execute_result"
    }
   ],
   "source": [
    "np.sum(arr5, axis = (0, 1))"
   ]
  },
  {
   "cell_type": "code",
   "execution_count": 172,
   "id": "83f6de3b-b4a8-4524-b6b2-44aefd0d54a1",
   "metadata": {},
   "outputs": [
    {
     "data": {
      "text/plain": [
       "array([14, 22])"
      ]
     },
     "execution_count": 172,
     "metadata": {},
     "output_type": "execute_result"
    }
   ],
   "source": [
    "np.sum(arr5, axis = (0, 2))"
   ]
  },
  {
   "cell_type": "code",
   "execution_count": 173,
   "id": "474589ea-1b7d-4654-bd73-8b9766086e12",
   "metadata": {},
   "outputs": [
    {
     "data": {
      "text/plain": [
       "array([10, 26])"
      ]
     },
     "execution_count": 173,
     "metadata": {},
     "output_type": "execute_result"
    }
   ],
   "source": [
    "np.sum(arr5, axis = (1, 2))"
   ]
  },
  {
   "cell_type": "code",
   "execution_count": 174,
   "id": "57f3e03c-1095-4c76-b58d-0aa40c7bd75e",
   "metadata": {},
   "outputs": [],
   "source": [
    "arr6 = np.random.randint(0, 3, (2, 3, 4))"
   ]
  },
  {
   "cell_type": "code",
   "execution_count": 175,
   "id": "c8e1cf3a-0899-4158-a705-d1defc21e194",
   "metadata": {},
   "outputs": [
    {
     "data": {
      "text/plain": [
       "array([[[1, 0, 0, 1],\n",
       "        [2, 1, 2, 0],\n",
       "        [1, 2, 1, 0]],\n",
       "\n",
       "       [[0, 0, 0, 2],\n",
       "        [2, 1, 0, 0],\n",
       "        [0, 0, 0, 2]]])"
      ]
     },
     "execution_count": 175,
     "metadata": {},
     "output_type": "execute_result"
    }
   ],
   "source": [
    "arr6"
   ]
  },
  {
   "cell_type": "code",
   "execution_count": 176,
   "id": "6352a96d-2a82-4b81-959e-23d096f5891c",
   "metadata": {},
   "outputs": [
    {
     "data": {
      "text/plain": [
       "array([[1, 0, 0, 3],\n",
       "       [4, 2, 2, 0],\n",
       "       [1, 2, 1, 2]])"
      ]
     },
     "execution_count": 176,
     "metadata": {},
     "output_type": "execute_result"
    }
   ],
   "source": [
    "np.sum(arr6, axis = 0 )"
   ]
  },
  {
   "cell_type": "code",
   "execution_count": 177,
   "id": "6629c077-5510-4627-91f5-b459a74f6316",
   "metadata": {},
   "outputs": [
    {
     "data": {
      "text/plain": [
       "array([[4, 3, 3, 1],\n",
       "       [2, 1, 0, 4]])"
      ]
     },
     "execution_count": 177,
     "metadata": {},
     "output_type": "execute_result"
    }
   ],
   "source": [
    "np.sum(arr6, axis = 1)"
   ]
  },
  {
   "cell_type": "code",
   "execution_count": 178,
   "id": "5d87e97a-840a-4d87-93da-89ce5eb89574",
   "metadata": {},
   "outputs": [
    {
     "data": {
      "text/plain": [
       "array([[2, 5, 4],\n",
       "       [2, 3, 2]])"
      ]
     },
     "execution_count": 178,
     "metadata": {},
     "output_type": "execute_result"
    }
   ],
   "source": [
    "np.sum(arr6, axis = 2)"
   ]
  },
  {
   "cell_type": "code",
   "execution_count": 179,
   "id": "e3210cac-0e9e-4004-bc8e-2ae0f76d54f6",
   "metadata": {},
   "outputs": [
    {
     "data": {
      "text/plain": [
       "array([6, 4, 3, 5])"
      ]
     },
     "execution_count": 179,
     "metadata": {},
     "output_type": "execute_result"
    }
   ],
   "source": [
    "np.sum(arr6, axis = (0, 1))"
   ]
  },
  {
   "cell_type": "code",
   "execution_count": 180,
   "id": "99aed881-2363-435f-a6b4-6535e8f3ad80",
   "metadata": {},
   "outputs": [
    {
     "data": {
      "text/plain": [
       "array([4, 8, 6])"
      ]
     },
     "execution_count": 180,
     "metadata": {},
     "output_type": "execute_result"
    }
   ],
   "source": [
    "np.sum(arr6, axis = (0, 2))"
   ]
  },
  {
   "cell_type": "code",
   "execution_count": 181,
   "id": "d39981d6-4d22-4589-9d7e-2b0430510d25",
   "metadata": {},
   "outputs": [
    {
     "data": {
      "text/plain": [
       "array([11,  7])"
      ]
     },
     "execution_count": 181,
     "metadata": {},
     "output_type": "execute_result"
    }
   ],
   "source": [
    "np.sum(arr6, axis = (1, 2))"
   ]
  },
  {
   "cell_type": "markdown",
   "id": "8aa056de-14e0-4a9c-a11d-d56eed7e7c4e",
   "metadata": {},
   "source": [
    "- 연습문제\n",
    "\n",
    "    - 실수로 이루어진 5 x 6 형태의 데이터행렬에서 다음의 값을 구하기\n",
    "    1. 전체의 최댓값\n",
    " \n",
    "    2. 각 행의 합\n",
    " \n",
    "    3. 각 행의 최댓값\n",
    " \n",
    "    4. 각 열의 평균\n",
    " \n",
    "    5. 각 열의 최솟값"
   ]
  },
  {
   "cell_type": "code",
   "execution_count": 182,
   "id": "5ae5a672-ba49-4782-9490-c4ac7ba6a2d1",
   "metadata": {},
   "outputs": [],
   "source": [
    "x = np.random.random((5, 6))"
   ]
  },
  {
   "cell_type": "code",
   "execution_count": 183,
   "id": "dba27149-d810-40f6-b68c-1aff9184bd1b",
   "metadata": {},
   "outputs": [
    {
     "data": {
      "text/plain": [
       "array([[0.88496962, 0.94547027, 0.19790391, 0.31519035, 0.04802272,\n",
       "        0.76409781],\n",
       "       [0.99483811, 0.97379205, 0.67627995, 0.68706777, 0.58675935,\n",
       "        0.42253889],\n",
       "       [0.24340763, 0.84163185, 0.75831677, 0.98443391, 0.8947432 ,\n",
       "        0.8194034 ],\n",
       "       [0.8028178 , 0.18076112, 0.93923563, 0.21580778, 0.01706287,\n",
       "        0.05307715],\n",
       "       [0.29862463, 0.36645373, 0.71017424, 0.28210372, 0.5657446 ,\n",
       "        0.49270491]])"
      ]
     },
     "execution_count": 183,
     "metadata": {},
     "output_type": "execute_result"
    }
   ],
   "source": [
    "x"
   ]
  },
  {
   "cell_type": "code",
   "execution_count": 184,
   "id": "487e5c79-d381-47bd-a0f4-a7a39c142102",
   "metadata": {},
   "outputs": [
    {
     "data": {
      "text/plain": [
       "0.9948381059604376"
      ]
     },
     "execution_count": 184,
     "metadata": {},
     "output_type": "execute_result"
    }
   ],
   "source": [
    "# 1. 전체의 최댓값\n",
    "x.max()"
   ]
  },
  {
   "cell_type": "code",
   "execution_count": 185,
   "id": "9186c8b1-666c-45e6-ad8e-6650ac065cc5",
   "metadata": {},
   "outputs": [
    {
     "data": {
      "text/plain": [
       "6"
      ]
     },
     "execution_count": 185,
     "metadata": {},
     "output_type": "execute_result"
    }
   ],
   "source": [
    "x.argmax()"
   ]
  },
  {
   "cell_type": "code",
   "execution_count": 186,
   "id": "d72203f0-796f-44dd-b343-475b1d76a196",
   "metadata": {},
   "outputs": [
    {
     "data": {
      "text/plain": [
       "array([3.15565467, 4.34127611, 4.54193676, 2.20876234, 2.71580584])"
      ]
     },
     "execution_count": 186,
     "metadata": {},
     "output_type": "execute_result"
    }
   ],
   "source": [
    "# 2. 각 행의 합\n",
    "x.sum(axis = 1)"
   ]
  },
  {
   "cell_type": "code",
   "execution_count": 187,
   "id": "6732c591-c288-46af-a63b-d13a0acf35e7",
   "metadata": {},
   "outputs": [
    {
     "data": {
      "text/plain": [
       "array([0.94547027, 0.99483811, 0.98443391, 0.93923563, 0.71017424])"
      ]
     },
     "execution_count": 187,
     "metadata": {},
     "output_type": "execute_result"
    }
   ],
   "source": [
    "# 3. 각 행의 최댓값\n",
    "x.max(axis = 1)"
   ]
  },
  {
   "cell_type": "code",
   "execution_count": 188,
   "id": "eb9d7ba5-1bb9-46f1-9788-8e59da2ffb3b",
   "metadata": {},
   "outputs": [
    {
     "data": {
      "text/plain": [
       "array([0.64493156, 0.6616218 , 0.6563821 , 0.49692071, 0.42246655,\n",
       "       0.51036443])"
      ]
     },
     "execution_count": 188,
     "metadata": {},
     "output_type": "execute_result"
    }
   ],
   "source": [
    "# 4. 각 열의 평균\n",
    "x.mean(axis = 0)"
   ]
  },
  {
   "cell_type": "code",
   "execution_count": 189,
   "id": "714b2004-ca55-4d2b-ad92-7b7e17716d47",
   "metadata": {},
   "outputs": [
    {
     "data": {
      "text/plain": [
       "array([0.24340763, 0.18076112, 0.19790391, 0.21580778, 0.01706287,\n",
       "       0.05307715])"
      ]
     },
     "execution_count": 189,
     "metadata": {},
     "output_type": "execute_result"
    }
   ],
   "source": [
    "# 5. 각 열의 최솟값\n",
    "x.min(axis = 0)"
   ]
  },
  {
   "cell_type": "markdown",
   "id": "ea6678a0-0aa7-4f4a-b00b-60a8ad4de2aa",
   "metadata": {},
   "source": [
    "# Inf 와 nan\n",
    "\n",
    "- 넘파이에서는 무한대를 표현하기 위한 np.inf 와 정의할 수 없는 숫자를 나타내는 np.nan 이 있음"
   ]
  },
  {
   "cell_type": "code",
   "execution_count": 193,
   "id": "d486c9b4-bf0b-41be-a24c-6b94b8145fe6",
   "metadata": {},
   "outputs": [
    {
     "name": "stderr",
     "output_type": "stream",
     "text": [
      "C:\\Users\\ITSC\\AppData\\Local\\Temp\\ipykernel_12088\\2068585620.py:1: RuntimeWarning: divide by zero encountered in divide\n",
      "  np.array([0, 1, -1, 0]) / np.array([1, 0, 0, 0])\n",
      "C:\\Users\\ITSC\\AppData\\Local\\Temp\\ipykernel_12088\\2068585620.py:1: RuntimeWarning: invalid value encountered in divide\n",
      "  np.array([0, 1, -1, 0]) / np.array([1, 0, 0, 0])\n"
     ]
    },
    {
     "data": {
      "text/plain": [
       "array([  0.,  inf, -inf,  nan])"
      ]
     },
     "execution_count": 193,
     "metadata": {},
     "output_type": "execute_result"
    }
   ],
   "source": [
    "np.array([0, 1, -1, 0]) / np.array([1, 0, 0, 0])"
   ]
  },
  {
   "cell_type": "markdown",
   "id": "e072decf-c711-46a3-ba0f-54f1768de40d",
   "metadata": {},
   "source": [
    "# 스칼라와 벡터\n",
    "\n",
    "- 벡터와 행렬은 특정 텐서(tensor) 를 부르는 이름\n",
    "\n",
    "- 텐서의 이름을 부여하는 원칙은 차원인 축(axis)을 기준으로 지정\n",
    "    - 텐서가 0차원인 경우(축이 없는 경우) : 스칼라(scalar)\n",
    "    - 1차원인 경우 : 벡터(vector)\n",
    "    - 2차원인 경우 : 행렬(matrix)\n",
    "    - 3차원인 경우 : 큐브(cube) 또는 3차원 텐서\n",
    "    - 더 차원이 높은 경우는 차원을 기준으로 n차원 텐서 라고 부름"
   ]
  },
  {
   "cell_type": "markdown",
   "id": "2fd2fc56-8bef-4369-a23c-3c4a6d074dc3",
   "metadata": {},
   "source": [
    "## 스칼라\n",
    "\n",
    "- 0차원 배열\n",
    "\n",
    "- 크기를 표현\n",
    "\n",
    "- 가장 기본적인 값\n",
    "\n",
    "- 수학에서 배운 정수나 실수는 하나의 물리량인 크기를 표현하는데, 이 값을 스칼라 라고 함"
   ]
  },
  {
   "cell_type": "code",
   "execution_count": 194,
   "id": "08a0f858-86e2-45e9-b50e-3a1be776fde2",
   "metadata": {},
   "outputs": [],
   "source": [
    "scalar_arr = np.array(43)"
   ]
  },
  {
   "cell_type": "code",
   "execution_count": 196,
   "id": "0b17b841-3d6e-4042-8311-8090e2995006",
   "metadata": {},
   "outputs": [
    {
     "data": {
      "text/plain": [
       "array(43)"
      ]
     },
     "execution_count": 196,
     "metadata": {},
     "output_type": "execute_result"
    }
   ],
   "source": [
    "# array 에서 스칼라는 대괄호 없이 숫자만 표시\n",
    "# 대괄호는 벡터(1차원 배열) 부터 사용\n",
    "scalar_arr"
   ]
  },
  {
   "cell_type": "code",
   "execution_count": 197,
   "id": "c8423f62-3968-4999-b5a7-36ae7d5faa87",
   "metadata": {},
   "outputs": [
    {
     "data": {
      "text/plain": [
       "numpy.ndarray"
      ]
     },
     "execution_count": 197,
     "metadata": {},
     "output_type": "execute_result"
    }
   ],
   "source": [
    "type(scalar_arr)"
   ]
  },
  {
   "cell_type": "code",
   "execution_count": 199,
   "id": "16b6c511-116f-46db-9d97-c802fb3234ba",
   "metadata": {},
   "outputs": [
    {
     "data": {
      "text/plain": [
       "0"
      ]
     },
     "execution_count": 199,
     "metadata": {},
     "output_type": "execute_result"
    }
   ],
   "source": [
    "# 스칼라는 0차원\n",
    "scalar_arr.ndim"
   ]
  },
  {
   "cell_type": "code",
   "execution_count": 201,
   "id": "656d697c-d97a-4b37-8056-199f195da5c1",
   "metadata": {},
   "outputs": [
    {
     "data": {
      "text/plain": [
       "()"
      ]
     },
     "execution_count": 201,
     "metadata": {},
     "output_type": "execute_result"
    }
   ],
   "source": [
    "# 축이 없기 때문에 빈 튜플\n",
    "scalar_arr.shape"
   ]
  },
  {
   "cell_type": "code",
   "execution_count": 202,
   "id": "2f56ae68-37d0-4b8c-84d0-b3bda70beed4",
   "metadata": {},
   "outputs": [
    {
     "data": {
      "text/plain": [
       "dtype('int32')"
      ]
     },
     "execution_count": 202,
     "metadata": {},
     "output_type": "execute_result"
    }
   ],
   "source": [
    "# array로 스칼라를 만들어도 dtype을 가짐\n",
    "scalar_arr.dtype"
   ]
  },
  {
   "cell_type": "markdown",
   "id": "d7ef8f32-fa9d-41a5-92e5-2ece185d8091",
   "metadata": {},
   "source": [
    "## 벡터\n",
    "\n",
    "- 1차원 배열"
   ]
  },
  {
   "cell_type": "code",
   "execution_count": 203,
   "id": "41f04116-1e18-43f6-97c0-20c98ac381e2",
   "metadata": {},
   "outputs": [],
   "source": [
    "vector = np.array([43])"
   ]
  },
  {
   "cell_type": "code",
   "execution_count": 204,
   "id": "40698d6e-3be9-4977-8922-84a04e5d87a4",
   "metadata": {},
   "outputs": [
    {
     "data": {
      "text/plain": [
       "array([43])"
      ]
     },
     "execution_count": 204,
     "metadata": {},
     "output_type": "execute_result"
    }
   ],
   "source": [
    "vector"
   ]
  },
  {
   "cell_type": "code",
   "execution_count": 205,
   "id": "e06e4d87-81b3-4aab-aac1-4d19da398b4d",
   "metadata": {},
   "outputs": [
    {
     "data": {
      "text/plain": [
       "numpy.ndarray"
      ]
     },
     "execution_count": 205,
     "metadata": {},
     "output_type": "execute_result"
    }
   ],
   "source": [
    "type(vector)"
   ]
  },
  {
   "cell_type": "code",
   "execution_count": 206,
   "id": "874f758d-bea1-4b4c-ad99-3c3e4675b729",
   "metadata": {},
   "outputs": [
    {
     "data": {
      "text/plain": [
       "1"
      ]
     },
     "execution_count": 206,
     "metadata": {},
     "output_type": "execute_result"
    }
   ],
   "source": [
    "# 1차원 배열\n",
    "vector.ndim"
   ]
  },
  {
   "cell_type": "code",
   "execution_count": 207,
   "id": "c9707e6c-693e-4c99-97f4-5471c638b042",
   "metadata": {},
   "outputs": [
    {
     "data": {
      "text/plain": [
       "(1,)"
      ]
     },
     "execution_count": 207,
     "metadata": {},
     "output_type": "execute_result"
    }
   ],
   "source": [
    "vector.shape"
   ]
  },
  {
   "cell_type": "markdown",
   "id": "4c3cb68b-9bf6-4814-b133-38c1c936cf94",
   "metadata": {},
   "source": [
    "## 배열 생성 함수"
   ]
  },
  {
   "cell_type": "markdown",
   "id": "b5ab1ded-05c5-4d13-a564-e71203885e23",
   "metadata": {},
   "source": [
    "### zeros\n",
    "\n",
    "- 크기가 정해져 있고 모든 값이 0인 배열 생성\n",
    "\n",
    "- 인수로는 배열의 크기를 전달"
   ]
  },
  {
   "cell_type": "code",
   "execution_count": 208,
   "id": "354afa19-164d-4a38-9627-a737930932d9",
   "metadata": {},
   "outputs": [],
   "source": [
    "# 1차원 배열\n",
    "zero_arr = np.zeros(5)"
   ]
  },
  {
   "cell_type": "code",
   "execution_count": 209,
   "id": "8a18cb23-90b1-48ee-9caa-762485df79f9",
   "metadata": {},
   "outputs": [
    {
     "data": {
      "text/plain": [
       "array([0., 0., 0., 0., 0.])"
      ]
     },
     "execution_count": 209,
     "metadata": {},
     "output_type": "execute_result"
    }
   ],
   "source": [
    "zero_arr"
   ]
  },
  {
   "cell_type": "code",
   "execution_count": 210,
   "id": "cf557951-df6e-46ae-a26e-d791faba916b",
   "metadata": {},
   "outputs": [],
   "source": [
    "# 2차원 배열\n",
    "zero_arr2 = np.zeros((2, 3))"
   ]
  },
  {
   "cell_type": "code",
   "execution_count": 211,
   "id": "4c8a8920-461b-41fb-9463-dabfe7211a54",
   "metadata": {},
   "outputs": [
    {
     "data": {
      "text/plain": [
       "array([[0., 0., 0.],\n",
       "       [0., 0., 0.]])"
      ]
     },
     "execution_count": 211,
     "metadata": {},
     "output_type": "execute_result"
    }
   ],
   "source": [
    "zero_arr2"
   ]
  },
  {
   "cell_type": "markdown",
   "id": "5e52b728-5702-45df-bbcc-f6df1ce193b8",
   "metadata": {},
   "source": [
    "- dtype 인수를 명시하면 해당 자료형 원소 배열을 생성"
   ]
  },
  {
   "cell_type": "code",
   "execution_count": 212,
   "id": "ac7a1baf-be70-4c08-aafe-19ac0db21d15",
   "metadata": {},
   "outputs": [],
   "source": [
    "zero_arr3 = np.zeros((5, 2), dtype = int)"
   ]
  },
  {
   "cell_type": "code",
   "execution_count": 213,
   "id": "8b60740b-61ed-4049-b94c-947735256a74",
   "metadata": {},
   "outputs": [
    {
     "data": {
      "text/plain": [
       "array([[0, 0],\n",
       "       [0, 0],\n",
       "       [0, 0],\n",
       "       [0, 0],\n",
       "       [0, 0]])"
      ]
     },
     "execution_count": 213,
     "metadata": {},
     "output_type": "execute_result"
    }
   ],
   "source": [
    "zero_arr3"
   ]
  },
  {
   "cell_type": "markdown",
   "id": "288c37ba-32df-4ac5-8ac8-d52cad726820",
   "metadata": {},
   "source": [
    "### ones\n",
    "\n",
    "- 모든 값이 1인 배열 생성"
   ]
  },
  {
   "cell_type": "code",
   "execution_count": 218,
   "id": "180607d8-89b9-49d2-91ce-db8986fa173f",
   "metadata": {},
   "outputs": [],
   "source": [
    "one_arr = np.ones((2, 3, 4), dtype = int)"
   ]
  },
  {
   "cell_type": "code",
   "execution_count": 219,
   "id": "6627ea14-53ef-4228-9419-c05b867298de",
   "metadata": {},
   "outputs": [
    {
     "data": {
      "text/plain": [
       "array([[[1, 1, 1, 1],\n",
       "        [1, 1, 1, 1],\n",
       "        [1, 1, 1, 1]],\n",
       "\n",
       "       [[1, 1, 1, 1],\n",
       "        [1, 1, 1, 1],\n",
       "        [1, 1, 1, 1]]])"
      ]
     },
     "execution_count": 219,
     "metadata": {},
     "output_type": "execute_result"
    }
   ],
   "source": [
    "one_arr"
   ]
  },
  {
   "cell_type": "markdown",
   "id": "8a90faf2-36b9-4d2c-92b8-6f41c5e8f2f5",
   "metadata": {},
   "source": [
    "### zeros_like, ones_like\n",
    "\n",
    "- 다른 배열과 같은 크기의 배열을 생성"
   ]
  },
  {
   "cell_type": "code",
   "execution_count": 220,
   "id": "603de3d6-f724-4f58-b191-12c397f4ba36",
   "metadata": {},
   "outputs": [],
   "source": [
    "zero_arr4 = np.zeros_like(one_arr)"
   ]
  },
  {
   "cell_type": "code",
   "execution_count": 221,
   "id": "a5aae95f-e2c7-41a4-9c73-e6f9e632128a",
   "metadata": {},
   "outputs": [
    {
     "data": {
      "text/plain": [
       "array([[[0, 0, 0, 0],\n",
       "        [0, 0, 0, 0],\n",
       "        [0, 0, 0, 0]],\n",
       "\n",
       "       [[0, 0, 0, 0],\n",
       "        [0, 0, 0, 0],\n",
       "        [0, 0, 0, 0]]])"
      ]
     },
     "execution_count": 221,
     "metadata": {},
     "output_type": "execute_result"
    }
   ],
   "source": [
    "zero_arr4"
   ]
  },
  {
   "cell_type": "code",
   "execution_count": 222,
   "id": "4fcb94bd-745a-4dc4-ba98-4c1c08da9e4d",
   "metadata": {},
   "outputs": [],
   "source": [
    "one_arr2 = np.ones_like(zero_arr3)"
   ]
  },
  {
   "cell_type": "code",
   "execution_count": 223,
   "id": "dcd51e4e-0127-4315-8de3-33b22fc20ac8",
   "metadata": {},
   "outputs": [
    {
     "data": {
      "text/plain": [
       "array([[1, 1],\n",
       "       [1, 1],\n",
       "       [1, 1],\n",
       "       [1, 1],\n",
       "       [1, 1]])"
      ]
     },
     "execution_count": 223,
     "metadata": {},
     "output_type": "execute_result"
    }
   ],
   "source": [
    "one_arr2"
   ]
  },
  {
   "cell_type": "code",
   "execution_count": 224,
   "id": "353e2581-019d-487a-93af-95c3d9ee1ed9",
   "metadata": {},
   "outputs": [
    {
     "data": {
      "text/plain": [
       "array([[1., 1., 1.],\n",
       "       [1., 1., 1.]])"
      ]
     },
     "execution_count": 224,
     "metadata": {},
     "output_type": "execute_result"
    }
   ],
   "source": [
    "np.ones_like(zero_arr2)"
   ]
  },
  {
   "cell_type": "markdown",
   "id": "fc2472cf-84cc-49f4-b900-6b4a85f60fdb",
   "metadata": {},
   "source": [
    "### arange\n",
    "\n",
    "- 파이썬의 range와 유사한 함수\n",
    "\n",
    "- range 와 같이 시작점, 종료점, 증감값 을 인자로 전달\n",
    "    - 종료점은 필수"
   ]
  },
  {
   "cell_type": "code",
   "execution_count": 225,
   "id": "6e872b74-f7df-4105-996c-e72cdb168e11",
   "metadata": {},
   "outputs": [],
   "source": [
    "vector = np.arange(10)"
   ]
  },
  {
   "cell_type": "code",
   "execution_count": 226,
   "id": "32f60b2a-df6e-4f78-b490-08fda359a45b",
   "metadata": {},
   "outputs": [
    {
     "data": {
      "text/plain": [
       "array([0, 1, 2, 3, 4, 5, 6, 7, 8, 9])"
      ]
     },
     "execution_count": 226,
     "metadata": {},
     "output_type": "execute_result"
    }
   ],
   "source": [
    "vector"
   ]
  },
  {
   "cell_type": "code",
   "execution_count": 227,
   "id": "59b1ab22-524f-4b54-9838-59b87621f5c2",
   "metadata": {},
   "outputs": [
    {
     "data": {
      "text/plain": [
       "dtype('int32')"
      ]
     },
     "execution_count": 227,
     "metadata": {},
     "output_type": "execute_result"
    }
   ],
   "source": [
    "vector.dtype"
   ]
  },
  {
   "cell_type": "markdown",
   "id": "8ea70dc9-9373-407a-916a-7f31adb25be3",
   "metadata": {},
   "source": [
    "- 인자로 실수를 지정할 수 있음"
   ]
  },
  {
   "cell_type": "code",
   "execution_count": 229,
   "id": "417f5c48-34a2-425b-a324-5cfe5f9e515f",
   "metadata": {},
   "outputs": [],
   "source": [
    "vector1 = np.arange(10.5, 20.5, 0.5)"
   ]
  },
  {
   "cell_type": "code",
   "execution_count": 230,
   "id": "c80047d3-649c-4955-9255-59f81f523e67",
   "metadata": {},
   "outputs": [
    {
     "data": {
      "text/plain": [
       "array([10.5, 11. , 11.5, 12. , 12.5, 13. , 13.5, 14. , 14.5, 15. , 15.5,\n",
       "       16. , 16.5, 17. , 17.5, 18. , 18.5, 19. , 19.5, 20. ])"
      ]
     },
     "execution_count": 230,
     "metadata": {},
     "output_type": "execute_result"
    }
   ],
   "source": [
    "vector1"
   ]
  },
  {
   "cell_type": "code",
   "execution_count": 231,
   "id": "675849b4-9f40-4170-8387-4cd4bc710489",
   "metadata": {},
   "outputs": [
    {
     "data": {
      "text/plain": [
       "dtype('float64')"
      ]
     },
     "execution_count": 231,
     "metadata": {},
     "output_type": "execute_result"
    }
   ],
   "source": [
    "vector1.dtype"
   ]
  },
  {
   "cell_type": "code",
   "execution_count": 232,
   "id": "4a0531fb-795e-4dde-9423-edb3285c30a1",
   "metadata": {},
   "outputs": [
    {
     "data": {
      "text/plain": [
       "20"
      ]
     },
     "execution_count": 232,
     "metadata": {},
     "output_type": "execute_result"
    }
   ],
   "source": [
    "# 원소의 개수\n",
    "vector1.size"
   ]
  },
  {
   "cell_type": "code",
   "execution_count": 233,
   "id": "115a017a-4401-4d6c-8e83-fd4c45a8ecb5",
   "metadata": {},
   "outputs": [],
   "source": [
    "# 1차원 배열을 생성하면서 바로 2차원 배열로 형상 변경\n",
    "vector2 = np.arange(60).reshape(6, 10)"
   ]
  },
  {
   "cell_type": "code",
   "execution_count": 234,
   "id": "e21e87c1-d724-40d8-b26a-e0e92aa0bf8b",
   "metadata": {},
   "outputs": [
    {
     "data": {
      "text/plain": [
       "array([[ 0,  1,  2,  3,  4,  5,  6,  7,  8,  9],\n",
       "       [10, 11, 12, 13, 14, 15, 16, 17, 18, 19],\n",
       "       [20, 21, 22, 23, 24, 25, 26, 27, 28, 29],\n",
       "       [30, 31, 32, 33, 34, 35, 36, 37, 38, 39],\n",
       "       [40, 41, 42, 43, 44, 45, 46, 47, 48, 49],\n",
       "       [50, 51, 52, 53, 54, 55, 56, 57, 58, 59]])"
      ]
     },
     "execution_count": 234,
     "metadata": {},
     "output_type": "execute_result"
    }
   ],
   "source": [
    "vector2"
   ]
  },
  {
   "cell_type": "code",
   "execution_count": 235,
   "id": "8b58df0d-0c19-4fb2-baa6-1d5cc08ffa29",
   "metadata": {},
   "outputs": [
    {
     "data": {
      "text/plain": [
       "(6, 10)"
      ]
     },
     "execution_count": 235,
     "metadata": {},
     "output_type": "execute_result"
    }
   ],
   "source": [
    "vector2.shape"
   ]
  },
  {
   "cell_type": "code",
   "execution_count": 236,
   "id": "79c43ce0-e131-4673-b0d1-b5cfdd3627cf",
   "metadata": {},
   "outputs": [],
   "source": [
    "# 1차원 배열을 생성하면서 3차원 배열로 형상 변경\n",
    "vector3 = np.arange(60).reshape(3, 4, 5)"
   ]
  },
  {
   "cell_type": "code",
   "execution_count": 237,
   "id": "dea55ad4-9824-4d81-9d92-bb7b379d34fa",
   "metadata": {},
   "outputs": [
    {
     "data": {
      "text/plain": [
       "array([[[ 0,  1,  2,  3,  4],\n",
       "        [ 5,  6,  7,  8,  9],\n",
       "        [10, 11, 12, 13, 14],\n",
       "        [15, 16, 17, 18, 19]],\n",
       "\n",
       "       [[20, 21, 22, 23, 24],\n",
       "        [25, 26, 27, 28, 29],\n",
       "        [30, 31, 32, 33, 34],\n",
       "        [35, 36, 37, 38, 39]],\n",
       "\n",
       "       [[40, 41, 42, 43, 44],\n",
       "        [45, 46, 47, 48, 49],\n",
       "        [50, 51, 52, 53, 54],\n",
       "        [55, 56, 57, 58, 59]]])"
      ]
     },
     "execution_count": 237,
     "metadata": {},
     "output_type": "execute_result"
    }
   ],
   "source": [
    "vector3"
   ]
  },
  {
   "cell_type": "markdown",
   "id": "6d900b49-cfa4-4969-940c-97350f1de9a4",
   "metadata": {},
   "source": [
    "### linspace\n",
    "\n",
    "- arange 와의 차이점\n",
    "    - 종료점도 포함해서 원소를 생성\n",
    " \n",
    "    - 세 번째 인자로 간격 대신 원소의 개수를 전달\n",
    "        - 초기값은 50\n",
    "     \n",
    "    - 기본으로 실수를 가진 원소를 만듦"
   ]
  },
  {
   "cell_type": "code",
   "execution_count": 238,
   "id": "923135dd-b755-4217-9633-2f1b2298cf54",
   "metadata": {},
   "outputs": [],
   "source": [
    "lin = np.linspace(1, 10, 10)"
   ]
  },
  {
   "cell_type": "code",
   "execution_count": 239,
   "id": "3e2cc95f-fe00-4daa-a286-bb50b763df3a",
   "metadata": {},
   "outputs": [
    {
     "data": {
      "text/plain": [
       "array([ 1.,  2.,  3.,  4.,  5.,  6.,  7.,  8.,  9., 10.])"
      ]
     },
     "execution_count": 239,
     "metadata": {},
     "output_type": "execute_result"
    }
   ],
   "source": [
    "lin"
   ]
  },
  {
   "cell_type": "code",
   "execution_count": 240,
   "id": "4c23fbc7-bc27-45db-947c-79ba778280e5",
   "metadata": {},
   "outputs": [
    {
     "data": {
      "text/plain": [
       "dtype('float64')"
      ]
     },
     "execution_count": 240,
     "metadata": {},
     "output_type": "execute_result"
    }
   ],
   "source": [
    "lin.dtype"
   ]
  },
  {
   "cell_type": "code",
   "execution_count": 241,
   "id": "07908d5a-9726-461a-b092-68d0219ad60f",
   "metadata": {},
   "outputs": [],
   "source": [
    "# 값의 간격을 표시하는 증분(incremental) 을 확인할 수 있음\n",
    "lin2 = np.linspace(1, 2, 10, retstep = True)"
   ]
  },
  {
   "cell_type": "code",
   "execution_count": 242,
   "id": "6136eb64-4bb3-4f1c-bc30-4125e9b2ad91",
   "metadata": {},
   "outputs": [
    {
     "data": {
      "text/plain": [
       "(array([1.        , 1.11111111, 1.22222222, 1.33333333, 1.44444444,\n",
       "        1.55555556, 1.66666667, 1.77777778, 1.88888889, 2.        ]),\n",
       " 0.1111111111111111)"
      ]
     },
     "execution_count": 242,
     "metadata": {},
     "output_type": "execute_result"
    }
   ],
   "source": [
    "lin2"
   ]
  },
  {
   "cell_type": "code",
   "execution_count": 243,
   "id": "8741c461-71b6-4c9b-8586-4b9ecbef1b5e",
   "metadata": {},
   "outputs": [],
   "source": [
    "# 종료값을 제외할 수도 있음\n",
    "lin3 = np.linspace(1, 10, 10, endpoint = False, retstep = True)"
   ]
  },
  {
   "cell_type": "code",
   "execution_count": 244,
   "id": "10951858-5f24-4a2f-a337-deb9f2917db3",
   "metadata": {},
   "outputs": [
    {
     "data": {
      "text/plain": [
       "(array([1. , 1.9, 2.8, 3.7, 4.6, 5.5, 6.4, 7.3, 8.2, 9.1]), 0.9)"
      ]
     },
     "execution_count": 244,
     "metadata": {},
     "output_type": "execute_result"
    }
   ],
   "source": [
    "lin3"
   ]
  },
  {
   "cell_type": "markdown",
   "id": "32f7d9e4-f829-4462-83ba-1bbcaaf8e26f",
   "metadata": {},
   "source": [
    "## 벡터의 크기 및 단위 벡터 구하기\n",
    "\n",
    "- 선형대수의 벡터는 크기와 방향을 가짐\n",
    "\n",
    "- 벡터의 크기는 노름(norm) 이라고 부름\n",
    "\n",
    "- 벡터는 평면 좌표의 점을 표시하듯이 2개의 원소를 가진 것을 대표적으로 사용\n",
    "    - 벡터의 크기는 피타고라스의 정리를 사용"
   ]
  },
  {
   "cell_type": "markdown",
   "id": "aba1929e-2016-4e98-bc54-3f6f1516db9f",
   "metadata": {},
   "source": [
    "### 벡터의 크기 계산"
   ]
  },
  {
   "cell_type": "code",
   "execution_count": 245,
   "id": "90d7914d-e7bc-4648-9c96-8cbed5ac63ca",
   "metadata": {},
   "outputs": [
    {
     "data": {
      "text/plain": [
       "array([3, 4])"
      ]
     },
     "execution_count": 245,
     "metadata": {},
     "output_type": "execute_result"
    }
   ],
   "source": [
    "# 두 개의 원소를 가지는 1차원 배열 생성\n",
    "v = np.arange(3, 5)\n",
    "v"
   ]
  },
  {
   "cell_type": "code",
   "execution_count": 250,
   "id": "7ecaa27f-e382-4a58-acf8-fecc93c6acec",
   "metadata": {},
   "outputs": [],
   "source": [
    "# 벡터의 크기를 구하기 위해 각 원소를 제곱하여 합산한 후 제곱근 계산\n",
    "v_p = np.power(v, 2)"
   ]
  },
  {
   "cell_type": "code",
   "execution_count": 251,
   "id": "f584e872-8dc4-428b-9c74-cfeb916bc092",
   "metadata": {},
   "outputs": [
    {
     "data": {
      "text/plain": [
       "array([ 9, 16], dtype=int32)"
      ]
     },
     "execution_count": 251,
     "metadata": {},
     "output_type": "execute_result"
    }
   ],
   "source": [
    "v_p"
   ]
  },
  {
   "cell_type": "code",
   "execution_count": 253,
   "id": "962917c9-030c-459b-8d60-b297a5a4acf1",
   "metadata": {},
   "outputs": [
    {
     "data": {
      "text/plain": [
       "5.0"
      ]
     },
     "execution_count": 253,
     "metadata": {},
     "output_type": "execute_result"
    }
   ],
   "source": [
    "v_r = np.sqrt(np.sum(v_p))\n",
    "v_r"
   ]
  },
  {
   "cell_type": "code",
   "execution_count": 254,
   "id": "c1071a7f-ed77-474b-ac27-f1c28b0fecc6",
   "metadata": {},
   "outputs": [
    {
     "data": {
      "text/plain": [
       "5.0"
      ]
     },
     "execution_count": 254,
     "metadata": {},
     "output_type": "execute_result"
    }
   ],
   "source": [
    "# 피타고라스 정리를 구하는 hypot 함수를 사용할 수도 있음\n",
    "np.hypot(v[0], v[1])"
   ]
  },
  {
   "cell_type": "code",
   "execution_count": 255,
   "id": "edc04b3b-155e-469e-9e76-e825ad2c92f1",
   "metadata": {},
   "outputs": [
    {
     "data": {
      "text/plain": [
       "5.0"
      ]
     },
     "execution_count": 255,
     "metadata": {},
     "output_type": "execute_result"
    }
   ],
   "source": [
    "# 더 많은 원소를 가진 벡터를 가지고 크기를 구할 때는 np.linalg.norm 함수를 사용하면 간단함\n",
    "np.linalg.norm(v)"
   ]
  },
  {
   "cell_type": "markdown",
   "id": "bdde23c3-3537-4ac2-871e-68ffa5b16952",
   "metadata": {},
   "source": [
    "### 단위 벡터(unit vector)\n",
    "\n",
    "- 벡터의 크기가 항상 1인 경우를 단위 벡터 라고 함\n",
    "\n",
    "- 표준 단위벡터(standard unit vector)는 원소 중에 하나가 1이고 나머지 원소가 0인 경우"
   ]
  },
  {
   "cell_type": "code",
   "execution_count": 256,
   "id": "585f096e-fb40-465a-aed5-25210feff9ea",
   "metadata": {},
   "outputs": [
    {
     "name": "stdout",
     "output_type": "stream",
     "text": [
      "1.0\n"
     ]
    }
   ],
   "source": [
    "# 표준 단위벡터 예시\n",
    "e1 = np.array([1, 0, 0])\n",
    "print(np.linalg.norm(e1))"
   ]
  },
  {
   "cell_type": "code",
   "execution_count": 257,
   "id": "75e8cc58-2a4e-4888-aa83-16a3456f5733",
   "metadata": {},
   "outputs": [
    {
     "name": "stdout",
     "output_type": "stream",
     "text": [
      "1.0\n"
     ]
    }
   ],
   "source": [
    "e2 = np.array([0, 1, 0])\n",
    "print(np.linalg.norm(e2))"
   ]
  },
  {
   "cell_type": "code",
   "execution_count": 258,
   "id": "d018df1e-1d40-4471-a537-dc3ef71b3816",
   "metadata": {},
   "outputs": [
    {
     "name": "stdout",
     "output_type": "stream",
     "text": [
      "1.0\n"
     ]
    }
   ],
   "source": [
    "e3 = np.array([0, 0, 1])\n",
    "print(np.linalg.norm(e3))"
   ]
  },
  {
   "cell_type": "markdown",
   "id": "6b32ff2f-aec7-42ff-80a2-c2af398ae3b2",
   "metadata": {},
   "source": [
    "- 일반적인 단위 벡터를 구할 때는 벡터의 크기를 구하고 각 원소를 벡터의 크기로 나누어서 구함"
   ]
  },
  {
   "cell_type": "code",
   "execution_count": 260,
   "id": "b47b9678-f900-4791-a776-0734736822ab",
   "metadata": {},
   "outputs": [
    {
     "data": {
      "text/plain": [
       "array([1, 2, 3])"
      ]
     },
     "execution_count": 260,
     "metadata": {},
     "output_type": "execute_result"
    }
   ],
   "source": [
    "# 1차원 배열을 생성하고 이 배열의 크기를 계산\n",
    "v_3 = np.array([1, 2, 3])\n",
    "v_3"
   ]
  },
  {
   "cell_type": "code",
   "execution_count": 261,
   "id": "8fba597c-9f57-47f6-b4af-b78a8815018d",
   "metadata": {},
   "outputs": [
    {
     "data": {
      "text/plain": [
       "3.7416573867739413"
      ]
     },
     "execution_count": 261,
     "metadata": {},
     "output_type": "execute_result"
    }
   ],
   "source": [
    "v_3_n = np.linalg.norm(v_3)\n",
    "v_3_n"
   ]
  },
  {
   "cell_type": "code",
   "execution_count": 263,
   "id": "76d9715a-99b3-4e59-b4c7-5b51661d8bb8",
   "metadata": {},
   "outputs": [
    {
     "data": {
      "text/plain": [
       "array([0.26726124, 0.53452248, 0.80178373])"
      ]
     },
     "execution_count": 263,
     "metadata": {},
     "output_type": "execute_result"
    }
   ],
   "source": [
    "# 해당 벡터를 벡터의 크기로 나눈 후에 norm을 계산하면 1이 나옴\n",
    "v_3_u = v_3 / v_3_n\n",
    "v_3_u"
   ]
  },
  {
   "cell_type": "code",
   "execution_count": 265,
   "id": "70d3653c-d8f5-4b41-ad36-139c8117646c",
   "metadata": {},
   "outputs": [
    {
     "data": {
      "text/plain": [
       "1.0"
      ]
     },
     "execution_count": 265,
     "metadata": {},
     "output_type": "execute_result"
    }
   ],
   "source": [
    "# 벡터의 크기가 1인 경우를 단위벡터라고 함\n",
    "np.linalg.norm(v_3_u)"
   ]
  },
  {
   "cell_type": "markdown",
   "id": "a4f11ef0-be63-4599-b338-308a6a881ef2",
   "metadata": {},
   "source": [
    "# 행렬(Matrix)\n",
    "\n",
    "- 벡터는 하나의 차원이 축을 가져서 1차원 배열로 표시했지만 행렬은 두 개의 축인 차원을 가짐\n",
    "    - 이 차원의 수평 방향을 행(row), 수직 방향을 열(column)이라고 함\n",
    " \n",
    "- 보통 선형대수는 대괄호 내에 행과 열의 인덱스 위치에 숫자를 나열해서 표시\n",
    "\n",
    "- 행렬을 부를 때는 보통 m개 행, n개 열로 이루어져서 m x n 행렬이라고 함"
   ]
  },
  {
   "cell_type": "code",
   "execution_count": 266,
   "id": "7225588a-b4c3-4afc-a8bc-247277093a7a",
   "metadata": {},
   "outputs": [],
   "source": [
    "a = np.array([[43], [44]])"
   ]
  },
  {
   "cell_type": "code",
   "execution_count": 267,
   "id": "a3c3b454-32cb-4a43-b9e4-31993b63d1bd",
   "metadata": {},
   "outputs": [
    {
     "data": {
      "text/plain": [
       "array([[43],\n",
       "       [44]])"
      ]
     },
     "execution_count": 267,
     "metadata": {},
     "output_type": "execute_result"
    }
   ],
   "source": [
    "a"
   ]
  },
  {
   "cell_type": "code",
   "execution_count": 268,
   "id": "cdca1bb5-b0ba-47ec-950d-40a943612615",
   "metadata": {},
   "outputs": [
    {
     "data": {
      "text/plain": [
       "numpy.ndarray"
      ]
     },
     "execution_count": 268,
     "metadata": {},
     "output_type": "execute_result"
    }
   ],
   "source": [
    "type(a)"
   ]
  },
  {
   "cell_type": "code",
   "execution_count": 269,
   "id": "be41d560-301f-4bc7-aff8-bf0a69538eb4",
   "metadata": {},
   "outputs": [
    {
     "data": {
      "text/plain": [
       "dtype('int32')"
      ]
     },
     "execution_count": 269,
     "metadata": {},
     "output_type": "execute_result"
    }
   ],
   "source": [
    "# a 변수에 저장된 배열도 하나의 배열이므로 하나의 자료형을 가짐\n",
    "a.dtype"
   ]
  },
  {
   "cell_type": "code",
   "execution_count": 270,
   "id": "d1009728-28ab-4328-91d9-4aa80ad45641",
   "metadata": {},
   "outputs": [
    {
     "data": {
      "text/plain": [
       "2"
      ]
     },
     "execution_count": 270,
     "metadata": {},
     "output_type": "execute_result"
    }
   ],
   "source": [
    "# 배열의 차원 확인\n",
    "a.ndim"
   ]
  },
  {
   "cell_type": "code",
   "execution_count": 271,
   "id": "04460948-0d2e-4a92-b343-085cf76a6a34",
   "metadata": {},
   "outputs": [
    {
     "data": {
      "text/plain": [
       "(2, 1)"
      ]
     },
     "execution_count": 271,
     "metadata": {},
     "output_type": "execute_result"
    }
   ],
   "source": [
    "a.shape"
   ]
  },
  {
   "cell_type": "code",
   "execution_count": 275,
   "id": "db65eeae-16b4-462a-8d6e-e421e965bbb1",
   "metadata": {},
   "outputs": [
    {
     "data": {
      "text/plain": [
       "array([[7, 7, 7, 7],\n",
       "       [7, 7, 7, 7],\n",
       "       [7, 7, 7, 7]])"
      ]
     },
     "execution_count": 275,
     "metadata": {},
     "output_type": "execute_result"
    }
   ],
   "source": [
    "# np.full(형상, 채워질 값, 자료형) : 다차원 배열의 원소의 값을 동일하게 채움\n",
    "b = np.full((3, 4), 7, int)\n",
    "b"
   ]
  },
  {
   "cell_type": "code",
   "execution_count": null,
   "id": "7c388f89-ff4a-44dc-9edc-3ee288eec3ed",
   "metadata": {},
   "outputs": [],
   "source": []
  }
 ],
 "metadata": {
  "kernelspec": {
   "display_name": "Python 3 (ipykernel)",
   "language": "python",
   "name": "python3"
  },
  "language_info": {
   "codemirror_mode": {
    "name": "ipython",
    "version": 3
   },
   "file_extension": ".py",
   "mimetype": "text/x-python",
   "name": "python",
   "nbconvert_exporter": "python",
   "pygments_lexer": "ipython3",
   "version": "3.12.4"
  }
 },
 "nbformat": 4,
 "nbformat_minor": 5
}
