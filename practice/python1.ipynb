{
 "cells": [
  {
   "attachments": {},
   "cell_type": "markdown",
   "metadata": {},
   "source": [
    "# 자료형"
   ]
  },
  {
   "attachments": {},
   "cell_type": "markdown",
   "metadata": {},
   "source": [
    "## 숫자 자료형"
   ]
  },
  {
   "cell_type": "code",
   "execution_count": 1,
   "metadata": {},
   "outputs": [
    {
     "name": "stdout",
     "output_type": "stream",
     "text": [
      "123\n",
      "<class 'int'>\n",
      "0\n",
      "<class 'int'>\n",
      "1.2\n",
      "<class 'float'>\n"
     ]
    }
   ],
   "source": [
    "a = 123\n",
    "b = 0\n",
    "c = 1.2\n",
    "\n",
    "print(a)\n",
    "print(type(a))\n",
    "\n",
    "print(b)\n",
    "print(type(b))\n",
    "\n",
    "print(c)\n",
    "print(type(c))"
   ]
  },
  {
   "cell_type": "code",
   "execution_count": 2,
   "metadata": {},
   "outputs": [
    {
     "name": "stdout",
     "output_type": "stream",
     "text": [
      "7\n",
      "-1\n",
      "12\n",
      "0.75\n",
      "81\n",
      "0\n",
      "3\n"
     ]
    }
   ],
   "source": [
    "a = 3\n",
    "b = 4\n",
    "\n",
    "print(a + b)\n",
    "print(a - b)\n",
    "print(a * b)\n",
    "print(a / b)\n",
    "print(a ** b)\n",
    "print(a // b)\n",
    "print(a % b)"
   ]
  },
  {
   "attachments": {},
   "cell_type": "markdown",
   "metadata": {},
   "source": [
    "### 문자열 자료형"
   ]
  },
  {
   "cell_type": "code",
   "execution_count": 3,
   "metadata": {},
   "outputs": [
    {
     "name": "stdout",
     "output_type": "stream",
     "text": [
      "Hello World\n",
      "<class 'str'>\n",
      "123\n",
      "<class 'str'>\n"
     ]
    }
   ],
   "source": [
    "a = \"Hello World\"\n",
    "b = \"123\"\n",
    "\n",
    "print(a)\n",
    "print(type(a))\n",
    "\n",
    "print(b)\n",
    "print(type(b))"
   ]
  },
  {
   "cell_type": "code",
   "execution_count": 4,
   "metadata": {},
   "outputs": [
    {
     "name": "stdout",
     "output_type": "stream",
     "text": [
      "Hello\n",
      " \"Python is very easy\" he says\n",
      "Life is too short\n",
      "you need python\n",
      "Life is too short \n",
      " you need Python\n",
      "Hello \t World\n"
     ]
    }
   ],
   "source": [
    "print(\"Hello\")\n",
    "print(' \"Python is very easy\" he says')\n",
    "\n",
    "lines = '''Life is too short\n",
    "you need python'''\n",
    "print(lines)\n",
    "\n",
    "print(\"Life is too short \\n you need Python\")\n",
    "\n",
    "print(\"Hello \\t World\")"
   ]
  },
  {
   "attachments": {},
   "cell_type": "markdown",
   "metadata": {},
   "source": [
    "### 문자열 연산자"
   ]
  },
  {
   "cell_type": "code",
   "execution_count": 5,
   "metadata": {},
   "outputs": [
    {
     "name": "stdout",
     "output_type": "stream",
     "text": [
      "Hello World\n",
      "Hello1\n",
      "HelloHelloHello\n"
     ]
    }
   ],
   "source": [
    "print(\"Hello \" + \"World\")\n",
    "print(\"Hello\" + \"1\")\n",
    "print(\"Hello\" * 3)"
   ]
  },
  {
   "attachments": {},
   "cell_type": "markdown",
   "metadata": {},
   "source": [
    "### 문자열 인덱싱/슬라이싱"
   ]
  },
  {
   "cell_type": "code",
   "execution_count": 6,
   "metadata": {},
   "outputs": [],
   "source": [
    "str1 = \"Hello\"\n",
    "#       01234           "
   ]
  },
  {
   "cell_type": "code",
   "execution_count": 7,
   "metadata": {},
   "outputs": [
    {
     "name": "stdout",
     "output_type": "stream",
     "text": [
      "H\n",
      "e\n",
      "l\n",
      "l\n",
      "o\n"
     ]
    }
   ],
   "source": [
    "print(str1[0])\n",
    "print(str1[1])\n",
    "print(str1[2])\n",
    "print(str1[3])\n",
    "print(str1[4])"
   ]
  },
  {
   "cell_type": "code",
   "execution_count": 8,
   "metadata": {},
   "outputs": [
    {
     "name": "stdout",
     "output_type": "stream",
     "text": [
      "Hell\n",
      "Hell\n",
      "Hell\n",
      "llo\n",
      "l\n"
     ]
    }
   ],
   "source": [
    "print(str1[0:4])\n",
    "print(str1[:4])\n",
    "print(str1[:-1])\n",
    "print(str1[2:])\n",
    "print(str1[2:3])"
   ]
  },
  {
   "attachments": {},
   "cell_type": "markdown",
   "metadata": {},
   "source": [
    "### 문자열 포매팅"
   ]
  },
  {
   "cell_type": "code",
   "execution_count": 9,
   "metadata": {},
   "outputs": [
    {
     "name": "stdout",
     "output_type": "stream",
     "text": [
      "3 + 4 = 7\n",
      "3.1416\n"
     ]
    }
   ],
   "source": [
    "a = 3\n",
    "b = 4\n",
    "pi = 3.141592\n",
    "\n",
    "print(\"%d + %d = %d\" %(a, b, a + b))\n",
    "print(\"%0.4f\"%pi)"
   ]
  },
  {
   "cell_type": "code",
   "execution_count": 10,
   "metadata": {},
   "outputs": [
    {
     "name": "stdout",
     "output_type": "stream",
     "text": [
      "3 + 4 = 7\n",
      "I ate 10 apples. so I was sick for 3 days\n"
     ]
    }
   ],
   "source": [
    "# format 함수\n",
    "print(\"{0} + {1} = {2}\".format(a, b, (a + b)))\n",
    "\n",
    "# 이름으로 값 넣기\n",
    "print(\"I ate {num} apples. so I was sick for {day} days\".format(num = 10, day = 3))"
   ]
  },
  {
   "attachments": {},
   "cell_type": "markdown",
   "metadata": {},
   "source": [
    "### 문자열 관련 함수"
   ]
  },
  {
   "cell_type": "code",
   "execution_count": 11,
   "metadata": {},
   "outputs": [],
   "source": [
    "str1 = \"hobby\""
   ]
  },
  {
   "cell_type": "code",
   "execution_count": 12,
   "metadata": {},
   "outputs": [
    {
     "name": "stdout",
     "output_type": "stream",
     "text": [
      "2\n"
     ]
    }
   ],
   "source": [
    "print(str1.count(\"b\"))"
   ]
  },
  {
   "cell_type": "code",
   "execution_count": 13,
   "metadata": {},
   "outputs": [
    {
     "name": "stdout",
     "output_type": "stream",
     "text": [
      "1\n"
     ]
    }
   ],
   "source": [
    "print(str1.find(\"o\"))"
   ]
  },
  {
   "cell_type": "code",
   "execution_count": 14,
   "metadata": {},
   "outputs": [
    {
     "name": "stdout",
     "output_type": "stream",
     "text": [
      "HOBBY\n",
      "hobby\n"
     ]
    }
   ],
   "source": [
    "print(str1.upper())\n",
    "print(str1.lower())"
   ]
  },
  {
   "attachments": {},
   "cell_type": "markdown",
   "metadata": {},
   "source": [
    "## 불 자료형"
   ]
  },
  {
   "cell_type": "code",
   "execution_count": 15,
   "metadata": {},
   "outputs": [
    {
     "name": "stdout",
     "output_type": "stream",
     "text": [
      "True\n",
      "<class 'bool'>\n",
      "False\n",
      "<class 'bool'>\n"
     ]
    }
   ],
   "source": [
    "a = True\n",
    "b = False\n",
    "\n",
    "print(a)\n",
    "print(type(a))\n",
    "\n",
    "print(b)\n",
    "print(type(b))"
   ]
  },
  {
   "cell_type": "code",
   "execution_count": 16,
   "metadata": {},
   "outputs": [
    {
     "name": "stdout",
     "output_type": "stream",
     "text": [
      "True\n",
      "False\n",
      "True\n",
      "False\n"
     ]
    }
   ],
   "source": [
    "print(1 == 1)\n",
    "print(1 != 1)\n",
    "print(2 > 1)\n",
    "print(2 < 1)"
   ]
  },
  {
   "attachments": {},
   "cell_type": "markdown",
   "metadata": {},
   "source": [
    "### 논리 연산자"
   ]
  },
  {
   "cell_type": "code",
   "execution_count": 17,
   "metadata": {},
   "outputs": [
    {
     "name": "stdout",
     "output_type": "stream",
     "text": [
      "True\n",
      "True\n",
      "True\n",
      "False\n"
     ]
    }
   ],
   "source": [
    "print(True or True)\n",
    "print(True or False)\n",
    "print(False or True)\n",
    "print(False or False)"
   ]
  },
  {
   "attachments": {},
   "cell_type": "markdown",
   "metadata": {},
   "source": [
    "# 컬렉션\n",
    "\n",
    "- 여러 값을 하나의 이름으로 묶어서 관리하는 자료형\n",
    "\n",
    "| 컬렉션 | 생성 함수 | 특징 | 예시 |\n",
    "| :-- | :-- | :-- | :-- |\n",
    "| 리스트 | list() | 추가, 수정, 삭제가 언제나 가능 | a = [1, 2, 3] |\n",
    "| 튜플 | tuple() | 생성되고 나면 변경 불가능 | a = (1, 2, 3) |\n",
    "| 세트 | set() | 중복된 값의 저장 불가능 | a = {1, 2, 3} |\n",
    "| 딕셔너리 | dict() | 키 + 값 으로 관리 | a = {\"age\" : 25} |"
   ]
  },
  {
   "cell_type": "code",
   "execution_count": 18,
   "metadata": {},
   "outputs": [
    {
     "name": "stdout",
     "output_type": "stream",
     "text": [
      "[1, 2, 3, 4, 5]\n",
      "<class 'list'>\n",
      "{1, 2, 3, 4}\n",
      "<class 'set'>\n",
      "(2, 2, 3, 4, 5)\n",
      "<class 'tuple'>\n",
      "{'aaa': 1, 'bbb': 2, 'ccc': 3}\n",
      "<class 'dict'>\n"
     ]
    }
   ],
   "source": [
    "li = [1, 2, 3, 4, 5] # 리스트\n",
    "se = {1, 2, 3, 3, 4} # 세트\n",
    "tu = (2, 2, 3, 4, 5) # 튜플\n",
    "dic = {\"aaa\" : 1, \"bbb\" : 2, \"ccc\" : 3} # 딕셔너리\n",
    "\n",
    "print(li)\n",
    "print(type(li))\n",
    "\n",
    "print(se)\n",
    "print(type(se))\n",
    "\n",
    "print(tu)\n",
    "print(type(tu))\n",
    "\n",
    "print(dic)\n",
    "print(type(dic))"
   ]
  },
  {
   "attachments": {},
   "cell_type": "markdown",
   "metadata": {},
   "source": [
    "# 제어문\n",
    "\n",
    "- 특정 조건을 만족하는지 여부에 따라 실행하는 코드가 달라야 할 떄 사용"
   ]
  },
  {
   "attachments": {},
   "cell_type": "markdown",
   "metadata": {},
   "source": [
    "### if문"
   ]
  },
  {
   "cell_type": "code",
   "execution_count": 19,
   "metadata": {},
   "outputs": [
    {
     "name": "stdout",
     "output_type": "stream",
     "text": [
      "걸어가라\n"
     ]
    }
   ],
   "source": [
    "money = False\n",
    "\n",
    "if money:\n",
    "    print(\"택시를 타고 가라\")\n",
    "\n",
    "else :\n",
    "    print(\"걸어가라\")"
   ]
  },
  {
   "cell_type": "code",
   "execution_count": 20,
   "metadata": {},
   "outputs": [
    {
     "name": "stdout",
     "output_type": "stream",
     "text": [
      "걸어가라\n"
     ]
    }
   ],
   "source": [
    "money = 20000\n",
    "pay = 30000\n",
    "\n",
    "if money >= pay :\n",
    "    print(\"택시를 타고 가라\")\n",
    "    \n",
    "else :\n",
    "    print(\"걸어가라\")"
   ]
  },
  {
   "cell_type": "code",
   "execution_count": 21,
   "metadata": {},
   "outputs": [
    {
     "name": "stdout",
     "output_type": "stream",
     "text": [
      "택시를 타고 가라\n"
     ]
    }
   ],
   "source": [
    "money = 20000\n",
    "pay = 30000\n",
    "card = True\n",
    "\n",
    "if money >= pay or card :\n",
    "    print(\"택시를 타고 가라\")\n",
    "    \n",
    "else :\n",
    "    print(\"걸어가라\")"
   ]
  },
  {
   "cell_type": "code",
   "execution_count": 22,
   "metadata": {},
   "outputs": [
    {
     "name": "stdout",
     "output_type": "stream",
     "text": [
      "돈으로 택시를 타고 가라\n"
     ]
    }
   ],
   "source": [
    "pocket = [\"cellphone\", \"money\"]\n",
    "card = True\n",
    "\n",
    "if \"money\" in pocket:\n",
    "    print(\"돈으로 택시를 타고 가라\")\n",
    "\n",
    "elif card:\n",
    "    print(\"카드로 택시를 타고 가라\")\n",
    "\n",
    "else:\n",
    "    print(\"걸어 가라\")"
   ]
  },
  {
   "cell_type": "code",
   "execution_count": 23,
   "metadata": {},
   "outputs": [
    {
     "name": "stdout",
     "output_type": "stream",
     "text": [
      "나무를 1번째 찍었습니다\n",
      "나무를 2번째 찍었습니다\n",
      "나무를 3번째 찍었습니다\n",
      "나무를 4번째 찍었습니다\n",
      "나무를 5번째 찍었습니다\n",
      "나무를 6번째 찍었습니다\n",
      "나무를 7번째 찍었습니다\n",
      "나무를 8번째 찍었습니다\n",
      "나무를 9번째 찍었습니다\n",
      "나무를 10번째 찍었습니다\n",
      "나무가 넘어갑니다\n"
     ]
    }
   ],
   "source": [
    "hits = 0\n",
    "tree_hp = 10\n",
    "\n",
    "while hits < tree_hp:\n",
    "    hits += 1\n",
    "    print(f\"나무를 {hits}번째 찍었습니다\")\n",
    "\n",
    "    if hits == 10:\n",
    "        print(\"나무가 넘어갑니다\")"
   ]
  },
  {
   "attachments": {},
   "cell_type": "markdown",
   "metadata": {},
   "source": [
    "### While문"
   ]
  },
  {
   "cell_type": "code",
   "execution_count": 24,
   "metadata": {},
   "outputs": [
    {
     "name": "stdout",
     "output_type": "stream",
     "text": [
      "나무를 1번째 찍었습니다\n",
      "나무를 2번째 찍었습니다\n",
      "나무를 3번째 찍었습니다\n",
      "나무를 4번째 찍었습니다\n",
      "나무를 5번째 찍었습니다\n",
      "나무를 6번째 찍었습니다\n",
      "나무를 7번째 찍었습니다\n",
      "나무를 8번째 찍었습니다\n",
      "나무를 9번째 찍었습니다\n",
      "나무를 10번째 찍었습니다\n",
      "나무가 넘어갑니다\n"
     ]
    }
   ],
   "source": [
    "hits = 0\n",
    "tree_hp = 10\n",
    "\n",
    "while hits < tree_hp:\n",
    "    hits += 1\n",
    "    print(f\"나무를 {hits}번째 찍었습니다\")\n",
    "\n",
    "    if hits == 10:\n",
    "        print(\"나무가 넘어갑니다\")"
   ]
  },
  {
   "cell_type": "code",
   "execution_count": 25,
   "metadata": {},
   "outputs": [
    {
     "name": "stdout",
     "output_type": "stream",
     "text": [
      "1일차 1교시입니다.\n",
      "1일차 2교시입니다.\n",
      "1일차 3교시입니다.\n",
      "2일차 1교시입니다.\n",
      "2일차 2교시입니다.\n",
      "2일차 3교시입니다.\n",
      "3일차 1교시입니다.\n",
      "3일차 2교시입니다.\n",
      "3일차 3교시입니다.\n",
      "4일차 1교시입니다.\n",
      "4일차 2교시입니다.\n",
      "4일차 3교시입니다.\n",
      "5일차 1교시입니다.\n",
      "5일차 2교시입니다.\n",
      "5일차 3교시입니다.\n"
     ]
    }
   ],
   "source": [
    "day = 1\n",
    "\n",
    "while day <= 5:\n",
    "    hour = 1\n",
    "\n",
    "    while hour <= 3:\n",
    "        print(f\"{day}일차 {hour}교시입니다.\")\n",
    "        hour += 1\n",
    "\n",
    "    day += 1"
   ]
  },
  {
   "attachments": {},
   "cell_type": "markdown",
   "metadata": {},
   "source": [
    "### break"
   ]
  },
  {
   "cell_type": "code",
   "execution_count": 26,
   "metadata": {},
   "outputs": [
    {
     "name": "stdout",
     "output_type": "stream",
     "text": [
      "1\n",
      "2\n",
      "3\n",
      "4\n",
      "5\n",
      "6\n",
      "7\n",
      "8\n",
      "9\n",
      "10\n"
     ]
    }
   ],
   "source": [
    "n = 1\n",
    "while True:\n",
    "    print(n)\n",
    "    \n",
    "    if n == 10:\n",
    "        break\n",
    "    \n",
    "    n += 1"
   ]
  },
  {
   "attachments": {},
   "cell_type": "markdown",
   "metadata": {},
   "source": [
    "### Continue"
   ]
  },
  {
   "cell_type": "code",
   "execution_count": 27,
   "metadata": {},
   "outputs": [
    {
     "name": "stdout",
     "output_type": "stream",
     "text": [
      "1\n",
      "3\n",
      "5\n",
      "7\n",
      "9\n"
     ]
    }
   ],
   "source": [
    "a = 0\n",
    "\n",
    "while a < 10:\n",
    "    a += 1\n",
    "    if a % 2 == 0:\n",
    "        continue\n",
    "    \n",
    "    print(a) "
   ]
  },
  {
   "attachments": {},
   "cell_type": "markdown",
   "metadata": {},
   "source": [
    "## for문"
   ]
  },
  {
   "cell_type": "code",
   "execution_count": 28,
   "metadata": {},
   "outputs": [
    {
     "name": "stdout",
     "output_type": "stream",
     "text": [
      "one\n",
      "two\n",
      "three\n"
     ]
    }
   ],
   "source": [
    "test = [\"one\", \"two\", \"three\"]\n",
    "\n",
    "for i in test:\n",
    "    print(i)"
   ]
  },
  {
   "cell_type": "code",
   "execution_count": 29,
   "metadata": {},
   "outputs": [
    {
     "name": "stdout",
     "output_type": "stream",
     "text": [
      "1번 학생은 합격입니다.\n",
      "2번 학생은 불합격입니다\n",
      "3번 학생은 불합격입니다\n",
      "4번 학생은 불합격입니다\n",
      "5번 학생은 합격입니다.\n"
     ]
    }
   ],
   "source": [
    "scores = [90, 25, 67, 45, 80]\n",
    "number = 0\n",
    "\n",
    "for score in scores:\n",
    "    number += 1\n",
    "    \n",
    "    if score >= 80:\n",
    "        print(f\"{number}번 학생은 합격입니다.\")\n",
    "    \n",
    "    else :\n",
    "        print(f\"{number}번 학생은 불합격입니다\")"
   ]
  },
  {
   "attachments": {},
   "cell_type": "markdown",
   "metadata": {},
   "source": [
    "## Range"
   ]
  },
  {
   "cell_type": "code",
   "execution_count": 30,
   "metadata": {},
   "outputs": [
    {
     "name": "stdout",
     "output_type": "stream",
     "text": [
      "0\n",
      "1\n",
      "2\n",
      "3\n",
      "4\n",
      "5\n",
      "6\n",
      "7\n",
      "8\n",
      "9\n"
     ]
    }
   ],
   "source": [
    "for i in range(10):\n",
    "    print(i)"
   ]
  },
  {
   "cell_type": "code",
   "execution_count": 31,
   "metadata": {},
   "outputs": [
    {
     "name": "stdout",
     "output_type": "stream",
     "text": [
      "1\n",
      "4\n",
      "7\n"
     ]
    }
   ],
   "source": [
    "for i in range(1, 10, 3):\n",
    "    print(i)"
   ]
  },
  {
   "cell_type": "code",
   "execution_count": 32,
   "metadata": {},
   "outputs": [
    {
     "name": "stdout",
     "output_type": "stream",
     "text": [
      "4 * 1 = 4\n",
      "4 * 2 = 8\n",
      "4 * 3 = 12\n",
      "4 * 4 = 16\n",
      "4 * 5 = 20\n",
      "4 * 6 = 24\n",
      "4 * 7 = 28\n",
      "4 * 8 = 32\n",
      "4 * 9 = 36\n"
     ]
    }
   ],
   "source": [
    "# 구구단 출력하기\n",
    "dan = 4\n",
    "\n",
    "for i in range(1, 10):\n",
    "    print(f\"{dan} * {i} = {dan * i}\")"
   ]
  },
  {
   "attachments": {},
   "cell_type": "markdown",
   "metadata": {},
   "source": [
    "# 함수\n",
    "\n",
    "```\n",
    "def 함수명(매개변수):\n",
    "    수행할 문장\n",
    "```"
   ]
  },
  {
   "cell_type": "code",
   "execution_count": 33,
   "metadata": {},
   "outputs": [],
   "source": [
    "def welcom():\n",
    "    print(\"Hello\")\n",
    "    print(\"Nice to meet you\")"
   ]
  },
  {
   "cell_type": "code",
   "execution_count": 34,
   "metadata": {},
   "outputs": [
    {
     "name": "stdout",
     "output_type": "stream",
     "text": [
      "Hello\n",
      "Nice to meet you\n"
     ]
    }
   ],
   "source": [
    "welcom()"
   ]
  },
  {
   "cell_type": "code",
   "execution_count": 35,
   "metadata": {},
   "outputs": [],
   "source": [
    "def add(a, b):\n",
    "    return a + b"
   ]
  },
  {
   "cell_type": "code",
   "execution_count": 36,
   "metadata": {},
   "outputs": [
    {
     "name": "stdout",
     "output_type": "stream",
     "text": [
      "7\n"
     ]
    }
   ],
   "source": [
    "num1 = 3\n",
    "num2 = 4\n",
    "\n",
    "c = add(num1, num2)\n",
    "print(c)"
   ]
  },
  {
   "attachments": {},
   "cell_type": "markdown",
   "metadata": {},
   "source": [
    "## 함수 사용의 장점\n",
    "\n",
    "- 코드의 용도를 구분\n",
    "- 코드 재사용이 용이\n",
    "- 실수를 방지(오타 등)"
   ]
  },
  {
   "attachments": {},
   "cell_type": "markdown",
   "metadata": {},
   "source": [
    "## 매개변수와 인수\n",
    "- 매개변수 : 함수에 입력으로 전달된 값을 받는 변수\n",
    "- 인수 : 함수를 호출할 떄 전달하는 입력 값\n",
    "- 인수와 매개변수는 다른 개념이지만 함수가 호출된 뒤에는 구분이 모호해지므로 구분하지 않는 경우도 있음\n",
    "- 함수의 사용법\n",
    "  - 결과값을 받을 변수 = 함수 이름(입력인수1, 입력인수2, ...)"
   ]
  },
  {
   "cell_type": "code",
   "execution_count": 37,
   "metadata": {},
   "outputs": [],
   "source": [
    "def print_n_times(value, n):\n",
    "    for i in range(n):\n",
    "        print(value)"
   ]
  },
  {
   "cell_type": "code",
   "execution_count": 38,
   "metadata": {},
   "outputs": [
    {
     "name": "stdout",
     "output_type": "stream",
     "text": [
      "안녕하세요\n",
      "안녕하세요\n",
      "안녕하세요\n"
     ]
    }
   ],
   "source": [
    "print_n_times(\"안녕하세요\", 3)"
   ]
  },
  {
   "cell_type": "code",
   "execution_count": 39,
   "metadata": {},
   "outputs": [],
   "source": [
    "def add_and_mul(a, b):\n",
    "    return a+b, a*b"
   ]
  },
  {
   "cell_type": "code",
   "execution_count": 40,
   "metadata": {},
   "outputs": [
    {
     "name": "stdout",
     "output_type": "stream",
     "text": [
      "(7, 12)\n"
     ]
    }
   ],
   "source": [
    "result = add_and_mul(3, 4)\n",
    "print(result)"
   ]
  },
  {
   "attachments": {},
   "cell_type": "markdown",
   "metadata": {},
   "source": [
    "### return\n",
    "\n",
    "- 함수를 종료시키고 싶을 때 사용할 수도 있음"
   ]
  },
  {
   "cell_type": "code",
   "execution_count": 41,
   "metadata": {},
   "outputs": [],
   "source": [
    "def say_nick(nick):\n",
    "    if nick == \"바보\":\n",
    "        return\n",
    "    \n",
    "    print(f\"나의 별명은 {nick} 입니다\")"
   ]
  },
  {
   "cell_type": "code",
   "execution_count": 42,
   "metadata": {},
   "outputs": [
    {
     "name": "stdout",
     "output_type": "stream",
     "text": [
      "나의 별명은 야호 입니다\n"
     ]
    }
   ],
   "source": [
    "say_nick(\"야호\")"
   ]
  },
  {
   "cell_type": "code",
   "execution_count": 43,
   "metadata": {},
   "outputs": [],
   "source": [
    "say_nick(\"바보\")"
   ]
  },
  {
   "cell_type": "code",
   "execution_count": 44,
   "metadata": {},
   "outputs": [
    {
     "name": "stdout",
     "output_type": "stream",
     "text": [
      "3\n",
      "7\n"
     ]
    }
   ],
   "source": [
    "result = 0\n",
    "\n",
    "def cal_add(num):\n",
    "    global result       # global : 전역함수 사용 -> 읽기, 수정 가능, 안쓰면 지역함수\n",
    "    result += num\n",
    "    return result\n",
    "\n",
    "print(cal_add(3))\n",
    "print(cal_add(4))"
   ]
  },
  {
   "attachments": {},
   "cell_type": "markdown",
   "metadata": {},
   "source": [
    "# 클래스\n",
    "\n",
    "- 객체를 만드는 도구\n",
    "- 클래스를 통해 여러 개의 객체를 만들 수 있음\n",
    "- 동일한 클래스에서도 서로 다른 값을 가진 객체가 만들어질 수 있음"
   ]
  },
  {
   "cell_type": "code",
   "execution_count": 45,
   "metadata": {},
   "outputs": [],
   "source": [
    "class Calculator:\n",
    "    def __init__(self):\n",
    "        self.result = 0\n",
    "    \n",
    "    def add(self, num):\n",
    "        self.result += num\n",
    "        return self.result"
   ]
  },
  {
   "cell_type": "code",
   "execution_count": 46,
   "metadata": {},
   "outputs": [
    {
     "name": "stdout",
     "output_type": "stream",
     "text": [
      "3\n",
      "7\n",
      "5\n",
      "12\n"
     ]
    }
   ],
   "source": [
    "cal1 = Calculator()\n",
    "cal2 = Calculator()\n",
    "\n",
    "print(cal1.add(3))\n",
    "print(cal1.add(4))\n",
    "\n",
    "print(cal2.add(5))\n",
    "print(cal2.add(7))"
   ]
  },
  {
   "attachments": {},
   "cell_type": "markdown",
   "metadata": {},
   "source": [
    "## 클래스의 구성\n",
    "\n",
    "- 클래스는 객체가 가져야 할 구성요소를 모두 가지고 있어야 함\n",
    "  - 객체가 가져야 할 값, 기능\n",
    "    - 값 : 변수(이름, 나이, 연락처, 주소 등)\n",
    "    - 기능 : 함수"
   ]
  },
  {
   "attachments": {},
   "cell_type": "markdown",
   "metadata": {},
   "source": [
    "### 인스턴스 변수와 인스턴스 메소드\n",
    "\n",
    "- 인스턴스 변수 : 클래스를 기반으로 만들어지는 모든 객체들이 각각 따로 저장하는 변수\n",
    "  - 모든 인스턴스 변수는 self하는 키워드를 붙임\n",
    "  - self는 자기자신을 나타내는 의미\n",
    "    - 자신이 가지고 있는 속성과 기능에 접근할 때는 self.식별자 형태로 접근\n",
    "\n",
    "- 인스턴스 메소드 : 인스턴스 변수를 사용하는 메소드\n",
    "    - 인스턴스 변수값에 따라서 각 객체마다 다르게 동작\n",
    "      - 첫 번째 매개변수로 self를 추가"
   ]
  },
  {
   "cell_type": "code",
   "execution_count": 47,
   "metadata": {},
   "outputs": [],
   "source": [
    "class Person:\n",
    "    def who_am_i(self, name, age, tel, address):\n",
    "        # 인스턴스 메소드 : who_am_i\n",
    "        # 모든 Person 클래스의 객체는 who_am_i() 메소드를 호출 가능\n",
    "        # self를 제외한 나머지 매개변수에 실제로 사용될 데이터가 전달\n",
    "        \n",
    "        self.name = name\n",
    "        # 인스턴스 변수 name\n",
    "        # = 오른쪽에 있는 name은 매개변수의 name\n",
    "        # who_am_i() 메소드를 호출할 때 전달된 name이 객체의 name이 됨\n",
    "        self.age = age\n",
    "        self.tel = tel\n",
    "        self.address = address"
   ]
  },
  {
   "cell_type": "code",
   "execution_count": 48,
   "metadata": {},
   "outputs": [],
   "source": [
    "boy = Person()"
   ]
  },
  {
   "cell_type": "code",
   "execution_count": 49,
   "metadata": {},
   "outputs": [],
   "source": [
    "boy.who_am_i(\"john\", 15, \"123-1234\", \"Seoul\")"
   ]
  },
  {
   "cell_type": "code",
   "execution_count": 50,
   "metadata": {},
   "outputs": [
    {
     "data": {
      "text/plain": [
       "'john'"
      ]
     },
     "execution_count": 50,
     "metadata": {},
     "output_type": "execute_result"
    }
   ],
   "source": [
    "boy.name"
   ]
  },
  {
   "cell_type": "code",
   "execution_count": 51,
   "metadata": {},
   "outputs": [],
   "source": [
    "girl = Person()\n",
    "girl.who_am_i(\"maria\", 13, \"345-3243\", \"Busan\")"
   ]
  },
  {
   "cell_type": "code",
   "execution_count": 52,
   "metadata": {},
   "outputs": [
    {
     "name": "stdout",
     "output_type": "stream",
     "text": [
      "john\n",
      "maria\n"
     ]
    }
   ],
   "source": [
    "print(boy.name)\n",
    "print(girl.name)"
   ]
  },
  {
   "cell_type": "code",
   "execution_count": 53,
   "metadata": {},
   "outputs": [],
   "source": [
    "class Computer:\n",
    "    def set_spec(self, cpu, ram, vag, ssd):\n",
    "        self.cpu = cpu\n",
    "        self.ram = ram\n",
    "        self.vag = vag\n",
    "        self.ssd = ssd\n",
    "        \n",
    "    def hardware_info(self):\n",
    "        print(f\"{self.cpu}\")\n",
    "        print(f\"{self.ram}\")\n",
    "        print(f\"{self.vag}\")\n",
    "        print(f\"{self.ssd}\")"
   ]
  },
  {
   "cell_type": "code",
   "execution_count": 54,
   "metadata": {},
   "outputs": [
    {
     "name": "stdout",
     "output_type": "stream",
     "text": [
      "i9\n",
      "123GB\n",
      "GTX3070\n",
      "1TB\n"
     ]
    }
   ],
   "source": [
    "desktop = Computer()\n",
    "desktop.set_spec(\"i9\", \"123GB\", \"GTX3070\", \"1TB\")\n",
    "desktop.hardware_info()"
   ]
  },
  {
   "cell_type": "code",
   "execution_count": 55,
   "metadata": {},
   "outputs": [
    {
     "name": "stdout",
     "output_type": "stream",
     "text": [
      "i3\n",
      "8GB\n",
      "MX300\n",
      "256GB\n"
     ]
    }
   ],
   "source": [
    "notebook = Computer()\n",
    "notebook.set_spec(\"i3\", \"8GB\", \"MX300\", \"256GB\")\n",
    "notebook.hardware_info()"
   ]
  },
  {
   "attachments": {},
   "cell_type": "markdown",
   "metadata": {},
   "source": [
    "## 생성자\n",
    "\n",
    "- 객체가 생성될 떄 자동으로 호출되는 메소드"
   ]
  },
  {
   "cell_type": "code",
   "execution_count": 56,
   "metadata": {},
   "outputs": [],
   "source": [
    "# 생성자 추가하기\n",
    "class FourCal:\n",
    "    def __init__(self, first, second): # 생성자\n",
    "        self.first = first\n",
    "        self.second = second\n",
    "        \n",
    "    def set_data(self, first, second):\n",
    "        self.first = first\n",
    "        self.second = second\n",
    "\n",
    "    def add(self):\n",
    "        result = self.first + self.second\n",
    "        return result"
   ]
  },
  {
   "cell_type": "code",
   "execution_count": 58,
   "metadata": {},
   "outputs": [
    {
     "name": "stdout",
     "output_type": "stream",
     "text": [
      "4\n",
      "6\n"
     ]
    }
   ],
   "source": [
    "test_const = FourCal(4, 2)\n",
    "print(test_const.first)\n",
    "print(test_const.add())\n"
   ]
  },
  {
   "attachments": {},
   "cell_type": "markdown",
   "metadata": {},
   "source": [
    "## 소멸자\n",
    "\n",
    "- 인스턴스가 소멸될 떄 자동으로 호출되는 메소드"
   ]
  },
  {
   "cell_type": "code",
   "execution_count": 59,
   "metadata": {},
   "outputs": [],
   "source": [
    "class Sample:\n",
    "    def __del__(self):\n",
    "        print(\"인스턴스가 소멸됩니다\")"
   ]
  },
  {
   "cell_type": "code",
   "execution_count": 60,
   "metadata": {},
   "outputs": [
    {
     "name": "stdout",
     "output_type": "stream",
     "text": [
      "인스턴스가 소멸됩니다\n"
     ]
    }
   ],
   "source": [
    "instance = Sample()\n",
    "del instance"
   ]
  },
  {
   "attachments": {},
   "cell_type": "markdown",
   "metadata": {},
   "source": [
    "## isinstance()\n",
    "\n",
    "- 객체가 어떤 클래스로부터 만들어졌는지 확인할 수 있는 함수\n",
    "- 첫 번쨰 매개변수에 객체, 두 번째 매개변수에 클래스를 입력\n",
    "  - instance(객체, 클래스)\n",
    "- 객체가 해당 클래스를 기반으로 만들어졌으면 True, 관계 없으면 False를 반환"
   ]
  },
  {
   "cell_type": "code",
   "execution_count": 69,
   "metadata": {},
   "outputs": [],
   "source": [
    "class Student:\n",
    "    def study(self):\n",
    "        print(\"공부를 합니다\")\n",
    "\n",
    "class Teacher:\n",
    "    def teach(self):\n",
    "        print(\"학생을 가르칩니다\")"
   ]
  },
  {
   "cell_type": "code",
   "execution_count": 70,
   "metadata": {},
   "outputs": [
    {
     "name": "stdout",
     "output_type": "stream",
     "text": [
      "True\n",
      "False\n"
     ]
    }
   ],
   "source": [
    "man = Student()\n",
    "print(isinstance(man, Student))\n",
    "print(isinstance(man, Teacher))"
   ]
  },
  {
   "cell_type": "code",
   "execution_count": 71,
   "metadata": {},
   "outputs": [],
   "source": [
    "classroom = [Student(), Student(), Teacher(), Student(), Teacher()]"
   ]
  },
  {
   "cell_type": "code",
   "execution_count": 72,
   "metadata": {},
   "outputs": [
    {
     "name": "stdout",
     "output_type": "stream",
     "text": [
      "공부를 합니다\n",
      "공부를 합니다\n",
      "학생을 가르칩니다\n",
      "공부를 합니다\n",
      "학생을 가르칩니다\n"
     ]
    }
   ],
   "source": [
    "for person in classroom:\n",
    "    if isinstance(person, Student):\n",
    "        person.study()\n",
    "\n",
    "    elif isinstance(person, Teacher):\n",
    "        person.teach()"
   ]
  },
  {
   "attachments": {},
   "cell_type": "markdown",
   "metadata": {},
   "source": [
    "## 클래스 변수와 클래스 메서드\n",
    "\n",
    "- 객체가 변수와 메서드를 가지는 것 처럼 클래스도 변수와 메서드를 가질 수 있음\n",
    "\n",
    "- 표현법\n",
    "```\n",
    "class 클래스명:\n",
    "    클래스변수 = 값\n",
    "```"
   ]
  },
  {
   "cell_type": "code",
   "execution_count": 73,
   "metadata": {},
   "outputs": [],
   "source": [
    "class Korean:\n",
    "    country = \"한국\"    # 클래스 변수 country\n",
    "    \n",
    "    def __init__(self, name, age, address):\n",
    "        self.name = name \n",
    "        self.age = age\n",
    "        self.address = address"
   ]
  },
  {
   "cell_type": "code",
   "execution_count": 74,
   "metadata": {},
   "outputs": [
    {
     "data": {
      "text/plain": [
       "'홍길동'"
      ]
     },
     "execution_count": 74,
     "metadata": {},
     "output_type": "execute_result"
    }
   ],
   "source": [
    "man = Korean(\"홍길동\", 35, \"서울\")\n",
    "man.name"
   ]
  },
  {
   "cell_type": "code",
   "execution_count": 75,
   "metadata": {},
   "outputs": [
    {
     "data": {
      "text/plain": [
       "'한국'"
      ]
     },
     "execution_count": 75,
     "metadata": {},
     "output_type": "execute_result"
    }
   ],
   "source": [
    "man.country"
   ]
  },
  {
   "cell_type": "code",
   "execution_count": 76,
   "metadata": {},
   "outputs": [
    {
     "data": {
      "text/plain": [
       "'한국'"
      ]
     },
     "execution_count": 76,
     "metadata": {},
     "output_type": "execute_result"
    }
   ],
   "source": [
    "Korean.country"
   ]
  },
  {
   "cell_type": "code",
   "execution_count": 82,
   "metadata": {},
   "outputs": [],
   "source": [
    "class Person:\n",
    "    bag = []\n",
    "\n",
    "    def __init__(self):\n",
    "        self.bag = []\n",
    "\n",
    "    def put_bag(self, stuff):\n",
    "        Person.bag.append(stuff)\n",
    "\n",
    "    def put_mybag(self, stuff):\n",
    "        self.bag.append(stuff)"
   ]
  },
  {
   "cell_type": "code",
   "execution_count": 83,
   "metadata": {},
   "outputs": [],
   "source": [
    "james = Person()\n",
    "james.put_mybag(\"책\")\n",
    "james.put_bag(\"사전\")"
   ]
  },
  {
   "cell_type": "code",
   "execution_count": 84,
   "metadata": {},
   "outputs": [],
   "source": [
    "maria = Person()\n",
    "maria.put_mybag(\"열쇠\")\n",
    "maria.put_bag(\"자물쇠\")"
   ]
  },
  {
   "cell_type": "code",
   "execution_count": 85,
   "metadata": {},
   "outputs": [
    {
     "name": "stdout",
     "output_type": "stream",
     "text": [
      "['책']\n",
      "['열쇠']\n",
      "['사전', '자물쇠']\n"
     ]
    }
   ],
   "source": [
    "print(james.bag)\n",
    "print(maria.bag)\n",
    "print(Person.bag)"
   ]
  },
  {
   "cell_type": "code",
   "execution_count": 86,
   "metadata": {},
   "outputs": [
    {
     "data": {
      "text/plain": [
       "['책']"
      ]
     },
     "execution_count": 86,
     "metadata": {},
     "output_type": "execute_result"
    }
   ],
   "source": [
    "james.bag"
   ]
  },
  {
   "cell_type": "code",
   "execution_count": 87,
   "metadata": {},
   "outputs": [],
   "source": [
    "class Student:\n",
    "    count = 0\n",
    "\n",
    "    def __init__(self, name, korean, math, english, science):\n",
    "        self.name = name\n",
    "        self.korean = korean\n",
    "        self.math = math\n",
    "        self.english = english\n",
    "        self.science = science\n",
    "\n",
    "        # 클래스 변수 설정\n",
    "        Student.count += 1\n",
    "        print(f\"{Student.count}번째 학생이 생성되었습니다\")"
   ]
  },
  {
   "cell_type": "code",
   "execution_count": 88,
   "metadata": {},
   "outputs": [
    {
     "name": "stdout",
     "output_type": "stream",
     "text": [
      "1번째 학생이 생성되었습니다\n",
      "2번째 학생이 생성되었습니다\n",
      "3번째 학생이 생성되었습니다\n"
     ]
    }
   ],
   "source": [
    "students = [Student(\"윤인성\", 87, 98, 88, 95),\n",
    "            Student(\"연하진\", 92, 98, 96, 98),\n",
    "            Student(\"구지연\", 76, 96, 94, 90)]"
   ]
  },
  {
   "cell_type": "code",
   "execution_count": 89,
   "metadata": {},
   "outputs": [
    {
     "name": "stdout",
     "output_type": "stream",
     "text": [
      "현재 생성된 총 학생 수는 3명 입니다\n"
     ]
    }
   ],
   "source": [
    "print(f\"현재 생성된 총 학생 수는 {Student.count}명 입니다\")"
   ]
  },
  {
   "attachments": {},
   "cell_type": "markdown",
   "metadata": {},
   "source": [
    "## 클래스 메서드\n",
    "\n",
    "- 인스턴스 또는 클래스로 호출\n",
    "\n",
    "- 생성된 인스턴스가 없어도 호출 가능\n",
    "\n",
    "- @classmethod 데코레이터를 표시하고 작성\n",
    "\n",
    "- 매개변수 cls를 사용\n",
    "\n",
    "- 클래스.메소드()의 형태로 사용\n",
    "\n",
    "- 인스턴스 변수에 접근할 수 없지만 클래스 변수에는 접근 가능\n",
    "    - 메서드의 실행이 외부 상태에 영향을 미치지 않는 순수함수를 만들 때\n",
    "    - 인스턴스의 상태를 변화시키지 않는 메서드를 만들 때"
   ]
  },
  {
   "cell_type": "code",
   "execution_count": 90,
   "metadata": {},
   "outputs": [],
   "source": [
    "class Korean:\n",
    "    country = \"한국\"\n",
    "\n",
    "    @classmethod\n",
    "    def trip(cls, country):\n",
    "        if cls.country == country:\n",
    "            print(\"국내여행\")\n",
    "\n",
    "        else:\n",
    "            print(\"해외여행\")"
   ]
  },
  {
   "cell_type": "code",
   "execution_count": 91,
   "metadata": {},
   "outputs": [
    {
     "name": "stdout",
     "output_type": "stream",
     "text": [
      "국내여행\n"
     ]
    }
   ],
   "source": [
    "Korean.trip(\"한국\")"
   ]
  },
  {
   "cell_type": "code",
   "execution_count": 92,
   "metadata": {},
   "outputs": [
    {
     "name": "stdout",
     "output_type": "stream",
     "text": [
      "해외여행\n"
     ]
    }
   ],
   "source": [
    "Korean.trip(\"미국\")"
   ]
  },
  {
   "attachments": {},
   "cell_type": "markdown",
   "metadata": {},
   "source": [
    "# 모듈\n",
    "\n",
    "- 함수나 변수 또는 클래스를 모아 둔 파일\n",
    "- 다른 파이썬 프로그램에서 불러와 사용할 수 있게 만든 파이썬 파일\n",
    "- 종류\n",
    "  - 표준 모듈 : 파이썬에 기본적으로 내장되어 있는 모듈\n",
    "  - 외부 모듈 : 다른 사람들이 만들어서 공개한 모듈"
   ]
  },
  {
   "attachments": {},
   "cell_type": "markdown",
   "metadata": {},
   "source": [
    "## 모듈 사용\n",
    "\n",
    "- import 모듈\n",
    "- impoer 모듈 as 별칭\n",
    "- from 모듈 import 함수1, 함수2\n",
    "- from 모듈 import *"
   ]
  },
  {
   "attachments": {},
   "cell_type": "markdown",
   "metadata": {},
   "source": [
    "### 표준 모듈\n",
    "\n",
    "- 파이썬에 기본적으로 설치되어 있는 모듈\n",
    "- 별도의 설치 없이 import 사용 가능"
   ]
  },
  {
   "cell_type": "code",
   "execution_count": 94,
   "metadata": {},
   "outputs": [],
   "source": [
    "import math"
   ]
  },
  {
   "cell_type": "code",
   "execution_count": 95,
   "metadata": {},
   "outputs": [
    {
     "data": {
      "text/plain": [
       "3.141592653589793"
      ]
     },
     "execution_count": 95,
     "metadata": {},
     "output_type": "execute_result"
    }
   ],
   "source": [
    "math.pi"
   ]
  },
  {
   "cell_type": "code",
   "execution_count": 96,
   "metadata": {},
   "outputs": [
    {
     "name": "stdout",
     "output_type": "stream",
     "text": [
      "2\n",
      "1\n"
     ]
    }
   ],
   "source": [
    "print(math.ceil(1.1)) # 올림\n",
    "print(math.floor(1.9)) # 내림"
   ]
  },
  {
   "cell_type": "code",
   "execution_count": 97,
   "metadata": {},
   "outputs": [],
   "source": [
    "import random"
   ]
  },
  {
   "cell_type": "code",
   "execution_count": 101,
   "metadata": {},
   "outputs": [
    {
     "data": {
      "text/plain": [
       "9"
      ]
     },
     "execution_count": 101,
     "metadata": {},
     "output_type": "execute_result"
    }
   ],
   "source": [
    "random.randint(1, 10) # 전달하는 두 인수 사이의 정수를 임의로 생성"
   ]
  },
  {
   "cell_type": "code",
   "execution_count": 102,
   "metadata": {},
   "outputs": [
    {
     "data": {
      "text/plain": [
       "0"
      ]
     },
     "execution_count": 102,
     "metadata": {},
     "output_type": "execute_result"
    }
   ],
   "source": [
    "random.randrange(10) # 특정 범위에 속한 정수 중에서 하나를 임의로 생성"
   ]
  },
  {
   "cell_type": "code",
   "execution_count": 103,
   "metadata": {},
   "outputs": [
    {
     "data": {
      "text/plain": [
       "5"
      ]
     },
     "execution_count": 103,
     "metadata": {},
     "output_type": "execute_result"
    }
   ],
   "source": [
    "random.randrange(1, 10)"
   ]
  },
  {
   "cell_type": "code",
   "execution_count": 104,
   "metadata": {},
   "outputs": [
    {
     "data": {
      "text/plain": [
       "4"
      ]
     },
     "execution_count": 104,
     "metadata": {},
     "output_type": "execute_result"
    }
   ],
   "source": [
    "random.randrange(1, 10, 3)"
   ]
  },
  {
   "cell_type": "code",
   "execution_count": 105,
   "metadata": {},
   "outputs": [
    {
     "data": {
      "text/plain": [
       "0.4955101050059376"
      ]
     },
     "execution_count": 105,
     "metadata": {},
     "output_type": "execute_result"
    }
   ],
   "source": [
    "random.random() # 0이상 1 미만 범위에서 임의의 실수 생성"
   ]
  },
  {
   "cell_type": "code",
   "execution_count": 106,
   "metadata": {},
   "outputs": [
    {
     "data": {
      "text/plain": [
       "'fail'"
      ]
     },
     "execution_count": 106,
     "metadata": {},
     "output_type": "execute_result"
    }
   ],
   "source": [
    "seasons = [\"spring\", \"summer\", \"fail\", \"winter\"]\n",
    "random.choice(seasons) # 전달된 시퀀스 자료형에 속한 요소 중에서 하나를 임의로 반환"
   ]
  },
  {
   "cell_type": "code",
   "execution_count": null,
   "metadata": {},
   "outputs": [],
   "source": []
  },
  {
   "cell_type": "code",
   "execution_count": null,
   "metadata": {},
   "outputs": [],
   "source": []
  },
  {
   "cell_type": "code",
   "execution_count": null,
   "metadata": {},
   "outputs": [],
   "source": []
  },
  {
   "cell_type": "code",
   "execution_count": null,
   "metadata": {},
   "outputs": [],
   "source": []
  },
  {
   "cell_type": "code",
   "execution_count": null,
   "metadata": {},
   "outputs": [],
   "source": []
  },
  {
   "cell_type": "code",
   "execution_count": null,
   "metadata": {},
   "outputs": [],
   "source": []
  },
  {
   "cell_type": "code",
   "execution_count": null,
   "metadata": {},
   "outputs": [],
   "source": []
  },
  {
   "cell_type": "code",
   "execution_count": null,
   "metadata": {},
   "outputs": [],
   "source": []
  },
  {
   "cell_type": "code",
   "execution_count": null,
   "metadata": {},
   "outputs": [],
   "source": []
  },
  {
   "cell_type": "code",
   "execution_count": null,
   "metadata": {},
   "outputs": [],
   "source": []
  },
  {
   "cell_type": "code",
   "execution_count": null,
   "metadata": {},
   "outputs": [],
   "source": []
  },
  {
   "cell_type": "code",
   "execution_count": null,
   "metadata": {},
   "outputs": [],
   "source": []
  },
  {
   "cell_type": "code",
   "execution_count": null,
   "metadata": {},
   "outputs": [],
   "source": []
  },
  {
   "cell_type": "code",
   "execution_count": null,
   "metadata": {},
   "outputs": [],
   "source": []
  },
  {
   "cell_type": "code",
   "execution_count": null,
   "metadata": {},
   "outputs": [],
   "source": []
  },
  {
   "cell_type": "code",
   "execution_count": null,
   "metadata": {},
   "outputs": [],
   "source": []
  },
  {
   "cell_type": "code",
   "execution_count": null,
   "metadata": {},
   "outputs": [],
   "source": []
  }
 ],
 "metadata": {
  "kernelspec": {
   "display_name": "Python 3",
   "language": "python",
   "name": "python3"
  },
  "language_info": {
   "codemirror_mode": {
    "name": "ipython",
    "version": 3
   },
   "file_extension": ".py",
   "mimetype": "text/x-python",
   "name": "python",
   "nbconvert_exporter": "python",
   "pygments_lexer": "ipython3",
   "version": "3.8.1"
  },
  "orig_nbformat": 4
 },
 "nbformat": 4,
 "nbformat_minor": 2
}
