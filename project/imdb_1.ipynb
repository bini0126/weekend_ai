{
 "cells": [
  {
   "cell_type": "code",
   "execution_count": 1,
   "metadata": {},
   "outputs": [
    {
     "name": "stdout",
     "output_type": "stream",
     "text": [
      "[2015] 페이지 1/1 수집 완료\n",
      "⚠️ 연도 2015에 저장할 데이터가 없습니다.\n",
      "[2016] 페이지 1/1 수집 완료\n",
      "⚠️ 연도 2016에 저장할 데이터가 없습니다.\n",
      "[2017] 페이지 1/1 수집 완료\n",
      "⚠️ 연도 2017에 저장할 데이터가 없습니다.\n",
      "[2018] 페이지 1/1 수집 완료\n",
      "⚠️ 연도 2018에 저장할 데이터가 없습니다.\n",
      "[2019] 페이지 1/1 수집 완료\n",
      "⚠️ 연도 2019에 저장할 데이터가 없습니다.\n",
      "[2020] 페이지 1/1 수집 완료\n",
      "⚠️ 연도 2020에 저장할 데이터가 없습니다.\n",
      "[2021] 페이지 1/1 수집 완료\n",
      "⚠️ 연도 2021에 저장할 데이터가 없습니다.\n",
      "[2022] 페이지 1/1 수집 완료\n",
      "⚠️ 연도 2022에 저장할 데이터가 없습니다.\n",
      "[2023] 페이지 1/1 수집 완료\n",
      "⚠️ 연도 2023에 저장할 데이터가 없습니다.\n",
      "[2024] 페이지 1/1 수집 완료\n",
      "⚠️ 연도 2024에 저장할 데이터가 없습니다.\n",
      "[2025] 페이지 1/1 수집 완료\n",
      "⚠️ 연도 2025에 저장할 데이터가 없습니다.\n",
      "❌ 수집된 데이터가 없습니다.\n"
     ]
    }
   ],
   "source": [
    "import os\n",
    "import time\n",
    "import requests\n",
    "import pandas as pd\n",
    "from requests.adapters import HTTPAdapter, Retry\n",
    "\n",
    "# 🔧 1. 저장 폴더 설정\n",
    "folder_path = './my_movie_project_1'\n",
    "os.makedirs(folder_path, exist_ok=True)\n",
    "\n",
    "# 🔐 2. API 키\n",
    "tmdb_api_key = 'YOUR_TMDB_API_KEY'     # ← 여기에 본인의 TMDB API 키 입력\n",
    "omdb_api_key = 'YOUR_OMDB_API_KEY'     # ← 여기에 본인의 OMDb API 키 입력\n",
    "\n",
    "# 🔗 3. API URL\n",
    "tmdb_discover_url = 'https://api.themoviedb.org/3/discover/movie'\n",
    "tmdb_detail_url = 'https://api.themoviedb.org/3/movie/{}'\n",
    "tmdb_keywords_url = 'https://api.themoviedb.org/3/movie/{}/keywords'\n",
    "omdb_url = 'http://www.omdbapi.com/'\n",
    "\n",
    "headers = {'Accept': 'application/json'}\n",
    "language = 'ko-KR'  # 한글 정보\n",
    "\n",
    "# 🔁 4. 요청 재시도 설정 함수\n",
    "def requests_retry_session(retries=3, backoff_factor=1.0, status_forcelist=(500, 502, 504)):\n",
    "    session = requests.Session()\n",
    "    retry = Retry(\n",
    "        total=retries,\n",
    "        read=retries,\n",
    "        connect=retries,\n",
    "        backoff_factor=backoff_factor,\n",
    "        status_forcelist=status_forcelist\n",
    "    )\n",
    "    adapter = HTTPAdapter(max_retries=retry)\n",
    "    session.mount('https://', adapter)\n",
    "    session.mount('http://', adapter)\n",
    "    return session\n",
    "\n",
    "# 🎬 5. 연도별 영화 수집\n",
    "all_movies = []\n",
    "\n",
    "for year in range(2015, 2026):\n",
    "    year_movies = []\n",
    "    page = 1\n",
    "    total_pages = 1\n",
    "\n",
    "    while page <= total_pages:\n",
    "        params = {\n",
    "            'api_key': tmdb_api_key,\n",
    "            'language': language,\n",
    "            'sort_by': 'popularity.desc',\n",
    "            'primary_release_year': year,\n",
    "            'page': page\n",
    "        }\n",
    "\n",
    "        try:\n",
    "            response = requests_retry_session().get(tmdb_discover_url, headers=headers, params=params, timeout=10)\n",
    "            data = response.json()\n",
    "        except Exception as e:\n",
    "            print(f\"❌ TMDB 요청 실패 (연도: {year}, 페이지: {page}) → {e}\")\n",
    "            page += 1\n",
    "            continue\n",
    "\n",
    "        if page == 1:\n",
    "            total_pages = data.get('total_pages', 1)\n",
    "\n",
    "        for movie in data.get('results', []):\n",
    "            tmdb_id = movie.get('id')\n",
    "            title = movie.get('title')\n",
    "            release_date = movie.get('release_date')\n",
    "            vote_average = movie.get('vote_average')\n",
    "            media_type = \"movie\"\n",
    "\n",
    "            # ▶ TMDB 상세 정보\n",
    "            try:\n",
    "                detail_resp = requests_retry_session().get(\n",
    "                    tmdb_detail_url.format(tmdb_id),\n",
    "                    headers=headers,\n",
    "                    params={'api_key': tmdb_api_key, 'language': language},\n",
    "                    timeout=10\n",
    "                )\n",
    "                detail = detail_resp.json()\n",
    "            except Exception as e:\n",
    "                print(f\"⚠️ TMDB 상세 실패 - {tmdb_id}: {e}\")\n",
    "                continue\n",
    "\n",
    "            imdb_id = detail.get('imdb_id')\n",
    "            runtime = detail.get('runtime')\n",
    "            genres = \", \".join([g['name'] for g in detail.get('genres', [])])\n",
    "            production_companies = detail.get('production_companies', [])\n",
    "            production_company = production_companies[0]['name'] if production_companies else None\n",
    "\n",
    "            # ▶ TMDB 키워드\n",
    "            try:\n",
    "                keyword_resp = requests_retry_session().get(\n",
    "                    tmdb_keywords_url.format(tmdb_id),\n",
    "                    headers=headers,\n",
    "                    params={'api_key': tmdb_api_key},\n",
    "                    timeout=10\n",
    "                )\n",
    "                keyword_data = keyword_resp.json()\n",
    "                tags = \", \".join([kw['name'] for kw in keyword_data.get('keywords', [])])\n",
    "            except:\n",
    "                tags = None\n",
    "\n",
    "            # ▶ OMDb 정보\n",
    "            director = cast = country = language_omdb = plot = imdb_rating = imdb_votes = None\n",
    "            if imdb_id:\n",
    "                try:\n",
    "                    omdb_params = {'apikey': omdb_api_key, 'i': imdb_id}\n",
    "                    omdb_resp = requests_retry_session().get(omdb_url, params=omdb_params, timeout=10)\n",
    "                    omdb_data = omdb_resp.json()\n",
    "\n",
    "                    if omdb_data.get('Response') == 'True':\n",
    "                        director = omdb_data.get('Director')\n",
    "                        cast = omdb_data.get('Actors')\n",
    "                        country = omdb_data.get('Country')\n",
    "                        language_omdb = omdb_data.get('Language')\n",
    "                        plot = omdb_data.get('Plot')\n",
    "                        imdb_rating = omdb_data.get('imdbRating')\n",
    "                        imdb_votes = omdb_data.get('imdbVotes')\n",
    "                    else:\n",
    "                        print(f\"⚠️ OMDb 응답 없음 - {imdb_id}\")\n",
    "                except:\n",
    "                    print(f\"⚠️ OMDb 요청 실패 - {imdb_id}\")\n",
    "\n",
    "            movie_data = {\n",
    "                'title': title,\n",
    "                'release_date': release_date,\n",
    "                'type': media_type,\n",
    "                'runtime': runtime,\n",
    "                'genre': genres,\n",
    "                'director': director,\n",
    "                'cast': cast,\n",
    "                'country': country,\n",
    "                'language': language_omdb,\n",
    "                'production_company': production_company,\n",
    "                'synopsis': plot,\n",
    "                'tags': tags,\n",
    "                'imdb_rating': imdb_rating,\n",
    "                'imdb_review_count': imdb_votes,\n",
    "                'imdb_id': imdb_id\n",
    "            }\n",
    "\n",
    "            year_movies.append(movie_data)\n",
    "            time.sleep(0.3)\n",
    "\n",
    "        print(f\"[{year}] 페이지 {page}/{total_pages} 수집 완료\")\n",
    "        page += 1\n",
    "\n",
    "    # ✅ 연도별 체크포인트 저장\n",
    "    if year_movies:\n",
    "        df = pd.DataFrame(year_movies)\n",
    "        df.to_csv(f\"{folder_path}/tmdb_imdb_checkpoint_{year}.csv\", index=False)\n",
    "        all_movies.extend(year_movies)\n",
    "        print(f\"✅ 체크포인트 저장 완료: {year}\")\n",
    "    else:\n",
    "        print(f\"⚠️ 연도 {year}에 저장할 데이터가 없습니다.\")\n",
    "\n",
    "# 🗃️ 전체 결과 저장\n",
    "if all_movies:\n",
    "    final_df = pd.DataFrame(all_movies)\n",
    "    final_df.to_csv(f\"{folder_path}/tmdb_imdb_combined_2015_2025.csv\", index=False)\n",
    "    print(\"🎉 전체 영화 데이터 저장 완료!\")\n",
    "else:\n",
    "    print(\"❌ 수집된 데이터가 없습니다.\")\n"
   ]
  },
  {
   "cell_type": "code",
   "execution_count": 2,
   "metadata": {},
   "outputs": [
    {
     "name": "stdout",
     "output_type": "stream",
     "text": [
      "401\n",
      "dict_keys(['status_code', 'status_message', 'success'])\n",
      "None\n",
      "None\n"
     ]
    }
   ],
   "source": [
    "print(response.status_code)\n",
    "print(data.keys())\n",
    "print(data.get('results'))\n",
    "print(data.get('total_results'))"
   ]
  },
  {
   "cell_type": "code",
   "execution_count": 3,
   "metadata": {},
   "outputs": [
    {
     "name": "stdout",
     "output_type": "stream",
     "text": [
      "{'api_key': 'YOUR_TMDB_API_KEY', 'language': 'ko-KR', 'sort_by': 'popularity.desc', 'primary_release_year': 2025, 'page': 1}\n"
     ]
    }
   ],
   "source": [
    "print(params)"
   ]
  },
  {
   "cell_type": "code",
   "execution_count": 4,
   "metadata": {},
   "outputs": [
    {
     "name": "stdout",
     "output_type": "stream",
     "text": [
      "TMDb Error: Invalid API key: You must be granted a valid key.\n"
     ]
    }
   ],
   "source": [
    "if 'status_message' in data:\n",
    "    print(\"TMDb Error:\", data['status_message'])"
   ]
  },
  {
   "cell_type": "code",
   "execution_count": 5,
   "metadata": {},
   "outputs": [],
   "source": [
    "year = 2023\n",
    "page = 1\n",
    "# ... 요청 후 print(response.status_code, len(data.get('results', [])))"
   ]
  },
  {
   "cell_type": "code",
   "execution_count": 7,
   "metadata": {},
   "outputs": [
    {
     "name": "stdout",
     "output_type": "stream",
     "text": [
      "[DEBUG] year=2023 page=1 status=401\n"
     ]
    },
    {
     "ename": "TypeError",
     "evalue": "'NoneType' object is not subscriptable",
     "output_type": "error",
     "traceback": [
      "\u001b[1;31m---------------------------------------------------------------------------\u001b[0m",
      "\u001b[1;31mTypeError\u001b[0m                                 Traceback (most recent call last)",
      "Cell \u001b[1;32mIn[7], line 4\u001b[0m\n\u001b[0;32m      2\u001b[0m \u001b[39mprint\u001b[39m(\u001b[39mf\u001b[39m\u001b[39m\"\u001b[39m\u001b[39m[DEBUG] \u001b[39m\u001b[39m{\u001b[39;00myear\u001b[39m=}\u001b[39;00m\u001b[39m \u001b[39m\u001b[39m{\u001b[39;00mpage\u001b[39m=}\u001b[39;00m\u001b[39m status=\u001b[39m\u001b[39m{\u001b[39;00mresponse\u001b[39m.\u001b[39mstatus_code\u001b[39m}\u001b[39;00m\u001b[39m\"\u001b[39m)\n\u001b[0;32m      3\u001b[0m data \u001b[39m=\u001b[39m response\u001b[39m.\u001b[39mjson()\n\u001b[1;32m----> 4\u001b[0m \u001b[39mprint\u001b[39m(data\u001b[39m.\u001b[39mget(\u001b[39m'\u001b[39m\u001b[39mresults\u001b[39m\u001b[39m'\u001b[39m)[:\u001b[39m3\u001b[39m])\n",
      "\u001b[1;31mTypeError\u001b[0m: 'NoneType' object is not subscriptable"
     ]
    }
   ],
   "source": [
    "response = requests_retry_session().get(tmdb_discover_url, headers=headers, params=params, timeout=10)\n",
    "print(f\"[DEBUG] {year=} {page=} status={response.status_code}\")\n",
    "data = response.json()\n",
    "print(data.get('results')[:3])  # 상위 3개 결과 미리 보기"
   ]
  },
  {
   "cell_type": "code",
   "execution_count": 8,
   "metadata": {},
   "outputs": [
    {
     "name": "stdout",
     "output_type": "stream",
     "text": [
      "[DEBUG] year=2023 page=1 status=401\n",
      "[WARNING] No results in data: {'status_code': 7, 'status_message': 'Invalid API key: You must be granted a valid key.', 'success': False}\n"
     ]
    }
   ],
   "source": [
    "response = requests_retry_session().get(tmdb_discover_url, headers=headers, params=params, timeout=10)\n",
    "print(f\"[DEBUG] {year=} {page=} status={response.status_code}\")\n",
    "\n",
    "try:\n",
    "    data = response.json()\n",
    "except Exception as e:\n",
    "    print(f\"[ERROR] JSON 디코딩 실패: {e}\")\n",
    "    data = {}\n",
    "\n",
    "results = data.get('results')\n",
    "if results:\n",
    "    print(results[:3])  # 결과 일부 출력\n",
    "else:\n",
    "    print(f\"[WARNING] No results in data: {data}\")"
   ]
  },
  {
   "cell_type": "code",
   "execution_count": null,
   "metadata": {},
   "outputs": [],
   "source": []
  }
 ],
 "metadata": {
  "kernelspec": {
   "display_name": "base",
   "language": "python",
   "name": "python3"
  },
  "language_info": {
   "codemirror_mode": {
    "name": "ipython",
    "version": 3
   },
   "file_extension": ".py",
   "mimetype": "text/x-python",
   "name": "python",
   "nbconvert_exporter": "python",
   "pygments_lexer": "ipython3",
   "version": "3.12.7"
  },
  "orig_nbformat": 4
 },
 "nbformat": 4,
 "nbformat_minor": 2
}
