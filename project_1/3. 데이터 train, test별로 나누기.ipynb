{
 "cells": [
  {
   "cell_type": "code",
   "execution_count": 1,
   "metadata": {},
   "outputs": [],
   "source": [
    "import pandas as pd\n",
    "import glob"
   ]
  },
  {
   "cell_type": "code",
   "execution_count": 2,
   "metadata": {},
   "outputs": [],
   "source": [
    "# 1. 훈련 + 검증 데이터 병합\n",
    "train_valid_files = [\n",
    "    './전처리_완료(csv)/2020년도 전처리.csv',\n",
    "    './전처리_완료(csv)/2021년도 전처리.csv',\n",
    "    './전처리_완료(csv)/2022년도 전처리.csv',\n",
    "    './전처리_완료(csv)/2023년도 전처리.csv',\n",
    "    './전처리_완료(csv)/2024년도 전처리.csv',\n",
    "    './전처리_완료(csv)/2025년도 전처리_may.csv'\n",
    "]\n",
    "df_train_valid = pd.concat([pd.read_csv(file) for file in train_valid_files], ignore_index=True)\n",
    "df_train_valid.to_csv('x_train_valid.csv', index=False)\n",
    "\n",
    "# 2. 테스트 데이터 병합\n",
    "test_files = [\n",
    "    './전처리_완료(csv)/2025년도 전처리_set.csv',\n",
    "    './전처리_완료(csv)/2026년도 전처리.csv'\n",
    "]\n",
    "df_test = pd.concat([pd.read_csv(file) for file in test_files], ignore_index=True)\n",
    "df_test.to_csv('test.csv', index=False)"
   ]
  },
  {
   "cell_type": "code",
   "execution_count": 3,
   "metadata": {},
   "outputs": [
    {
     "name": "stdout",
     "output_type": "stream",
     "text": [
      "<class 'pandas.core.frame.DataFrame'>\n",
      "RangeIndex: 66300 entries, 0 to 66299\n",
      "Data columns (total 20 columns):\n",
      " #   Column                         Non-Null Count  Dtype  \n",
      "---  ------                         --------------  -----  \n",
      " 0   title                          66300 non-null  object \n",
      " 1   release_date                   66300 non-null  object \n",
      " 2   type                           66300 non-null  object \n",
      " 3   runtime                        66300 non-null  float64\n",
      " 4   season_count                   66300 non-null  float64\n",
      " 5   episode_count                  66300 non-null  float64\n",
      " 6   genre                          63278 non-null  object \n",
      " 7   director                       66300 non-null  object \n",
      " 8   cast                           66300 non-null  object \n",
      " 9   country                        66300 non-null  object \n",
      " 10  language                       66300 non-null  object \n",
      " 11  production_company             66300 non-null  object \n",
      " 12  synopsis                       61682 non-null  object \n",
      " 13  tags                           66300 non-null  object \n",
      " 14  imdb_rating                    66300 non-null  float64\n",
      " 15  imdb_review_count              66300 non-null  int64  \n",
      " 16  text_input                     66300 non-null  object \n",
      " 17  production_company_is_missing  66300 non-null  int64  \n",
      " 18  director_is_missing            66300 non-null  int64  \n",
      " 19  cast_is_missing                66300 non-null  int64  \n",
      "dtypes: float64(4), int64(4), object(12)\n",
      "memory usage: 10.1+ MB\n"
     ]
    }
   ],
   "source": [
    "df1 = pd.read_csv('x_train_valid.csv')\n",
    "df1.info()"
   ]
  },
  {
   "cell_type": "code",
   "execution_count": 4,
   "metadata": {},
   "outputs": [
    {
     "name": "stdout",
     "output_type": "stream",
     "text": [
      "<class 'pandas.core.frame.DataFrame'>\n",
      "RangeIndex: 1582 entries, 0 to 1581\n",
      "Data columns (total 20 columns):\n",
      " #   Column                         Non-Null Count  Dtype  \n",
      "---  ------                         --------------  -----  \n",
      " 0   title                          1582 non-null   object \n",
      " 1   release_date                   1582 non-null   object \n",
      " 2   type                           1582 non-null   object \n",
      " 3   runtime                        1582 non-null   float64\n",
      " 4   season_count                   1582 non-null   float64\n",
      " 5   episode_count                  1582 non-null   float64\n",
      " 6   genre                          1477 non-null   object \n",
      " 7   director                       1582 non-null   object \n",
      " 8   cast                           1582 non-null   object \n",
      " 9   country                        1582 non-null   object \n",
      " 10  language                       1582 non-null   object \n",
      " 11  production_company             1582 non-null   object \n",
      " 12  synopsis                       1559 non-null   object \n",
      " 13  tags                           1582 non-null   object \n",
      " 14  imdb_rating                    1582 non-null   float64\n",
      " 15  imdb_review_count              1582 non-null   int64  \n",
      " 16  text_input                     1582 non-null   object \n",
      " 17  production_company_is_missing  1582 non-null   int64  \n",
      " 18  cast_is_missing                1582 non-null   int64  \n",
      " 19  director_is_missing            1582 non-null   int64  \n",
      "dtypes: float64(4), int64(4), object(12)\n",
      "memory usage: 247.3+ KB\n"
     ]
    }
   ],
   "source": [
    "df2 = pd.read_csv('test.csv')\n",
    "df2.info()"
   ]
  },
  {
   "cell_type": "code",
   "execution_count": null,
   "metadata": {},
   "outputs": [],
   "source": []
  }
 ],
 "metadata": {
  "kernelspec": {
   "display_name": "base",
   "language": "python",
   "name": "python3"
  },
  "language_info": {
   "codemirror_mode": {
    "name": "ipython",
    "version": 3
   },
   "file_extension": ".py",
   "mimetype": "text/x-python",
   "name": "python",
   "nbconvert_exporter": "python",
   "pygments_lexer": "ipython3",
   "version": "3.12.7"
  },
  "orig_nbformat": 4
 },
 "nbformat": 4,
 "nbformat_minor": 2
}
