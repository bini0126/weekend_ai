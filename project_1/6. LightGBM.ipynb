{
 "cells": [
  {
   "cell_type": "code",
   "execution_count": 1,
   "metadata": {},
   "outputs": [],
   "source": [
    "from sklearn.model_selection import train_test_split\n",
    "import pandas as pd\n",
    "import numpy as np\n",
    "import lightgbm as lgb\n",
    "from sklearn.metrics import accuracy_score, precision_score, recall_score, f1_score, roc_auc_score, classification_report, roc_curve"
   ]
  },
  {
   "cell_type": "code",
   "execution_count": 2,
   "metadata": {},
   "outputs": [],
   "source": [
    "df_train = pd.read_csv('./data/df_train.csv')\n",
    "df_test = pd.read_csv('./data/df_test.csv')"
   ]
  },
  {
   "cell_type": "code",
   "execution_count": 3,
   "metadata": {},
   "outputs": [
    {
     "data": {
      "text/plain": [
       "Index(['title', 'month', 'type_movie', 'type_tv', 'runtime', 'season_count',\n",
       "       'episode_count', 'language', 'production_company_is_missing',\n",
       "       'director_is_missing',\n",
       "       ...\n",
       "       'country_PL', 'country_RU', 'country_SE', 'country_TH', 'country_TR',\n",
       "       'country_TW', 'country_US', 'country_US, GB', 'country_others',\n",
       "       'success_label'],\n",
       "      dtype='object', length=201)"
      ]
     },
     "execution_count": 3,
     "metadata": {},
     "output_type": "execute_result"
    }
   ],
   "source": [
    "df_train.columns"
   ]
  },
  {
   "cell_type": "code",
   "execution_count": 4,
   "metadata": {},
   "outputs": [
    {
     "name": "stdout",
     "output_type": "stream",
     "text": [
      "(63278, 201)\n",
      "(1477, 200)\n"
     ]
    }
   ],
   "source": [
    "print(df_train.shape)\n",
    "print(df_test.shape)"
   ]
  },
  {
   "cell_type": "code",
   "execution_count": 5,
   "metadata": {},
   "outputs": [
    {
     "name": "stdout",
     "output_type": "stream",
     "text": [
      "[LightGBM] [Info] Number of positive: 9802, number of negative: 37656\n",
      "[LightGBM] [Info] Auto-choosing col-wise multi-threading, the overhead of testing was 0.017803 seconds.\n",
      "You can set `force_col_wise=true` to remove the overhead.\n",
      "[LightGBM] [Info] Total Bins 26697\n",
      "[LightGBM] [Info] Number of data points in the train set: 47458, number of used features: 197\n",
      "[LightGBM] [Info] [binary:BoostFromScore]: pavg=0.206541 -> initscore=-1.345906\n",
      "[LightGBM] [Info] Start training from score -1.345906\n",
      "[LightGBM] [Warning] No further splits with positive gain, best gain: -inf\n",
      "[LightGBM] [Warning] No further splits with positive gain, best gain: -inf\n",
      "[LightGBM] [Warning] No further splits with positive gain, best gain: -inf\n",
      "[LightGBM] [Warning] No further splits with positive gain, best gain: -inf\n",
      "[LightGBM] [Warning] No further splits with positive gain, best gain: -inf\n",
      "[LightGBM] [Warning] No further splits with positive gain, best gain: -inf\n",
      "[LightGBM] [Warning] No further splits with positive gain, best gain: -inf\n",
      "[LightGBM] [Warning] No further splits with positive gain, best gain: -inf\n",
      "[LightGBM] [Warning] No further splits with positive gain, best gain: -inf\n",
      "[LightGBM] [Warning] No further splits with positive gain, best gain: -inf\n",
      "[LightGBM] [Warning] No further splits with positive gain, best gain: -inf\n"
     ]
    }
   ],
   "source": [
    "# 1. X, y 준비 (title, language 제거한 상태)\n",
    "X = df_train.drop(columns=['success_label', 'title', 'language'])\n",
    "y = df_train['success_label']\n",
    "X_test = df_test.copy()\n",
    "\n",
    "# 2. 컬럼명 특수문자 처리\n",
    "def clean_column_names(df):\n",
    "    df.columns = df.columns.str.replace(r'[,\\s/\\\\]', '_', regex=True)\n",
    "    return df\n",
    "\n",
    "X = clean_column_names(X)\n",
    "X_test = clean_column_names(X_test)\n",
    "\n",
    "# 3. train/valid split\n",
    "X_train, X_valid, y_train, y_valid = train_test_split(\n",
    "    X, y, test_size=0.25, random_state=26, stratify=y\n",
    ")\n",
    "\n",
    "# 4. LGBM 모델 학습\n",
    "lgb_model = lgb.LGBMClassifier(\n",
    "    n_estimators=100,\n",
    "    max_depth=6,\n",
    "    learning_rate=0.1,\n",
    "    subsample=0.8,\n",
    "    colsample_bytree=0.8,\n",
    "    random_state=42\n",
    ")\n",
    "\n",
    "lgb_model.fit(X_train, y_train)\n",
    "y_valid_pred = lgb_model.predict(X_valid)\n",
    "y_valid_prob_lgb = lgb_model.predict_proba(X_valid)[:, 1]\n"
   ]
  },
  {
   "cell_type": "code",
   "execution_count": 6,
   "metadata": {},
   "outputs": [
    {
     "name": "stdout",
     "output_type": "stream",
     "text": [
      "Validation Accuracy: 0.8446\n",
      "Validation F1-score: 0.5208\n",
      "Validation ROC-AUC: 0.8482\n",
      "              precision    recall  f1-score   support\n",
      "\n",
      "           0       0.86      0.96      0.91     12553\n",
      "           1       0.72      0.41      0.52      3267\n",
      "\n",
      "    accuracy                           0.84     15820\n",
      "   macro avg       0.79      0.68      0.71     15820\n",
      "weighted avg       0.83      0.84      0.83     15820\n",
      "\n"
     ]
    }
   ],
   "source": [
    "# 정확도\n",
    "acc = accuracy_score(y_valid, y_valid_pred)\n",
    "print(f\"Validation Accuracy: {acc:.4f}\")\n",
    "\n",
    "# F1-score (binary 기준)\n",
    "f1 = f1_score(y_valid, y_valid_pred)\n",
    "print(f\"Validation F1-score: {f1:.4f}\")\n",
    "\n",
    "# ROC-AUC (확률 기반 평가)\n",
    "roc_auc = roc_auc_score(y_valid, y_valid_prob_lgb)\n",
    "print(f\"Validation ROC-AUC: {roc_auc:.4f}\")\n",
    "\n",
    "# 좀 더 자세한 리포트\n",
    "print(classification_report(y_valid, y_valid_pred))\n"
   ]
  },
  {
   "cell_type": "code",
   "execution_count": 7,
   "metadata": {},
   "outputs": [
    {
     "name": "stdout",
     "output_type": "stream",
     "text": [
      "Optimal Threshold: 0.210\n",
      "Accuracy: 0.7753476611883692\n",
      "Precision: 0.47295004712535343\n",
      "Recall: 0.7679828588919498\n",
      "F1 Score: 0.5853943070461969\n",
      "              precision    recall  f1-score   support\n",
      "\n",
      "           0       0.93      0.78      0.85     12553\n",
      "           1       0.47      0.77      0.59      3267\n",
      "\n",
      "    accuracy                           0.78     15820\n",
      "   macro avg       0.70      0.77      0.72     15820\n",
      "weighted avg       0.83      0.78      0.79     15820\n",
      "\n"
     ]
    }
   ],
   "source": [
    "from sklearn.metrics import roc_curve\n",
    "\n",
    "# 1) valid 데이터 예측 확률 얻기\n",
    "y_valid_probs = lgb_model.predict_proba(X_valid)[:, 1]\n",
    "\n",
    "# 2) ROC 커브에서 임계값, TPR, FPR 구하기\n",
    "fpr, tpr, thresholds = roc_curve(y_valid, y_valid_probs)\n",
    "\n",
    "# 3) 최적 임계값 찾기 (예: Youden’s J statistic 최대값)\n",
    "optimal_idx = (tpr - fpr).argmax()\n",
    "optimal_threshold = thresholds[optimal_idx]\n",
    "print(f\"Optimal Threshold: {optimal_threshold:.3f}\")\n",
    "\n",
    "# 4) 임계값 기준으로 예측 변경\n",
    "y_valid_pred_new = (y_valid_probs >= optimal_threshold).astype(int)\n",
    "\n",
    "# 5) 성능 평가 다시 하기\n",
    "from sklearn.metrics import accuracy_score, precision_score, recall_score, f1_score\n",
    "\n",
    "print(\"Accuracy:\", accuracy_score(y_valid, y_valid_pred_new))\n",
    "print(\"Precision:\", precision_score(y_valid, y_valid_pred_new))\n",
    "print(\"Recall:\", recall_score(y_valid, y_valid_pred_new))\n",
    "print(\"F1 Score:\", f1_score(y_valid, y_valid_pred_new))\n",
    "print(classification_report(y_valid, y_valid_pred_new))\n"
   ]
  },
  {
   "cell_type": "code",
   "execution_count": 8,
   "metadata": {},
   "outputs": [
    {
     "name": "stdout",
     "output_type": "stream",
     "text": [
      "[LightGBM] [Info] Number of positive: 9802, number of negative: 37656\n",
      "[LightGBM] [Info] Auto-choosing col-wise multi-threading, the overhead of testing was 0.014098 seconds.\n",
      "You can set `force_col_wise=true` to remove the overhead.\n",
      "[LightGBM] [Info] Total Bins 26697\n",
      "[LightGBM] [Info] Number of data points in the train set: 47458, number of used features: 197\n",
      "[LightGBM] [Info] [binary:BoostFromScore]: pavg=0.206541 -> initscore=-1.345906\n",
      "[LightGBM] [Info] Start training from score -1.345906\n",
      "Tuned Model Performance\n",
      "Accuracy: 0.8421618204804046\n",
      "Precision: 0.7267373380447585\n",
      "Recall: 0.37771655953474137\n",
      "              precision    recall  f1-score   support\n",
      "\n",
      "           0       0.93      0.78      0.85     12553\n",
      "           1       0.47      0.77      0.59      3267\n",
      "\n",
      "    accuracy                           0.78     15820\n",
      "   macro avg       0.70      0.77      0.72     15820\n",
      "weighted avg       0.83      0.78      0.79     15820\n",
      "\n",
      "F1 Score: 0.49707955689828803\n"
     ]
    }
   ],
   "source": [
    "lgb_model_tuned = lgb.LGBMClassifier(\n",
    "    n_estimators=500,   # 100 → 500으로 늘림\n",
    "    learning_rate=0.01, # 0.1 → 0.01로 낮춤\n",
    "    max_depth=8,        # 기존 6 → 8로 조절\n",
    "    subsample=0.8,\n",
    "    colsample_bytree=0.8,\n",
    "    random_state=42\n",
    ")\n",
    "\n",
    "lgb_model_tuned.fit(X_train, y_train)\n",
    "\n",
    "y_valid_probs_tuned = lgb_model_tuned.predict_proba(X_valid)[:, 1]\n",
    "y_valid_pred_tuned = (y_valid_probs_tuned >= 0.5).astype(int)  # 기본 threshold 0.5\n",
    "\n",
    "print(\"Tuned Model Performance\")\n",
    "print(\"Accuracy:\", accuracy_score(y_valid, y_valid_pred_tuned))\n",
    "print(\"Precision:\", precision_score(y_valid, y_valid_pred_tuned))\n",
    "print(\"Recall:\", recall_score(y_valid, y_valid_pred_tuned))\n",
    "print(classification_report(y_valid, y_valid_pred_new))\n",
    "print(\"F1 Score:\", f1_score(y_valid, y_valid_pred_tuned))\n"
   ]
  },
  {
   "cell_type": "code",
   "execution_count": null,
   "metadata": {},
   "outputs": [],
   "source": []
  },
  {
   "cell_type": "code",
   "execution_count": 10,
   "metadata": {},
   "outputs": [
    {
     "name": "stdout",
     "output_type": "stream",
     "text": [
      "[LightGBM] [Info] Number of positive: 9802, number of negative: 37656\n",
      "[LightGBM] [Info] Auto-choosing col-wise multi-threading, the overhead of testing was 0.016886 seconds.\n",
      "You can set `force_col_wise=true` to remove the overhead.\n",
      "[LightGBM] [Info] Total Bins 26697\n",
      "[LightGBM] [Info] Number of data points in the train set: 47458, number of used features: 197\n",
      "[LightGBM] [Info] [binary:BoostFromScore]: pavg=0.206541 -> initscore=-1.345906\n",
      "[LightGBM] [Info] Start training from score -1.345906\n",
      "[LightGBM] [Warning] No further splits with positive gain, best gain: -inf\n",
      "[LightGBM] [Warning] No further splits with positive gain, best gain: -inf\n",
      "[LightGBM] [Warning] No further splits with positive gain, best gain: -inf\n",
      "[LightGBM] [Warning] No further splits with positive gain, best gain: -inf\n",
      "[LightGBM] [Warning] No further splits with positive gain, best gain: -inf\n",
      "[LightGBM] [Warning] No further splits with positive gain, best gain: -inf\n",
      "[LightGBM] [Warning] No further splits with positive gain, best gain: -inf\n",
      "[LightGBM] [Warning] No further splits with positive gain, best gain: -inf\n",
      "[LightGBM] [Warning] No further splits with positive gain, best gain: -inf\n",
      "[LightGBM] [Warning] No further splits with positive gain, best gain: -inf\n",
      "[LightGBM] [Warning] No further splits with positive gain, best gain: -inf\n",
      "[LightGBM] [Info] Number of positive: 9802, number of negative: 37656\n",
      "[LightGBM] [Info] Auto-choosing col-wise multi-threading, the overhead of testing was 0.016230 seconds.\n",
      "You can set `force_col_wise=true` to remove the overhead.\n",
      "[LightGBM] [Info] Total Bins 26697\n",
      "[LightGBM] [Info] Number of data points in the train set: 47458, number of used features: 197\n",
      "[LightGBM] [Info] [binary:BoostFromScore]: pavg=0.206541 -> initscore=-1.345906\n",
      "[LightGBM] [Info] Start training from score -1.345906\n",
      "== Ensemble Results ==\n",
      "              precision    recall  f1-score   support\n",
      "\n",
      "           0     0.9285    0.7775    0.8463     12553\n",
      "           1     0.4738    0.7698    0.5866      3267\n",
      "\n",
      "    accuracy                         0.7759     15820\n",
      "   macro avg     0.7011    0.7737    0.7164     15820\n",
      "weighted avg     0.8346    0.7759    0.7927     15820\n",
      "\n",
      "Accuracy: 0.7759165613147914\n",
      "Precision: 0.4738131122833459\n",
      "Recall: 0.7698194061830426\n",
      "F1 Score: 0.5865889212827988\n",
      "ROC-AUC: 0.8501323839019284\n"
     ]
    }
   ],
   "source": [
    "import pandas as pd\n",
    "import numpy as np\n",
    "from sklearn.model_selection import train_test_split\n",
    "from sklearn.metrics import classification_report, f1_score, recall_score, precision_score, roc_auc_score\n",
    "import lightgbm as lgb\n",
    "\n",
    "# 1. 데이터 준비\n",
    "X = df_train.drop(columns=['success_label', 'title', 'language'])\n",
    "y = df_train['success_label']\n",
    "X_test = df_test.copy()\n",
    "\n",
    "# 2. 특수문자 컬럼명 처리\n",
    "def clean_column_names(df):\n",
    "    df.columns = df.columns.str.replace(r'[,\\s/\\\\]', '_', regex=True)\n",
    "    return df\n",
    "\n",
    "X = clean_column_names(X)\n",
    "X_test = clean_column_names(X_test)\n",
    "\n",
    "# 3. train/validation 분할\n",
    "X_train, X_valid, y_train, y_valid = train_test_split(\n",
    "    X, y, test_size=0.25, random_state=26, stratify=y\n",
    ")\n",
    "\n",
    "# 4. 기본 모델 (Model A)\n",
    "model_base = lgb.LGBMClassifier(\n",
    "    n_estimators=100,\n",
    "    max_depth=6,\n",
    "    learning_rate=0.1,\n",
    "    subsample=0.8,\n",
    "    colsample_bytree=0.8,\n",
    "    random_state=42\n",
    ")\n",
    "model_base.fit(X_train, y_train)\n",
    "proba_base = model_base.predict_proba(X_valid)[:, 1]\n",
    "\n",
    "# 5. 튜닝 모델 (Model B)\n",
    "model_tuned = lgb.LGBMClassifier(\n",
    "    n_estimators=200,\n",
    "    max_depth=8,\n",
    "    learning_rate=0.05,\n",
    "    subsample=0.7,\n",
    "    colsample_bytree=0.7,\n",
    "    random_state=42\n",
    ")\n",
    "model_tuned.fit(X_train, y_train)\n",
    "proba_tuned = model_tuned.predict_proba(X_valid)[:, 1]\n",
    "\n",
    "# 6. Threshold 모델은 base 모델 기반으로 threshold만 조정 (Model C == Model A)\n",
    "proba_thresh = proba_base.copy()  # 따로 훈련 안 함\n",
    "\n",
    "# 7. 앙상블 (soft voting)\n",
    "final_proba = (proba_base + proba_thresh + proba_tuned) / 3\n",
    "\n",
    "# 8. Threshold 설정 및 예측\n",
    "threshold = 0.21\n",
    "final_preds = (final_proba >= threshold).astype(int)\n",
    "\n",
    "# 9. 평가 출력\n",
    "print(\"== Ensemble Results ==\")\n",
    "print(classification_report(y_valid, final_preds, digits=4))\n",
    "print(\"Accuracy:\", np.mean(final_preds == y_valid))\n",
    "print(\"Precision:\", precision_score(y_valid, final_preds))\n",
    "print(\"Recall:\", recall_score(y_valid, final_preds))\n",
    "print(\"F1 Score:\", f1_score(y_valid, final_preds))\n",
    "print(\"ROC-AUC:\", roc_auc_score(y_valid, final_proba))  # 확률 기반\n",
    "\n",
    "# (선택) 추후 X_test에도 final_proba 적용 가능\n",
    "# test_proba_base = model_base.predict_proba(X_test)[:, 1]\n",
    "# test_proba_tuned = model_tuned.predict_proba(X_test)[:, 1]\n",
    "# test_final_proba = (test_proba_base + test_proba_base + test_proba_tuned) / 3\n",
    "# test_preds = (test_final_proba >= threshold).astype(int)\n"
   ]
  },
  {
   "cell_type": "code",
   "execution_count": null,
   "metadata": {},
   "outputs": [],
   "source": []
  },
  {
   "cell_type": "code",
   "execution_count": null,
   "metadata": {},
   "outputs": [],
   "source": []
  },
  {
   "cell_type": "code",
   "execution_count": null,
   "metadata": {},
   "outputs": [],
   "source": []
  },
  {
   "cell_type": "code",
   "execution_count": null,
   "metadata": {},
   "outputs": [],
   "source": []
  },
  {
   "cell_type": "code",
   "execution_count": null,
   "metadata": {},
   "outputs": [],
   "source": []
  },
  {
   "cell_type": "code",
   "execution_count": null,
   "metadata": {},
   "outputs": [],
   "source": []
  },
  {
   "cell_type": "code",
   "execution_count": null,
   "metadata": {},
   "outputs": [],
   "source": []
  },
  {
   "cell_type": "code",
   "execution_count": null,
   "metadata": {},
   "outputs": [],
   "source": []
  },
  {
   "cell_type": "code",
   "execution_count": null,
   "metadata": {},
   "outputs": [],
   "source": []
  },
  {
   "cell_type": "code",
   "execution_count": null,
   "metadata": {},
   "outputs": [],
   "source": []
  },
  {
   "cell_type": "code",
   "execution_count": null,
   "metadata": {},
   "outputs": [],
   "source": []
  },
  {
   "cell_type": "code",
   "execution_count": null,
   "metadata": {},
   "outputs": [],
   "source": []
  },
  {
   "cell_type": "code",
   "execution_count": null,
   "metadata": {},
   "outputs": [],
   "source": []
  },
  {
   "cell_type": "code",
   "execution_count": null,
   "metadata": {},
   "outputs": [],
   "source": []
  },
  {
   "cell_type": "code",
   "execution_count": null,
   "metadata": {},
   "outputs": [],
   "source": []
  },
  {
   "cell_type": "code",
   "execution_count": null,
   "metadata": {},
   "outputs": [],
   "source": []
  },
  {
   "cell_type": "code",
   "execution_count": null,
   "metadata": {},
   "outputs": [],
   "source": []
  },
  {
   "cell_type": "code",
   "execution_count": null,
   "metadata": {},
   "outputs": [],
   "source": []
  },
  {
   "cell_type": "code",
   "execution_count": null,
   "metadata": {},
   "outputs": [],
   "source": []
  },
  {
   "cell_type": "code",
   "execution_count": null,
   "metadata": {},
   "outputs": [],
   "source": []
  },
  {
   "cell_type": "code",
   "execution_count": null,
   "metadata": {},
   "outputs": [],
   "source": []
  }
 ],
 "metadata": {
  "kernelspec": {
   "display_name": "base",
   "language": "python",
   "name": "python3"
  },
  "language_info": {
   "codemirror_mode": {
    "name": "ipython",
    "version": 3
   },
   "file_extension": ".py",
   "mimetype": "text/x-python",
   "name": "python",
   "nbconvert_exporter": "python",
   "pygments_lexer": "ipython3",
   "version": "3.12.7"
  },
  "orig_nbformat": 4
 },
 "nbformat": 4,
 "nbformat_minor": 2
}
