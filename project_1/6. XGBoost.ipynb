{
 "cells": [
  {
   "cell_type": "code",
   "execution_count": 2,
   "metadata": {},
   "outputs": [],
   "source": [
    "from sklearn.model_selection import train_test_split\n",
    "import pandas as pd\n",
    "import numpy as np\n",
    "import xgboost as xgb\n",
    "from sklearn.metrics import accuracy_score, precision_score, recall_score, f1_score, roc_auc_score, classification_report, roc_curve"
   ]
  },
  {
   "cell_type": "code",
   "execution_count": 3,
   "metadata": {},
   "outputs": [],
   "source": [
    "df_train = pd.read_csv('./data/df_train.csv')\n",
    "df_test = pd.read_csv('./data/df_test.csv')"
   ]
  },
  {
   "cell_type": "code",
   "execution_count": 4,
   "metadata": {},
   "outputs": [
    {
     "data": {
      "text/plain": [
       "Index(['title', 'month', 'type_movie', 'type_tv', 'runtime', 'season_count',\n",
       "       'episode_count', 'language', 'production_company_is_missing',\n",
       "       'director_is_missing',\n",
       "       ...\n",
       "       'country_PL', 'country_RU', 'country_SE', 'country_TH', 'country_TR',\n",
       "       'country_TW', 'country_US', 'country_US, GB', 'country_others',\n",
       "       'success_label'],\n",
       "      dtype='object', length=201)"
      ]
     },
     "execution_count": 4,
     "metadata": {},
     "output_type": "execute_result"
    }
   ],
   "source": [
    "df_train.columns"
   ]
  },
  {
   "cell_type": "code",
   "execution_count": 5,
   "metadata": {},
   "outputs": [
    {
     "name": "stdout",
     "output_type": "stream",
     "text": [
      "(63278, 201)\n",
      "(1477, 200)\n"
     ]
    }
   ],
   "source": [
    "print(df_train.shape)\n",
    "print(df_test.shape)"
   ]
  },
  {
   "cell_type": "code",
   "execution_count": 8,
   "metadata": {},
   "outputs": [],
   "source": [
    "# 1. X, y 준비 (title, language 제거한 상태)\n",
    "X = df_train.drop(columns=['success_label', 'title', 'language'])\n",
    "y = df_train['success_label']\n",
    "X_test = df_test.copy()\n",
    "\n",
    "# 2. 컬럼명 특수문자 처리\n",
    "def clean_column_names(df):\n",
    "    df.columns = df.columns.str.replace(r'[,\\s/\\\\]', '_', regex=True)\n",
    "    return df\n",
    "\n",
    "X = clean_column_names(X)\n",
    "X_test = clean_column_names(X_test)\n",
    "\n",
    "# 3. train/valid split\n",
    "X_train, X_valid, y_train, y_valid = train_test_split(\n",
    "    X, y, test_size=0.25, random_state=26, stratify=y\n",
    ")"
   ]
  },
  {
   "cell_type": "code",
   "execution_count": 9,
   "metadata": {},
   "outputs": [],
   "source": [
    "xgb_model = xgb.XGBClassifier(\n",
    "    n_estimators=100,\n",
    "    max_depth=6,\n",
    "    learning_rate=0.1,\n",
    "    subsample=0.8,\n",
    "    colsample_bytree=0.8,\n",
    "    random_state=42,\n",
    "    tree_method=\"hist\",\n",
    "    #use_label_encoder=False,\n",
    "    eval_metric='logloss'\n",
    ")\n",
    "\n",
    "xgb_model.fit(X_train, y_train)\n",
    "y_valid_pred = xgb_model.predict(X_valid)\n",
    "y_valid_prob_xgb = xgb_model.predict_proba(X_valid)[:, 1]"
   ]
  },
  {
   "cell_type": "code",
   "execution_count": 10,
   "metadata": {},
   "outputs": [
    {
     "name": "stdout",
     "output_type": "stream",
     "text": [
      "Validation Accuracy: 0.8442\n",
      "Validation F1-score: 0.5205\n",
      "Validation ROC-AUC: 0.8477\n",
      "              precision    recall  f1-score   support\n",
      "\n",
      "           0       0.86      0.96      0.91     12553\n",
      "           1       0.71      0.41      0.52      3267\n",
      "\n",
      "    accuracy                           0.84     15820\n",
      "   macro avg       0.79      0.68      0.71     15820\n",
      "weighted avg       0.83      0.84      0.83     15820\n",
      "\n"
     ]
    }
   ],
   "source": [
    "# 정확도\n",
    "acc = accuracy_score(y_valid, y_valid_pred)\n",
    "print(f\"Validation Accuracy: {acc:.4f}\")\n",
    "\n",
    "# F1-score (binary 기준)\n",
    "f1 = f1_score(y_valid, y_valid_pred)\n",
    "print(f\"Validation F1-score: {f1:.4f}\")\n",
    "\n",
    "# ROC-AUC (확률 기반 평가)\n",
    "roc_auc = roc_auc_score(y_valid, y_valid_prob_xgb)\n",
    "print(f\"Validation ROC-AUC: {roc_auc:.4f}\")\n",
    "\n",
    "# 좀 더 자세한 리포트\n",
    "print(classification_report(y_valid, y_valid_pred))\n"
   ]
  },
  {
   "cell_type": "code",
   "execution_count": null,
   "metadata": {},
   "outputs": [],
   "source": []
  },
  {
   "cell_type": "code",
   "execution_count": null,
   "metadata": {},
   "outputs": [],
   "source": []
  },
  {
   "cell_type": "code",
   "execution_count": null,
   "metadata": {},
   "outputs": [],
   "source": []
  },
  {
   "cell_type": "code",
   "execution_count": null,
   "metadata": {},
   "outputs": [],
   "source": []
  },
  {
   "cell_type": "code",
   "execution_count": null,
   "metadata": {},
   "outputs": [],
   "source": []
  },
  {
   "cell_type": "code",
   "execution_count": null,
   "metadata": {},
   "outputs": [],
   "source": []
  },
  {
   "cell_type": "code",
   "execution_count": null,
   "metadata": {},
   "outputs": [],
   "source": []
  },
  {
   "cell_type": "code",
   "execution_count": null,
   "metadata": {},
   "outputs": [],
   "source": []
  },
  {
   "cell_type": "code",
   "execution_count": null,
   "metadata": {},
   "outputs": [],
   "source": []
  },
  {
   "cell_type": "code",
   "execution_count": null,
   "metadata": {},
   "outputs": [],
   "source": []
  }
 ],
 "metadata": {
  "kernelspec": {
   "display_name": "base",
   "language": "python",
   "name": "python3"
  },
  "language_info": {
   "codemirror_mode": {
    "name": "ipython",
    "version": 3
   },
   "file_extension": ".py",
   "mimetype": "text/x-python",
   "name": "python",
   "nbconvert_exporter": "python",
   "pygments_lexer": "ipython3",
   "version": "3.12.7"
  },
  "orig_nbformat": 4
 },
 "nbformat": 4,
 "nbformat_minor": 2
}
