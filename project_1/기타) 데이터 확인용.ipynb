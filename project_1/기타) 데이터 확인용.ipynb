{
 "cells": [
  {
   "cell_type": "code",
   "execution_count": 1,
   "metadata": {},
   "outputs": [],
   "source": [
    "import pandas as pd"
   ]
  },
  {
   "cell_type": "code",
   "execution_count": 6,
   "metadata": {},
   "outputs": [],
   "source": [
    "df_2020 = pd.read_csv('./전처리_완료(csv)/2020년도 전처리.csv')\n",
    "df_2021 = pd.read_csv('./전처리_완료(csv)/2021년도 전처리.csv')\n",
    "df_2022 = pd.read_csv('./전처리_완료(csv)/2022년도 전처리.csv')\n",
    "df_2023 = pd.read_csv('./전처리_완료(csv)/2023년도 전처리.csv')\n",
    "df_2024 = pd.read_csv('./전처리_완료(csv)/2024년도 전처리.csv')\n",
    "df_2025 = pd.read_csv('./전처리_완료(csv)/2025년도 전처리_may.csv')"
   ]
  },
  {
   "cell_type": "code",
   "execution_count": 5,
   "metadata": {},
   "outputs": [
    {
     "name": "stdout",
     "output_type": "stream",
     "text": [
      "<class 'pandas.core.frame.DataFrame'>\n",
      "RangeIndex: 12355 entries, 0 to 12354\n",
      "Data columns (total 20 columns):\n",
      " #   Column                         Non-Null Count  Dtype  \n",
      "---  ------                         --------------  -----  \n",
      " 0   title                          12355 non-null  object \n",
      " 1   release_date                   12355 non-null  object \n",
      " 2   type                           12355 non-null  object \n",
      " 3   runtime                        12355 non-null  float64\n",
      " 4   season_count                   12355 non-null  float64\n",
      " 5   episode_count                  12355 non-null  float64\n",
      " 6   genre                          11677 non-null  object \n",
      " 7   director                       12355 non-null  object \n",
      " 8   cast                           12355 non-null  object \n",
      " 9   country                        12355 non-null  object \n",
      " 10  language                       12355 non-null  object \n",
      " 11  production_company             12355 non-null  object \n",
      " 12  synopsis                       11420 non-null  object \n",
      " 13  tags                           12355 non-null  object \n",
      " 14  imdb_rating                    12355 non-null  float64\n",
      " 15  imdb_review_count              12355 non-null  int64  \n",
      " 16  text_input                     12355 non-null  object \n",
      " 17  production_company_is_missing  12355 non-null  int64  \n",
      " 18  director_is_missing            12355 non-null  int64  \n",
      " 19  cast_is_missing                12355 non-null  int64  \n",
      "dtypes: float64(4), int64(4), object(12)\n",
      "memory usage: 1.9+ MB\n"
     ]
    }
   ],
   "source": [
    "df_2020.info()"
   ]
  },
  {
   "cell_type": "code",
   "execution_count": 7,
   "metadata": {},
   "outputs": [
    {
     "name": "stdout",
     "output_type": "stream",
     "text": [
      "2020 - genre null:  678\n",
      "2021 - genre null:  610\n",
      "2022 - genre null:  432\n",
      "2023 - genre null:  394\n",
      "2024 - genre null:  429\n",
      "2025 - genre null:  479\n"
     ]
    }
   ],
   "source": [
    "for year in range(2020, 2026):\n",
    "    df = globals().get(f\"df_{year}\")\n",
    "    if df is not None:\n",
    "        print(f\"{year} - genre null: \", df[\"genre\"].isna().sum())"
   ]
  },
  {
   "cell_type": "code",
   "execution_count": 8,
   "metadata": {},
   "outputs": [
    {
     "name": "stdout",
     "output_type": "stream",
     "text": [
      "<class 'pandas.core.frame.DataFrame'>\n",
      "RangeIndex: 12355 entries, 0 to 12354\n",
      "Data columns (total 20 columns):\n",
      " #   Column                         Non-Null Count  Dtype  \n",
      "---  ------                         --------------  -----  \n",
      " 0   title                          12355 non-null  object \n",
      " 1   release_date                   12355 non-null  object \n",
      " 2   type                           12355 non-null  object \n",
      " 3   runtime                        12355 non-null  float64\n",
      " 4   season_count                   12355 non-null  float64\n",
      " 5   episode_count                  12355 non-null  float64\n",
      " 6   genre                          11677 non-null  object \n",
      " 7   director                       12355 non-null  object \n",
      " 8   cast                           12355 non-null  object \n",
      " 9   country                        12355 non-null  object \n",
      " 10  language                       12355 non-null  object \n",
      " 11  production_company             12355 non-null  object \n",
      " 12  synopsis                       11420 non-null  object \n",
      " 13  tags                           12355 non-null  object \n",
      " 14  imdb_rating                    12355 non-null  float64\n",
      " 15  imdb_review_count              12355 non-null  int64  \n",
      " 16  text_input                     12355 non-null  object \n",
      " 17  production_company_is_missing  12355 non-null  int64  \n",
      " 18  cast_is_missing                12355 non-null  int64  \n",
      " 19  director_is_missing            12355 non-null  int64  \n",
      "dtypes: float64(4), int64(4), object(12)\n",
      "memory usage: 1.9+ MB\n"
     ]
    }
   ],
   "source": [
    "df_2020.info()"
   ]
  },
  {
   "cell_type": "code",
   "execution_count": null,
   "metadata": {},
   "outputs": [],
   "source": []
  },
  {
   "cell_type": "code",
   "execution_count": null,
   "metadata": {},
   "outputs": [],
   "source": []
  },
  {
   "cell_type": "code",
   "execution_count": null,
   "metadata": {},
   "outputs": [],
   "source": []
  },
  {
   "cell_type": "code",
   "execution_count": null,
   "metadata": {},
   "outputs": [],
   "source": []
  },
  {
   "cell_type": "code",
   "execution_count": null,
   "metadata": {},
   "outputs": [],
   "source": []
  },
  {
   "cell_type": "code",
   "execution_count": null,
   "metadata": {},
   "outputs": [],
   "source": []
  },
  {
   "cell_type": "code",
   "execution_count": null,
   "metadata": {},
   "outputs": [],
   "source": []
  },
  {
   "cell_type": "code",
   "execution_count": null,
   "metadata": {},
   "outputs": [],
   "source": []
  }
 ],
 "metadata": {
  "kernelspec": {
   "display_name": "base",
   "language": "python",
   "name": "python3"
  },
  "language_info": {
   "codemirror_mode": {
    "name": "ipython",
    "version": 3
   },
   "file_extension": ".py",
   "mimetype": "text/x-python",
   "name": "python",
   "nbconvert_exporter": "python",
   "pygments_lexer": "ipython3",
   "version": "3.12.7"
  },
  "orig_nbformat": 4
 },
 "nbformat": 4,
 "nbformat_minor": 2
}
