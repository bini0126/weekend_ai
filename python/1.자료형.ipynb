{
 "cells": [
  {
   "cell_type": "markdown",
   "id": "9622a6a4-3584-4ea7-985f-59c4348bc16d",
   "metadata": {},
   "source": [
    "# 자료형\n",
    "\n",
    "- 자료(data) : 프로그램이 처리할 수 있는 모든 것\n",
    "\n",
    "- 자료형(data type) : 자료를 개발자들이 쉽게 사용할 수 있도록 기능과 역할에 따라서 구분한 종류\n",
    "    - 문자열(string) : 메일 제목, 메시지 내용 등\n",
    "        - 예) \"안녕하세요\", \"Hello, World!\"\n",
    "     \n",
    "    - 숫자(number) : 물건의 가격, 학생의 성적 등\n",
    "        - 예) 52, 273, 103.32\n",
    "     \n",
    "    - 불(boolean) : 사용자의 로그인 상태 등\n",
    "        - 예) True, False"
   ]
  },
  {
   "cell_type": "markdown",
   "id": "54f6eda2-3a27-49ef-a456-25db029aa303",
   "metadata": {},
   "source": [
    "## 숫자 자료형\n",
    "\n",
    "- 숫자 자료형의 종류\n",
    "    - 정수형(integer) : 소수점이 없는 숫자\n",
    "        - 예) 0, 1, 273, -53\n",
    "     \n",
    "    - 실수형(floating point) : 소수점이 있는 숫자\n",
    "        - 0.0, 52.273, -1.2\n",
    "     \n",
    "- 주의점\n",
    "    - 0과 0.0은 같은 크기를 표현하지만 소수점의 여부에 따라 숫자의 자료형이 달라짐"
   ]
  },
  {
   "cell_type": "markdown",
   "id": "488eba5e-567a-4e00-b3ea-a9ad6f51c778",
   "metadata": {},
   "source": [
    "### 정수형(integer)"
   ]
  },
  {
   "cell_type": "code",
   "execution_count": 4,
   "id": "d37db9b7-4372-4944-8d12-06bf11cfcf92",
   "metadata": {},
   "outputs": [
    {
     "name": "stdout",
     "output_type": "stream",
     "text": [
      "123\n",
      "-178\n",
      "0\n",
      "<class 'int'>\n",
      "<class 'int'>\n",
      "<class 'int'>\n"
     ]
    }
   ],
   "source": [
    "a = 123\n",
    "b = -178\n",
    "c = 0\n",
    "\n",
    "print(a)\n",
    "print(b)\n",
    "print(c)\n",
    "\n",
    "# type() : 자료형 확인하기\n",
    "# type함수의 괄호 내부에 자료를 넣으면 그 자료가 어떤 자료형을 가지고 있는지 확인\n",
    "print(type(a))\n",
    "print(type(b))\n",
    "print(type(c))"
   ]
  },
  {
   "cell_type": "markdown",
   "id": "99b7546d-a1f6-439e-b1a9-df06af09a393",
   "metadata": {},
   "source": [
    "### 실수형(Floating-point)"
   ]
  },
  {
   "cell_type": "code",
   "execution_count": 7,
   "id": "72ec821a-9e44-4169-8a17-f67347ce3051",
   "metadata": {},
   "outputs": [
    {
     "name": "stdout",
     "output_type": "stream",
     "text": [
      "1.2\n",
      "-3.45\n",
      "<class 'float'>\n",
      "<class 'float'>\n"
     ]
    }
   ],
   "source": [
    "a = 1.2\n",
    "b = -3.45\n",
    "\n",
    "print(a)\n",
    "print(b)\n",
    "print(type(a))\n",
    "print(type(b))"
   ]
  },
  {
   "cell_type": "markdown",
   "id": "d0f09dab-fe54-4631-8e68-259d49429d07",
   "metadata": {},
   "source": [
    "### 사칙연산"
   ]
  },
  {
   "cell_type": "code",
   "execution_count": 10,
   "id": "78fd088a-bb82-43f2-b809-82daf143c8fc",
   "metadata": {},
   "outputs": [
    {
     "name": "stdout",
     "output_type": "stream",
     "text": [
      "7\n",
      "-1\n",
      "12\n",
      "0.75\n",
      "81\n",
      "0\n",
      "3\n"
     ]
    }
   ],
   "source": [
    "a = 3\n",
    "b = 4\n",
    "\n",
    "print(a + b) # 합\n",
    "print(a - b) # 차\n",
    "print(a * b) # 곱\n",
    "print(a / b) # 나눗셈\n",
    "print(a ** b) # 제곱\n",
    "print(a // b) # 몫\n",
    "print(a % b) # 나머지"
   ]
  },
  {
   "cell_type": "markdown",
   "id": "5c78770a-7646-46a1-9d1e-559ce7a1c354",
   "metadata": {},
   "source": [
    "## 연산자의 우선순위\n",
    "\n",
    "- 숫자를 계산할 때는 곱셈과 나눗셈이 덧셈과 뺄셈보다 우선함\n",
    "- 같은 우선순위를 가지는 연산자는 왼쪽에서 오른쪽 순서로 계산"
   ]
  },
  {
   "cell_type": "code",
   "execution_count": 13,
   "id": "0c5724f5-d517-4f9b-8f6d-2efa495be23c",
   "metadata": {},
   "outputs": [
    {
     "name": "stdout",
     "output_type": "stream",
     "text": [
      "0.0\n"
     ]
    }
   ],
   "source": [
    "print(2 + 2 - 2 * 2 / 2 * 2)"
   ]
  },
  {
   "cell_type": "code",
   "execution_count": 15,
   "id": "a2215fe2-2ff0-49c5-98d5-0ff7cb2d0fc8",
   "metadata": {},
   "outputs": [
    {
     "name": "stdout",
     "output_type": "stream",
     "text": [
      "16\n",
      "11\n"
     ]
    }
   ],
   "source": [
    "# 먼저 연산하고 싶은 부분은 괄호로 표현\n",
    "print((5 + 3) * 2)\n",
    "print(5 + 3 * 2)"
   ]
  },
  {
   "cell_type": "code",
   "execution_count": 17,
   "id": "c3c8ce04-8555-4e0e-a957-2550a3fd37a8",
   "metadata": {},
   "outputs": [
    {
     "name": "stdout",
     "output_type": "stream",
     "text": [
      "11\n"
     ]
    }
   ],
   "source": [
    "# 연산자 우선순위가 확실한 경우에도 명확하게 표현하기 위해 괄호를 사용하기도 함\n",
    "print(5 + (3 * 2))"
   ]
  },
  {
   "cell_type": "markdown",
   "id": "721ef077-f5a3-4a4b-bcb7-3b653ad76f2b",
   "metadata": {},
   "source": [
    "## 문자열 자료형(string)\n",
    "\n",
    "- 문자열 : 글자들이 나열된 것"
   ]
  },
  {
   "cell_type": "code",
   "execution_count": 20,
   "id": "50f177f5-cfe4-420c-83c4-04479a8801d9",
   "metadata": {},
   "outputs": [
    {
     "name": "stdout",
     "output_type": "stream",
     "text": [
      "Hello, World!\n",
      "<class 'str'>\n",
      "123\n",
      "<class 'str'>\n"
     ]
    }
   ],
   "source": [
    "a = \"Hello, World!\"\n",
    "b = \"123\"\n",
    "\n",
    "print(a)\n",
    "print(type(a))\n",
    "print(b)\n",
    "print(type(b))"
   ]
  },
  {
   "cell_type": "code",
   "execution_count": 22,
   "id": "9603831e-a09c-422f-9c7c-9a318ab900f3",
   "metadata": {},
   "outputs": [
    {
     "name": "stdout",
     "output_type": "stream",
     "text": [
      "Hello\n",
      "Hello\n",
      "Hello\n",
      "Hello\n"
     ]
    }
   ],
   "source": [
    "# 문자열 표기법\n",
    "print(\"Hello\")\n",
    "print('Hello')\n",
    "print(\"\"\"Hello\"\"\")\n",
    "print('''Hello''')"
   ]
  },
  {
   "cell_type": "markdown",
   "id": "5c81b55c-d37d-4b20-a874-4caa16161e1d",
   "metadata": {},
   "source": [
    "### 문자열에 따옴표 포함하기"
   ]
  },
  {
   "cell_type": "code",
   "execution_count": 25,
   "id": "62dfd1ba-4ec3-4618-8a7f-2bef349d1a13",
   "metadata": {},
   "outputs": [
    {
     "name": "stdout",
     "output_type": "stream",
     "text": [
      "Python's favorite food is perl\n",
      "\"Python is very easy.\" he says\n"
     ]
    }
   ],
   "source": [
    "# 'Python's favorite food is perl'\n",
    "print(\"Python's favorite food is perl\")\n",
    "print('\"Python is very easy.\" he says')"
   ]
  },
  {
   "cell_type": "markdown",
   "id": "0cf10d90-39e3-4bda-a2e7-cf5d79dc10c3",
   "metadata": {},
   "source": [
    "### 여러 줄인 문자열"
   ]
  },
  {
   "cell_type": "code",
   "execution_count": 21,
   "id": "2c7e4d47-74e4-44d7-945a-1fcd717e38ab",
   "metadata": {},
   "outputs": [
    {
     "name": "stdout",
     "output_type": "stream",
     "text": [
      "Life is too short\n",
      "You need python\n"
     ]
    }
   ],
   "source": [
    "lines = '''Life is too short\n",
    "You need python'''\n",
    "\n",
    "print(lines)"
   ]
  },
  {
   "cell_type": "code",
   "execution_count": 23,
   "id": "e13e9319-ec77-43db-9c15-0167895f470a",
   "metadata": {},
   "outputs": [
    {
     "name": "stdout",
     "output_type": "stream",
     "text": [
      "Life is too short\n",
      "You need python\n"
     ]
    }
   ],
   "source": [
    "lines = \"Life is too short\\nYou need python\"\n",
    "\n",
    "print(lines)"
   ]
  },
  {
   "cell_type": "markdown",
   "id": "893fae93-84db-479f-a705-73d47c1e1c30",
   "metadata": {},
   "source": [
    "#### 이스케이프 코드\n",
    "\n",
    "- 특별한 의미를 가지는 미리 정의된 문자 조합\n",
    "    - \\n : 줄바꿈\n",
    "    - \\t : 탭"
   ]
  },
  {
   "cell_type": "code",
   "execution_count": 24,
   "id": "d1cb4611-b84d-4515-9295-e87543d0e688",
   "metadata": {},
   "outputs": [
    {
     "name": "stdout",
     "output_type": "stream",
     "text": [
      "안녕하세요\t안녕하세요\n"
     ]
    }
   ],
   "source": [
    "print(\"안녕하세요\\t안녕하세요\")"
   ]
  },
  {
   "cell_type": "markdown",
   "id": "b855f6ad-3b02-4a07-b992-9a224a2c3c38",
   "metadata": {},
   "source": [
    "### 문자열 연산자\n",
    "\n",
    "- 각각의 자료는 사용할 수 있는 연산자가 정해져 있음"
   ]
  },
  {
   "cell_type": "markdown",
   "id": "754cd150-a69b-47c4-80ea-5a0bfeda78f9",
   "metadata": {},
   "source": [
    "#### 문자열 연결 연산자\n",
    "\n",
    "- 두 문자를 연결해서 새로운 문자열을 만들어냄"
   ]
  },
  {
   "cell_type": "code",
   "execution_count": 26,
   "id": "44b9528a-4f31-4222-ba41-c2cdfa97af93",
   "metadata": {},
   "outputs": [
    {
     "name": "stdout",
     "output_type": "stream",
     "text": [
      "Hello, World!\n"
     ]
    }
   ],
   "source": [
    "# 문자열은 + 연산자로 문자열 연결 연산 적용\n",
    "# 숫자 더하기 연산자와 문자열 연결 연산자 모두 + 기호를 사용하지만 완전히 다른 기능을 수행\n",
    "print(\"Hello, \" + \"World!\")"
   ]
  },
  {
   "cell_type": "code",
   "execution_count": 28,
   "id": "89b5f9b9-5caa-41fc-869f-3f0395ca9d80",
   "metadata": {},
   "outputs": [
    {
     "ename": "TypeError",
     "evalue": "can only concatenate str (not \"int\") to str",
     "output_type": "error",
     "traceback": [
      "\u001b[1;31m---------------------------------------------------------------------------\u001b[0m",
      "\u001b[1;31mTypeError\u001b[0m                                 Traceback (most recent call last)",
      "Cell \u001b[1;32mIn[28], line 2\u001b[0m\n\u001b[0;32m      1\u001b[0m \u001b[38;5;66;03m# 문자열과 숫자 사이에 문자열 연결 연산자를 사용하면 에러 발생\u001b[39;00m\n\u001b[1;32m----> 2\u001b[0m \u001b[38;5;28mprint\u001b[39m(\u001b[38;5;124m\"\u001b[39m\u001b[38;5;124m안녕하세요\u001b[39m\u001b[38;5;124m\"\u001b[39m \u001b[38;5;241m+\u001b[39m \u001b[38;5;241m1\u001b[39m)\n",
      "\u001b[1;31mTypeError\u001b[0m: can only concatenate str (not \"int\") to str"
     ]
    }
   ],
   "source": [
    "# 문자열과 숫자 사이에 문자열 연결 연산자를 사용하면 에러 발생\n",
    "print(\"안녕하세요\" + 1)"
   ]
  },
  {
   "cell_type": "code",
   "execution_count": 29,
   "id": "8a4ff3fe-9dc4-416b-8aa6-6ae8f983dbb7",
   "metadata": {},
   "outputs": [
    {
     "name": "stdout",
     "output_type": "stream",
     "text": [
      "안녕하세요1\n"
     ]
    }
   ],
   "source": [
    "# 안녕하세요1 을 출력할 의도라면 숫자도 문자열로 인식시켜야함\n",
    "print(\"안녕하세요\" + \"1\")"
   ]
  },
  {
   "cell_type": "markdown",
   "id": "211d0728-a039-4ea2-b486-9f8142b19c1d",
   "metadata": {},
   "source": [
    "### 문자열 반복 연산자\n",
    "\n",
    "- 문자열을 숫자와 * 연산자로 연결\n",
    "\n",
    "- 문자열을 숫자만큼 반복해서 출력"
   ]
  },
  {
   "cell_type": "code",
   "execution_count": 1,
   "id": "729f18e8-0206-4794-ba40-83136b32420f",
   "metadata": {},
   "outputs": [
    {
     "name": "stdout",
     "output_type": "stream",
     "text": [
      "HelloHelloHello\n"
     ]
    }
   ],
   "source": [
    "print(\"Hello\" * 3)"
   ]
  },
  {
   "cell_type": "markdown",
   "id": "2f14bb52-f31e-48a1-a7be-e4523306b958",
   "metadata": {},
   "source": [
    "### 문자열 인덱싱(indexing)\n",
    "\n",
    "- 대괄호(문자 선택 연산자)는 문자열 내부의 문자 하나를 선택하는 연산자\n",
    "\n",
    "- 대괄호 안에 선택할 문자의 위치(인덱스(index))를 지정\n",
    "    - 파이썬은 인덱스를 0부터 셈"
   ]
  },
  {
   "cell_type": "code",
   "execution_count": 2,
   "id": "7cff6918-0bfb-4246-97c7-5908428becd3",
   "metadata": {},
   "outputs": [],
   "source": [
    "str1 = \"Hello\"\n",
    "#       01234"
   ]
  },
  {
   "cell_type": "code",
   "execution_count": 5,
   "id": "72b4a8c6-c8a1-4c76-981d-c337a1b75aad",
   "metadata": {},
   "outputs": [
    {
     "name": "stdout",
     "output_type": "stream",
     "text": [
      "H\n"
     ]
    }
   ],
   "source": [
    "print(str1[0])"
   ]
  },
  {
   "cell_type": "code",
   "execution_count": 6,
   "id": "13b3278c-cad6-4f24-b31f-7793d93160a8",
   "metadata": {},
   "outputs": [
    {
     "name": "stdout",
     "output_type": "stream",
     "text": [
      "o\n"
     ]
    }
   ],
   "source": [
    "print(str1[4])"
   ]
  },
  {
   "cell_type": "code",
   "execution_count": 7,
   "id": "b53614aa-b653-4bf7-8be1-d160fcd975b1",
   "metadata": {},
   "outputs": [
    {
     "name": "stdout",
     "output_type": "stream",
     "text": [
      "o\n"
     ]
    }
   ],
   "source": [
    "print(str1[-1])"
   ]
  },
  {
   "cell_type": "markdown",
   "id": "0263f730-6612-4c6e-83ae-306db490ae00",
   "metadata": {},
   "source": [
    "### 문자열 슬라이싱(slicing)\n",
    "\n",
    "- 문자열의 범위를 지정\n",
    "\n",
    "- 대괄호 안에 위치를 콜론(:)으로 구분해서 지정\n",
    "    - 파이썬은 범위 지정 시 마지막 숫자를 포함하지 않음"
   ]
  },
  {
   "cell_type": "code",
   "execution_count": 8,
   "id": "6966ae14-6f15-46f9-9ac2-b5c55960f20a",
   "metadata": {},
   "outputs": [
    {
     "name": "stdout",
     "output_type": "stream",
     "text": [
      "Hell\n"
     ]
    }
   ],
   "source": [
    "print(str1[0:4])"
   ]
  },
  {
   "cell_type": "code",
   "execution_count": 9,
   "id": "432fbe95-913c-4483-bd55-b74f8d118ec3",
   "metadata": {},
   "outputs": [
    {
     "data": {
      "text/plain": [
       "'Hell'"
      ]
     },
     "execution_count": 9,
     "metadata": {},
     "output_type": "execute_result"
    }
   ],
   "source": [
    "# 대괄호 안에 넣는 숫자를 생략할 수 있음\n",
    "# 생략하면 자동으로 가장 최대 위치(첫 번째 글자 또는 마지막 글자)까지 지정\n",
    "str1[:4]"
   ]
  },
  {
   "cell_type": "code",
   "execution_count": 10,
   "id": "2aae9f6e-714a-4737-8c54-54821ac852ca",
   "metadata": {},
   "outputs": [
    {
     "data": {
      "text/plain": [
       "'Hell'"
      ]
     },
     "execution_count": 10,
     "metadata": {},
     "output_type": "execute_result"
    }
   ],
   "source": [
    "str1[:-1]"
   ]
  },
  {
   "cell_type": "code",
   "execution_count": 11,
   "id": "ff2290f4-3279-4cbe-85d2-8186d0fc641c",
   "metadata": {},
   "outputs": [
    {
     "data": {
      "text/plain": [
       "'ello'"
      ]
     },
     "execution_count": 11,
     "metadata": {},
     "output_type": "execute_result"
    }
   ],
   "source": [
    "str1[1:]"
   ]
  },
  {
   "cell_type": "code",
   "execution_count": 15,
   "id": "7e75786d-1279-421d-affa-0aa3bc9cf047",
   "metadata": {},
   "outputs": [
    {
     "data": {
      "text/plain": [
       "'ello'"
      ]
     },
     "execution_count": 15,
     "metadata": {},
     "output_type": "execute_result"
    }
   ],
   "source": [
    "str1[1:5]"
   ]
  },
  {
   "cell_type": "markdown",
   "id": "965cb764-4d28-4bdc-8f31-617af3754b3c",
   "metadata": {},
   "source": [
    "## 문자열 포매팅(Formatting)"
   ]
  },
  {
   "cell_type": "code",
   "execution_count": 24,
   "id": "857211d1-2f35-49a7-9a7b-d09f1f9c0eee",
   "metadata": {},
   "outputs": [
    {
     "name": "stdout",
     "output_type": "stream",
     "text": [
      "3 + 4 = 7\n",
      "3.1416\n"
     ]
    }
   ],
   "source": [
    "a = 3\n",
    "b = 4\n",
    "pi = 3.141592\n",
    "\n",
    "# 문자열 포맷 코드\n",
    "print(\"%d + %d = %d\"%(a, b, a + b))\n",
    "\n",
    "# 문자열 포맷 코드에서 소수점 표현\n",
    "print(\"%0.4f\"%pi)"
   ]
  },
  {
   "cell_type": "code",
   "execution_count": 33,
   "id": "2280e30c-d1ca-4b34-9539-f035fcc10af9",
   "metadata": {},
   "outputs": [
    {
     "name": "stdout",
     "output_type": "stream",
     "text": [
      "3 + 4 = 7\n",
      "I ate 10 apples. so I was sick for 3 days\n"
     ]
    }
   ],
   "source": [
    "# format 함수\n",
    "print(\"{0} + {1} = {2}\".format(a, b, (a + b)))\n",
    "\n",
    "# 이름으로 값 넣기\n",
    "print(\"I ate {num} apples. so I was sick for {day} days\".format(num = 10, day = 3))"
   ]
  },
  {
   "cell_type": "code",
   "execution_count": 34,
   "id": "725c791c-7941-490a-b019-d309945f0f3f",
   "metadata": {},
   "outputs": [
    {
     "name": "stdout",
     "output_type": "stream",
     "text": [
      "3 + 4 = 7\n"
     ]
    }
   ],
   "source": [
    "# f-string\n",
    "print(f\"{a} + {b} = {a + b}\")"
   ]
  },
  {
   "cell_type": "markdown",
   "id": "abd94935-0fcd-411a-8578-b7cdb24c3c5e",
   "metadata": {},
   "source": [
    "### 문자열 관련 함수"
   ]
  },
  {
   "cell_type": "code",
   "execution_count": 35,
   "id": "395ee7a2-f871-4843-afee-5299580c8d1d",
   "metadata": {},
   "outputs": [],
   "source": [
    "str1 = \"hobby\""
   ]
  },
  {
   "cell_type": "code",
   "execution_count": 36,
   "id": "c5f14f6f-edb0-4545-8c19-d48f50813059",
   "metadata": {},
   "outputs": [
    {
     "name": "stdout",
     "output_type": "stream",
     "text": [
      "2\n"
     ]
    }
   ],
   "source": [
    "# 문자 개수 세기\n",
    "print(str1.count(\"b\"))"
   ]
  },
  {
   "cell_type": "code",
   "execution_count": 37,
   "id": "8877f43b-6da6-4741-8e81-a20b2a789d8a",
   "metadata": {},
   "outputs": [
    {
     "name": "stdout",
     "output_type": "stream",
     "text": [
      "2\n"
     ]
    }
   ],
   "source": [
    "# 위치 찾기1\n",
    "# 검색하는 문자가 처음으로 나온 위치 반환\n",
    "print(str1.find(\"b\"))"
   ]
  },
  {
   "cell_type": "code",
   "execution_count": 39,
   "id": "5ad5d8be-8ef3-4f21-9e76-a1af1d0427e4",
   "metadata": {},
   "outputs": [
    {
     "name": "stdout",
     "output_type": "stream",
     "text": [
      "-1\n"
     ]
    }
   ],
   "source": [
    "# 검색하는 문자가 존재하지 않는 경우 -1을 반환\n",
    "print(str1.find(\"a\"))"
   ]
  },
  {
   "cell_type": "code",
   "execution_count": 40,
   "id": "5ceaf5f1-462a-4027-8c37-362ea8203669",
   "metadata": {},
   "outputs": [
    {
     "name": "stdout",
     "output_type": "stream",
     "text": [
      "2\n"
     ]
    }
   ],
   "source": [
    "# 위치 찾기2\n",
    "print(str1.index(\"b\"))"
   ]
  },
  {
   "cell_type": "code",
   "execution_count": 42,
   "id": "686f988d-eebb-4f21-a4f5-583a1a972d34",
   "metadata": {},
   "outputs": [
    {
     "ename": "ValueError",
     "evalue": "substring not found",
     "output_type": "error",
     "traceback": [
      "\u001b[1;31m---------------------------------------------------------------------------\u001b[0m",
      "\u001b[1;31mValueError\u001b[0m                                Traceback (most recent call last)",
      "Cell \u001b[1;32mIn[42], line 2\u001b[0m\n\u001b[0;32m      1\u001b[0m \u001b[38;5;66;03m# 검색하는 문자가 존재하지 않는 경우 에러 발생\u001b[39;00m\n\u001b[1;32m----> 2\u001b[0m \u001b[38;5;28mprint\u001b[39m(str1\u001b[38;5;241m.\u001b[39mindex(\u001b[38;5;124m\"\u001b[39m\u001b[38;5;124ma\u001b[39m\u001b[38;5;124m\"\u001b[39m))\n",
      "\u001b[1;31mValueError\u001b[0m: substring not found"
     ]
    }
   ],
   "source": [
    "# 검색하는 문자가 존재하지 않는 경우 에러 발생\n",
    "print(str1.index(\"a\"))"
   ]
  },
  {
   "cell_type": "code",
   "execution_count": 43,
   "id": "d72016f3-9f65-41b5-a520-4e4c57be3f0b",
   "metadata": {},
   "outputs": [
    {
     "name": "stdout",
     "output_type": "stream",
     "text": [
      "HELLO\n",
      "hello\n"
     ]
    }
   ],
   "source": [
    "# 대소문자 변환\n",
    "print(\"hello\".upper())\n",
    "print(\"HELLO\".lower())"
   ]
  },
  {
   "cell_type": "code",
   "execution_count": 46,
   "id": "1bb27b78-255e-4815-b823-b8de152877f6",
   "metadata": {},
   "outputs": [
    {
     "data": {
      "text/plain": [
       "'hello'"
      ]
     },
     "execution_count": 46,
     "metadata": {},
     "output_type": "execute_result"
    }
   ],
   "source": [
    "# 공백 제거\n",
    "\" hello \".strip()"
   ]
  },
  {
   "cell_type": "code",
   "execution_count": 50,
   "id": "c59529fe-a005-43eb-8574-769ee1d25e33",
   "metadata": {},
   "outputs": [
    {
     "name": "stdout",
     "output_type": "stream",
     "text": [
      "Python\n"
     ]
    }
   ],
   "source": [
    "# 문자열 치환\n",
    "str1 = \"Pithon\"\n",
    "\n",
    "print(str1.replace(\"i\", \"y\"))"
   ]
  },
  {
   "cell_type": "code",
   "execution_count": 51,
   "id": "c9bf9194-8d26-43bb-ab3e-0d009daf5bc1",
   "metadata": {},
   "outputs": [
    {
     "name": "stdout",
     "output_type": "stream",
     "text": [
      "5\n"
     ]
    }
   ],
   "source": [
    "# 문자열의 길이 구하기\n",
    "print(len(\"안녕하세요\"))"
   ]
  },
  {
   "cell_type": "markdown",
   "id": "eece3a4b-789f-4c5b-abc2-90e7d6c1f11d",
   "metadata": {},
   "source": [
    "# 불 자료형(Boolean)\n",
    "\n",
    "- 참(True)과 거짓(False)을 나타내는 자료형\n",
    "    - 어떤 명제의 결과를 표현\n",
    " \n",
    "- 불린 또는 불리언 이라는 발음으로 부름\n",
    "    - 프로그래밍에서는 짧게 Bool 이라고 쓰기도 함"
   ]
  },
  {
   "cell_type": "code",
   "execution_count": 52,
   "id": "e383cbcd-1c45-40c3-82c2-7c3e74dbd7cf",
   "metadata": {},
   "outputs": [
    {
     "name": "stdout",
     "output_type": "stream",
     "text": [
      "True\n",
      "<class 'bool'>\n",
      "False\n",
      "<class 'bool'>\n"
     ]
    }
   ],
   "source": [
    "a = True\n",
    "b = False\n",
    "\n",
    "print(a)\n",
    "print(type(a))\n",
    "\n",
    "print(b)\n",
    "print(type(b))"
   ]
  },
  {
   "cell_type": "markdown",
   "id": "6ed82923-5225-42f8-a643-555e66f71df3",
   "metadata": {},
   "source": [
    "## 불 연산"
   ]
  },
  {
   "cell_type": "markdown",
   "id": "95f3a7ee-d251-4a92-b0f0-f57c33bf6649",
   "metadata": {},
   "source": [
    "### 비교 연산자\n",
    "\n",
    "- == : 같다\n",
    "- != : 다르다\n",
    "- <, > : 크다, 작다\n",
    "- <=, >= : 작거나 같다, 크거나 같다"
   ]
  },
  {
   "cell_type": "code",
   "execution_count": 53,
   "id": "be821af3-9e13-49a8-94f5-14e4beb9073d",
   "metadata": {},
   "outputs": [
    {
     "data": {
      "text/plain": [
       "True"
      ]
     },
     "execution_count": 53,
     "metadata": {},
     "output_type": "execute_result"
    }
   ],
   "source": [
    "1 == 1"
   ]
  },
  {
   "cell_type": "code",
   "execution_count": 54,
   "id": "7898d29f-ad3e-4ce5-8687-e7aad7294738",
   "metadata": {},
   "outputs": [
    {
     "data": {
      "text/plain": [
       "False"
      ]
     },
     "execution_count": 54,
     "metadata": {},
     "output_type": "execute_result"
    }
   ],
   "source": [
    "1 != 1"
   ]
  },
  {
   "cell_type": "code",
   "execution_count": 55,
   "id": "14f957c3-373f-48cd-a6f9-3997a0ba72ff",
   "metadata": {},
   "outputs": [
    {
     "data": {
      "text/plain": [
       "True"
      ]
     },
     "execution_count": 55,
     "metadata": {},
     "output_type": "execute_result"
    }
   ],
   "source": [
    "2 > 1"
   ]
  },
  {
   "cell_type": "code",
   "execution_count": 56,
   "id": "277ced73-418d-4963-8ab7-15c5bc22fc0d",
   "metadata": {},
   "outputs": [
    {
     "data": {
      "text/plain": [
       "False"
      ]
     },
     "execution_count": 56,
     "metadata": {},
     "output_type": "execute_result"
    }
   ],
   "source": [
    "2 < 1"
   ]
  },
  {
   "cell_type": "code",
   "execution_count": 57,
   "id": "d06c22d7-4658-4752-8aad-1dcde675209d",
   "metadata": {},
   "outputs": [
    {
     "name": "stdout",
     "output_type": "stream",
     "text": [
      "True\n",
      "False\n"
     ]
    }
   ],
   "source": [
    "# 문자열에 비교 연산자를 적용하면 한글은 사전순서로 앞에 있는 것이 작은 값을 가짐\n",
    "print(\"가방\" < \"하마\")\n",
    "print(\"가방\" > \"하마\")"
   ]
  },
  {
   "cell_type": "markdown",
   "id": "39cf3c4f-3b0d-4425-9016-c60e1cc7ee4d",
   "metadata": {},
   "source": [
    "### 불 변환"
   ]
  },
  {
   "cell_type": "code",
   "execution_count": 62,
   "id": "8a5f994e-c990-4866-a34e-fc34435485da",
   "metadata": {},
   "outputs": [
    {
     "data": {
      "text/plain": [
       "True"
      ]
     },
     "execution_count": 62,
     "metadata": {},
     "output_type": "execute_result"
    }
   ],
   "source": [
    "bool(\"python\")"
   ]
  },
  {
   "cell_type": "code",
   "execution_count": 63,
   "id": "25a2459a-8bf5-4e0e-a464-4f626cc8c258",
   "metadata": {},
   "outputs": [
    {
     "data": {
      "text/plain": [
       "False"
      ]
     },
     "execution_count": 63,
     "metadata": {},
     "output_type": "execute_result"
    }
   ],
   "source": [
    "bool(\"\")"
   ]
  },
  {
   "cell_type": "code",
   "execution_count": 67,
   "id": "ec4b5c95-68a1-41b5-b01b-be14d56794ad",
   "metadata": {},
   "outputs": [
    {
     "data": {
      "text/plain": [
       "True"
      ]
     },
     "execution_count": 67,
     "metadata": {},
     "output_type": "execute_result"
    }
   ],
   "source": [
    "bool(1)"
   ]
  },
  {
   "cell_type": "code",
   "execution_count": 68,
   "id": "77b098c7-f86b-4f8f-9b36-290fdc3cceda",
   "metadata": {},
   "outputs": [
    {
     "data": {
      "text/plain": [
       "False"
      ]
     },
     "execution_count": 68,
     "metadata": {},
     "output_type": "execute_result"
    }
   ],
   "source": [
    "bool(0)"
   ]
  },
  {
   "cell_type": "code",
   "execution_count": 69,
   "id": "85d05596-84c6-4c06-9f5c-ba278bb8cb3b",
   "metadata": {},
   "outputs": [
    {
     "data": {
      "text/plain": [
       "False"
      ]
     },
     "execution_count": 69,
     "metadata": {},
     "output_type": "execute_result"
    }
   ],
   "source": [
    "bool(None)"
   ]
  },
  {
   "cell_type": "code",
   "execution_count": 70,
   "id": "fc4e9c43-60a5-48ed-bb39-ca0a7b8568d2",
   "metadata": {},
   "outputs": [
    {
     "data": {
      "text/plain": [
       "1"
      ]
     },
     "execution_count": 70,
     "metadata": {},
     "output_type": "execute_result"
    }
   ],
   "source": [
    "int(True)"
   ]
  },
  {
   "cell_type": "code",
   "execution_count": 71,
   "id": "2796bbd8-6cd0-4d39-b133-e8f178c9cc27",
   "metadata": {},
   "outputs": [
    {
     "data": {
      "text/plain": [
       "0"
      ]
     },
     "execution_count": 71,
     "metadata": {},
     "output_type": "execute_result"
    }
   ],
   "source": [
    "int(False)"
   ]
  },
  {
   "cell_type": "markdown",
   "id": "8bce3774-227d-4dc9-a09d-6761a0569dfb",
   "metadata": {},
   "source": [
    "### 논리 연산자\n",
    "\n",
    "- not : 불을 반대로 전환\n",
    "- and : 두 값이 모두 참일 때 True를 출력하고, 그 외에는 모두 False를 출력\n",
    "- or : 두 값 중 하나만 참이어도 True를 출력하고, 두 개가 모두 거짓일때만 False를 출력"
   ]
  },
  {
   "cell_type": "code",
   "execution_count": 73,
   "id": "1ca2a7c4-8d35-4a4c-8937-56583acfecbc",
   "metadata": {},
   "outputs": [
    {
     "name": "stdout",
     "output_type": "stream",
     "text": [
      "False\n",
      "True\n"
     ]
    }
   ],
   "source": [
    "print(not True)\n",
    "print(not False)"
   ]
  },
  {
   "cell_type": "code",
   "execution_count": 74,
   "id": "b3bb5e56-2eef-4d45-a5f1-c925075d1162",
   "metadata": {},
   "outputs": [
    {
     "name": "stdout",
     "output_type": "stream",
     "text": [
      "True\n",
      "False\n",
      "False\n",
      "False\n"
     ]
    }
   ],
   "source": [
    "print(True and True)\n",
    "print(True and False)\n",
    "print(False and True)\n",
    "print(False and False)"
   ]
  },
  {
   "cell_type": "code",
   "execution_count": 75,
   "id": "0226113e-2c0d-4796-8512-8d0330b960cb",
   "metadata": {},
   "outputs": [
    {
     "name": "stdout",
     "output_type": "stream",
     "text": [
      "True\n",
      "True\n",
      "True\n",
      "False\n"
     ]
    }
   ],
   "source": [
    "print(True or True)\n",
    "print(True or False)\n",
    "print(False or True)\n",
    "print(False or False)"
   ]
  },
  {
   "cell_type": "code",
   "execution_count": null,
   "id": "3932d187-1b79-47dd-84c2-3efadc2dd325",
   "metadata": {},
   "outputs": [],
   "source": []
  }
 ],
 "metadata": {
  "kernelspec": {
   "display_name": "Python [conda env:base] *",
   "language": "python",
   "name": "conda-base-py"
  },
  "language_info": {
   "codemirror_mode": {
    "name": "ipython",
    "version": 3
   },
   "file_extension": ".py",
   "mimetype": "text/x-python",
   "name": "python",
   "nbconvert_exporter": "python",
   "pygments_lexer": "ipython3",
   "version": "3.12.7"
  }
 },
 "nbformat": 4,
 "nbformat_minor": 5
}
