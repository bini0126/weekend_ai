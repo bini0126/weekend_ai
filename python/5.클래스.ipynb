{
 "cells": [
  {
   "cell_type": "markdown",
   "id": "b8398bc6-ee6d-4418-a8d5-0c5c6f243fc9",
   "metadata": {},
   "source": [
    "# 클래스의 개념\n",
    "\n",
    "- 객체를 만드는 도구\n",
    "\n",
    "- 클래스를 통해 여러 개의 객체를 만들 수 있음\n",
    "\n",
    "- 동일한 클래스에서도 서로 다른 값을 가진 객체가 만들어질 수 있음"
   ]
  },
  {
   "cell_type": "code",
   "execution_count": 1,
   "id": "a73e288b-185b-4815-a9c3-1f7564c1396f",
   "metadata": {},
   "outputs": [
    {
     "name": "stdout",
     "output_type": "stream",
     "text": [
      "3\n",
      "7\n"
     ]
    }
   ],
   "source": [
    "# 계산기 예시 코드\n",
    "result = 0\n",
    "\n",
    "def cal_add(num):\n",
    "    global result\n",
    "    result += num\n",
    "    return result\n",
    "\n",
    "print(cal_add(3))\n",
    "print(cal_add(4))"
   ]
  },
  {
   "cell_type": "code",
   "execution_count": 3,
   "id": "f32ccb6b-c0c0-4d38-97fe-11d35617b3d2",
   "metadata": {},
   "outputs": [
    {
     "name": "stdout",
     "output_type": "stream",
     "text": [
      "5\n",
      "11\n"
     ]
    }
   ],
   "source": [
    "# 만약에 2대의 계산기가 필요한 상황이라면\n",
    "# 별도의 변수, 별도의 함수를 만들어야 함\n",
    "result2 = 0\n",
    "\n",
    "def cal_add2(num):\n",
    "    global result2\n",
    "    result2 += num\n",
    "    return result2\n",
    "\n",
    "print(cal_add2(5))\n",
    "print(cal_add2(6))"
   ]
  },
  {
   "cell_type": "code",
   "execution_count": 4,
   "id": "cbd64860-80b1-4b2a-a18e-43cd763dce3a",
   "metadata": {},
   "outputs": [],
   "source": [
    "class Calculator:\n",
    "    def __init__(self):\n",
    "        self.result = 0\n",
    "\n",
    "    def add(self, num):\n",
    "        self.result += num\n",
    "        return self.result"
   ]
  },
  {
   "cell_type": "code",
   "execution_count": 5,
   "id": "aaa22bc2-fd6c-4fa1-9713-4cd9c7ed4f14",
   "metadata": {},
   "outputs": [
    {
     "name": "stdout",
     "output_type": "stream",
     "text": [
      "3\n",
      "7\n",
      "5\n",
      "12\n"
     ]
    }
   ],
   "source": [
    "cal1 = Calculator()\n",
    "cal2 = Calculator()\n",
    "\n",
    "print(cal1.add(3))\n",
    "print(cal1.add(4))\n",
    "\n",
    "print(cal2.add(5))\n",
    "print(cal2.add(7))"
   ]
  },
  {
   "cell_type": "code",
   "execution_count": 6,
   "id": "2c0ae81e-1d99-48be-9aa8-232a50a539d2",
   "metadata": {},
   "outputs": [],
   "source": [
    "class WaffleMachine:\n",
    "    pass"
   ]
  },
  {
   "cell_type": "code",
   "execution_count": 7,
   "id": "75b5b767-ac75-407e-810b-f444772427ff",
   "metadata": {},
   "outputs": [],
   "source": [
    "# 객체    클래스()\n",
    "waffle = WaffleMachine()"
   ]
  },
  {
   "cell_type": "code",
   "execution_count": 8,
   "id": "a9379ae7-a2f3-4378-aec2-5e465a26bf13",
   "metadata": {},
   "outputs": [
    {
     "data": {
      "text/plain": [
       "<__main__.WaffleMachine at 0x1e08d892e10>"
      ]
     },
     "execution_count": 8,
     "metadata": {},
     "output_type": "execute_result"
    }
   ],
   "source": [
    "waffle"
   ]
  },
  {
   "cell_type": "markdown",
   "id": "1a94055f-69fd-4018-8255-ab93f7a24b42",
   "metadata": {},
   "source": [
    "## 클래스의 구성\n",
    "\n",
    "- 클래스는 객체가 가져야 할 구성요소를 모두 가지고 있어야 함\n",
    "    - 객체가 가져야 할 값, 기능\n",
    "        - 값 : 변수(이름, 나이, 연락처, 주소 등)\n",
    "        - 기능 : 함수"
   ]
  },
  {
   "cell_type": "markdown",
   "id": "7709849f-bcce-409c-9bf2-aa9be13cbe56",
   "metadata": {},
   "source": [
    "### 인스턴스 변수와 인스턴스 메소드\n",
    "\n",
    "- 인스턴스 변수 : 클래스를 기반으로 만들어지는 모든 객체들이 각각 따로 저장하는 변수\n",
    "    - 모든 인스턴스 변수는 self라는 키워드를 붙임\n",
    "    - self는 자기자신을 나타내는 의미\n",
    "        - 자신이 가지고 있는 속성과 기능에 접근할 때는 self.식별자 형태로 접근\n",
    "     \n",
    "- 인스턴스 메소드 : 인스턴스 변수를 사용하는 메소드\n",
    "    - 인스턴스 변수값에 따라서 각 객체마다 다르게 동작\n",
    "        - 첫 번째 매개변수로 self를 추가"
   ]
  },
  {
   "cell_type": "code",
   "execution_count": 10,
   "id": "9c1bf871-6780-4822-84f0-f9fe9c749da8",
   "metadata": {},
   "outputs": [],
   "source": [
    "# 예시1\n",
    "class Person:\n",
    "    def who_am_i(self, name, age, tel, address):\n",
    "        # 인스턴스 메소드 who_am_i\n",
    "        # 모든 Person 클래스의 객체는 who_am_i() 메소드를 호출 가능\n",
    "        # self를 제외한 나머지 매개변수에 실제로 사용될 데이터가 전달\n",
    "\n",
    "        self.name = name\n",
    "        # 인스턴스 변수 name\n",
    "        # = 오른쪽에 있는 name은 매개변수의 name\n",
    "        # who_am_i() 메소드를 호출할 때 전달된 name이 객체의 name이 됨\n",
    "\n",
    "        self.age = age\n",
    "        self.tel = tel\n",
    "        self.address = address"
   ]
  },
  {
   "cell_type": "code",
   "execution_count": 11,
   "id": "abb61301-32a3-4613-9326-d0d9b58421c4",
   "metadata": {},
   "outputs": [],
   "source": [
    "# 객체 boy가 생성\n",
    "boy = Person()"
   ]
  },
  {
   "cell_type": "code",
   "execution_count": 13,
   "id": "c1a6dcf9-056a-4e06-96b2-b40017e2f666",
   "metadata": {},
   "outputs": [
    {
     "ename": "AttributeError",
     "evalue": "'Person' object has no attribute 'name'",
     "output_type": "error",
     "traceback": [
      "\u001b[1;31m---------------------------------------------------------------------------\u001b[0m",
      "\u001b[1;31mAttributeError\u001b[0m                            Traceback (most recent call last)",
      "Cell \u001b[1;32mIn[13], line 1\u001b[0m\n\u001b[1;32m----> 1\u001b[0m boy\u001b[38;5;241m.\u001b[39mname\n",
      "\u001b[1;31mAttributeError\u001b[0m: 'Person' object has no attribute 'name'"
     ]
    }
   ],
   "source": [
    "boy.name"
   ]
  },
  {
   "cell_type": "code",
   "execution_count": 14,
   "id": "c04df7a4-4a63-4235-9283-1850673aeffd",
   "metadata": {},
   "outputs": [],
   "source": [
    "boy.who_am_i(\"john\", 15, \"123-1234\", \"Seoul\")"
   ]
  },
  {
   "cell_type": "code",
   "execution_count": 15,
   "id": "238a7b79-64cc-4b07-923e-62cb356ea3d5",
   "metadata": {},
   "outputs": [
    {
     "data": {
      "text/plain": [
       "'john'"
      ]
     },
     "execution_count": 15,
     "metadata": {},
     "output_type": "execute_result"
    }
   ],
   "source": [
    "boy.name"
   ]
  },
  {
   "cell_type": "code",
   "execution_count": 16,
   "id": "deb70e0e-77fd-4f1c-9c68-7028405d197b",
   "metadata": {},
   "outputs": [],
   "source": [
    "girl = Person()\n",
    "girl.who_am_i(\"maria\", 17, \"1234-1234\", \"Busan\")"
   ]
  },
  {
   "cell_type": "code",
   "execution_count": 17,
   "id": "26bbc9f2-07ee-4fe4-93af-963037a3da1f",
   "metadata": {},
   "outputs": [
    {
     "name": "stdout",
     "output_type": "stream",
     "text": [
      "john\n",
      "maria\n"
     ]
    }
   ],
   "source": [
    "print(boy.name)\n",
    "print(girl.name)"
   ]
  },
  {
   "cell_type": "code",
   "execution_count": 18,
   "id": "e285637a-8e6c-48b1-a655-2d4bd9ea2cfd",
   "metadata": {},
   "outputs": [],
   "source": [
    "# 예시2\n",
    "class Computer:\n",
    "    def set_spec(self, cpu, ram, vga, ssd):\n",
    "        self.cpu = cpu\n",
    "        self.ram = ram\n",
    "        self.vga = vga\n",
    "        self.ssd = ssd\n",
    "\n",
    "    def hardware_info(self):\n",
    "        print(f\"{self.cpu}\")\n",
    "        print(f\"{self.ram}\")\n",
    "        print(f\"{self.vga}\")\n",
    "        print(f\"{self.ssd}\")"
   ]
  },
  {
   "cell_type": "code",
   "execution_count": 19,
   "id": "7f8f241b-30f0-4310-9833-66059606bdc3",
   "metadata": {},
   "outputs": [],
   "source": [
    "desktop = Computer()"
   ]
  },
  {
   "cell_type": "code",
   "execution_count": 20,
   "id": "04b3a453-bab1-487b-a137-c0b7b3fb199b",
   "metadata": {},
   "outputs": [],
   "source": [
    "desktop.set_spec(\"i9\", \"128GB\", \"GTX3070\", \"1TB\")"
   ]
  },
  {
   "cell_type": "code",
   "execution_count": 21,
   "id": "ab30ee7f-c7ec-49e8-b9fe-ddf301dc515d",
   "metadata": {},
   "outputs": [
    {
     "name": "stdout",
     "output_type": "stream",
     "text": [
      "i9\n",
      "128GB\n",
      "GTX3070\n",
      "1TB\n"
     ]
    }
   ],
   "source": [
    "desktop.hardware_info()"
   ]
  },
  {
   "cell_type": "code",
   "execution_count": 22,
   "id": "afe7b02c-8831-480f-812c-0ff10d36cf04",
   "metadata": {},
   "outputs": [],
   "source": [
    "notebook = Computer()"
   ]
  },
  {
   "cell_type": "code",
   "execution_count": 24,
   "id": "a9656d07-87af-4ba1-8535-79253f0b394a",
   "metadata": {},
   "outputs": [
    {
     "name": "stdout",
     "output_type": "stream",
     "text": [
      "i3\n",
      "8GB\n",
      "MX300\n",
      "256GB\n"
     ]
    }
   ],
   "source": [
    "notebook.set_spec(\"i3\", \"8GB\", \"MX300\", \"256GB\")\n",
    "notebook.hardware_info()"
   ]
  },
  {
   "cell_type": "code",
   "execution_count": 25,
   "id": "55cfcc4b-0bdc-4a39-aa70-3404cd43f3da",
   "metadata": {},
   "outputs": [
    {
     "name": "stdout",
     "output_type": "stream",
     "text": [
      "i9\n",
      "128GB\n",
      "GTX3070\n",
      "1TB\n"
     ]
    }
   ],
   "source": [
    "desktop.hardware_info()"
   ]
  },
  {
   "cell_type": "code",
   "execution_count": 26,
   "id": "dfd67037-172a-4edd-8197-c761a5e90e5a",
   "metadata": {},
   "outputs": [],
   "source": [
    "# 예시3\n",
    "class FourCal:\n",
    "    def set_data(self, first, second):\n",
    "        self.first = first\n",
    "        self.second = second\n",
    "\n",
    "    def add(self):\n",
    "        result = self.first + self.second\n",
    "        return result"
   ]
  },
  {
   "cell_type": "code",
   "execution_count": 27,
   "id": "c5f419d4-f282-41a6-8b81-42dae431b3ec",
   "metadata": {},
   "outputs": [
    {
     "name": "stdout",
     "output_type": "stream",
     "text": [
      "6\n"
     ]
    }
   ],
   "source": [
    "cal = FourCal()\n",
    "cal.set_data(4, 2)\n",
    "print(cal.add())"
   ]
  },
  {
   "cell_type": "code",
   "execution_count": 28,
   "id": "bb13c28e-d861-40ee-874d-ce8ffa65e0d8",
   "metadata": {},
   "outputs": [
    {
     "name": "stdout",
     "output_type": "stream",
     "text": [
      "10\n"
     ]
    }
   ],
   "source": [
    "test_cal = FourCal()\n",
    "test_cal.set_data(3, 7)\n",
    "print(test_cal.add())"
   ]
  },
  {
   "cell_type": "code",
   "execution_count": 29,
   "id": "65b1fdda-89f6-432e-aefa-1d0ec5922923",
   "metadata": {},
   "outputs": [
    {
     "name": "stdout",
     "output_type": "stream",
     "text": [
      "6\n"
     ]
    }
   ],
   "source": [
    "print(cal.add())"
   ]
  },
  {
   "cell_type": "markdown",
   "id": "5d54a329-bedd-4a26-b30c-5c51f3de7312",
   "metadata": {},
   "source": [
    "# 생성자\n",
    "\n",
    "- 객체가 생성될 때 자동으로 호출되는 메소드"
   ]
  },
  {
   "cell_type": "code",
   "execution_count": 30,
   "id": "57978f10-67b6-4b9e-8e4e-2766e20f1281",
   "metadata": {},
   "outputs": [
    {
     "ename": "AttributeError",
     "evalue": "'FourCal' object has no attribute 'first'",
     "output_type": "error",
     "traceback": [
      "\u001b[1;31m---------------------------------------------------------------------------\u001b[0m",
      "\u001b[1;31mAttributeError\u001b[0m                            Traceback (most recent call last)",
      "Cell \u001b[1;32mIn[30], line 3\u001b[0m\n\u001b[0;32m      1\u001b[0m \u001b[38;5;66;03m# set_data 메소드를 실행해야만 first와 second가 생성됨\u001b[39;00m\n\u001b[0;32m      2\u001b[0m test_const \u001b[38;5;241m=\u001b[39m FourCal()\n\u001b[1;32m----> 3\u001b[0m test_const\u001b[38;5;241m.\u001b[39madd()\n",
      "Cell \u001b[1;32mIn[26], line 8\u001b[0m, in \u001b[0;36mFourCal.add\u001b[1;34m(self)\u001b[0m\n\u001b[0;32m      7\u001b[0m \u001b[38;5;28;01mdef\u001b[39;00m \u001b[38;5;21madd\u001b[39m(\u001b[38;5;28mself\u001b[39m):\n\u001b[1;32m----> 8\u001b[0m     result \u001b[38;5;241m=\u001b[39m \u001b[38;5;28mself\u001b[39m\u001b[38;5;241m.\u001b[39mfirst \u001b[38;5;241m+\u001b[39m \u001b[38;5;28mself\u001b[39m\u001b[38;5;241m.\u001b[39msecond\n\u001b[0;32m      9\u001b[0m     \u001b[38;5;28;01mreturn\u001b[39;00m result\n",
      "\u001b[1;31mAttributeError\u001b[0m: 'FourCal' object has no attribute 'first'"
     ]
    }
   ],
   "source": [
    "# set_data 메소드를 실행해야만 first와 second가 생성됨\n",
    "test_const = FourCal()\n",
    "test_const.add()"
   ]
  },
  {
   "cell_type": "code",
   "execution_count": 31,
   "id": "309da365-7999-45e9-87cb-c360e264a398",
   "metadata": {},
   "outputs": [],
   "source": [
    "# 생성자 추가하기\n",
    "class FourCal:\n",
    "    def __init__(self, first, second): # 생성자\n",
    "        self.first = first\n",
    "        self.second = second\n",
    "        \n",
    "    def set_data(self, first, second):\n",
    "        self.first = first\n",
    "        self.second = second\n",
    "\n",
    "    def add(self):\n",
    "        result = self.first + self.second\n",
    "        return result"
   ]
  },
  {
   "cell_type": "code",
   "execution_count": 33,
   "id": "80eff40b-960a-4d1e-9e6b-c3e4d362723b",
   "metadata": {},
   "outputs": [
    {
     "ename": "TypeError",
     "evalue": "FourCal.__init__() missing 2 required positional arguments: 'first' and 'second'",
     "output_type": "error",
     "traceback": [
      "\u001b[1;31m---------------------------------------------------------------------------\u001b[0m",
      "\u001b[1;31mTypeError\u001b[0m                                 Traceback (most recent call last)",
      "Cell \u001b[1;32mIn[33], line 2\u001b[0m\n\u001b[0;32m      1\u001b[0m \u001b[38;5;66;03m# 생성자의 매개변수를 전달해야 객체를 생성할 수 있음\u001b[39;00m\n\u001b[1;32m----> 2\u001b[0m test_const \u001b[38;5;241m=\u001b[39m FourCal()\n",
      "\u001b[1;31mTypeError\u001b[0m: FourCal.__init__() missing 2 required positional arguments: 'first' and 'second'"
     ]
    }
   ],
   "source": [
    "# 생성자의 매개변수를 전달해야 객체를 생성할 수 있음\n",
    "test_const = FourCal()"
   ]
  },
  {
   "cell_type": "code",
   "execution_count": 34,
   "id": "1707f1d2-3946-4973-8e4a-d0295a3ee1cf",
   "metadata": {},
   "outputs": [],
   "source": [
    "test_const = FourCal(4, 2)"
   ]
  },
  {
   "cell_type": "code",
   "execution_count": 35,
   "id": "7b398fca-8904-431d-8cdb-535506e348a2",
   "metadata": {},
   "outputs": [
    {
     "name": "stdout",
     "output_type": "stream",
     "text": [
      "4\n",
      "2\n"
     ]
    }
   ],
   "source": [
    "print(test_const.first)\n",
    "print(test_const.second)"
   ]
  },
  {
   "cell_type": "code",
   "execution_count": 36,
   "id": "9f970d46-c13f-44df-95c2-6b44bb035134",
   "metadata": {},
   "outputs": [
    {
     "name": "stdout",
     "output_type": "stream",
     "text": [
      "6\n"
     ]
    }
   ],
   "source": [
    "print(test_const.add())"
   ]
  },
  {
   "cell_type": "markdown",
   "id": "fdd6a3ea-d285-4411-9345-2a592c4e20f9",
   "metadata": {},
   "source": [
    "# 소멸자(destructor)\n",
    "\n",
    "- 인스턴스가 소멸될 때 자동으로 호출되는 메소드"
   ]
  },
  {
   "cell_type": "code",
   "execution_count": 37,
   "id": "d9d8fe1c-88de-4997-9098-5304a4fa39b2",
   "metadata": {},
   "outputs": [],
   "source": [
    "class Sample:\n",
    "    def __del__(self):\n",
    "        print(\"인스턴스가 소멸됩니다\")"
   ]
  },
  {
   "cell_type": "code",
   "execution_count": 38,
   "id": "fa116e99-259c-45ff-a077-cecd34e08c35",
   "metadata": {},
   "outputs": [],
   "source": [
    "instance = Sample()"
   ]
  },
  {
   "cell_type": "code",
   "execution_count": 39,
   "id": "74f5b0bc-9552-47bd-a15b-e20a24da0168",
   "metadata": {},
   "outputs": [
    {
     "name": "stdout",
     "output_type": "stream",
     "text": [
      "인스턴스가 소멸됩니다\n"
     ]
    }
   ],
   "source": [
    "del instance"
   ]
  },
  {
   "cell_type": "markdown",
   "id": "ed206491-11cc-4380-bc70-7dec983c1063",
   "metadata": {},
   "source": [
    "# isinstance()\n",
    "\n",
    "- 객체가 어떤 클래스로부터 만들어졌는지 확인할 수 있는 함수\n",
    "\n",
    "- 첫 번째 매개변수에 객체, 두 번째 매개변수에 클래스를 입력\n",
    "    - isinstance(객체, 클래스)\n",
    " \n",
    "- 객체가 해당 클래스를 기반으로 만들어졌으면 True, 관계 없으면 False를 반환"
   ]
  },
  {
   "cell_type": "code",
   "execution_count": 40,
   "id": "2618f616-8362-49a8-950a-84fd11047a78",
   "metadata": {},
   "outputs": [],
   "source": [
    "class Student:\n",
    "    def study(self):\n",
    "        print(\"공부를 합니다\")\n",
    "\n",
    "class Teacher:\n",
    "    def teach(self):\n",
    "        print(\"학생을 가르칩니다\")"
   ]
  },
  {
   "cell_type": "code",
   "execution_count": 41,
   "id": "c4039e48-8d52-4974-8cd6-a3d9cefa7b0d",
   "metadata": {},
   "outputs": [],
   "source": [
    "man = Student()"
   ]
  },
  {
   "cell_type": "code",
   "execution_count": 42,
   "id": "84e1945b-eaf8-48f4-9415-d2ec2795227a",
   "metadata": {},
   "outputs": [
    {
     "name": "stdout",
     "output_type": "stream",
     "text": [
      "True\n"
     ]
    }
   ],
   "source": [
    "print(isinstance(man, Student))"
   ]
  },
  {
   "cell_type": "code",
   "execution_count": 43,
   "id": "313139b2-ae30-4f8e-bf79-261b540d6a0b",
   "metadata": {},
   "outputs": [
    {
     "name": "stdout",
     "output_type": "stream",
     "text": [
      "False\n"
     ]
    }
   ],
   "source": [
    "print(isinstance(man, Teacher))"
   ]
  },
  {
   "cell_type": "code",
   "execution_count": 44,
   "id": "47fd9f79-5180-4af8-a8e3-1cb039d55cab",
   "metadata": {},
   "outputs": [],
   "source": [
    "classroom = [Student(), Student(), Teacher(), Student(), Student()]"
   ]
  },
  {
   "cell_type": "code",
   "execution_count": 46,
   "id": "1e1d5d21-2689-49ee-8a54-c38e4fef0d28",
   "metadata": {},
   "outputs": [
    {
     "name": "stdout",
     "output_type": "stream",
     "text": [
      "공부를 합니다\n",
      "공부를 합니다\n",
      "학생을 가르칩니다\n",
      "공부를 합니다\n",
      "공부를 합니다\n"
     ]
    }
   ],
   "source": [
    "for person in classroom:\n",
    "    if isinstance(person, Student):\n",
    "        person.study()\n",
    "\n",
    "    elif isinstance(person, Teacher):\n",
    "        person.teach()"
   ]
  },
  {
   "cell_type": "markdown",
   "id": "efef1b86-c42a-4b78-9ab5-be629821e3ba",
   "metadata": {},
   "source": [
    "# 클래스 변수와 클래스 메서드\n",
    "\n",
    "- 객체가 변수와 메서드를 가지는 것 처럼 클래스도 변수와 메서드를 가질 수 있음\n",
    "\n",
    "- 표현법\n",
    "```\n",
    "class 클래스명:\n",
    "    클래스변수 = 값\n",
    "```"
   ]
  },
  {
   "cell_type": "code",
   "execution_count": 1,
   "id": "8bdcb951-f3ba-48c6-91d3-84a95add8c64",
   "metadata": {},
   "outputs": [],
   "source": [
    "class Korean:\n",
    "    country = \"한국\" # 클래스 변수 country\n",
    "\n",
    "    def __init__(self, name, age, address):\n",
    "        self.name = name # 인스턴스 변수 self.name\n",
    "        self.age = age\n",
    "        self.address = address"
   ]
  },
  {
   "cell_type": "code",
   "execution_count": 2,
   "id": "965278b4-2d3b-422e-bb04-b93ec300c0b3",
   "metadata": {},
   "outputs": [],
   "source": [
    "man = Korean(\"홍길동\", 35, \"서울\")"
   ]
  },
  {
   "cell_type": "code",
   "execution_count": 3,
   "id": "573e3e7c-7fe2-435b-b400-c7d4bae7d5c5",
   "metadata": {},
   "outputs": [
    {
     "data": {
      "text/plain": [
       "'홍길동'"
      ]
     },
     "execution_count": 3,
     "metadata": {},
     "output_type": "execute_result"
    }
   ],
   "source": [
    "man.name"
   ]
  },
  {
   "cell_type": "code",
   "execution_count": 4,
   "id": "05700041-6780-4c8f-9f16-ee31013c7dea",
   "metadata": {},
   "outputs": [
    {
     "ename": "AttributeError",
     "evalue": "type object 'Korean' has no attribute 'name'",
     "output_type": "error",
     "traceback": [
      "\u001b[1;31m---------------------------------------------------------------------------\u001b[0m",
      "\u001b[1;31mAttributeError\u001b[0m                            Traceback (most recent call last)",
      "Cell \u001b[1;32mIn[4], line 1\u001b[0m\n\u001b[1;32m----> 1\u001b[0m Korean\u001b[38;5;241m.\u001b[39mname\n",
      "\u001b[1;31mAttributeError\u001b[0m: type object 'Korean' has no attribute 'name'"
     ]
    }
   ],
   "source": [
    "Korean.name"
   ]
  },
  {
   "cell_type": "code",
   "execution_count": 5,
   "id": "46f220ff-c0c0-42d5-8805-0aab38da667a",
   "metadata": {},
   "outputs": [
    {
     "data": {
      "text/plain": [
       "'한국'"
      ]
     },
     "execution_count": 5,
     "metadata": {},
     "output_type": "execute_result"
    }
   ],
   "source": [
    "man.country"
   ]
  },
  {
   "cell_type": "code",
   "execution_count": 6,
   "id": "e3b6be43-c28d-49f8-b6ed-152a31ece9ba",
   "metadata": {},
   "outputs": [
    {
     "data": {
      "text/plain": [
       "'한국'"
      ]
     },
     "execution_count": 6,
     "metadata": {},
     "output_type": "execute_result"
    }
   ],
   "source": [
    "Korean.country"
   ]
  },
  {
   "cell_type": "code",
   "execution_count": 11,
   "id": "869531fe-a31b-4cda-83b6-4c12ac16542c",
   "metadata": {},
   "outputs": [],
   "source": [
    "class Person:\n",
    "    bag = []\n",
    "\n",
    "    def put_bag(self, stuff):\n",
    "        Person.bag.append(stuff)\n",
    "        # self.bag.append(stuff)\n",
    "        # self.bag 을 사용하면 인스턴스 변수와 혼동하기 쉽기 때문에\n",
    "        # 클래스 이름을 사용하는 것을 권장"
   ]
  },
  {
   "cell_type": "code",
   "execution_count": 8,
   "id": "bff9b16d-e6ef-465b-b172-d262d04dc3a8",
   "metadata": {},
   "outputs": [],
   "source": [
    "james = Person()\n",
    "james.put_bag(\"책\")"
   ]
  },
  {
   "cell_type": "code",
   "execution_count": 9,
   "id": "32d8dcd7-69a6-4135-836a-e43240d2b0f5",
   "metadata": {},
   "outputs": [],
   "source": [
    "maria = Person()\n",
    "maria.put_bag(\"열쇠\")"
   ]
  },
  {
   "cell_type": "code",
   "execution_count": 10,
   "id": "93628ccb-f68b-4141-87be-a7b22eb4eebf",
   "metadata": {},
   "outputs": [
    {
     "name": "stdout",
     "output_type": "stream",
     "text": [
      "['책', '열쇠']\n",
      "['책', '열쇠']\n",
      "['책', '열쇠']\n"
     ]
    }
   ],
   "source": [
    "print(james.bag)\n",
    "print(maria.bag)\n",
    "print(Person.bag)"
   ]
  },
  {
   "cell_type": "code",
   "execution_count": 12,
   "id": "b6e9ce28-b550-4ebb-b008-303689e67373",
   "metadata": {},
   "outputs": [],
   "source": [
    "class Person:\n",
    "    bag = []\n",
    "\n",
    "    def __init__(self):\n",
    "        self.bag = []\n",
    "\n",
    "    def put_bag(self, stuff):\n",
    "        Person.bag.append(stuff)\n",
    "\n",
    "    def put_mybag(self, stuff):\n",
    "        self.bag.append(stuff)"
   ]
  },
  {
   "cell_type": "code",
   "execution_count": 13,
   "id": "8485caa4-34dc-42ab-bafa-b1b2b2631255",
   "metadata": {},
   "outputs": [],
   "source": [
    "james = Person()\n",
    "james.put_mybag(\"책\")\n",
    "james.put_bag(\"사전\")"
   ]
  },
  {
   "cell_type": "code",
   "execution_count": 14,
   "id": "6dd8c169-a0ad-4477-9659-c6bc5eb037fd",
   "metadata": {},
   "outputs": [],
   "source": [
    "maria = Person()\n",
    "maria.put_mybag(\"열쇠\")\n",
    "maria.put_bag(\"자물쇠\")"
   ]
  },
  {
   "cell_type": "code",
   "execution_count": 15,
   "id": "3b3348aa-3f1a-4844-a610-f617db605d50",
   "metadata": {},
   "outputs": [
    {
     "name": "stdout",
     "output_type": "stream",
     "text": [
      "['책']\n",
      "['열쇠']\n",
      "['사전', '자물쇠']\n"
     ]
    }
   ],
   "source": [
    "print(james.bag)\n",
    "print(maria.bag)\n",
    "print(Person.bag)"
   ]
  },
  {
   "cell_type": "code",
   "execution_count": 16,
   "id": "5dce0753-b12a-46b9-bae1-39e030a9d85e",
   "metadata": {},
   "outputs": [],
   "source": [
    "class Student:\n",
    "    count = 0\n",
    "\n",
    "    def __init__(self, name, korean, math, english, science):\n",
    "        self.name = name\n",
    "        self.korean = korean\n",
    "        self.math = math\n",
    "        self.english = english\n",
    "        self.science = science\n",
    "\n",
    "        # 클래스 변수 설정\n",
    "        Student.count += 1\n",
    "        print(f\"{Student.count}번째 학생이 생성되었습니다\")"
   ]
  },
  {
   "cell_type": "code",
   "execution_count": 17,
   "id": "67745f89-6ee3-4043-9860-a392ee56adb3",
   "metadata": {},
   "outputs": [
    {
     "name": "stdout",
     "output_type": "stream",
     "text": [
      "1번째 학생이 생성되었습니다\n",
      "2번째 학생이 생성되었습니다\n",
      "3번째 학생이 생성되었습니다\n"
     ]
    }
   ],
   "source": [
    "students = [Student(\"윤인성\", 87, 98, 88, 95),\n",
    "            Student(\"연하진\", 92, 98, 96, 98),\n",
    "            Student(\"구지연\", 76, 96, 94, 90)]"
   ]
  },
  {
   "cell_type": "code",
   "execution_count": 18,
   "id": "6db3ff1c-e439-4180-84ae-0786a3f63f6a",
   "metadata": {},
   "outputs": [
    {
     "name": "stdout",
     "output_type": "stream",
     "text": [
      "현재 생성된 총 학생 수는 3명 입니다\n"
     ]
    }
   ],
   "source": [
    "print(f\"현재 생성된 총 학생 수는 {Student.count}명 입니다\")"
   ]
  },
  {
   "cell_type": "markdown",
   "id": "f60668ca-d001-449e-8691-74330e661606",
   "metadata": {},
   "source": [
    "## 클래스 메서드\n",
    "\n",
    "- 인스턴스 또는 클래스로 호출\n",
    "\n",
    "- 생성된 인스턴스가 없어도 호출 가능\n",
    "\n",
    "- @classmethod 데코레이터를 표시하고 작성\n",
    "\n",
    "- 매개변수 cls를 사용\n",
    "\n",
    "- 클래스.메소드()의 형태로 사용\n",
    "\n",
    "- 인스턴스 변수에 접근할 수 없지만 클래스 변수에는 접근 가능\n",
    "    - 메서드의 실행이 외부 상태에 영향을 미치지 않는 순수함수를 만들 때\n",
    "    - 인스턴스의 상태를 변화시키지 않는 메서드를 만들 때"
   ]
  },
  {
   "cell_type": "code",
   "execution_count": 19,
   "id": "e9a02a97-86d4-4f99-912b-6183f0f8cbdf",
   "metadata": {},
   "outputs": [],
   "source": [
    "class Korean:\n",
    "    country = \"한국\"\n",
    "\n",
    "    @classmethod\n",
    "    def trip(cls, country):\n",
    "        if cls.country == country:\n",
    "            print(\"국내여행\")\n",
    "\n",
    "        else:\n",
    "            print(\"해외여행\")"
   ]
  },
  {
   "cell_type": "code",
   "execution_count": 20,
   "id": "1641e2fc-3233-4ea9-bdbd-d2b663aaf9a1",
   "metadata": {},
   "outputs": [
    {
     "name": "stdout",
     "output_type": "stream",
     "text": [
      "국내여행\n"
     ]
    }
   ],
   "source": [
    "Korean.trip(\"한국\")"
   ]
  },
  {
   "cell_type": "code",
   "execution_count": 21,
   "id": "44275c8a-23ea-4b9d-b73d-78a1fcf0768f",
   "metadata": {},
   "outputs": [
    {
     "name": "stdout",
     "output_type": "stream",
     "text": [
      "해외여행\n"
     ]
    }
   ],
   "source": [
    "Korean.trip(\"미국\")"
   ]
  },
  {
   "cell_type": "code",
   "execution_count": null,
   "id": "7ad6b55c-7ff6-4c14-8a7c-7fa368a1c11b",
   "metadata": {},
   "outputs": [],
   "source": []
  }
 ],
 "metadata": {
  "kernelspec": {
   "display_name": "Python 3 (ipykernel)",
   "language": "python",
   "name": "python3"
  },
  "language_info": {
   "codemirror_mode": {
    "name": "ipython",
    "version": 3
   },
   "file_extension": ".py",
   "mimetype": "text/x-python",
   "name": "python",
   "nbconvert_exporter": "python",
   "pygments_lexer": "ipython3",
   "version": "3.12.4"
  }
 },
 "nbformat": 4,
 "nbformat_minor": 5
}
