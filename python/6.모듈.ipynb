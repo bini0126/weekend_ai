{
 "cells": [
  {
   "cell_type": "markdown",
   "id": "33b2ccce-fe02-48b0-9d8a-6c66ae037967",
   "metadata": {},
   "source": [
    "# 모듈\n",
    "\n",
    "- 함수나 변수 또는 클래스를 모아 둔 파일\n",
    "\n",
    "- 다른 파이썬 프로그램에서 불러와 사용할 수 있게 만든 파이썬 파일\n",
    "\n",
    "- 종류\n",
    "    - 표준 모듈 : 파이썬에 기본적으로 내장되어 있는 모듈\n",
    "    - 외부 모듈 : 다른 사람들이 만들어서 공개한 모듈"
   ]
  },
  {
   "cell_type": "markdown",
   "id": "09749e7b-b518-4e93-8f6b-ec75c6e74b3a",
   "metadata": {},
   "source": [
    "# 모듈 사용\n",
    "\n",
    "- import 모듈\n",
    "\n",
    "- from 모듈 import 함수1, 함수2\n",
    "\n",
    "- from 모듈 import *"
   ]
  },
  {
   "cell_type": "code",
   "execution_count": 1,
   "id": "db7c57cf-a648-4e7c-837f-0e44bdff7a71",
   "metadata": {},
   "outputs": [],
   "source": [
    "import add_sub_module"
   ]
  },
  {
   "cell_type": "code",
   "execution_count": 2,
   "id": "c4afd4f7-8695-40ec-93ef-0f37debc8d9d",
   "metadata": {},
   "outputs": [
    {
     "name": "stdout",
     "output_type": "stream",
     "text": [
      "7\n"
     ]
    }
   ],
   "source": [
    "print(add_sub_module.add(3, 4))"
   ]
  },
  {
   "cell_type": "code",
   "execution_count": 3,
   "id": "e6a2f0e4-4b98-4663-9567-357a2e59bd7b",
   "metadata": {},
   "outputs": [
    {
     "name": "stdout",
     "output_type": "stream",
     "text": [
      "2\n"
     ]
    }
   ],
   "source": [
    "print(add_sub_module.sub(4, 2))"
   ]
  },
  {
   "cell_type": "code",
   "execution_count": 4,
   "id": "d23666b6-97c1-475b-b263-daea51d6899e",
   "metadata": {},
   "outputs": [],
   "source": [
    "from add_sub_module import add, sub"
   ]
  },
  {
   "cell_type": "code",
   "execution_count": 5,
   "id": "dd8a7bb1-f450-427a-b6a5-868b096b9f6c",
   "metadata": {},
   "outputs": [
    {
     "data": {
      "text/plain": [
       "7"
      ]
     },
     "execution_count": 5,
     "metadata": {},
     "output_type": "execute_result"
    }
   ],
   "source": [
    "add(3, 4)"
   ]
  },
  {
   "cell_type": "code",
   "execution_count": 6,
   "id": "0dca4fd0-6d9e-47fa-829d-e9d13e8036dc",
   "metadata": {},
   "outputs": [
    {
     "data": {
      "text/plain": [
       "<function add_sub_module.add(a, b)>"
      ]
     },
     "execution_count": 6,
     "metadata": {},
     "output_type": "execute_result"
    }
   ],
   "source": [
    "add"
   ]
  },
  {
   "cell_type": "code",
   "execution_count": 7,
   "id": "82506dab-237b-45b1-9001-32d2e294e814",
   "metadata": {},
   "outputs": [
    {
     "data": {
      "text/plain": [
       "1"
      ]
     },
     "execution_count": 7,
     "metadata": {},
     "output_type": "execute_result"
    }
   ],
   "source": [
    "sub(4, 3)"
   ]
  },
  {
   "cell_type": "code",
   "execution_count": 8,
   "id": "7ae18698-a957-4353-b285-baca1724b505",
   "metadata": {},
   "outputs": [],
   "source": [
    "import converter"
   ]
  },
  {
   "cell_type": "code",
   "execution_count": 9,
   "id": "81d2a329-c875-4d9a-a74e-88e32f5d1cb8",
   "metadata": {},
   "outputs": [
    {
     "name": "stdout",
     "output_type": "stream",
     "text": [
      "99.41936\n"
     ]
    }
   ],
   "source": [
    "miles = converter.kilometer_to_miles(160)\n",
    "print(miles)"
   ]
  },
  {
   "cell_type": "code",
   "execution_count": 10,
   "id": "13b3e20e-4cf8-4e58-9001-c0f6be105725",
   "metadata": {},
   "outputs": [
    {
     "name": "stdout",
     "output_type": "stream",
     "text": [
      "2.20462\n"
     ]
    }
   ],
   "source": [
    "pounds = converter.gram_to_pounds(1000)\n",
    "print(pounds)"
   ]
  },
  {
   "cell_type": "code",
   "execution_count": 11,
   "id": "45ddb3df-e577-427f-a96f-bb5ee4b3d45c",
   "metadata": {},
   "outputs": [],
   "source": [
    "from converter import *"
   ]
  },
  {
   "cell_type": "code",
   "execution_count": 12,
   "id": "93bd7927-382d-4ff6-8eff-5d269382c45d",
   "metadata": {},
   "outputs": [
    {
     "name": "stdout",
     "output_type": "stream",
     "text": [
      "86.99194\n"
     ]
    }
   ],
   "source": [
    "miles = kilometer_to_miles(140)\n",
    "print(miles)"
   ]
  },
  {
   "cell_type": "code",
   "execution_count": 13,
   "id": "81b7f5e6-1b9d-42dc-870b-70f1b6731706",
   "metadata": {},
   "outputs": [
    {
     "name": "stdout",
     "output_type": "stream",
     "text": [
      "0.220462\n"
     ]
    }
   ],
   "source": [
    "pounds = gram_to_pounds(100)\n",
    "print(pounds)"
   ]
  },
  {
   "cell_type": "markdown",
   "id": "3fd6ac73-7792-4ac2-bced-ee28d740d597",
   "metadata": {},
   "source": [
    "# 별명 사용하기"
   ]
  },
  {
   "cell_type": "code",
   "execution_count": 14,
   "id": "c49e5970-b5ae-4151-a44e-3c97a4c9103b",
   "metadata": {},
   "outputs": [],
   "source": [
    "import converter as cvt"
   ]
  },
  {
   "cell_type": "code",
   "execution_count": 15,
   "id": "67b56473-919e-406d-98ec-96efb518b2f3",
   "metadata": {},
   "outputs": [
    {
     "name": "stdout",
     "output_type": "stream",
     "text": [
      "93.20565\n"
     ]
    }
   ],
   "source": [
    "miles = cvt.kilometer_to_miles(150)\n",
    "print(miles)"
   ]
  },
  {
   "cell_type": "code",
   "execution_count": 16,
   "id": "a4dda7c4-98de-45be-aaf2-a6a708781965",
   "metadata": {},
   "outputs": [
    {
     "name": "stdout",
     "output_type": "stream",
     "text": [
      "2.20462\n"
     ]
    }
   ],
   "source": [
    "pounds = cvt.gram_to_pounds(1000)\n",
    "print(pounds)"
   ]
  },
  {
   "cell_type": "code",
   "execution_count": 17,
   "id": "af844a1f-7a3b-4a75-a080-0d477f380b7e",
   "metadata": {},
   "outputs": [],
   "source": [
    "from converter import kilometer_to_miles as k2m"
   ]
  },
  {
   "cell_type": "code",
   "execution_count": 18,
   "id": "8be5930b-0886-4606-886d-bd57b4961b65",
   "metadata": {},
   "outputs": [
    {
     "name": "stdout",
     "output_type": "stream",
     "text": [
      "93.20565\n"
     ]
    }
   ],
   "source": [
    "miles = k2m(150)\n",
    "print(miles)"
   ]
  },
  {
   "cell_type": "markdown",
   "id": "c608db96-ece8-4086-8fbe-2393e34d6e94",
   "metadata": {},
   "source": [
    "# 표준 모듈\n",
    "\n",
    "- 파이썬에 기본적으로 설치되어 있는 모듈\n",
    "\n",
    "- 별도의 설치 없이 import 사용 가능"
   ]
  },
  {
   "cell_type": "markdown",
   "id": "2416e0cf-b8d4-41f1-97a8-1caa662e75fc",
   "metadata": {},
   "source": [
    "## math\n",
    "\n",
    "- 수학과 관련된 값과 함수를 제공"
   ]
  },
  {
   "cell_type": "code",
   "execution_count": 19,
   "id": "85bd96b4-d20a-4571-86da-36bb70027043",
   "metadata": {},
   "outputs": [],
   "source": [
    "import math"
   ]
  },
  {
   "cell_type": "code",
   "execution_count": 20,
   "id": "43aa1903-cba1-44dc-b6ec-26060a1fb585",
   "metadata": {},
   "outputs": [
    {
     "data": {
      "text/plain": [
       "3.141592653589793"
      ]
     },
     "execution_count": 20,
     "metadata": {},
     "output_type": "execute_result"
    }
   ],
   "source": [
    "# 원주율\n",
    "math.pi"
   ]
  },
  {
   "cell_type": "code",
   "execution_count": 21,
   "id": "7c58633d-0773-4db6-ad76-1549a29be1d3",
   "metadata": {},
   "outputs": [
    {
     "name": "stdout",
     "output_type": "stream",
     "text": [
      "2\n",
      "1\n"
     ]
    }
   ],
   "source": [
    "# 올림과 내림\n",
    "print(math.ceil(1.1)) # 올림\n",
    "print(math.floor(1.9)) # 내림"
   ]
  },
  {
   "cell_type": "code",
   "execution_count": 24,
   "id": "c18828dc-4586-4bf0-ae9c-f33d62caec67",
   "metadata": {},
   "outputs": [
    {
     "name": "stdout",
     "output_type": "stream",
     "text": [
      "-1\n",
      "-2\n"
     ]
    }
   ],
   "source": [
    "# 소수점 이하 절사\n",
    "print(math.trunc(-1.9)) # 절사\n",
    "print(math.floor(-1.9)) # 내림"
   ]
  },
  {
   "cell_type": "code",
   "execution_count": 25,
   "id": "2822c2fd-4b57-4de7-9161-9d392f98d3ed",
   "metadata": {},
   "outputs": [
    {
     "data": {
      "text/plain": [
       "5.0"
      ]
     },
     "execution_count": 25,
     "metadata": {},
     "output_type": "execute_result"
    }
   ],
   "source": [
    "# 제곱근\n",
    "math.sqrt(25) # 루트 25"
   ]
  },
  {
   "cell_type": "markdown",
   "id": "414a43fd-2f36-40e7-91c2-c5de2566be42",
   "metadata": {},
   "source": [
    "## random\n",
    "\n",
    "- 난수 생성 모듈"
   ]
  },
  {
   "cell_type": "code",
   "execution_count": 26,
   "id": "d055950c-9bfd-4c51-bff3-ac5930c1f554",
   "metadata": {},
   "outputs": [],
   "source": [
    "import random"
   ]
  },
  {
   "cell_type": "markdown",
   "id": "49080f28-7747-4d62-8bec-2d8da3d85103",
   "metadata": {},
   "source": [
    "- randint()\n",
    "    - 전달하는 두 인수 사이의 정수를 임의로 생성"
   ]
  },
  {
   "cell_type": "code",
   "execution_count": 39,
   "id": "cab0f873-ddf1-40aa-b69d-48064d2b3021",
   "metadata": {},
   "outputs": [
    {
     "data": {
      "text/plain": [
       "10"
      ]
     },
     "execution_count": 39,
     "metadata": {},
     "output_type": "execute_result"
    }
   ],
   "source": [
    "random.randint(1, 10)"
   ]
  },
  {
   "cell_type": "markdown",
   "id": "a89e70f8-dc0c-449f-8f00-494d6778d0d0",
   "metadata": {},
   "source": [
    "- randrange()\n",
    "    - 특정 범위에 속한 정수 중에서 하나를 임의로 생성"
   ]
  },
  {
   "cell_type": "code",
   "execution_count": 49,
   "id": "ae1fb01d-45fe-4292-9017-9a8e4401b22e",
   "metadata": {},
   "outputs": [
    {
     "data": {
      "text/plain": [
       "1"
      ]
     },
     "execution_count": 49,
     "metadata": {},
     "output_type": "execute_result"
    }
   ],
   "source": [
    "random.randrange(10)"
   ]
  },
  {
   "cell_type": "code",
   "execution_count": 59,
   "id": "9a0b3911-33b8-4870-93b4-4eeee8b9b5ad",
   "metadata": {},
   "outputs": [
    {
     "data": {
      "text/plain": [
       "5"
      ]
     },
     "execution_count": 59,
     "metadata": {},
     "output_type": "execute_result"
    }
   ],
   "source": [
    "random.randrange(1, 10)"
   ]
  },
  {
   "cell_type": "code",
   "execution_count": 69,
   "id": "b4652af8-a6aa-47d0-a03e-8553378449b0",
   "metadata": {},
   "outputs": [
    {
     "data": {
      "text/plain": [
       "1"
      ]
     },
     "execution_count": 69,
     "metadata": {},
     "output_type": "execute_result"
    }
   ],
   "source": [
    "random.randrange(1, 10, 2)"
   ]
  },
  {
   "cell_type": "markdown",
   "id": "75585706-5f28-4465-a099-d4c8aeda1773",
   "metadata": {},
   "source": [
    "- random()\n",
    "    - 0이상 1미만 범위에서 임의의 실수를 생성\n",
    "    - 0% 이상 100% 미만으로 확률을 처리할 때도 사용"
   ]
  },
  {
   "cell_type": "code",
   "execution_count": 73,
   "id": "c15d9c26-0c27-4f55-8a0b-9b6c61172ff0",
   "metadata": {},
   "outputs": [
    {
     "data": {
      "text/plain": [
       "0.931767624803819"
      ]
     },
     "execution_count": 73,
     "metadata": {},
     "output_type": "execute_result"
    }
   ],
   "source": [
    "random.random()"
   ]
  },
  {
   "cell_type": "code",
   "execution_count": 124,
   "id": "e6a6a4ba-0371-423e-bf01-c6de79d99353",
   "metadata": {},
   "outputs": [],
   "source": [
    "# 50%확률로 안녕하세요 를 출력하는 코드\n",
    "if random.random() < 0.5:\n",
    "    print(\"안녕하세요\")"
   ]
  },
  {
   "cell_type": "markdown",
   "id": "ca734c73-f4aa-4900-85e1-5417be13651d",
   "metadata": {},
   "source": [
    "- choice()\n",
    "    - 전달된 시퀀스 자료형에 속한 요소 중에서 하나를 임의로 반환"
   ]
  },
  {
   "cell_type": "code",
   "execution_count": 134,
   "id": "3e37989b-b1f4-4c45-825b-36bc07f46dba",
   "metadata": {},
   "outputs": [
    {
     "data": {
      "text/plain": [
       "'spring'"
      ]
     },
     "execution_count": 134,
     "metadata": {},
     "output_type": "execute_result"
    }
   ],
   "source": [
    "seasons = [\"spring\", \"summer\", \"fall\", \"winter\"]\n",
    "random.choice(seasons)"
   ]
  },
  {
   "cell_type": "markdown",
   "id": "c2cbc3e2-dd41-4759-9d23-5c02d9997a8a",
   "metadata": {},
   "source": [
    "- sample()\n",
    "    - 전달된 시퀀스 자료형에 속한 요소 중 지정된 개수의 요소를 임의로 반환\n",
    "    - 반환 결과는 리스트 자료형\n",
    "    - 중복 없이 선택"
   ]
  },
  {
   "cell_type": "code",
   "execution_count": 135,
   "id": "21a54c56-f437-477c-90ab-2cfbc4d168c3",
   "metadata": {},
   "outputs": [
    {
     "data": {
      "text/plain": [
       "[40, 18, 6, 39, 2, 31]"
      ]
     },
     "execution_count": 135,
     "metadata": {},
     "output_type": "execute_result"
    }
   ],
   "source": [
    "random.sample(range(1, 46), 6)"
   ]
  },
  {
   "cell_type": "code",
   "execution_count": 136,
   "id": "7ec9ba22-fec2-4599-980c-95c91e8a1cfc",
   "metadata": {},
   "outputs": [
    {
     "data": {
      "text/plain": [
       "[1, 2, 13, 15, 17, 27]"
      ]
     },
     "execution_count": 136,
     "metadata": {},
     "output_type": "execute_result"
    }
   ],
   "source": [
    "sorted(random.sample(range(1, 46), 6))"
   ]
  },
  {
   "cell_type": "markdown",
   "id": "02ce7c75-0cb6-4156-a822-330ae2a352de",
   "metadata": {},
   "source": [
    "- shuffle()\n",
    "    - 임의로 섞는 것\n",
    "    - 전달된 시퀀스 자료형에 속한 요소의 순서를 임의로 조정하여 다시 재배치\n",
    "    - 실제로 전달된 시퀀스 자료형의 순서가 재배치됨\n",
    "    - str이나 튜플 자료형을 전달하면 에러"
   ]
  },
  {
   "cell_type": "code",
   "execution_count": 137,
   "id": "48a5433a-be3f-41c3-b1b1-1c1870f8d2db",
   "metadata": {},
   "outputs": [],
   "source": [
    "my_list = [1, 2, 3, 4, 5]\n",
    "random.shuffle(my_list)"
   ]
  },
  {
   "cell_type": "code",
   "execution_count": 138,
   "id": "1fbb62b8-3b1b-4bd4-acce-e2ed25753581",
   "metadata": {},
   "outputs": [
    {
     "data": {
      "text/plain": [
       "[3, 2, 4, 1, 5]"
      ]
     },
     "execution_count": 138,
     "metadata": {},
     "output_type": "execute_result"
    }
   ],
   "source": [
    "my_list"
   ]
  },
  {
   "cell_type": "markdown",
   "id": "d88f5f99-5f8c-4879-968b-f1860b140389",
   "metadata": {},
   "source": [
    "## time\n",
    "\n",
    "- 시간처리와 관련된 모듈"
   ]
  },
  {
   "cell_type": "code",
   "execution_count": 139,
   "id": "c116f197-6f34-4339-b664-f319c0158b5a",
   "metadata": {},
   "outputs": [],
   "source": [
    "import time"
   ]
  },
  {
   "cell_type": "markdown",
   "id": "3c5fdf27-921b-4d58-8e39-b46716122a0f",
   "metadata": {},
   "source": [
    "- time()\n",
    "    - 1970년 1월 1일 0시 0분 0초부터 현재까지 경과된 시간을 반환(UNIX OS 배포 날짜)\n",
    "    - 소수점 이하는 마이크로초를 의미"
   ]
  },
  {
   "cell_type": "code",
   "execution_count": 140,
   "id": "3f75e980-4ebf-414e-97c3-f814f5dc2b8f",
   "metadata": {},
   "outputs": [
    {
     "data": {
      "text/plain": [
       "1737782569.827498"
      ]
     },
     "execution_count": 140,
     "metadata": {},
     "output_type": "execute_result"
    }
   ],
   "source": [
    "time.time()"
   ]
  },
  {
   "cell_type": "markdown",
   "id": "4772c8d8-0c1b-47af-8443-895000a97a72",
   "metadata": {},
   "source": [
    "- sleep()\n",
    "    - 인수로 전달된 초 만큼 일시 정지"
   ]
  },
  {
   "cell_type": "code",
   "execution_count": 142,
   "id": "835aa3c0-01c3-470b-ad8a-4a8f477581e9",
   "metadata": {},
   "outputs": [],
   "source": [
    "# 1초간 일시 정지\n",
    "time.sleep(1)"
   ]
  },
  {
   "cell_type": "code",
   "execution_count": 145,
   "id": "099da4ae-4b15-4c78-9d5f-e43535e6c187",
   "metadata": {},
   "outputs": [
    {
     "name": "stdout",
     "output_type": "stream",
     "text": [
      "1.000633716583252\n"
     ]
    }
   ],
   "source": [
    "S = time.time()\n",
    "time.sleep(1)\n",
    "print(time.time() - S)"
   ]
  },
  {
   "cell_type": "markdown",
   "id": "096d298d-d2ac-45a3-bda9-52c32f4465c1",
   "metadata": {},
   "source": [
    "## datetime\n",
    "\n",
    "- 날짜와 시간 데이터를 처리"
   ]
  },
  {
   "cell_type": "code",
   "execution_count": 146,
   "id": "f4168537-6449-4ecb-bbe8-de61978e0639",
   "metadata": {},
   "outputs": [],
   "source": [
    "import datetime"
   ]
  },
  {
   "cell_type": "markdown",
   "id": "ea9e4d4c-6ac6-4648-bc3c-dc7c4fe6b3ed",
   "metadata": {},
   "source": [
    "- now()\n",
    "    - 시스템의 현재 날짜와 시간을 반환"
   ]
  },
  {
   "cell_type": "code",
   "execution_count": 147,
   "id": "c775654d-3496-444d-a32d-8bf4d166968e",
   "metadata": {},
   "outputs": [
    {
     "name": "stdout",
     "output_type": "stream",
     "text": [
      "2025-01-25 14:28:24.310011\n"
     ]
    }
   ],
   "source": [
    "print(datetime.datetime.now())"
   ]
  },
  {
   "cell_type": "markdown",
   "id": "c6bc66b4-9efe-4d9e-8e5b-3ea6f0b0d4e2",
   "metadata": {},
   "source": [
    "- date()\n",
    "    - 특정 날짜를 만들어서 반환"
   ]
  },
  {
   "cell_type": "code",
   "execution_count": 148,
   "id": "9ecb7da5-0c30-45ec-ac4e-51fb6d4615df",
   "metadata": {},
   "outputs": [
    {
     "name": "stdout",
     "output_type": "stream",
     "text": [
      "2015-01-25\n"
     ]
    }
   ],
   "source": [
    "print(datetime.date(2015, 1, 25))"
   ]
  },
  {
   "cell_type": "markdown",
   "id": "1e097033-c63c-4e9f-9976-735c06584f73",
   "metadata": {},
   "source": [
    "- time()\n",
    "    - 특정 시간을 만들어서 반환"
   ]
  },
  {
   "cell_type": "code",
   "execution_count": 149,
   "id": "6cfd9e8b-5083-4956-bce2-ebe5bbfee20c",
   "metadata": {},
   "outputs": [
    {
     "name": "stdout",
     "output_type": "stream",
     "text": [
      "10:48:00\n"
     ]
    }
   ],
   "source": [
    "print(datetime.time(10, 48, 0))"
   ]
  },
  {
   "cell_type": "markdown",
   "id": "5636d9cc-4ec7-4481-8b06-d7299f26ce33",
   "metadata": {},
   "source": [
    "- 날짜/시간 관련 필드값"
   ]
  },
  {
   "cell_type": "code",
   "execution_count": 150,
   "id": "f43a47e7-7b98-4c8c-a69c-87ea8bd55904",
   "metadata": {},
   "outputs": [],
   "source": [
    "today = datetime.datetime.now()"
   ]
  },
  {
   "cell_type": "code",
   "execution_count": 152,
   "id": "ac68fdd3-bfb7-42cf-8c0d-b3ce31bb2259",
   "metadata": {},
   "outputs": [
    {
     "name": "stdout",
     "output_type": "stream",
     "text": [
      "2025-01-25 14:32:34.918061\n"
     ]
    }
   ],
   "source": [
    "print(today)"
   ]
  },
  {
   "cell_type": "code",
   "execution_count": 153,
   "id": "23933101-11ca-424a-9901-8a90bd9f6f2c",
   "metadata": {},
   "outputs": [
    {
     "data": {
      "text/plain": [
       "2025"
      ]
     },
     "execution_count": 153,
     "metadata": {},
     "output_type": "execute_result"
    }
   ],
   "source": [
    "today.year"
   ]
  },
  {
   "cell_type": "code",
   "execution_count": 154,
   "id": "f952bb6a-1ffa-4469-8855-e67f383d4199",
   "metadata": {},
   "outputs": [
    {
     "data": {
      "text/plain": [
       "1"
      ]
     },
     "execution_count": 154,
     "metadata": {},
     "output_type": "execute_result"
    }
   ],
   "source": [
    "today.month"
   ]
  },
  {
   "cell_type": "code",
   "execution_count": 155,
   "id": "1f4eefbe-9e45-479a-988d-839f44d69c40",
   "metadata": {},
   "outputs": [
    {
     "data": {
      "text/plain": [
       "25"
      ]
     },
     "execution_count": 155,
     "metadata": {},
     "output_type": "execute_result"
    }
   ],
   "source": [
    "today.day"
   ]
  },
  {
   "cell_type": "code",
   "execution_count": 156,
   "id": "928521d9-bb43-4546-9177-b9fcb0e89e8c",
   "metadata": {},
   "outputs": [
    {
     "data": {
      "text/plain": [
       "14"
      ]
     },
     "execution_count": 156,
     "metadata": {},
     "output_type": "execute_result"
    }
   ],
   "source": [
    "today.hour"
   ]
  },
  {
   "cell_type": "code",
   "execution_count": 157,
   "id": "034981fe-7d6a-41e0-bf1d-8fc06477448d",
   "metadata": {},
   "outputs": [
    {
     "data": {
      "text/plain": [
       "32"
      ]
     },
     "execution_count": 157,
     "metadata": {},
     "output_type": "execute_result"
    }
   ],
   "source": [
    "today.minute"
   ]
  },
  {
   "cell_type": "code",
   "execution_count": 158,
   "id": "f2501422-bce8-498e-bb43-50d8719e9385",
   "metadata": {},
   "outputs": [
    {
     "data": {
      "text/plain": [
       "34"
      ]
     },
     "execution_count": 158,
     "metadata": {},
     "output_type": "execute_result"
    }
   ],
   "source": [
    "today.second"
   ]
  },
  {
   "cell_type": "markdown",
   "id": "1aa7bffa-5c47-499b-9ce4-9e12838b8f32",
   "metadata": {},
   "source": [
    "- timedelta()\n",
    "    - 날짜/시간 데이터의 연산을 위해 사용"
   ]
  },
  {
   "cell_type": "code",
   "execution_count": 160,
   "id": "c5393994-e318-444b-8884-989e8bbf901d",
   "metadata": {},
   "outputs": [
    {
     "name": "stdout",
     "output_type": "stream",
     "text": [
      "2025-01-25 14:32:34.918061\n"
     ]
    }
   ],
   "source": [
    "print(today)"
   ]
  },
  {
   "cell_type": "code",
   "execution_count": 167,
   "id": "6f451be5-092d-4717-a288-d0c15d5c3c24",
   "metadata": {},
   "outputs": [],
   "source": [
    "yesterday = today - datetime.timedelta(days = 1)\n",
    "tomorrow = today + datetime.timedelta(days = 1)"
   ]
  },
  {
   "cell_type": "code",
   "execution_count": 168,
   "id": "46c3091d-0da7-4342-89ac-02fa0397c75c",
   "metadata": {},
   "outputs": [
    {
     "name": "stdout",
     "output_type": "stream",
     "text": [
      "2025-01-24 14:32:34.918061\n"
     ]
    }
   ],
   "source": [
    "print(yesterday)"
   ]
  },
  {
   "cell_type": "code",
   "execution_count": 169,
   "id": "9ffdf576-b918-4e22-ac7f-f0bd4255bd18",
   "metadata": {},
   "outputs": [
    {
     "name": "stdout",
     "output_type": "stream",
     "text": [
      "2025-01-26 14:32:34.918061\n"
     ]
    }
   ],
   "source": [
    "print(tomorrow)"
   ]
  },
  {
   "cell_type": "markdown",
   "id": "dda6c2d2-6e6b-47a4-a304-ddf511e53a14",
   "metadata": {},
   "source": [
    "# 패키지\n",
    "\n",
    "- 모듈의 집합\n",
    "\n",
    "- 모듈은 기본적으로 패키지의 형태로 배포됨\n",
    "\n",
    "- 파이썬에서 기본적으로 제공하지 않는 외부에서 만들어진 패키지를 외부모듈 이라고 함"
   ]
  },
  {
   "cell_type": "markdown",
   "id": "f746d922-92e2-42ea-8dec-89f93cbbad48",
   "metadata": {},
   "source": [
    "## 패키지 관리자\n",
    "\n",
    "- 패키지의 추가나 삭제와 같은 작업을 수행하기 위해 사용\n",
    "    - pip\n",
    "    - conda\n",
    " \n",
    "- 설치 명령어\n",
    "    - pip install (package)\n",
    "    - conda install (package)\n",
    " \n",
    "- 삭제 명령어\n",
    "    - pip uninstall (package)\n",
    "    - conda uninstall (package)"
   ]
  },
  {
   "cell_type": "code",
   "execution_count": null,
   "id": "36a90097-2a8a-41b8-add5-50e248d6c9a9",
   "metadata": {},
   "outputs": [],
   "source": []
  }
 ],
 "metadata": {
  "kernelspec": {
   "display_name": "Python 3 (ipykernel)",
   "language": "python",
   "name": "python3"
  },
  "language_info": {
   "codemirror_mode": {
    "name": "ipython",
    "version": 3
   },
   "file_extension": ".py",
   "mimetype": "text/x-python",
   "name": "python",
   "nbconvert_exporter": "python",
   "pygments_lexer": "ipython3",
   "version": "3.12.4"
  }
 },
 "nbformat": 4,
 "nbformat_minor": 5
}
