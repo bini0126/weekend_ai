{
 "cells": [
  {
   "cell_type": "markdown",
   "id": "768c323a-33dd-4d6f-99da-f20f641a509d",
   "metadata": {},
   "source": [
    "# 예외처리의 필요성\n",
    "\n",
    "- 문제 발생으로 인해 프로그램이 비정상적으로 종료되는 것을 막고, 발생한 문제에 대한 정보를 전달하기 위해 사용"
   ]
  },
  {
   "cell_type": "markdown",
   "id": "c9630fac-d4c5-42db-b844-8b07156e835b",
   "metadata": {},
   "source": [
    "# try-except문\n",
    "\n",
    "- 예외처리를 위한 기본 구조\n",
    "\n",
    "```\n",
    "try:\n",
    "    ...\n",
    "\n",
    "except [발생오류[as 오류 메시지 변수]]:\n",
    "    ...\n",
    "```\n",
    "\n",
    "- try 블록 실행 중 오류가 발생하면 except 블록이 실행됨\n",
    "    - try 블록에서 오류가 발생하지 않는다면 except 블록은 실행되지 않음"
   ]
  },
  {
   "cell_type": "markdown",
   "id": "590ed899-45b7-44d5-9b2c-cbebdc0ee752",
   "metadata": {},
   "source": [
    "## 예외처리 방법\n",
    "\n",
    "- try, except만 쓰는 방법\n",
    "\n",
    "- 발생 오류만 포함한 except 문\n",
    "\n",
    "- 발생 오류와 오류 메시지 변수까지 포함한 except문"
   ]
  },
  {
   "cell_type": "code",
   "execution_count": 6,
   "id": "4b93d860-c31b-4bca-a78d-c4e34ef1f4f8",
   "metadata": {},
   "outputs": [
    {
     "name": "stdout",
     "output_type": "stream",
     "text": [
      "error\n"
     ]
    }
   ],
   "source": [
    "# try, except만 쓰는 방법\n",
    "try:\n",
    "    print(4 / 0)\n",
    "\n",
    "except:\n",
    "    print(\"error\")"
   ]
  },
  {
   "cell_type": "code",
   "execution_count": 8,
   "id": "667f42eb-9c6c-4fd3-b13c-6e5842c136f0",
   "metadata": {},
   "outputs": [
    {
     "name": "stdout",
     "output_type": "stream",
     "text": [
      "error\n"
     ]
    }
   ],
   "source": [
    "# 발생 오류만 포함한 except 문\n",
    "try:\n",
    "    print(4 / 0)\n",
    "\n",
    "except ZeroDivisionError:\n",
    "    print(\"error\")\n",
    "\n",
    "except KeyError:\n",
    "    print(\"key_error\")"
   ]
  },
  {
   "cell_type": "code",
   "execution_count": 10,
   "id": "ecb4224d-fccd-4745-b829-075ec950912b",
   "metadata": {},
   "outputs": [
    {
     "name": "stdout",
     "output_type": "stream",
     "text": [
      "division by zero\n"
     ]
    }
   ],
   "source": [
    "# 발생 오류와 오류 메시지 변수까지 포함한 except문\n",
    "try:\n",
    "    print(4 / 0)\n",
    "\n",
    "except ZeroDivisionError as e:\n",
    "    print(e)"
   ]
  },
  {
   "cell_type": "code",
   "execution_count": 13,
   "id": "e12b3262-6b1d-4d06-86a5-3274264726b1",
   "metadata": {},
   "outputs": [
    {
     "name": "stdin",
     "output_type": "stream",
     "text": [
      "나누어지는 수를 입력 :  ㅎㅎㅎ\n"
     ]
    },
    {
     "name": "stdout",
     "output_type": "stream",
     "text": [
      "invalid literal for int() with base 10: 'ㅎㅎㅎ'\n",
      "정수만 입력할 수 있습니다\n"
     ]
    }
   ],
   "source": [
    "try:\n",
    "    a = int(input(\"나누어지는 수를 입력 : \"))\n",
    "    b = int(input(\"나누는 수를 입력 : \"))\n",
    "    print(f\"{a} / {b} = {a / b}\")\n",
    "\n",
    "except ZeroDivisionError as e:\n",
    "    print(e)\n",
    "    print(\"0으로 나눌 수 없습니다\")\n",
    "\n",
    "except ValueError as e:\n",
    "    print(e)\n",
    "    print(\"정수만 입력할 수 있습니다\")"
   ]
  },
  {
   "cell_type": "markdown",
   "id": "ebee9a45-0db7-44ab-bd77-ca89bfbdde62",
   "metadata": {},
   "source": [
    "# else, finally문\n",
    "\n",
    "```\n",
    "try:\n",
    "    코드 작성 영역\n",
    "\n",
    "except:\n",
    "    예외 발생 시 처리 영역\n",
    "\n",
    "else:\n",
    "    예외가 없을 때 처리 영역\n",
    "\n",
    "finally:\n",
    "    언제나 실행되는 영역\n",
    "```"
   ]
  },
  {
   "cell_type": "code",
   "execution_count": 18,
   "id": "2a85785c-acb7-44e7-aba0-8d9870f0ed32",
   "metadata": {},
   "outputs": [
    {
     "name": "stdin",
     "output_type": "stream",
     "text": [
      "나누어지는 수 :  5\n",
      "나누는 수 :  2\n"
     ]
    },
    {
     "name": "stdout",
     "output_type": "stream",
     "text": [
      "5 / 2 = 2.5\n",
      "프로그램 종료\n"
     ]
    }
   ],
   "source": [
    "try:\n",
    "    a = int(input(\"나누어지는 수 : \"))\n",
    "    b = int(input(\"나누는 수 : \"))\n",
    "    result = a / b\n",
    "\n",
    "except Exception as e:\n",
    "    print(e)\n",
    "\n",
    "else:\n",
    "    print(f\"{a} / {b} = {result}\")\n",
    "\n",
    "finally:\n",
    "    print(\"프로그램 종료\")"
   ]
  },
  {
   "cell_type": "markdown",
   "id": "e0d8a449-792e-487e-a322-d14fa6148bdd",
   "metadata": {},
   "source": [
    "# try, except, finally 구문의 조합\n",
    "\n",
    "- try 구문은 단독으로 사용할 수 없으며, 반드시 except 구문 또는 finally 구문과 함께 사용해야 함\n",
    "\n",
    "- else 구문은 반드시 except 구문 뒤에 사용해야 함\n",
    "\n",
    "- 가능한 조합\n",
    "    - try + except\n",
    " \n",
    "    - try + except + else\n",
    " \n",
    "    - try + except + finally\n",
    "    \n",
    "    - try + except + else + finally\n",
    " \n",
    "    - try + finally\n",
    " \n",
    "- 가능한 조합 외의 모든 조합은 구문 오류 발생"
   ]
  },
  {
   "cell_type": "code",
   "execution_count": 16,
   "id": "5e64a6e1-2e55-4883-80fb-c7785c9c347c",
   "metadata": {},
   "outputs": [
    {
     "ename": "SyntaxError",
     "evalue": "expected 'except' or 'finally' block (1896908770.py, line 5)",
     "output_type": "error",
     "traceback": [
      "\u001b[1;36m  Cell \u001b[1;32mIn[16], line 5\u001b[1;36m\u001b[0m\n\u001b[1;33m    else:\u001b[0m\n\u001b[1;37m    ^\u001b[0m\n\u001b[1;31mSyntaxError\u001b[0m\u001b[1;31m:\u001b[0m expected 'except' or 'finally' block\n"
     ]
    }
   ],
   "source": [
    "try:\n",
    "    number_input = int(input(\"정수 입력 : \"))\n",
    "    print(number_input)\n",
    "\n",
    "else:\n",
    "    print(\"프로그램이 정상적으로 종료되었습니다\")"
   ]
  },
  {
   "cell_type": "markdown",
   "id": "7b958c2e-b491-44c9-a2f1-c4f86f8ef983",
   "metadata": {},
   "source": [
    "# finally 활용"
   ]
  },
  {
   "cell_type": "code",
   "execution_count": 19,
   "id": "626748f9-8364-439f-a6c6-b4292dbfc088",
   "metadata": {},
   "outputs": [
    {
     "name": "stdout",
     "output_type": "stream",
     "text": [
      "오류가 발생했습니다\n",
      "file.closed :  True\n"
     ]
    }
   ],
   "source": [
    "# 파일이 제대로 닫혔는지 확인하기\n",
    "try:\n",
    "    f = open(\"info.txt\", \"w\")\n",
    "    예외.발생\n",
    "\n",
    "except:\n",
    "    print(\"오류가 발생했습니다\")\n",
    "\n",
    "finally:\n",
    "    f.close() # 파일 닫기\n",
    "\n",
    "# 파일이 제대로 닫혔는지 확인\n",
    "print(\"file.closed : \", f.closed)"
   ]
  },
  {
   "cell_type": "code",
   "execution_count": 20,
   "id": "f272ecac-9b09-4578-949f-e3d3e943b01d",
   "metadata": {},
   "outputs": [
    {
     "name": "stdout",
     "output_type": "stream",
     "text": [
      "오류가 발생했습니다\n",
      "file.closed :  True\n"
     ]
    }
   ],
   "source": [
    "# finally 구문을 사용하지 않고도 파일을 닫을 수 있음\n",
    "try:\n",
    "    f = open(\"info.txt\", \"w\")\n",
    "    예외.발생\n",
    "\n",
    "except:\n",
    "    print(\"오류가 발생했습니다\")\n",
    "\n",
    "f.close() # 파일 닫기\n",
    "\n",
    "# 파일이 제대로 닫혔는지 확인\n",
    "print(\"file.closed : \", f.closed)"
   ]
  },
  {
   "cell_type": "code",
   "execution_count": 21,
   "id": "93b3ee4c-1075-49e3-8c2a-14b88aa37aec",
   "metadata": {},
   "outputs": [],
   "source": [
    "# try 구문 내부에서 return 키워드를 사용하는 경우\n",
    "def test():\n",
    "    print(\"test() 함수의 첫 줄\")\n",
    "\n",
    "    try:\n",
    "        print(\"try 구문 실행\")\n",
    "        return\n",
    "        print(\"try 구문의 return 키워드 뒤\")\n",
    "\n",
    "    except:\n",
    "        print(\"except 구문 실행\")\n",
    "\n",
    "    else:\n",
    "        print(\"else 구문 실행\")\n",
    "\n",
    "    finally:\n",
    "        print(\"finally 구문 실행\")\n",
    "\n",
    "    print(\"test() 함수의 마지막 줄\")"
   ]
  },
  {
   "cell_type": "code",
   "execution_count": 22,
   "id": "a8ed640b-7472-4782-875d-ba0417d5ff8c",
   "metadata": {},
   "outputs": [
    {
     "name": "stdout",
     "output_type": "stream",
     "text": [
      "test() 함수의 첫 줄\n",
      "try 구문 실행\n",
      "finally 구문 실행\n"
     ]
    }
   ],
   "source": [
    "test()"
   ]
  },
  {
   "cell_type": "markdown",
   "id": "35916240-656e-4404-ad42-c64d55f0f6f7",
   "metadata": {},
   "source": [
    "- try 구문 중간에 return 으로 탈출해도 finally가 실행됨\n",
    "    - 함수 내부에서 파일 처리 코드를 깔끔하게 만들고 싶을 때 finally 를 주로 사용"
   ]
  },
  {
   "cell_type": "code",
   "execution_count": 23,
   "id": "7c4deaa5-72d1-4396-a867-410566e451b5",
   "metadata": {},
   "outputs": [
    {
     "name": "stdout",
     "output_type": "stream",
     "text": [
      "프로그램 시작\n",
      "try 구문 실행\n",
      "finally 구문 실행\n",
      "프로그램 종료\n"
     ]
    }
   ],
   "source": [
    "# 반복문과 finally를 사용하는 경우\n",
    "print(\"프로그램 시작\")\n",
    "\n",
    "while True:\n",
    "    try:\n",
    "        print(\"try 구문 실행\")\n",
    "        break\n",
    "        print(\"try 구문의 break 키워드 뒤\")\n",
    "\n",
    "    except:\n",
    "        print(\"except 구문 실행\")\n",
    "\n",
    "    finally:\n",
    "        print(\"finally 구문 실행\")\n",
    "\n",
    "    print(\"while 반복문의 마지막 줄\")\n",
    "\n",
    "print(\"프로그램 종료\")"
   ]
  },
  {
   "cell_type": "markdown",
   "id": "02b88fbf-cbf8-4978-81ac-98d2afdcba5d",
   "metadata": {},
   "source": [
    "# 강제로 예외 발생시키기"
   ]
  },
  {
   "cell_type": "code",
   "execution_count": 24,
   "id": "df541756-7251-42d2-86bd-fb965952d7f8",
   "metadata": {},
   "outputs": [
    {
     "name": "stdout",
     "output_type": "stream",
     "text": [
      "발생한 예외 메시지는\n",
      "강제로 발생시킨 예외\n"
     ]
    }
   ],
   "source": [
    "try:\n",
    "    raise Exception(\"강제로 발생시킨 예외\")\n",
    "\n",
    "except Exception as e:\n",
    "    print(\"발생한 예외 메시지는\")\n",
    "    print(e)"
   ]
  },
  {
   "cell_type": "markdown",
   "id": "5ab695a7-86ca-44de-8edc-ec117e3bb5f7",
   "metadata": {},
   "source": [
    "# 오류의 종류\n",
    "\n",
    "- 구문 오류(syntax error) : 프로그램 실행 전에 발생하는 오류\n",
    "- 런타임 오류(runtime error) : 프로그램 실행 중에 발생하는 오류"
   ]
  },
  {
   "cell_type": "markdown",
   "id": "fa293122-1ee3-40fd-8b22-d7e7ef20cfeb",
   "metadata": {},
   "source": [
    "## 구문 오류\n",
    "\n",
    "- 괄호의 개수, 들여쓰기 문제 등으로 프로그램이 실행되기도 전에 발생하는 오류\n",
    "    - 프로그램이 실행조차 되지 않기 때문에 예외처리로는 처리할 수 없음\n",
    "    - 구문 오류가 발생한 코드를 수정해야함"
   ]
  },
  {
   "cell_type": "code",
   "execution_count": 26,
   "id": "c58a159e-bbb4-4b6c-8ae3-e111f149f9ea",
   "metadata": {},
   "outputs": [
    {
     "ename": "SyntaxError",
     "evalue": "unterminated string literal (detected at line 3) (520915405.py, line 3)",
     "output_type": "error",
     "traceback": [
      "\u001b[1;36m  Cell \u001b[1;32mIn[26], line 3\u001b[1;36m\u001b[0m\n\u001b[1;33m    print(\"오류발생\u001b[0m\n\u001b[1;37m          ^\u001b[0m\n\u001b[1;31mSyntaxError\u001b[0m\u001b[1;31m:\u001b[0m unterminated string literal (detected at line 3)\n"
     ]
    }
   ],
   "source": [
    "print(\"프로그램 시작\")\n",
    "\n",
    "print(\"오류발생"
   ]
  },
  {
   "cell_type": "markdown",
   "id": "3f733dd4-1465-4509-a557-a276b5264455",
   "metadata": {},
   "source": [
    "- SyntaxError : 구문에 문제가 있어 프로그램이 실행되지 않음"
   ]
  },
  {
   "cell_type": "markdown",
   "id": "bd2d16ae-cc49-4479-936b-3a04ff4c76d5",
   "metadata": {},
   "source": [
    "## 런타임 오류\n",
    "\n",
    "- 프로그램 실행 중에 발생하는 오류\n",
    "\n",
    "- 예외 라고도 함"
   ]
  },
  {
   "cell_type": "code",
   "execution_count": 27,
   "id": "24a63fb1-d9b8-492a-b6a6-af265d8ee97a",
   "metadata": {},
   "outputs": [
    {
     "name": "stdout",
     "output_type": "stream",
     "text": [
      "프로그램 시작\n"
     ]
    },
    {
     "ename": "NameError",
     "evalue": "name 'list_a' is not defined",
     "output_type": "error",
     "traceback": [
      "\u001b[1;31m---------------------------------------------------------------------------\u001b[0m",
      "\u001b[1;31mNameError\u001b[0m                                 Traceback (most recent call last)",
      "Cell \u001b[1;32mIn[27], line 4\u001b[0m\n\u001b[0;32m      1\u001b[0m \u001b[38;5;28mprint\u001b[39m(\u001b[38;5;124m\"\u001b[39m\u001b[38;5;124m프로그램 시작\u001b[39m\u001b[38;5;124m\"\u001b[39m)\n\u001b[0;32m      3\u001b[0m \u001b[38;5;66;03m# 예외 발생 코드\u001b[39;00m\n\u001b[1;32m----> 4\u001b[0m list_a[\u001b[38;5;241m1\u001b[39m]\n",
      "\u001b[1;31mNameError\u001b[0m: name 'list_a' is not defined"
     ]
    }
   ],
   "source": [
    "print(\"프로그램 시작\")\n",
    "\n",
    "# 예외 발생 코드\n",
    "list_a[1]"
   ]
  },
  {
   "cell_type": "markdown",
   "id": "4f98eb44-296d-48f6-808e-18dbc3aa478f",
   "metadata": {},
   "source": [
    "- 프로그램 시작 이라는 문자열은 출력되었음"
   ]
  },
  {
   "cell_type": "markdown",
   "id": "362df583-0216-49c2-ad37-4de89de62121",
   "metadata": {},
   "source": [
    "# 조건문으로 예외 처리하기(기본 예외 처리)"
   ]
  },
  {
   "cell_type": "code",
   "execution_count": 28,
   "id": "3074839a-241b-432b-9c65-37c905ff8eaf",
   "metadata": {},
   "outputs": [
    {
     "name": "stdin",
     "output_type": "stream",
     "text": [
      "정수 입력 :  yes\n"
     ]
    },
    {
     "ename": "ValueError",
     "evalue": "invalid literal for int() with base 10: 'yes'",
     "output_type": "error",
     "traceback": [
      "\u001b[1;31m---------------------------------------------------------------------------\u001b[0m",
      "\u001b[1;31mValueError\u001b[0m                                Traceback (most recent call last)",
      "Cell \u001b[1;32mIn[28], line 3\u001b[0m\n\u001b[0;32m      1\u001b[0m user_input \u001b[38;5;241m=\u001b[39m \u001b[38;5;28minput\u001b[39m(\u001b[38;5;124m\"\u001b[39m\u001b[38;5;124m정수 입력 : \u001b[39m\u001b[38;5;124m\"\u001b[39m)\n\u001b[1;32m----> 3\u001b[0m number_input \u001b[38;5;241m=\u001b[39m \u001b[38;5;28mint\u001b[39m(user_input)\n\u001b[0;32m      5\u001b[0m \u001b[38;5;28mprint\u001b[39m(number_input)\n",
      "\u001b[1;31mValueError\u001b[0m: invalid literal for int() with base 10: 'yes'"
     ]
    }
   ],
   "source": [
    "user_input = input(\"정수 입력 : \")\n",
    "\n",
    "number_input = int(user_input)\n",
    "\n",
    "print(number_input)"
   ]
  },
  {
   "cell_type": "code",
   "execution_count": 30,
   "id": "04fbeec6-9542-40d2-a1ec-710668bcd1c1",
   "metadata": {},
   "outputs": [
    {
     "name": "stdin",
     "output_type": "stream",
     "text": [
      "정수 입력 :  yes\n"
     ]
    },
    {
     "name": "stdout",
     "output_type": "stream",
     "text": [
      "정수를 입력하지 않았습니다\n"
     ]
    }
   ],
   "source": [
    "user_input = input(\"정수 입력 : \")\n",
    "\n",
    "# 사용자의 입력이 숫자로만 구성되어 있을 때\n",
    "if user_input.isdigit(): # isdigit() : 숫자로만 구성된 글자인지 확인\n",
    "    number_input = int(user_input)\n",
    "\n",
    "    print(number_input)\n",
    "\n",
    "else:\n",
    "    print(\"정수를 입력하지 않았습니다\")"
   ]
  },
  {
   "cell_type": "markdown",
   "id": "9bfb31aa-110b-4c29-a0e4-b01d91ad6ad3",
   "metadata": {},
   "source": [
    "# try-except 구문과 pass 키워드 조합\n",
    "\n",
    "- 예외가 발생하면 일단 처리해야 하지만, 해당 코드가 딱히 중요한 부분이 아니라면\n",
    "- 일단 try-except구문으로 프로그램 강제 종료만 막을 수도 있음"
   ]
  },
  {
   "cell_type": "code",
   "execution_count": 31,
   "id": "adaa823f-52b1-473e-b962-345d97521b4e",
   "metadata": {},
   "outputs": [
    {
     "name": "stdout",
     "output_type": "stream",
     "text": [
      "['52', '273', '32', '103']\n"
     ]
    }
   ],
   "source": [
    "list_input = [\"52\", \"273\", \"32\", \"스파이\", \"103\"]\n",
    "\n",
    "list_num = []\n",
    "\n",
    "for i in list_input:\n",
    "    try:\n",
    "        float(i) # 예외가 발생한다면 다음 코드 진행 안됨\n",
    "        list_num.append(i) # 예외없이 통과한다면 리스트에 추가\n",
    "\n",
    "    except:\n",
    "        pass\n",
    "\n",
    "print(list_num)"
   ]
  },
  {
   "cell_type": "markdown",
   "id": "6d2c224e-f173-4c31-b399-2c25e52eeaba",
   "metadata": {},
   "source": [
    "- 숫자로 변환할 수 없는 데이터라면 float(i) 에서 예외 발생\n",
    "\n",
    "- try-except 구문은 if구문을 활용하는 예외처리 방법에 비해 느린편"
   ]
  },
  {
   "cell_type": "code",
   "execution_count": null,
   "id": "816726e9-162f-453b-bce2-53483aed0ef1",
   "metadata": {},
   "outputs": [],
   "source": []
  }
 ],
 "metadata": {
  "kernelspec": {
   "display_name": "Python 3 (ipykernel)",
   "language": "python",
   "name": "python3"
  },
  "language_info": {
   "codemirror_mode": {
    "name": "ipython",
    "version": 3
   },
   "file_extension": ".py",
   "mimetype": "text/x-python",
   "name": "python",
   "nbconvert_exporter": "python",
   "pygments_lexer": "ipython3",
   "version": "3.12.4"
  }
 },
 "nbformat": 4,
 "nbformat_minor": 5
}
