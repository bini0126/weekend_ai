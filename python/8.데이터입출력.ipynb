{
 "cells": [
  {
   "cell_type": "markdown",
   "id": "d5357836-fcff-4893-bb11-631a968d9416",
   "metadata": {},
   "source": [
    "# 사용자 입력\n",
    "\n",
    "- 사용자가 값을 입력하게 하고 싶을 때"
   ]
  },
  {
   "cell_type": "markdown",
   "id": "7295cbe0-221f-4009-94db-0a998efa935d",
   "metadata": {},
   "source": [
    "## input()"
   ]
  },
  {
   "cell_type": "code",
   "execution_count": 3,
   "id": "9b2a17e8-47c6-46a5-869b-e09f8326097a",
   "metadata": {},
   "outputs": [
    {
     "name": "stdin",
     "output_type": "stream",
     "text": [
      " python\n"
     ]
    }
   ],
   "source": [
    "a = input()"
   ]
  },
  {
   "cell_type": "code",
   "execution_count": 4,
   "id": "e1104516-b5db-4ff9-9a85-bb7a001cd2fb",
   "metadata": {},
   "outputs": [
    {
     "name": "stdout",
     "output_type": "stream",
     "text": [
      "python\n"
     ]
    }
   ],
   "source": [
    "print(a)"
   ]
  },
  {
   "cell_type": "code",
   "execution_count": 5,
   "id": "201e73a4-1595-45a8-ae3c-808991eccfc5",
   "metadata": {},
   "outputs": [
    {
     "name": "stdin",
     "output_type": "stream",
     "text": [
      "숫자를 입력하세요 :  3\n"
     ]
    }
   ],
   "source": [
    "number = input(\"숫자를 입력하세요 : \")"
   ]
  },
  {
   "cell_type": "code",
   "execution_count": 6,
   "id": "48ee389c-4b71-464c-bce5-874650c1b87c",
   "metadata": {},
   "outputs": [
    {
     "name": "stdout",
     "output_type": "stream",
     "text": [
      "3\n"
     ]
    }
   ],
   "source": [
    "print(number)"
   ]
  },
  {
   "cell_type": "code",
   "execution_count": 7,
   "id": "0108c29d-0088-48a0-a8b8-e27bfe1ed75b",
   "metadata": {},
   "outputs": [
    {
     "name": "stdout",
     "output_type": "stream",
     "text": [
      "<class 'str'>\n"
     ]
    }
   ],
   "source": [
    "# input은 입력되는 모든 데이터를 문자열로 취급함\n",
    "print(type(number))"
   ]
  },
  {
   "cell_type": "markdown",
   "id": "f236c77f-b158-42ac-a1be-426b9d95d3d9",
   "metadata": {},
   "source": [
    "# 파일 처리\n",
    "\n",
    "- 파일 처리를 위해서는 파일 열기(open)를 먼저 해야함\n",
    "    - 파일을 열면 파일 읽기(read) 또는 파일 쓰기(write)를 할 수 있음\n",
    "    - 파일 입력(읽기) : 파일의 내용을 읽어들이는 것\n",
    "    - 파일 출력(쓰기) : 파일에 새로운 내용을 추가하거나 새 파일을 생성하는 것"
   ]
  },
  {
   "cell_type": "markdown",
   "id": "29ccec40-37a2-4a61-bf8b-2e87a6a17eb2",
   "metadata": {},
   "source": [
    "## 파일 생성\n",
    "\n",
    "- 파일객체 = open(파일이름(경로), 파일열기모드)"
   ]
  },
  {
   "cell_type": "code",
   "execution_count": 8,
   "id": "c6746a19-e37d-4abc-a2c9-36058087e706",
   "metadata": {},
   "outputs": [],
   "source": [
    "f = open(\"new_file.txt\", \"w\")\n",
    "f.close() # 파일 닫기"
   ]
  },
  {
   "cell_type": "markdown",
   "id": "0e8665a4-a1c8-4404-a8f4-c3004a16a02c",
   "metadata": {},
   "source": [
    "- 파일 열기 모드\n",
    "    - r(읽기)\n",
    "        - 파일을 읽기만 할 때\n",
    "        - 파일이 없으면 error\n",
    " \n",
    "    - w(쓰기)\n",
    "        - 파일에 내용을 쓸 때\n",
    "        - 파일이 없으면 새로 만듦\n",
    "        - 기존 파일에 있던 데이터를 완전히 지우고 다시 씀\n",
    " \n",
    "    - a(추가)\n",
    "        - 파일의 마지막에 새로운 내용을 추가할 때\n",
    "        - 파일이 없으면 새로 만듦"
   ]
  },
  {
   "cell_type": "markdown",
   "id": "9c56d31d-b6ab-4c16-93ab-506b3390bd0a",
   "metadata": {},
   "source": [
    "## 파일 출력"
   ]
  },
  {
   "cell_type": "code",
   "execution_count": 9,
   "id": "56c5171b-1923-4dac-854e-48e498b79b84",
   "metadata": {},
   "outputs": [],
   "source": [
    "f = open(\"new_file.txt\", \"w\")\n",
    "\n",
    "for i in range(1, 11):\n",
    "    f.write(str(i) + \"\\n\")\n",
    "\n",
    "f.close()"
   ]
  },
  {
   "cell_type": "markdown",
   "id": "50c464c4-7413-44b3-b45c-8855e8b73115",
   "metadata": {},
   "source": [
    "## 파일 입력\n",
    "\n",
    "- readline()"
   ]
  },
  {
   "cell_type": "code",
   "execution_count": 10,
   "id": "4b8e9f06-4ff7-48b9-b552-5856c22b921c",
   "metadata": {},
   "outputs": [
    {
     "name": "stdout",
     "output_type": "stream",
     "text": [
      "1\n",
      "\n"
     ]
    }
   ],
   "source": [
    "f = open(\"new_file.txt\", \"r\")\n",
    "\n",
    "# 파일의 첫 번째 줄을 읽음\n",
    "line = f.readline()\n",
    "\n",
    "print(line)\n",
    "\n",
    "f.close()"
   ]
  },
  {
   "cell_type": "code",
   "execution_count": 14,
   "id": "c4900e1c-c0e8-4215-8774-c44fb968f06e",
   "metadata": {},
   "outputs": [
    {
     "name": "stdout",
     "output_type": "stream",
     "text": [
      "1\n",
      "\n",
      "2\n",
      "\n",
      "3\n",
      "\n",
      "4\n",
      "\n",
      "5\n",
      "\n",
      "6\n",
      "\n",
      "7\n",
      "\n",
      "8\n",
      "\n",
      "9\n",
      "\n",
      "10\n",
      "\n"
     ]
    }
   ],
   "source": [
    "# 모든 줄을 읽고 싶다면 반복문 작성\n",
    "f = open(\"new_file.txt\", \"r\")\n",
    "\n",
    "while True:\n",
    "    line = f.readline()\n",
    "\n",
    "    if not line:\n",
    "        break\n",
    "\n",
    "    # 파일 줄 끝에 \\n 이 있으므로 빈 줄이 같이 출력됨\n",
    "    print(line)\n",
    "    # ver1\n",
    "    # print(line, end = \"\")\n",
    "    # ver2\n",
    "    # print(line.strip())\n",
    "\n",
    "f.close()"
   ]
  },
  {
   "cell_type": "markdown",
   "id": "ad917fdc-74ee-43d1-9a56-41dc8807fbcf",
   "metadata": {},
   "source": [
    "- readlines()\n",
    "    - 파일의 모든 줄을 읽어서 각각의 줄을 요소로 갖는 리스트가 반환됨"
   ]
  },
  {
   "cell_type": "code",
   "execution_count": 15,
   "id": "e26cee42-c3bd-4322-bacf-97c2510b40e9",
   "metadata": {
    "scrolled": true
   },
   "outputs": [
    {
     "name": "stdout",
     "output_type": "stream",
     "text": [
      "1\n",
      "\n",
      "2\n",
      "\n",
      "3\n",
      "\n",
      "4\n",
      "\n",
      "5\n",
      "\n",
      "6\n",
      "\n",
      "7\n",
      "\n",
      "8\n",
      "\n",
      "9\n",
      "\n",
      "10\n",
      "\n"
     ]
    }
   ],
   "source": [
    "f = open(\"new_file.txt\", \"r\")\n",
    "\n",
    "lines = f.readlines()\n",
    "\n",
    "for line in lines:\n",
    "    print(line)\n",
    "\n",
    "f.close()"
   ]
  },
  {
   "cell_type": "code",
   "execution_count": 16,
   "id": "2a0d2166-bd88-432f-9b2d-3fd5af36b104",
   "metadata": {},
   "outputs": [
    {
     "data": {
      "text/plain": [
       "['1\\n', '2\\n', '3\\n', '4\\n', '5\\n', '6\\n', '7\\n', '8\\n', '9\\n', '10\\n']"
      ]
     },
     "execution_count": 16,
     "metadata": {},
     "output_type": "execute_result"
    }
   ],
   "source": [
    "lines"
   ]
  },
  {
   "cell_type": "markdown",
   "id": "f756a09b-c74e-4f18-aaa9-d65cd409d2ab",
   "metadata": {},
   "source": [
    "- read()\n",
    "    - 파일 내용 전체를 문자열로 반환"
   ]
  },
  {
   "cell_type": "code",
   "execution_count": 17,
   "id": "80ae3800-7016-418c-8205-534998a99f2c",
   "metadata": {},
   "outputs": [
    {
     "name": "stdout",
     "output_type": "stream",
     "text": [
      "1\n",
      "2\n",
      "3\n",
      "4\n",
      "5\n",
      "6\n",
      "7\n",
      "8\n",
      "9\n",
      "10\n",
      "\n"
     ]
    }
   ],
   "source": [
    "f = open(\"new_file.txt\", \"r\")\n",
    "\n",
    "data = f.read()\n",
    "\n",
    "print(data)\n",
    "\n",
    "f.close()"
   ]
  },
  {
   "cell_type": "code",
   "execution_count": 18,
   "id": "84e5707e-d6c6-4a40-b2b6-3ae00f11b941",
   "metadata": {},
   "outputs": [
    {
     "data": {
      "text/plain": [
       "'1\\n2\\n3\\n4\\n5\\n6\\n7\\n8\\n9\\n10\\n'"
      ]
     },
     "execution_count": 18,
     "metadata": {},
     "output_type": "execute_result"
    }
   ],
   "source": [
    "data"
   ]
  },
  {
   "cell_type": "markdown",
   "id": "a1571d72-9dba-4790-9067-2a7e93962242",
   "metadata": {},
   "source": [
    "## 파일 데이터 추가"
   ]
  },
  {
   "cell_type": "code",
   "execution_count": 19,
   "id": "71c4bd33-1301-40f4-a7af-b83de3dc0f7d",
   "metadata": {},
   "outputs": [],
   "source": [
    "f = open(\"new_file.txt\", \"a\")\n",
    "\n",
    "for i in range(11, 20):\n",
    "    f.write(str(i) + \"\\n\")\n",
    "\n",
    "f.close()"
   ]
  },
  {
   "cell_type": "markdown",
   "id": "539ab412-f860-4980-ab1a-ceec725a024e",
   "metadata": {},
   "source": [
    "# with문\n",
    "\n",
    "- 파일 사용이 끝난 다음에는 반드시 close() 로 파일을 닫아줘야 함\n",
    "\n",
    "- 자동으로 파일을 닫아주는 문법이 with문"
   ]
  },
  {
   "cell_type": "code",
   "execution_count": 20,
   "id": "5f5792f5-1dee-4b95-9fb7-9b8a1b81a093",
   "metadata": {},
   "outputs": [
    {
     "name": "stdout",
     "output_type": "stream",
     "text": [
      "1\n",
      "2\n",
      "3\n",
      "4\n",
      "5\n",
      "6\n",
      "7\n",
      "8\n",
      "9\n",
      "10\n",
      "11\n",
      "12\n",
      "13\n",
      "14\n",
      "15\n",
      "16\n",
      "17\n",
      "18\n",
      "19\n",
      "\n"
     ]
    }
   ],
   "source": [
    "with open(\"new_file.txt\", \"r\") as f:\n",
    "    data = f.read()\n",
    "    print(data)"
   ]
  },
  {
   "cell_type": "code",
   "execution_count": 21,
   "id": "f04d1f72-d66c-4ac5-a180-c6c085d27738",
   "metadata": {},
   "outputs": [
    {
     "data": {
      "text/plain": [
       "True"
      ]
     },
     "execution_count": 21,
     "metadata": {},
     "output_type": "execute_result"
    }
   ],
   "source": [
    "f.closed"
   ]
  },
  {
   "cell_type": "code",
   "execution_count": 22,
   "id": "e1c87fec-5586-4df8-9cf1-310b7a5657d2",
   "metadata": {},
   "outputs": [
    {
     "ename": "ValueError",
     "evalue": "I/O operation on closed file.",
     "output_type": "error",
     "traceback": [
      "\u001b[1;31m---------------------------------------------------------------------------\u001b[0m",
      "\u001b[1;31mValueError\u001b[0m                                Traceback (most recent call last)",
      "Cell \u001b[1;32mIn[22], line 1\u001b[0m\n\u001b[1;32m----> 1\u001b[0m f\u001b[38;5;241m.\u001b[39mread()\n",
      "\u001b[1;31mValueError\u001b[0m: I/O operation on closed file."
     ]
    }
   ],
   "source": [
    "f.read()"
   ]
  },
  {
   "cell_type": "code",
   "execution_count": null,
   "id": "7077cdf6-7f93-4f26-a1e2-e51b66080dbd",
   "metadata": {},
   "outputs": [],
   "source": []
  }
 ],
 "metadata": {
  "kernelspec": {
   "display_name": "Python 3 (ipykernel)",
   "language": "python",
   "name": "python3"
  },
  "language_info": {
   "codemirror_mode": {
    "name": "ipython",
    "version": 3
   },
   "file_extension": ".py",
   "mimetype": "text/x-python",
   "name": "python",
   "nbconvert_exporter": "python",
   "pygments_lexer": "ipython3",
   "version": "3.12.4"
  }
 },
 "nbformat": 4,
 "nbformat_minor": 5
}
