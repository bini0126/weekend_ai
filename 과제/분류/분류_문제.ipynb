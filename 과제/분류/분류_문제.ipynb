{
 "cells": [
  {
   "attachments": {},
   "cell_type": "markdown",
   "metadata": {},
   "source": [
    "# 분류 분석"
   ]
  },
  {
   "attachments": {},
   "cell_type": "markdown",
   "metadata": {},
   "source": [
    "## 이진 고객 이탈"
   ]
  },
  {
   "attachments": {},
   "cell_type": "markdown",
   "metadata": {},
   "source": [
    "고객의 웹사이트 광고를 제공하는 마케팅 대행사에서 당사의 고객이탈율이 꽤 높다는 사실을 알게됐습니다.<br>\n",
    "그 회사에서는 즉시 고객 관리자들을 할당했지만, 어떤 고객이 이탈 할 것인지 예측하는 기계학습 모델을 만들어서 가장 이탈확률이 높은 고객에게 우선적으로 고객 관리자를 배치할 수 있기를 원합니다.<br>\n",
    "고객이 잠재적 이탈 고객인지 여부를 분류하는 분류모델을 만드세요."
   ]
  },
  {
   "attachments": {},
   "cell_type": "markdown",
   "metadata": {},
   "source": [
    "데이터는 customer_churn.csv로 저장돼있습니다. 아래는 각 컬럼의 정의입니다.\n",
    "- Name : 회사의 최근 담당자의 이름\n",
    "- Age : 고객의 나이\n",
    "- Total_Purchase : 구매한 총 광고\n",
    "- Account_Manager : 바이너리 0 = 고객 관리자 없음, 1 = 고객 관리자 할당됨\n",
    "- Years : 거래 유지 연도수\n",
    "- Num_sites : 서비스를 이용 중인 웹사이트 수\n",
    "- Onboard_date : 마지막 연락처가 등록된 날짜\n",
    "- Location : 고객 사무실 주소\n",
    "- Company : 고객 회사의 이름"
   ]
  },
  {
   "attachments": {},
   "cell_type": "markdown",
   "metadata": {},
   "source": [
    "종속변수\n",
    "\n",
    "- Churn : 1이면 이탈, 0이면 이탈하지 않음"
   ]
  },
  {
   "attachments": {},
   "cell_type": "markdown",
   "metadata": {},
   "source": [
    "모델 생성 후에는 고객이 제공하는 new_customers.csv 파일에 저장된 새로운 데이터에 대한 예측값을 제시하세요. <br>\n",
    "고객은 이 데이터를 통해 관리가 필요한 고객들을 알고 싶어 합니다."
   ]
  },
  {
   "cell_type": "code",
   "execution_count": null,
   "metadata": {},
   "outputs": [],
   "source": [
    "import pandas as pd\n",
    "import numpy as np\n",
    "import matplotlib.pyplot as plt\n",
    "import seaborn as sns\n",
    "from sklearn.model_selection import train_test_split\n",
    "from sklearn.neighbors import KNeighborsClassifier\n",
    "from sklearn.preprocessing import StandardScaler\n",
    "from sklearn.metrics import roc_auc_score"
   ]
  },
  {
   "attachments": {},
   "cell_type": "markdown",
   "metadata": {},
   "source": [
    "### 데이터 불러오기"
   ]
  },
  {
   "cell_type": "code",
   "execution_count": null,
   "metadata": {},
   "outputs": [],
   "source": [
    "df = pd.read_csv(\"./customer_churn.csv\")\n",
    "df.head()"
   ]
  },
  {
   "attachments": {},
   "cell_type": "markdown",
   "metadata": {},
   "source": [
    "### 데이터 확인"
   ]
  },
  {
   "cell_type": "code",
   "execution_count": null,
   "metadata": {},
   "outputs": [],
   "source": [
    "df.shape"
   ]
  },
  {
   "cell_type": "code",
   "execution_count": null,
   "metadata": {},
   "outputs": [],
   "source": [
    "df.dtypes"
   ]
  },
  {
   "cell_type": "code",
   "execution_count": null,
   "metadata": {},
   "outputs": [],
   "source": [
    "df.info()"
   ]
  },
  {
   "cell_type": "code",
   "execution_count": null,
   "metadata": {},
   "outputs": [],
   "source": [
    "df.describe(include=\"all\")"
   ]
  },
  {
   "attachments": {},
   "cell_type": "markdown",
   "metadata": {},
   "source": [
    "1. 20대부터 60대 까지 다양한 연령 분포함\n",
    "2. 반 이상의 고객들이 고객 관리자가 할당되지 않음\n",
    "3. 평균 5.27년으로 75% 이상의 사람들이 4년 이상 장기 계약을 유지함\n",
    "4. 900명 중 약 16%의 사람들이 서비스를 이탈함"
   ]
  },
  {
   "cell_type": "code",
   "execution_count": null,
   "metadata": {},
   "outputs": [],
   "source": [
    "# pairplot 시각화\n",
    "df_label = [\"Age\", \"Total_Purchase\", \"Account_Manager\", \"Years\", \"Num_Sites\", \"Churn\"]\n",
    "\n",
    "sns.pairplot(df[df_label])"
   ]
  },
  {
   "cell_type": "code",
   "execution_count": null,
   "metadata": {},
   "outputs": [],
   "source": [
    "# 히트맵 시각화\n",
    "df_heat = df[[\"Age\", \"Total_Purchase\", \"Account_Manager\", \"Years\", \"Num_Sites\", \"Churn\"]]\n",
    "df_heat = df_heat.columns\n",
    "df_heat = df[df_heat].corr()\n",
    "df_heat"
   ]
  },
  {
   "cell_type": "code",
   "execution_count": null,
   "metadata": {},
   "outputs": [],
   "source": [
    "sns.heatmap(df_heat.values, cbar = True, annot= True, fmt = \".3f\",\n",
    "            yticklabels= df_heat, xticklabels= df_heat)\n",
    "plt.show()"
   ]
  },
  {
   "attachments": {},
   "cell_type": "markdown",
   "metadata": {},
   "source": [
    "- \"Churn\" 피처와 관련해서\n",
    "  - \"Num_Sites\"와 가장 높은 관련성을 가짐   \n",
    "    \"Num_Sites\" > \"Years\" > \"Age\" > \"Account_Manager\" > \"Total_Purchase\"\n",
    "  - 대부분의 칼럼과 상관 관계가 낮은 것을 보아 단일 변수로는 이탈여부를 설명 할 수 없음"
   ]
  },
  {
   "cell_type": "code",
   "execution_count": null,
   "metadata": {},
   "outputs": [],
   "source": [
    "df = df[[\"Age\", \"Total_Purchase\", \"Account_Manager\", \"Years\", \"Num_Sites\", \"Churn\"]]\n",
    "df.head()"
   ]
  },
  {
   "attachments": {},
   "cell_type": "markdown",
   "metadata": {},
   "source": [
    "### 머신러닝용 데이터 전처리"
   ]
  },
  {
   "attachments": {},
   "cell_type": "markdown",
   "metadata": {},
   "source": [
    "우리는 수치형 데이터만 이용할 예정입니다. Account_Manager는 다루기 어렵지 않기 때문에 모델학습에 포함할 수도 있겠지만 무작위로 할당된 것이기 때문에 큰 의미가 없을 수 있습니다."
   ]
  },
  {
   "cell_type": "code",
   "execution_count": null,
   "metadata": {},
   "outputs": [],
   "source": [
    "# 결과 받는 df\n",
    "new_df = pd.read_csv(\"./new_customers.csv\", index_col=False) # index_col = False 를 이용해 모든 열을 데이터 열로 인식\n",
    "new_df"
   ]
  },
  {
   "cell_type": "code",
   "execution_count": null,
   "metadata": {},
   "outputs": [],
   "source": [
    "new_df.info()"
   ]
  },
  {
   "attachments": {},
   "cell_type": "markdown",
   "metadata": {},
   "source": [
    "- 결측치 없으므로 바로 진행"
   ]
  },
  {
   "cell_type": "code",
   "execution_count": null,
   "metadata": {},
   "outputs": [],
   "source": []
  },
  {
   "attachments": {},
   "cell_type": "markdown",
   "metadata": {},
   "source": [
    "#### 1. \"Account_Manager\"을 사용한 학습"
   ]
  },
  {
   "cell_type": "code",
   "execution_count": null,
   "metadata": {},
   "outputs": [],
   "source": [
    "# 원핫 인코딩\n",
    "onehot_df = pd.get_dummies(df, columns=[\"Account_Manager\"]).astype(int)\n",
    "onehot_df = onehot_df[[\"Age\", \"Total_Purchase\", \"Years\", \"Num_Sites\", \"Account_Manager_0\", \"Account_Manager_1\", \"Churn\"]]\n",
    "onehot_df"
   ]
  },
  {
   "cell_type": "code",
   "execution_count": null,
   "metadata": {},
   "outputs": [],
   "source": [
    "new_df = new_df[[\"Age\", \"Total_Purchase\", \"Account_Manager\", \"Years\", \"Num_Sites\"]]\n",
    "onehot_new = pd.get_dummies(new_df, columns=[\"Account_Manager\"]).astype(int)\n",
    "onehot_new = onehot_new[[\"Age\", \"Total_Purchase\", \"Years\", \"Num_Sites\", \"Account_Manager_0\", \"Account_Manager_1\"]]\n",
    "onehot_new"
   ]
  },
  {
   "cell_type": "code",
   "execution_count": null,
   "metadata": {},
   "outputs": [],
   "source": [
    "# 데이터 분할\n",
    "x = onehot_df.drop(\"Churn\", axis =1)\n",
    "y = onehot_df[\"Churn\"]"
   ]
  },
  {
   "cell_type": "code",
   "execution_count": null,
   "metadata": {},
   "outputs": [],
   "source": [
    "x_train, x_test, y_train, y_test = train_test_split(x, y, test_size=0.3, stratify=y, random_state=22)"
   ]
  },
  {
   "cell_type": "code",
   "execution_count": null,
   "metadata": {},
   "outputs": [],
   "source": [
    "x_train.shape, x_test.shape"
   ]
  },
  {
   "cell_type": "code",
   "execution_count": null,
   "metadata": {},
   "outputs": [],
   "source": []
  },
  {
   "cell_type": "code",
   "execution_count": null,
   "metadata": {},
   "outputs": [],
   "source": []
  },
  {
   "cell_type": "code",
   "execution_count": null,
   "metadata": {},
   "outputs": [],
   "source": []
  },
  {
   "cell_type": "code",
   "execution_count": null,
   "metadata": {},
   "outputs": [],
   "source": []
  },
  {
   "attachments": {},
   "cell_type": "markdown",
   "metadata": {},
   "source": [
    "KNN 이진분류"
   ]
  },
  {
   "cell_type": "code",
   "execution_count": null,
   "metadata": {},
   "outputs": [],
   "source": [
    "knn = KNeighborsClassifier(n_neighbors=5)\n",
    "knn.fit(onehot_df[[\"Age\", \"Total_Purchase\", \"Years\", \"Num_Sites\", \"Account_Manager_0\", \"Account_Manager_1\"]], onehot_df[\"Churn\"])"
   ]
  },
  {
   "cell_type": "code",
   "execution_count": null,
   "metadata": {},
   "outputs": [],
   "source": []
  },
  {
   "cell_type": "code",
   "execution_count": null,
   "metadata": {},
   "outputs": [],
   "source": []
  },
  {
   "cell_type": "code",
   "execution_count": null,
   "metadata": {},
   "outputs": [],
   "source": []
  },
  {
   "attachments": {},
   "cell_type": "markdown",
   "metadata": {},
   "source": [
    "#### 2. \"Account_Manager\"을 사용하지 않은 학습"
   ]
  },
  {
   "cell_type": "code",
   "execution_count": null,
   "metadata": {},
   "outputs": [],
   "source": [
    "# df = df.drop(\"Account_Manager\", axis=1)\n",
    "# df.head() "
   ]
  },
  {
   "attachments": {},
   "cell_type": "markdown",
   "metadata": {},
   "source": [
    "#### 3. 기타 : \"Onborded_data\" 중 년도만 뽑아서 학습하기"
   ]
  },
  {
   "cell_type": "code",
   "execution_count": null,
   "metadata": {},
   "outputs": [],
   "source": []
  }
 ],
 "metadata": {
  "kernelspec": {
   "display_name": "Python 3",
   "language": "python",
   "name": "python3"
  },
  "language_info": {
   "codemirror_mode": {
    "name": "ipython",
    "version": 3
   },
   "file_extension": ".py",
   "mimetype": "text/x-python",
   "name": "python",
   "nbconvert_exporter": "python",
   "pygments_lexer": "ipython3",
   "version": "3.8.1"
  }
 },
 "nbformat": 4,
 "nbformat_minor": 4
}
