{
 "cells": [
  {
   "cell_type": "code",
   "execution_count": 2,
   "metadata": {},
   "outputs": [
    {
     "name": "stdout",
     "output_type": "stream",
     "text": [
      "{'status_code': 7, 'status_message': 'Invalid API key: You must be granted a valid key.', 'success': False}\n",
      "{'status_code': 7, 'status_message': 'Invalid API key: You must be granted a valid key.', 'success': False}\n"
     ]
    }
   ],
   "source": [
    "print(get_tmdb_items(\"movie\", 2020, 1))\n",
    "print(get_tmdb_items(\"tv\", 2021, 1))"
   ]
  },
  {
   "cell_type": "code",
   "execution_count": 3,
   "metadata": {},
   "outputs": [
    {
     "name": "stdout",
     "output_type": "stream",
     "text": [
      "200 35433\n"
     ]
    }
   ],
   "source": [
    "import requests\n",
    "\n",
    "API_KEY = #\"본인 키\"\n",
    "url = \"https://api.themoviedb.org/3/discover/movie\"\n",
    "params = {\n",
    "    \"api_key\": API_KEY,\n",
    "    \"language\": \"en-US\",\n",
    "    \"sort_by\": \"popularity.desc\",\n",
    "    \"primary_release_year\": 2020,\n",
    "    \"page\": 1\n",
    "}\n",
    "\n",
    "r = requests.get(url, params=params)\n",
    "print(r.status_code, r.json().get(\"total_results\"))\n"
   ]
  },
  {
   "cell_type": "code",
   "execution_count": 4,
   "metadata": {},
   "outputs": [],
   "source": [
    "import requests\n",
    "import time\n",
    "import os\n",
    "import json\n",
    "import csv\n",
    "from tqdm import tqdm"
   ]
  },
  {
   "cell_type": "code",
   "execution_count": 5,
   "metadata": {},
   "outputs": [],
   "source": [
    "TMDB_API_KEY = #'본인 키'\n",
    "BASE_URL = \"https://api.themoviedb.org/3\"\n",
    "START_YEAR = 2020\n",
    "END_YEAR = 2026\n",
    "SAVE_DIR = \"./tmdb_v3_output\"\n",
    "os.makedirs(SAVE_DIR, exist_ok=True)"
   ]
  },
  {
   "cell_type": "code",
   "execution_count": 6,
   "metadata": {},
   "outputs": [
    {
     "name": "stdout",
     "output_type": "stream",
     "text": [
      "\n",
      "==== 2020 시작 ====\n"
     ]
    },
    {
     "name": "stderr",
     "output_type": "stream",
     "text": [
      "2020 - MOVIE: 500page [2:52:38, 20.72s/page]\n",
      "2020 - TV: 482page [2:48:38, 20.99s/page]\n"
     ]
    },
    {
     "name": "stdout",
     "output_type": "stream",
     "text": [
      "💾 저장 완료: ./tmdb_v3_output\\tmdb_2020.json, ./tmdb_v3_output\\tmdb_2020.csv (19628건)\n",
      "\n",
      "==== 2021 시작 ====\n"
     ]
    },
    {
     "name": "stderr",
     "output_type": "stream",
     "text": [
      "2021 - MOVIE: 500page [2:56:07, 21.13s/page]\n",
      "2021 - TV: 500page [2:54:31, 20.94s/page]\n"
     ]
    },
    {
     "name": "stdout",
     "output_type": "stream",
     "text": [
      "💾 저장 완료: ./tmdb_v3_output\\tmdb_2021.json, ./tmdb_v3_output\\tmdb_2021.csv (20000건)\n",
      "\n",
      "==== 2022 시작 ====\n"
     ]
    },
    {
     "name": "stderr",
     "output_type": "stream",
     "text": [
      "2022 - MOVIE: 500page [2:54:47, 20.98s/page]\n",
      "2022 - TV: 500page [2:54:58, 21.00s/page]\n"
     ]
    },
    {
     "name": "stdout",
     "output_type": "stream",
     "text": [
      "💾 저장 완료: ./tmdb_v3_output\\tmdb_2022.json, ./tmdb_v3_output\\tmdb_2022.csv (20000건)\n",
      "\n",
      "==== 2023 시작 ====\n"
     ]
    },
    {
     "name": "stderr",
     "output_type": "stream",
     "text": [
      "2023 - MOVIE: 500page [2:52:58, 20.76s/page]\n",
      "2023 - TV: 500page [2:51:30, 20.58s/page]\n"
     ]
    },
    {
     "name": "stdout",
     "output_type": "stream",
     "text": [
      "💾 저장 완료: ./tmdb_v3_output\\tmdb_2023.json, ./tmdb_v3_output\\tmdb_2023.csv (20000건)\n",
      "\n",
      "==== 2024 시작 ====\n"
     ]
    },
    {
     "name": "stderr",
     "output_type": "stream",
     "text": [
      "2024 - MOVIE: 500page [2:51:15, 20.55s/page]\n",
      "2024 - TV: 100page [34:39, 20.86s/page]"
     ]
    },
    {
     "name": "stdout",
     "output_type": "stream",
     "text": [
      "⚠️ Error on Seconds: HTTPSConnectionPool(host='api.themoviedb.org', port=443): Read timed out. (read timeout=None)\n"
     ]
    },
    {
     "name": "stderr",
     "output_type": "stream",
     "text": [
      "2024 - TV: 109page [38:11, 21.32s/page]"
     ]
    },
    {
     "name": "stdout",
     "output_type": "stream",
     "text": [
      "⚠️ Error on The Clandestine: HTTPSConnectionPool(host='api.themoviedb.org', port=443): Read timed out. (read timeout=None)\n"
     ]
    },
    {
     "name": "stderr",
     "output_type": "stream",
     "text": [
      "2024 - TV: 500page [2:55:29, 21.06s/page]\n"
     ]
    },
    {
     "name": "stdout",
     "output_type": "stream",
     "text": [
      "💾 저장 완료: ./tmdb_v3_output\\tmdb_2024.json, ./tmdb_v3_output\\tmdb_2024.csv (19996건)\n",
      "\n",
      "==== 2025 시작 ====\n"
     ]
    },
    {
     "name": "stderr",
     "output_type": "stream",
     "text": [
      "2025 - MOVIE: 500page [2:55:08, 21.02s/page]\n",
      "2025 - TV: 252page [1:28:21, 21.04s/page]\n"
     ]
    },
    {
     "name": "stdout",
     "output_type": "stream",
     "text": [
      "💾 저장 완료: ./tmdb_v3_output\\tmdb_2025.json, ./tmdb_v3_output\\tmdb_2025.csv (15030건)\n",
      "\n",
      "==== 2026 시작 ====\n"
     ]
    },
    {
     "name": "stderr",
     "output_type": "stream",
     "text": [
      "2026 - MOVIE: 19page [06:29, 20.52s/page]\n",
      "2026 - TV: 2page [00:34, 17.22s/page]"
     ]
    },
    {
     "name": "stdout",
     "output_type": "stream",
     "text": [
      "💾 저장 완료: ./tmdb_v3_output\\tmdb_2026.json, ./tmdb_v3_output\\tmdb_2026.csv (408건)\n"
     ]
    },
    {
     "name": "stderr",
     "output_type": "stream",
     "text": [
      "\n"
     ]
    }
   ],
   "source": [
    "def get_tmdb_items(content_type=\"movie\", year=2020, page=1):\n",
    "    url = f\"{BASE_URL}/discover/{content_type}\"\n",
    "    params = {\n",
    "        \"api_key\": TMDB_API_KEY,\n",
    "        \"language\": \"en-US\",\n",
    "        \"sort_by\": \"popularity.desc\",\n",
    "        \"page\": page\n",
    "    }\n",
    "    if content_type == \"movie\":\n",
    "        params[\"primary_release_year\"] = year\n",
    "    elif content_type == \"tv\":\n",
    "        params[\"first_air_date_year\"] = year\n",
    "\n",
    "    response = requests.get(url, params=params)\n",
    "    return response.json()\n",
    "\n",
    "def get_tmdb_details(content_type, content_id):\n",
    "    url = f\"{BASE_URL}/{content_type}/{content_id}\"\n",
    "    params = {\n",
    "        \"api_key\": TMDB_API_KEY,\n",
    "        \"language\": \"en-US\",\n",
    "        \"append_to_response\": \"credits,keywords\"\n",
    "    }\n",
    "    response = requests.get(url, params=params)\n",
    "    return response.json()\n",
    "\n",
    "def extract_data(item, content_type):\n",
    "    details = get_tmdb_details(content_type, item[\"id\"])\n",
    "    time.sleep(0.5)  # Rate limit 고려\n",
    "\n",
    "    cast_list = [c['name'] for c in details.get('credits', {}).get('cast', [])[:5]]\n",
    "    directors = [c['name'] for c in details.get('credits', {}).get('crew', []) if c['job'] == 'Director']\n",
    "    keywords = [kw['name'] for kw in details.get('keywords', {}).get('keywords', [])]\n",
    "\n",
    "    return {\n",
    "        \"title\": item.get(\"title\") or item.get(\"name\"),\n",
    "        \"release_date\": item.get(\"release_date\") or item.get(\"first_air_date\"),\n",
    "        \"type\": content_type,\n",
    "        \"runtime\": details.get(\"runtime\") or (details.get(\"episode_run_time\") or [None])[0],\n",
    "        \"season_count\": details.get(\"number_of_seasons\") if content_type == \"tv\" else None,\n",
    "        \"episode_count\": details.get(\"number_of_episodes\") if content_type == \"tv\" else None,\n",
    "        \"genre\": \", \".join([g[\"name\"] for g in details.get(\"genres\", [])]),\n",
    "        \"director\": \", \".join(directors),\n",
    "        \"cast\": \", \".join(cast_list),\n",
    "        \"country\": \", \".join(details.get(\"origin_country\") or []),\n",
    "        \"language\": details.get(\"original_language\"),\n",
    "        \"production_company\": \", \".join([pc[\"name\"] for pc in details.get(\"production_companies\", [])]),\n",
    "        \"synopsis\": details.get(\"overview\"),\n",
    "        \"tags\": \", \".join(keywords),\n",
    "        \"imdb_rating\": details.get(\"vote_average\"),\n",
    "        \"imdb_review_count\": details.get(\"vote_count\")\n",
    "    }\n",
    "\n",
    "def save_as_csv(data, filename):\n",
    "    if not data:\n",
    "        return\n",
    "    with open(filename, \"w\", encoding=\"utf-8\", newline=\"\") as f:\n",
    "        writer = csv.DictWriter(f, fieldnames=data[0].keys())\n",
    "        writer.writeheader()\n",
    "        for row in data:\n",
    "            writer.writerow(row)\n",
    "\n",
    "def scrape_year(year):\n",
    "    all_results = []\n",
    "    for content_type in [\"movie\", \"tv\"]:\n",
    "        page = 1\n",
    "        pbar = tqdm(desc=f\"{year} - {content_type.upper()}\", unit=\"page\")\n",
    "        while True:\n",
    "            try:\n",
    "                data = get_tmdb_items(content_type, year, page)\n",
    "                items = data.get(\"results\", [])\n",
    "                if not items:\n",
    "                    break\n",
    "                for item in items:\n",
    "                    try:\n",
    "                        record = extract_data(item, content_type)\n",
    "                        all_results.append(record)\n",
    "                    except Exception as e:\n",
    "                        print(f\"⚠️ Error on {item.get('title', item.get('name'))}: {e}\")\n",
    "                page += 1\n",
    "                pbar.update(1)\n",
    "                if page > data.get(\"total_pages\", 1):\n",
    "                    break\n",
    "            except Exception as e:\n",
    "                print(f\"🚨 Page {page} failed: {e}\")\n",
    "                break\n",
    "        pbar.close()\n",
    "    return all_results\n",
    "\n",
    "def scrape_all():\n",
    "    for year in range(START_YEAR, END_YEAR + 1):\n",
    "        json_path = os.path.join(SAVE_DIR, f\"tmdb_{year}.json\")\n",
    "        csv_path = os.path.join(SAVE_DIR, f\"tmdb_{year}.csv\")\n",
    "        if os.path.exists(json_path):\n",
    "            print(f\"✅ {year} 이미 완료됨, 건너뜀\")\n",
    "            continue\n",
    "\n",
    "        print(f\"\\n==== {year} 시작 ====\")\n",
    "        results = scrape_year(year)\n",
    "        with open(json_path, \"w\", encoding=\"utf-8\") as f:\n",
    "            json.dump(results, f, ensure_ascii=False, indent=2)\n",
    "        save_as_csv(results, csv_path)\n",
    "        print(f\"💾 저장 완료: {json_path}, {csv_path} ({len(results)}건)\")\n",
    "\n",
    "if __name__ == \"__main__\":\n",
    "    scrape_all()"
   ]
  },
  {
   "cell_type": "code",
   "execution_count": null,
   "metadata": {},
   "outputs": [],
   "source": []
  }
 ],
 "metadata": {
  "kernelspec": {
   "display_name": "base",
   "language": "python",
   "name": "python3"
  },
  "language_info": {
   "codemirror_mode": {
    "name": "ipython",
    "version": 3
   },
   "file_extension": ".py",
   "mimetype": "text/x-python",
   "name": "python",
   "nbconvert_exporter": "python",
   "pygments_lexer": "ipython3",
   "version": "3.12.7"
  },
  "orig_nbformat": 4
 },
 "nbformat": 4,
 "nbformat_minor": 2
}
